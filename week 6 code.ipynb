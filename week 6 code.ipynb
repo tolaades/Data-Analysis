{
 "cells": [
  {
   "cell_type": "markdown",
   "metadata": {},
   "source": [
    "<h1> Install a new library </h1>"
   ]
  },
  {
   "cell_type": "code",
   "execution_count": 1,
   "metadata": {
    "scrolled": true
   },
   "outputs": [
    {
     "name": "stdout",
     "output_type": "stream",
     "text": [
      "Defaulting to user installation because normal site-packages is not writeable"
     ]
    },
    {
     "name": "stderr",
     "output_type": "stream",
     "text": [
      "WARNING: You are using pip version 20.2.2; however, version 21.0.1 is available.\n",
      "You should consider upgrading via the 'c:\\program files\\python38\\python.exe -m pip install --upgrade pip' command.\n"
     ]
    },
    {
     "name": "stdout",
     "output_type": "stream",
     "text": [
      "\n",
      "Collecting dmba\n",
      "  Downloading dmba-0.0.13-py3-none-any.whl (11 kB)\n",
      "Installing collected packages: dmba\n",
      "Successfully installed dmba-0.0.13\n"
     ]
    }
   ],
   "source": [
    "# From Shmueli et al., Data Mining for Business Analytics\n",
    "# https://www.dataminingbook.com/book/python-edition\n",
    "!pip install dmba"
   ]
  },
  {
   "cell_type": "markdown",
   "metadata": {},
   "source": [
    "<h1> Import necessary libraries </h1>"
   ]
  },
  {
   "cell_type": "code",
   "execution_count": 1,
   "metadata": {
    "scrolled": false
   },
   "outputs": [
    {
     "name": "stdout",
     "output_type": "stream",
     "text": [
      "Finished!\n"
     ]
    }
   ],
   "source": [
    "from dmba import regressionSummary, exhaustive_search\n",
    "from dmba import backward_elimination, forward_selection, stepwise_selection\n",
    "from dmba import adjusted_r2_score, AIC_score, BIC_score\n",
    "\n",
    "import pandas as pd \n",
    "from sklearn.model_selection import train_test_split\n",
    "from sklearn.linear_model import LinearRegression, LogisticRegression, Lasso, Ridge, LassoCV, BayesianRidge\n",
    "from sklearn.feature_selection import SelectFromModel\n",
    "\n",
    "print(\"Finished!\")"
   ]
  },
  {
   "cell_type": "markdown",
   "metadata": {},
   "source": [
    "<h1> Ingesting data </h1>"
   ]
  },
  {
   "cell_type": "code",
   "execution_count": 2,
   "metadata": {},
   "outputs": [],
   "source": [
    "# Read in data and create data frame; call it \"reviews\"\n",
    "reviews = pd.read_csv(\"company_reviews.csv\")"
   ]
  },
  {
   "cell_type": "markdown",
   "metadata": {},
   "source": [
    "<h1> Variable selection </h1>"
   ]
  },
  {
   "cell_type": "markdown",
   "metadata": {},
   "source": [
    "<h2> -- Data prep </h2>"
   ]
  },
  {
   "cell_type": "code",
   "execution_count": 3,
   "metadata": {
    "scrolled": true
   },
   "outputs": [
    {
     "name": "stdout",
     "output_type": "stream",
     "text": [
      "month\n",
      "year\n",
      "state\n",
      "status\n",
      "summary\n",
      "score\n",
      "likes\n"
     ]
    }
   ],
   "source": [
    "# Print your column names for easy copying and pasting\n",
    "for col in reviews.columns: \n",
    "    print(col) "
   ]
  },
  {
   "cell_type": "code",
   "execution_count": 4,
   "metadata": {},
   "outputs": [],
   "source": [
    "# Convert status into binary numerical format and clean up space around name\n",
    "status_dict = {'Former Employee': 0,'Former Employee ': 0,'Current Employee': 1, 'Current Employee ':1} \n",
    "reviews['status_num'] = [status_dict[item] for item in reviews.status]"
   ]
  },
  {
   "cell_type": "code",
   "execution_count": 5,
   "metadata": {},
   "outputs": [],
   "source": [
    "# Isolate your X's and y \n",
    "independent = ['month', 'year', 'state', 'status_num', 'likes']\n",
    "dependent = 'score'"
   ]
  },
  {
   "cell_type": "code",
   "execution_count": 6,
   "metadata": {},
   "outputs": [],
   "source": [
    "# Split your data frame into training and test sets: 80% training; 20% test\n",
    "X = pd.get_dummies(reviews[independent], drop_first=True)\n",
    "y = reviews[dependent]\n",
    "train_X, test_X, train_y, test_y = train_test_split(X, y, test_size = 0.2, random_state=200)"
   ]
  },
  {
   "cell_type": "code",
   "execution_count": null,
   "metadata": {},
   "outputs": [],
   "source": [
    "# The code below for exhaustive search, backward elimination, forward selection, and stepwise selection \n",
    "# draws from the Schmueli et al. book"
   ]
  },
  {
   "cell_type": "markdown",
   "metadata": {},
   "source": [
    "<h2> -- Exhaustive search </h2>"
   ]
  },
  {
   "cell_type": "code",
   "execution_count": null,
   "metadata": {},
   "outputs": [],
   "source": [
    "# CAUTION: This code takes a *really* long time to run, like multiple days.\n",
    "# Code is here for your reference but not required for homework or your team projects.\n",
    "\n",
    "def train_model(variables):\n",
    "    model = LinearRegression()\n",
    "    model.fit(train_X[list(variables)], train_y)\n",
    "    return model\n",
    "\n",
    "def score_model(model, variables):\n",
    "    pred_y = model.predict(train_X[list(variables)])\n",
    "    return -adjusted_r2_score(train_y, pred_y, model)\n",
    "\n",
    "allVariables = train_X.columns\n",
    "results = exhaustive_search(allVariables, train_model, score_model)\n",
    "\n",
    "data = []\n",
    "for result in results:\n",
    "    model = result['model']\n",
    "    variables = list(result['variables'])\n",
    "    AIC = AIC_score(train_y, model.predict(train_X[variables]),\n",
    "                    model)\n",
    "    d = {'n': result['n'], 'r2adj': -result['score'], 'AIC':\n",
    "         AIC}\n",
    "    d.update({var: var in result['variables'] for var in \n",
    "              allVariables})\n",
    "    data.append(d)\n",
    "\n",
    "pd.DataFrame(data, columns=('n', 'r2adj', 'AIC') + tuple(sorted(allVariables)))"
   ]
  },
  {
   "cell_type": "markdown",
   "metadata": {},
   "source": [
    "<h2> -- Backward elimination </h2>"
   ]
  },
  {
   "cell_type": "code",
   "execution_count": 8,
   "metadata": {},
   "outputs": [
    {
     "name": "stdout",
     "output_type": "stream",
     "text": [
      "Variables: year, status_num, likes, month_Aug, month_Dec, month_Feb, month_Jan, month_Jul, month_Jun, month_Mar, month_May, month_Nov, month_Oct, month_Sep, state_CA, state_CO, state_CT, state_DC, state_DE, state_FL, state_GA, state_IL, state_IN, state_KS, state_KY, state_LA, state_MA, state_MD, state_ME, state_MI, state_MN, state_MO, state_NC, state_ND, state_NH, state_NJ, state_NM, state_NV, state_NY, state_OH, state_OK, state_OR, state_PA, state_SC, state_SD, state_TN, state_TX, state_UT, state_VA, state_WA, state_WI, state_WV\n",
      "Start: score=2264.34\n",
      "Step: score=2262.34, remove month_Sep\n",
      "Step: score=2260.35, remove state_ND\n",
      "Step: score=2258.37, remove state_OH\n",
      "Step: score=2256.40, remove state_KS\n",
      "Step: score=2254.43, remove state_NC\n",
      "Step: score=2252.48, remove state_CT\n",
      "Step: score=2250.53, remove state_KY\n",
      "Step: score=2248.57, remove state_TN\n",
      "Step: score=2246.62, remove state_UT\n",
      "Step: score=2244.75, remove state_CO\n",
      "Step: score=2242.90, remove state_FL\n",
      "Step: score=2241.17, remove state_WI\n",
      "Step: score=2239.50, remove state_WV\n",
      "Step: score=2237.88, remove state_MA\n",
      "Step: score=2236.30, remove state_MO\n",
      "Step: score=2234.72, remove state_LA\n",
      "Step: score=2233.17, remove state_SD\n",
      "Step: score=2231.60, remove state_MD\n",
      "Step: score=2229.91, remove state_WA\n",
      "Step: score=2228.17, remove state_NV\n",
      "Step: score=2226.59, remove month_Oct\n",
      "Step: score=2224.89, remove month_Jul\n",
      "Step: score=2223.37, remove month_Jun\n",
      "Step: score=2222.05, remove state_ME\n",
      "Step: score=2220.77, remove state_IN\n",
      "Step: score=2219.57, remove month_May\n",
      "Step: score=2218.55, remove month_Mar\n",
      "Step: score=2217.66, remove state_VA\n",
      "Step: score=2216.82, remove state_MN\n",
      "Step: score=2216.08, remove state_DC\n",
      "Step: score=2215.45, remove state_OK\n",
      "Step: score=2214.83, remove state_DE\n",
      "Step: score=2214.61, remove year\n",
      "Step: score=2214.30, remove state_NY\n",
      "Step: score=2214.12, remove state_NJ\n",
      "Step: score=2213.97, remove state_NH\n",
      "Step: score=2213.86, remove state_IL\n",
      "Step: score=2213.84, remove state_MI\n",
      "Step: score=2213.75, remove month_Dec\n",
      "Step: score=2213.75, remove None\n",
      "['status_num', 'likes', 'month_Aug', 'month_Feb', 'month_Jan', 'month_Nov', 'state_CA', 'state_GA', 'state_NM', 'state_OR', 'state_PA', 'state_SC', 'state_TX']\n",
      "\n",
      "Regression statistics\n",
      "\n",
      "                      Mean Error (ME) : 0.0196\n",
      "       Root Mean Squared Error (RMSE) : 1.1022\n",
      "            Mean Absolute Error (MAE) : 0.8768\n",
      "          Mean Percentage Error (MPE) : -11.9719\n",
      "Mean Absolute Percentage Error (MAPE) : 31.7436\n"
     ]
    }
   ],
   "source": [
    "def train_model(variables):\n",
    "    model = LinearRegression()\n",
    "    model.fit(train_X[variables], train_y)\n",
    "    return model\n",
    "\n",
    "def score_model(model, variables):\n",
    "    return AIC_score(train_y, model.predict(train_X[variables]), model)\n",
    "\n",
    "allVariables = train_X.columns\n",
    "best_model, best_variables = backward_elimination(allVariables, train_model, score_model, verbose=True)\n",
    "\n",
    "print(best_variables)\n",
    "\n",
    "regressionSummary(test_y, best_model.predict(test_X[best_variables]))"
   ]
  },
  {
   "cell_type": "code",
   "execution_count": null,
   "metadata": {},
   "outputs": [],
   "source": [
    "# Note which x's the model produce and where the regression statistics fall in comparison to later methods."
   ]
  },
  {
   "cell_type": "markdown",
   "metadata": {},
   "source": [
    "<h2> -- Forward selection </h2>"
   ]
  },
  {
   "cell_type": "code",
   "execution_count": 10,
   "metadata": {
    "scrolled": false
   },
   "outputs": [
    {
     "name": "stdout",
     "output_type": "stream",
     "text": [
      "Variables: year, status_num, likes, month_Aug, month_Dec, month_Feb, month_Jan, month_Jul, month_Jun, month_Mar, month_May, month_Nov, month_Oct, month_Sep, state_CA, state_CO, state_CT, state_DC, state_DE, state_FL, state_GA, state_IL, state_IN, state_KS, state_KY, state_LA, state_MA, state_MD, state_ME, state_MI, state_MN, state_MO, state_NC, state_ND, state_NH, state_NJ, state_NM, state_NV, state_NY, state_OH, state_OK, state_OR, state_PA, state_SC, state_SD, state_TN, state_TX, state_UT, state_VA, state_WA, state_WI, state_WV\n",
      "Start: score=2344.82, constant\n",
      "Step: score=2264.54, add likes\n",
      "Step: score=2250.79, add status_num\n",
      "Step: score=2235.51, add state_CA\n",
      "Step: score=2228.84, add state_GA\n",
      "Step: score=2225.79, add state_TX\n",
      "Step: score=2223.29, add month_Dec\n",
      "Step: score=2220.85, add state_PA\n",
      "Step: score=2218.31, add state_OR\n",
      "Step: score=2216.17, add state_SC\n",
      "Step: score=2214.94, add month_Aug\n",
      "Step: score=2214.14, add month_Jan\n",
      "Step: score=2213.93, add state_MI\n",
      "Step: score=2213.76, add state_IL\n",
      "Step: score=2213.76, add None\n",
      "['likes', 'status_num', 'state_CA', 'state_GA', 'state_TX', 'month_Dec', 'state_PA', 'state_OR', 'state_SC', 'month_Aug', 'month_Jan', 'state_MI', 'state_IL']\n",
      "\n",
      "Regression statistics\n",
      "\n",
      "                      Mean Error (ME) : 0.0151\n",
      "       Root Mean Squared Error (RMSE) : 1.1140\n",
      "            Mean Absolute Error (MAE) : 0.8847\n",
      "          Mean Percentage Error (MPE) : -12.2977\n",
      "Mean Absolute Percentage Error (MAPE) : 32.1136\n"
     ]
    }
   ],
   "source": [
    "def train_model(variables):\n",
    "    if len(variables) == 0:\n",
    "        return None\n",
    "    model = LinearRegression()\n",
    "    model.fit(train_X[variables], train_y)\n",
    "    return model\n",
    "\n",
    "def score_model(model, variables):\n",
    "    if len(variables) == 0:\n",
    "        return AIC_score(train_y, [train_y.mean()] * len(train_y), model, df=1)\n",
    "    return AIC_score(train_y, model.predict(train_X[variables]), model)\n",
    "\n",
    "best_model, best_variables = forward_selection(train_X.columns, train_model, score_model, verbose=True)\n",
    "\n",
    "print(best_variables)\n",
    "\n",
    "regressionSummary(test_y, best_model.predict(test_X[best_variables]))"
   ]
  },
  {
   "cell_type": "code",
   "execution_count": null,
   "metadata": {},
   "outputs": [],
   "source": [
    "# Same assessment as above."
   ]
  },
  {
   "cell_type": "markdown",
   "metadata": {},
   "source": [
    "<h2> -- Stepwise selection </h2>"
   ]
  },
  {
   "cell_type": "code",
   "execution_count": 12,
   "metadata": {
    "scrolled": true
   },
   "outputs": [
    {
     "name": "stdout",
     "output_type": "stream",
     "text": [
      "Variables: year, status_num, likes, month_Aug, month_Dec, month_Feb, month_Jan, month_Jul, month_Jun, month_Mar, month_May, month_Nov, month_Oct, month_Sep, state_CA, state_CO, state_CT, state_DC, state_DE, state_FL, state_GA, state_IL, state_IN, state_KS, state_KY, state_LA, state_MA, state_MD, state_ME, state_MI, state_MN, state_MO, state_NC, state_ND, state_NH, state_NJ, state_NM, state_NV, state_NY, state_OH, state_OK, state_OR, state_PA, state_SC, state_SD, state_TN, state_TX, state_UT, state_VA, state_WA, state_WI, state_WV\n",
      "Start: score=2344.82, constant\n",
      "Step: score=2264.54, add likes\n",
      "Step: score=2250.79, add status_num\n",
      "Step: score=2235.51, add state_CA\n",
      "Step: score=2228.84, add state_GA\n",
      "Step: score=2225.79, add state_TX\n",
      "Step: score=2223.29, add month_Dec\n",
      "Step: score=2220.85, add state_PA\n",
      "Step: score=2218.31, add state_OR\n",
      "Step: score=2216.17, add state_SC\n",
      "Step: score=2214.94, add month_Aug\n",
      "Step: score=2214.14, add month_Jan\n",
      "Step: score=2213.93, add state_MI\n",
      "Step: score=2213.76, add state_IL\n",
      "Step: score=2213.76, unchanged None\n",
      "['likes', 'status_num', 'state_CA', 'state_GA', 'state_TX', 'month_Dec', 'state_PA', 'state_OR', 'state_SC', 'month_Aug', 'month_Jan', 'state_MI', 'state_IL']\n",
      "\n",
      "Regression statistics\n",
      "\n",
      "                      Mean Error (ME) : 0.0151\n",
      "       Root Mean Squared Error (RMSE) : 1.1140\n",
      "            Mean Absolute Error (MAE) : 0.8847\n",
      "          Mean Percentage Error (MPE) : -12.2977\n",
      "Mean Absolute Percentage Error (MAPE) : 32.1136\n"
     ]
    }
   ],
   "source": [
    "best_model, best_variables = stepwise_selection(train_X.columns, train_model, score_model, verbose = True)\n",
    "\n",
    "print(best_variables)\n",
    "\n",
    "regressionSummary(test_y, best_model.predict(test_X[best_variables]))"
   ]
  },
  {
   "cell_type": "code",
   "execution_count": null,
   "metadata": {},
   "outputs": [],
   "source": [
    "# Same assessment as above."
   ]
  },
  {
   "cell_type": "markdown",
   "metadata": {},
   "source": [
    "<h2> -- Ridge </h2>"
   ]
  },
  {
   "cell_type": "code",
   "execution_count": null,
   "metadata": {},
   "outputs": [],
   "source": [
    "# The implementations below are from scikit-learn (sklearn)"
   ]
  },
  {
   "cell_type": "code",
   "execution_count": 13,
   "metadata": {
    "scrolled": false
   },
   "outputs": [
    {
     "name": "stdout",
     "output_type": "stream",
     "text": [
      "\n",
      "Regression statistics\n",
      "\n",
      "                      Mean Error (ME) : 0.0226\n",
      "       Root Mean Squared Error (RMSE) : 1.0553\n",
      "            Mean Absolute Error (MAE) : 0.8819\n",
      "          Mean Percentage Error (MPE) : -12.9479\n",
      "Mean Absolute Percentage Error (MAPE) : 32.7378\n"
     ]
    }
   ],
   "source": [
    "# Run the model using the same training and test objects as above\n",
    "ridge = Ridge(normalize=True, alpha=1)\n",
    "ridge.fit(train_X, train_y)\n",
    "regressionSummary(test_y, ridge.predict(test_X))"
   ]
  },
  {
   "cell_type": "code",
   "execution_count": 43,
   "metadata": {
    "scrolled": false
   },
   "outputs": [
    {
     "data": {
      "text/plain": [
       "Index(['status_num', 'month_Dec', 'state_CA', 'state_DC', 'state_DE',\n",
       "       'state_GA', 'state_IL', 'state_IN', 'state_LA', 'state_ME', 'state_MI',\n",
       "       'state_MN', 'state_MO', 'state_NH', 'state_NJ', 'state_NM', 'state_NY',\n",
       "       'state_OK', 'state_OR', 'state_PA', 'state_SC', 'state_SD', 'state_TX',\n",
       "       'state_VA'],\n",
       "      dtype='object')"
      ]
     },
     "execution_count": 43,
     "metadata": {},
     "output_type": "execute_result"
    }
   ],
   "source": [
    "# Determine which X's were selected \n",
    "selector = SelectFromModel(Ridge()).fit(train_X, train_y)\n",
    "train_X.columns[selector.get_support()]"
   ]
  },
  {
   "cell_type": "code",
   "execution_count": null,
   "metadata": {},
   "outputs": [],
   "source": [
    "# Same assessment as above."
   ]
  },
  {
   "cell_type": "markdown",
   "metadata": {},
   "source": [
    "<h2> -- Lasso </h2>"
   ]
  },
  {
   "cell_type": "code",
   "execution_count": 44,
   "metadata": {
    "scrolled": false
   },
   "outputs": [
    {
     "name": "stdout",
     "output_type": "stream",
     "text": [
      "\n",
      "Regression statistics\n",
      "\n",
      "                      Mean Error (ME) : 0.0163\n",
      "       Root Mean Squared Error (RMSE) : 1.0626\n",
      "            Mean Absolute Error (MAE) : 0.9031\n",
      "          Mean Percentage Error (MPE) : -14.1541\n",
      "Mean Absolute Percentage Error (MAPE) : 34.2501\n"
     ]
    }
   ],
   "source": [
    "lasso = Lasso(normalize=True, alpha=1)\n",
    "lasso.fit(train_X, train_y)\n",
    "regressionSummary(test_y, lasso.predict(test_X))"
   ]
  },
  {
   "cell_type": "code",
   "execution_count": 45,
   "metadata": {
    "scrolled": false
   },
   "outputs": [
    {
     "data": {
      "text/plain": [
       "Index(['likes'], dtype='object')"
      ]
     },
     "execution_count": 45,
     "metadata": {},
     "output_type": "execute_result"
    }
   ],
   "source": [
    "# Determine which X's were selected \n",
    "selector = SelectFromModel(Lasso()).fit(train_X, train_y)\n",
    "train_X.columns[selector.get_support()]"
   ]
  },
  {
   "cell_type": "code",
   "execution_count": null,
   "metadata": {},
   "outputs": [],
   "source": [
    "# Same assessment as above."
   ]
  },
  {
   "cell_type": "markdown",
   "metadata": {},
   "source": [
    "<h2> -- Next steps + extensions </h2>"
   ]
  },
  {
   "cell_type": "code",
   "execution_count": null,
   "metadata": {},
   "outputs": [],
   "source": [
    "# Application to logistic regression: \n",
    "\n",
    "# Change your X's and y above in this step so that \"dependent\" captures your binary dependent variable\n",
    "independent = ['month', 'year', 'state', 'likes']\n",
    "dependent = 'status_num'\n",
    "\n",
    "# Then change references to LinearRegression to LogisticRegression throughout the code\n",
    "# Note that if you get errors re: interations when you switch from linear to logistic, add a max_iter option \n",
    "# where the code calls LogisticRegression as follows:\n",
    "model = LogisticRegression(max_iter=400)\n",
    "\n",
    "# Forward and stepwise selection may generate errors in logistic regression applications.  "
   ]
  },
  {
   "cell_type": "code",
   "execution_count": null,
   "metadata": {},
   "outputs": [],
   "source": [
    "# Once you have selected your variables, \n",
    "# go back to regression for interpretation or prediction with your new set of x's\n",
    "\n",
    "# Can you beat your earlier prediction performance?"
   ]
  },
  {
   "cell_type": "code",
   "execution_count": null,
   "metadata": {},
   "outputs": [],
   "source": [
    "# Extensions within sklearn: LassoCV, BayesianRidge"
   ]
  }
 ],
 "metadata": {
  "kernelspec": {
   "display_name": "Python 3",
   "language": "python",
   "name": "python3"
  },
  "language_info": {
   "codemirror_mode": {
    "name": "ipython",
    "version": 3
   },
   "file_extension": ".py",
   "mimetype": "text/x-python",
   "name": "python",
   "nbconvert_exporter": "python",
   "pygments_lexer": "ipython3",
   "version": "3.8.3"
  }
 },
 "nbformat": 4,
 "nbformat_minor": 4
}
