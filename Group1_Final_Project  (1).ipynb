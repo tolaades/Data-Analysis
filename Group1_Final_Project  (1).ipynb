{
 "cells": [
  {
   "cell_type": "markdown",
   "metadata": {},
   "source": [
    "FI 8090\n",
    "\n",
    "Final Project Group 1\n",
    "\n",
    "Akintola Adesomoju, Elisa Lage Modesto Alcofra, Prashant Kumar"
   ]
  },
  {
   "cell_type": "code",
   "execution_count": 1,
   "metadata": {},
   "outputs": [
    {
     "name": "stderr",
     "output_type": "stream",
     "text": [
      "<ipython-input-1-4f26f8cae7c9>:10: FutureWarning: The pandas.datetime class is deprecated and will be removed from pandas in a future version. Import from datetime module instead.\n",
      "  from pandas import datetime\n"
     ]
    }
   ],
   "source": [
    "import numpy as np \n",
    "import pandas as pd\n",
    "import csv\n",
    "import os\n",
    "from subprocess import check_output\n",
    "import seaborn as sns\n",
    "import matplotlib.pyplot as plt\n",
    "import warnings\n",
    "from pandas.plotting import lag_plot\n",
    "from pandas import datetime\n",
    "from statsmodels.tsa.arima_model import ARIMA\n",
    "from sklearn.metrics import mean_squared_error\n",
    "import math\n",
    "\n",
    "import numpy as np\n",
    "import seaborn as seabornInstance \n",
    "import statsmodels.api as sm\n",
    "\n",
    "import statsmodels.formula.api as smf\n",
    "\n",
    "from sklearn.model_selection import train_test_split \n",
    "from sklearn.linear_model import LinearRegression\n",
    "from sklearn import metrics\n",
    "\n",
    "\n",
    "import numpy as np  \n",
    "import matplotlib.pyplot as plt  \n",
    "import seaborn as seabornInstance \n",
    "import statsmodels.api as sm\n",
    "\n",
    "import statsmodels.formula.api as smf\n",
    "\n",
    "\n",
    "from sklearn.model_selection import train_test_split \n",
    "from sklearn.linear_model import LinearRegression\n",
    "from sklearn.linear_model import LogisticRegression\n",
    "from sklearn.metrics import confusion_matrix\n",
    "from sklearn import metrics\n",
    "\n",
    "import pandas as pd\n",
    "import yfinance as yf\n",
    "import numpy as np\n",
    "import matplotlib.pyplot as plt\n",
    "import math as ma\n",
    "from yahoofinancials import YahooFinancials\n",
    "\n",
    "import csv\n",
    "\n",
    "import seaborn as seabornInstance \n",
    "import statsmodels.api as sm\n",
    "from statsmodels import regression\n",
    "\n",
    "import statsmodels.formula.api as smf\n",
    "from scipy import stats\n",
    "\n",
    "from sklearn.model_selection import train_test_split \n",
    "from sklearn.linear_model import LinearRegression\n",
    "from sklearn import metrics\n",
    "\n",
    "\n",
    "import numpy as np  \n",
    "import seaborn as seabornInstance \n",
    "import statsmodels.api as sm\n",
    "\n",
    "import statsmodels.formula.api as smf\n",
    "\n",
    "\n",
    "import matplotlib as mpl \n",
    "from sklearn.tree import export_graphviz \n",
    "import graphviz\n",
    "\n",
    "\n",
    "from sklearn.model_selection import train_test_split \n",
    "from sklearn.linear_model import LinearRegression\n",
    "from sklearn.linear_model import LogisticRegression\n",
    "from sklearn.metrics import confusion_matrix\n",
    "from sklearn import metrics\n",
    "\n",
    "from sklearn.preprocessing import scale \n",
    "from sklearn.model_selection import train_test_split\n",
    "from sklearn.linear_model import Ridge, RidgeCV, Lasso, LassoCV\n",
    "from sklearn.metrics import mean_squared_error\n",
    "\n",
    "\n",
    "from sklearn.model_selection import train_test_split \n",
    "from sklearn.tree import DecisionTreeRegressor, DecisionTreeClassifier, export_graphviz \n",
    "from sklearn.ensemble import RandomForestRegressor, GradientBoostingRegressor \n",
    "from sklearn.metrics import confusion_matrix, mean_squared_error\n",
    "from sklearn.metrics import mean_squared_error\n",
    "\n",
    "from sklearn import linear_model\n",
    "from sklearn import datasets\n",
    "from sklearn.svm import l1_min_c\n"
   ]
  },
  {
   "cell_type": "code",
   "execution_count": 2,
   "metadata": {},
   "outputs": [],
   "source": [
    "#Loading one of the data files we have to showcase Tesla sales growth\n",
    "df = pd.read_csv('TSLA.csv')"
   ]
  },
  {
   "cell_type": "code",
   "execution_count": 3,
   "metadata": {},
   "outputs": [
    {
     "data": {
      "image/png": "[encoded data removed]",
      "text/plain": [
       "<Figure size 1080x504 with 1 Axes>"
      ]
     },
     "metadata": {
      "needs_background": "light"
     },
     "output_type": "display_data"
    }
   ],
   "source": [
    "#Plot\n",
    "df[['Close']].plot(figsize=(15,7))\n",
    "plt.title(\"Tesla\")\n",
    "plt.show()"
   ]
  },
  {
   "cell_type": "code",
   "execution_count": 4,
   "metadata": {},
   "outputs": [],
   "source": [
    "tesla_sg = pd.read_csv('Teslasgr.csv')"
   ]
  },
  {
   "cell_type": "code",
   "execution_count": 5,
   "metadata": {},
   "outputs": [
    {
     "data": {
      "text/html": [
       "<div>\n",
       "<style scoped>\n",
       "    .dataframe tbody tr th:only-of-type {\n",
       "        vertical-align: middle;\n",
       "    }\n",
       "\n",
       "    .dataframe tbody tr th {\n",
       "        vertical-align: top;\n",
       "    }\n",
       "\n",
       "    .dataframe thead th {\n",
       "        text-align: right;\n",
       "    }\n",
       "</style>\n",
       "<table border=\"1\" class=\"dataframe\">\n",
       "  <thead>\n",
       "    <tr style=\"text-align: right;\">\n",
       "      <th></th>\n",
       "      <th>Date</th>\n",
       "      <th>Tesla Model S</th>\n",
       "      <th>Tesla Model X</th>\n",
       "      <th>Tesla Model 3</th>\n",
       "      <th>Range KM</th>\n",
       "    </tr>\n",
       "  </thead>\n",
       "  <tbody>\n",
       "    <tr>\n",
       "      <th>0</th>\n",
       "      <td>2011</td>\n",
       "      <td>0</td>\n",
       "      <td>0</td>\n",
       "      <td>0</td>\n",
       "      <td>139</td>\n",
       "    </tr>\n",
       "    <tr>\n",
       "      <th>1</th>\n",
       "      <td>2012</td>\n",
       "      <td>2400</td>\n",
       "      <td>0</td>\n",
       "      <td>0</td>\n",
       "      <td>160</td>\n",
       "    </tr>\n",
       "    <tr>\n",
       "      <th>2</th>\n",
       "      <td>2013</td>\n",
       "      <td>19400</td>\n",
       "      <td>0</td>\n",
       "      <td>0</td>\n",
       "      <td>189</td>\n",
       "    </tr>\n",
       "    <tr>\n",
       "      <th>3</th>\n",
       "      <td>2014</td>\n",
       "      <td>16750</td>\n",
       "      <td>0</td>\n",
       "      <td>0</td>\n",
       "      <td>210</td>\n",
       "    </tr>\n",
       "    <tr>\n",
       "      <th>4</th>\n",
       "      <td>2015</td>\n",
       "      <td>26200</td>\n",
       "      <td>208</td>\n",
       "      <td>0</td>\n",
       "      <td>211</td>\n",
       "    </tr>\n",
       "    <tr>\n",
       "      <th>5</th>\n",
       "      <td>2016</td>\n",
       "      <td>30200</td>\n",
       "      <td>19600</td>\n",
       "      <td>0</td>\n",
       "      <td>233</td>\n",
       "    </tr>\n",
       "    <tr>\n",
       "      <th>6</th>\n",
       "      <td>2017</td>\n",
       "      <td>26500</td>\n",
       "      <td>21700</td>\n",
       "      <td>1770</td>\n",
       "      <td>267</td>\n",
       "    </tr>\n",
       "    <tr>\n",
       "      <th>7</th>\n",
       "      <td>2018</td>\n",
       "      <td>25745</td>\n",
       "      <td>26100</td>\n",
       "      <td>139782</td>\n",
       "      <td>304</td>\n",
       "    </tr>\n",
       "    <tr>\n",
       "      <th>8</th>\n",
       "      <td>2019</td>\n",
       "      <td>15090</td>\n",
       "      <td>19425</td>\n",
       "      <td>154840</td>\n",
       "      <td>336</td>\n",
       "    </tr>\n",
       "  </tbody>\n",
       "</table>\n",
       "</div>"
      ],
      "text/plain": [
       "   Date  Tesla Model S  Tesla Model X  Tesla Model 3  Range KM\n",
       "0  2011              0              0              0       139\n",
       "1  2012           2400              0              0       160\n",
       "2  2013          19400              0              0       189\n",
       "3  2014          16750              0              0       210\n",
       "4  2015          26200            208              0       211\n",
       "5  2016          30200          19600              0       233\n",
       "6  2017          26500          21700           1770       267\n",
       "7  2018          25745          26100         139782       304\n",
       "8  2019          15090          19425         154840       336"
      ]
     },
     "execution_count": 5,
     "metadata": {},
     "output_type": "execute_result"
    }
   ],
   "source": [
    "tesla_sg"
   ]
  },
  {
   "cell_type": "code",
   "execution_count": 6,
   "metadata": {},
   "outputs": [
    {
     "data": {
      "text/plain": [
       "Text(0, 0.5, 'Distance in KM')"
      ]
     },
     "execution_count": 6,
     "metadata": {},
     "output_type": "execute_result"
    },
    {
     "data": {
      "image/png": "[encoded data removed]",
      "text/plain": [
       "<Figure size 720x720 with 1 Axes>"
      ]
     },
     "metadata": {
      "needs_background": "light"
     },
     "output_type": "display_data"
    }
   ],
   "source": [
    "#Monthly prices of the three stocks together\n",
    "tesla_sg['Range KM'].plot(title=\"Range distribution\",figsize=(10,10))\n",
    "plt.ylabel('Distance in KM')"
   ]
  },
  {
   "cell_type": "code",
   "execution_count": 7,
   "metadata": {},
   "outputs": [
    {
     "data": {
      "text/plain": [
       "Text(0, 0.5, 'Units')"
      ]
     },
     "execution_count": 7,
     "metadata": {},
     "output_type": "execute_result"
    },
    {
     "data": {
      "image/png": "[encoded data removed]",
      "text/plain": [
       "<Figure size 720x720 with 1 Axes>"
      ]
     },
     "metadata": {
      "needs_background": "light"
     },
     "output_type": "display_data"
    }
   ],
   "source": [
    "tesla_sg['Tesla Model S'].plot(title=\"Tesla Model S \",figsize=(10,10))\n",
    "plt.ylabel('Units')"
   ]
  },
  {
   "cell_type": "code",
   "execution_count": 8,
   "metadata": {},
   "outputs": [
    {
     "data": {
      "text/plain": [
       "Text(0, 0.5, 'Units')"
      ]
     },
     "execution_count": 8,
     "metadata": {},
     "output_type": "execute_result"
    },
    {
     "data": {
      "image/png": "[encoded data removed]",
      "text/plain": [
       "<Figure size 720x720 with 1 Axes>"
      ]
     },
     "metadata": {
      "needs_background": "light"
     },
     "output_type": "display_data"
    }
   ],
   "source": [
    "tesla_sg['Tesla Model X'].plot(title=\"Tesla Model X\",figsize=(10,10))\n",
    "plt.ylabel('Units')"
   ]
  },
  {
   "cell_type": "code",
   "execution_count": 9,
   "metadata": {},
   "outputs": [
    {
     "data": {
      "text/plain": [
       "Text(0, 0.5, 'Units')"
      ]
     },
     "execution_count": 9,
     "metadata": {},
     "output_type": "execute_result"
    },
    {
     "data": {
      "image/png": "[encoded data removed]",
      "text/plain": [
       "<Figure size 720x720 with 1 Axes>"
      ]
     },
     "metadata": {
      "needs_background": "light"
     },
     "output_type": "display_data"
    }
   ],
   "source": [
    "tesla_sg['Tesla Model 3'].plot(title=\"Tesla Model 3\",figsize=(10,10))\n",
    "plt.ylabel('Units')"
   ]
  },
  {
   "cell_type": "code",
   "execution_count": null,
   "metadata": {},
   "outputs": [],
   "source": []
  },
  {
   "cell_type": "markdown",
   "metadata": {},
   "source": [
    "What influences the sales of electric vehicle?\n",
    "\n",
    "Is there a relationship between government benefit and sales of electric vehicle?\n",
    "\n",
    "Is there a relationship between number of charging station and sales?\n",
    "\n"
   ]
  },
  {
   "cell_type": "code",
   "execution_count": 13,
   "metadata": {},
   "outputs": [
    {
     "data": {
      "text/html": [
       "<div>\n",
       "<style scoped>\n",
       "    .dataframe tbody tr th:only-of-type {\n",
       "        vertical-align: middle;\n",
       "    }\n",
       "\n",
       "    .dataframe tbody tr th {\n",
       "        vertical-align: top;\n",
       "    }\n",
       "\n",
       "    .dataframe thead th {\n",
       "        text-align: right;\n",
       "    }\n",
       "</style>\n",
       "<table border=\"1\" class=\"dataframe\">\n",
       "  <thead>\n",
       "    <tr style=\"text-align: right;\">\n",
       "      <th></th>\n",
       "      <th>State</th>\n",
       "      <th>Number_EletricStations_Total</th>\n",
       "      <th>EV_Laws_Incentives</th>\n",
       "      <th>EV_sales_2018</th>\n",
       "      <th>EV2018_market_share_w_in_state</th>\n",
       "      <th>EV_Registration_by_state</th>\n",
       "    </tr>\n",
       "  </thead>\n",
       "  <tbody>\n",
       "    <tr>\n",
       "      <th>0</th>\n",
       "      <td>Alaska</td>\n",
       "      <td>25</td>\n",
       "      <td>1</td>\n",
       "      <td>155</td>\n",
       "      <td>0.0059</td>\n",
       "      <td>530</td>\n",
       "    </tr>\n",
       "    <tr>\n",
       "      <th>1</th>\n",
       "      <td>North Dakota</td>\n",
       "      <td>37</td>\n",
       "      <td>3</td>\n",
       "      <td>95</td>\n",
       "      <td>0.0024</td>\n",
       "      <td>170</td>\n",
       "    </tr>\n",
       "    <tr>\n",
       "      <th>2</th>\n",
       "      <td>South Dakota</td>\n",
       "      <td>45</td>\n",
       "      <td>2</td>\n",
       "      <td>135</td>\n",
       "      <td>0.0035</td>\n",
       "      <td>260</td>\n",
       "    </tr>\n",
       "    <tr>\n",
       "      <th>3</th>\n",
       "      <td>Wyoming</td>\n",
       "      <td>62</td>\n",
       "      <td>6</td>\n",
       "      <td>92</td>\n",
       "      <td>0.0035</td>\n",
       "      <td>170</td>\n",
       "    </tr>\n",
       "    <tr>\n",
       "      <th>4</th>\n",
       "      <td>Montana</td>\n",
       "      <td>64</td>\n",
       "      <td>5</td>\n",
       "      <td>274</td>\n",
       "      <td>0.0047</td>\n",
       "      <td>500</td>\n",
       "    </tr>\n",
       "  </tbody>\n",
       "</table>\n",
       "</div>"
      ],
      "text/plain": [
       "          State  Number_EletricStations_Total  EV_Laws_Incentives  \\\n",
       "0        Alaska                            25                   1   \n",
       "1  North Dakota                            37                   3   \n",
       "2  South Dakota                            45                   2   \n",
       "3       Wyoming                            62                   6   \n",
       "4       Montana                            64                   5   \n",
       "\n",
       "   EV_sales_2018  EV2018_market_share_w_in_state  EV_Registration_by_state  \n",
       "0            155                          0.0059                       530  \n",
       "1             95                          0.0024                       170  \n",
       "2            135                          0.0035                       260  \n",
       "3             92                          0.0035                       170  \n",
       "4            274                          0.0047                       500  "
      ]
     },
     "execution_count": 13,
     "metadata": {},
     "output_type": "execute_result"
    }
   ],
   "source": [
    "# about the data: data related to sales, laws and incentives and number of stations for the U.S. states\n",
    "\n",
    "\n",
    "state = pd.read_csv('Book2_phyton.csv')                      \n",
    "                       \n",
    "#view first 5 rows of the data\n",
    "state.head()"
   ]
  },
  {
   "cell_type": "code",
   "execution_count": null,
   "metadata": {},
   "outputs": [],
   "source": []
  },
  {
   "cell_type": "markdown",
   "metadata": {},
   "source": [
    "Lets begin veryfing if there is a relationship about government benefit and sales of electric vehicle?\n",
    "\n",
    "Null hypothesis: There is no relationship between the number of laws incentives and sales of electric vehicle?\n",
    "\n",
    "To answer this question we will analyse the relationship of number of laws incentives and sales of electric vehicle. We will use simple linear regression with:\n",
    "\n",
    "y= sales of electric vehicle predictor= number of laws incentives"
   ]
  },
  {
   "cell_type": "code",
   "execution_count": 14,
   "metadata": {},
   "outputs": [
    {
     "name": "stdout",
     "output_type": "stream",
     "text": [
      "                               OLS Regression Results                               \n",
      "====================================================================================\n",
      "Dep. Variable:     EV_Registration_by_state   R-squared:                       0.839\n",
      "Model:                                  OLS   Adj. R-squared:                  0.836\n",
      "Method:                       Least Squares   F-statistic:                     255.7\n",
      "Date:                      Sat, 05 Dec 2020   Prob (F-statistic):           4.41e-21\n",
      "Time:                              00:11:58   Log-Likelihood:                -560.02\n",
      "No. Observations:                        51   AIC:                             1124.\n",
      "Df Residuals:                            49   BIC:                             1128.\n",
      "Df Model:                                 1                                         \n",
      "Covariance Type:                  nonrobust                                         \n",
      "======================================================================================\n",
      "                         coef    std err          t      P>|t|      [0.025      0.975]\n",
      "--------------------------------------------------------------------------------------\n",
      "Intercept          -1.791e+04   2704.298     -6.623      0.000   -2.33e+04   -1.25e+04\n",
      "EV_Laws_Incentives  1961.0458    122.627     15.992      0.000    1714.617    2207.475\n",
      "==============================================================================\n",
      "Omnibus:                        2.740   Durbin-Watson:                   1.607\n",
      "Prob(Omnibus):                  0.254   Jarque-Bera (JB):                2.076\n",
      "Skew:                          -0.101   Prob(JB):                        0.354\n",
      "Kurtosis:                       3.968   Cond. No.                         29.4\n",
      "==============================================================================\n",
      "\n",
      "Warnings:\n",
      "[1] Standard Errors assume that the covariance matrix of the errors is correctly specified.\n"
     ]
    }
   ],
   "source": [
    "# It is being considered that the registration of electric vehicle represents the sales of electric vehicle\n",
    "result = smf.ols(formula='EV_Registration_by_state ~ EV_Laws_Incentives', data=state).fit()    \n",
    "print(result.summary()) "
   ]
  },
  {
   "cell_type": "markdown",
   "metadata": {},
   "source": [
    "Results:\n",
    "\n",
    "p-value< 0.000 for the number of laws incentives, so we can reject the null hypothesis.\n",
    "\n",
    "It indicates that number of laws incentives has a positive influence on the sales of electric vehicle. If the incentives  increases, it will contribute to increase the sales/registration of electric cars. An increase of 1 law that creates benefit contributes to increase 1961 units of electric vehicle. \n",
    "\n",
    "R-squared is 83.9% indicating that 83.9% of the variability in sales of eletric vehicle is explained by the government incentives using the linear model."
   ]
  },
  {
   "cell_type": "code",
   "execution_count": null,
   "metadata": {},
   "outputs": [],
   "source": []
  },
  {
   "cell_type": "markdown",
   "metadata": {},
   "source": [
    "Lets continuing the analyse by veryfing if there is a relationship about number of electric stations and sales of electric vehicle?\n",
    "\n",
    "Null hypothesis: There is no relationship between the number of electric stations and sales of electric vehicle?\n",
    "\n",
    "To answer this question we will analyse the relationship of number of electric stations and sales of electric vehicle. We will use simple linear regression with:\n",
    "\n",
    "y= sales of electric vehicle predictors= number of electric stations"
   ]
  },
  {
   "cell_type": "code",
   "execution_count": 15,
   "metadata": {},
   "outputs": [
    {
     "name": "stdout",
     "output_type": "stream",
     "text": [
      "                               OLS Regression Results                               \n",
      "====================================================================================\n",
      "Dep. Variable:     EV_Registration_by_state   R-squared:                       0.928\n",
      "Model:                                  OLS   Adj. R-squared:                  0.927\n",
      "Method:                       Least Squares   F-statistic:                     635.2\n",
      "Date:                      Sat, 05 Dec 2020   Prob (F-statistic):           1.04e-29\n",
      "Time:                              00:12:02   Log-Likelihood:                -539.39\n",
      "No. Observations:                        51   AIC:                             1083.\n",
      "Df Residuals:                            49   BIC:                             1087.\n",
      "Df Model:                                 1                                         \n",
      "Covariance Type:                  nonrobust                                         \n",
      "================================================================================================\n",
      "                                   coef    std err          t      P>|t|      [0.025      0.975]\n",
      "------------------------------------------------------------------------------------------------\n",
      "Intercept                    -8680.9455   1557.082     -5.575      0.000   -1.18e+04   -5551.871\n",
      "Number_EletricStations_Total    31.1285      1.235     25.204      0.000      28.647      33.611\n",
      "==============================================================================\n",
      "Omnibus:                       23.383   Durbin-Watson:                   1.106\n",
      "Prob(Omnibus):                  0.000   Jarque-Bera (JB):               50.969\n",
      "Skew:                          -1.268   Prob(JB):                     8.56e-12\n",
      "Kurtosis:                       7.189   Cond. No.                     1.45e+03\n",
      "==============================================================================\n",
      "\n",
      "Warnings:\n",
      "[1] Standard Errors assume that the covariance matrix of the errors is correctly specified.\n",
      "[2] The condition number is large, 1.45e+03. This might indicate that there are\n",
      "strong multicollinearity or other numerical problems.\n"
     ]
    }
   ],
   "source": [
    "# It is being considered that the registration of electric vehicle represents the sales of electric vehicle\n",
    "\n",
    "result = smf.ols(formula='EV_Registration_by_state ~ Number_EletricStations_Total', data=state).fit()    \n",
    "print(result.summary()) "
   ]
  },
  {
   "cell_type": "markdown",
   "metadata": {},
   "source": [
    "Results\n",
    "\n",
    "p-value< 0.000 for the number of eletric stations, so we can reject the null hypothesis.\n",
    "\n",
    "It indicates that number of eletric stations has a positive influence on the sales of electric vehicle. If the number of charging of electric vehicles increases, it will contribute to increase the sales/registration of electric cars. An increase of 1 additional charging station can contribute to increase the sales of electric vehicle by 31 units.\n",
    "\n",
    "R-squared is 92.8% indicating that 92.8% of the variability in sales of eletric vehicle is explained by the number of charging stations using the linear model."
   ]
  },
  {
   "cell_type": "code",
   "execution_count": null,
   "metadata": {},
   "outputs": [],
   "source": []
  },
  {
   "cell_type": "markdown",
   "metadata": {},
   "source": [
    "Next step, we will combine the two predictors above (number of governament incentives and number of charging stations). We will use multiple regression. \n",
    "\n",
    "y= sales of electric vehicle predictors= number of laws/incentives and number of electric stations\n"
   ]
  },
  {
   "cell_type": "code",
   "execution_count": 16,
   "metadata": {},
   "outputs": [
    {
     "name": "stdout",
     "output_type": "stream",
     "text": [
      "                               OLS Regression Results                               \n",
      "====================================================================================\n",
      "Dep. Variable:     EV_Registration_by_state   R-squared:                       0.936\n",
      "Model:                                  OLS   Adj. R-squared:                  0.933\n",
      "Method:                       Least Squares   F-statistic:                     351.9\n",
      "Date:                      Sat, 05 Dec 2020   Prob (F-statistic):           2.11e-29\n",
      "Time:                              00:12:07   Log-Likelihood:                -536.46\n",
      "No. Observations:                        51   AIC:                             1079.\n",
      "Df Residuals:                            48   BIC:                             1085.\n",
      "Df Model:                                 2                                         \n",
      "Covariance Type:                  nonrobust                                         \n",
      "================================================================================================\n",
      "                                   coef    std err          t      P>|t|      [0.025      0.975]\n",
      "------------------------------------------------------------------------------------------------\n",
      "Intercept                    -1.147e+04   1880.005     -6.099      0.000   -1.52e+04   -7685.370\n",
      "Number_EletricStations_Total    24.7331      2.897      8.537      0.000      18.908      30.558\n",
      "EV_Laws_Incentives             463.8643    191.966      2.416      0.020      77.890     849.838\n",
      "==============================================================================\n",
      "Omnibus:                       13.694   Durbin-Watson:                   1.144\n",
      "Prob(Omnibus):                  0.001   Jarque-Bera (JB):               18.272\n",
      "Skew:                          -0.910   Prob(JB):                     0.000108\n",
      "Kurtosis:                       5.299   Cond. No.                     1.84e+03\n",
      "==============================================================================\n",
      "\n",
      "Warnings:\n",
      "[1] Standard Errors assume that the covariance matrix of the errors is correctly specified.\n",
      "[2] The condition number is large, 1.84e+03. This might indicate that there are\n",
      "strong multicollinearity or other numerical problems.\n"
     ]
    }
   ],
   "source": [
    "result = smf.ols(formula='EV_Registration_by_state ~ Number_EletricStations_Total + EV_Laws_Incentives', data=state).fit()    \n",
    "print(result.summary()) "
   ]
  },
  {
   "cell_type": "markdown",
   "metadata": {},
   "source": [
    "Results\n",
    "\n",
    "p-value< 0.000 for the number of eletric stations and p-value <0.025 for number of laws and incentives, so with 97.5% confidence level, we can reject the null hypothesis and conclude that both of the predictors have a significant influence on sales.\n",
    "\n",
    "We verify that the multiple linear regression presented a higher R-squared (93.6%) than the simple linear regression for each predictors. This is a expected behaviour since we added one variable, R-squares increases. \n",
    "\n",
    "The coefficients indicates that for a given number of eletric vechicle stations, the additional of 1 law incentive leads to a increase in sales by approximately 463 units. Also, for a given number of government benefits, the additional of 1 number of electric station leads to a increase in sales by approximately 24 units.\n"
   ]
  },
  {
   "cell_type": "code",
   "execution_count": null,
   "metadata": {},
   "outputs": [],
   "source": []
  },
  {
   "cell_type": "markdown",
   "metadata": {},
   "source": [
    "Now we will analyse the demographic data related to people that bought eletric vehicle car in California"
   ]
  },
  {
   "cell_type": "code",
   "execution_count": 17,
   "metadata": {},
   "outputs": [
    {
     "data": {
      "text/html": [
       "<div>\n",
       "<style scoped>\n",
       "    .dataframe tbody tr th:only-of-type {\n",
       "        vertical-align: middle;\n",
       "    }\n",
       "\n",
       "    .dataframe tbody tr th {\n",
       "        vertical-align: top;\n",
       "    }\n",
       "\n",
       "    .dataframe thead th {\n",
       "        text-align: right;\n",
       "    }\n",
       "</style>\n",
       "<table border=\"1\" class=\"dataframe\">\n",
       "  <thead>\n",
       "    <tr style=\"text-align: right;\">\n",
       "      <th></th>\n",
       "      <th>Unnamed: 0</th>\n",
       "      <th>County</th>\n",
       "      <th>Lease_Purchase</th>\n",
       "      <th>Vehicle Category</th>\n",
       "      <th>Make</th>\n",
       "      <th>Purchase_Year</th>\n",
       "      <th>count</th>\n",
       "      <th>Age_Group</th>\n",
       "      <th>Age_Mean</th>\n",
       "      <th>Age_Mean2</th>\n",
       "      <th>Age_Upper</th>\n",
       "      <th>Gender</th>\n",
       "      <th>Income_Lower</th>\n",
       "      <th>Income_Mean</th>\n",
       "      <th>Income_Mean2</th>\n",
       "      <th>Income_Upper</th>\n",
       "      <th>Education</th>\n",
       "      <th>Education_Group</th>\n",
       "      <th>Housing_Type</th>\n",
       "      <th>Rent_Own</th>\n",
       "    </tr>\n",
       "  </thead>\n",
       "  <tbody>\n",
       "    <tr>\n",
       "      <th>0</th>\n",
       "      <td>1</td>\n",
       "      <td>Los Angeles</td>\n",
       "      <td>Purchase</td>\n",
       "      <td>BEV</td>\n",
       "      <td>Nissan</td>\n",
       "      <td>2012</td>\n",
       "      <td>0</td>\n",
       "      <td>45-54</td>\n",
       "      <td>49.5</td>\n",
       "      <td>50</td>\n",
       "      <td>54</td>\n",
       "      <td>Male</td>\n",
       "      <td>75</td>\n",
       "      <td>87.0</td>\n",
       "      <td>87.0</td>\n",
       "      <td>100</td>\n",
       "      <td>Bachelor's degree</td>\n",
       "      <td>Bachelors degree</td>\n",
       "      <td>Detached House</td>\n",
       "      <td>Own</td>\n",
       "    </tr>\n",
       "    <tr>\n",
       "      <th>1</th>\n",
       "      <td>2</td>\n",
       "      <td>Sonoma</td>\n",
       "      <td>Purchase</td>\n",
       "      <td>BEV</td>\n",
       "      <td>Nissan</td>\n",
       "      <td>2012</td>\n",
       "      <td>0</td>\n",
       "      <td>45-54</td>\n",
       "      <td>49.5</td>\n",
       "      <td>50</td>\n",
       "      <td>54</td>\n",
       "      <td>Female</td>\n",
       "      <td>175</td>\n",
       "      <td>187.5</td>\n",
       "      <td>188.0</td>\n",
       "      <td>200</td>\n",
       "      <td>Graduate degree</td>\n",
       "      <td>Graduate degree</td>\n",
       "      <td>Detached House</td>\n",
       "      <td>Own</td>\n",
       "    </tr>\n",
       "    <tr>\n",
       "      <th>2</th>\n",
       "      <td>3</td>\n",
       "      <td>Santa Clara</td>\n",
       "      <td>Lease</td>\n",
       "      <td>BEV</td>\n",
       "      <td>Nissan</td>\n",
       "      <td>2012</td>\n",
       "      <td>0</td>\n",
       "      <td>45-54</td>\n",
       "      <td>49.5</td>\n",
       "      <td>50</td>\n",
       "      <td>54</td>\n",
       "      <td>Male</td>\n",
       "      <td>200</td>\n",
       "      <td>225.0</td>\n",
       "      <td>225.0</td>\n",
       "      <td>250</td>\n",
       "      <td>Graduate degree</td>\n",
       "      <td>Graduate degree</td>\n",
       "      <td>Detached House</td>\n",
       "      <td>Own</td>\n",
       "    </tr>\n",
       "    <tr>\n",
       "      <th>3</th>\n",
       "      <td>4</td>\n",
       "      <td>Orange</td>\n",
       "      <td>Lease</td>\n",
       "      <td>BEV</td>\n",
       "      <td>Nissan</td>\n",
       "      <td>2012</td>\n",
       "      <td>0</td>\n",
       "      <td>55-64</td>\n",
       "      <td>59.5</td>\n",
       "      <td>60</td>\n",
       "      <td>64</td>\n",
       "      <td>Male</td>\n",
       "      <td>200</td>\n",
       "      <td>225.0</td>\n",
       "      <td>225.0</td>\n",
       "      <td>250</td>\n",
       "      <td>Associates degree</td>\n",
       "      <td>Associates degree/Some college</td>\n",
       "      <td>Detached House</td>\n",
       "      <td>Own</td>\n",
       "    </tr>\n",
       "    <tr>\n",
       "      <th>4</th>\n",
       "      <td>5</td>\n",
       "      <td>San Mateo</td>\n",
       "      <td>Lease</td>\n",
       "      <td>BEV</td>\n",
       "      <td>Nissan</td>\n",
       "      <td>2012</td>\n",
       "      <td>0</td>\n",
       "      <td>25-34</td>\n",
       "      <td>29.5</td>\n",
       "      <td>30</td>\n",
       "      <td>34</td>\n",
       "      <td>Male</td>\n",
       "      <td>125</td>\n",
       "      <td>137.5</td>\n",
       "      <td>138.0</td>\n",
       "      <td>150</td>\n",
       "      <td>Bachelor's degree</td>\n",
       "      <td>Bachelors degree</td>\n",
       "      <td>Apartment/Condominium</td>\n",
       "      <td>Rent</td>\n",
       "    </tr>\n",
       "    <tr>\n",
       "      <th>...</th>\n",
       "      <td>...</td>\n",
       "      <td>...</td>\n",
       "      <td>...</td>\n",
       "      <td>...</td>\n",
       "      <td>...</td>\n",
       "      <td>...</td>\n",
       "      <td>...</td>\n",
       "      <td>...</td>\n",
       "      <td>...</td>\n",
       "      <td>...</td>\n",
       "      <td>...</td>\n",
       "      <td>...</td>\n",
       "      <td>...</td>\n",
       "      <td>...</td>\n",
       "      <td>...</td>\n",
       "      <td>...</td>\n",
       "      <td>...</td>\n",
       "      <td>...</td>\n",
       "      <td>...</td>\n",
       "      <td>...</td>\n",
       "    </tr>\n",
       "    <tr>\n",
       "      <th>8817</th>\n",
       "      <td>9044</td>\n",
       "      <td>San Joaquin</td>\n",
       "      <td>Lease</td>\n",
       "      <td>BEV</td>\n",
       "      <td>Chevrolet</td>\n",
       "      <td>2015</td>\n",
       "      <td>0</td>\n",
       "      <td>65+</td>\n",
       "      <td>70.0</td>\n",
       "      <td>70</td>\n",
       "      <td>70</td>\n",
       "      <td>Male</td>\n",
       "      <td>50</td>\n",
       "      <td>62.5</td>\n",
       "      <td>63.0</td>\n",
       "      <td>75</td>\n",
       "      <td>Bachelor's degree</td>\n",
       "      <td>Bachelors degree</td>\n",
       "      <td>Detached House</td>\n",
       "      <td>Own</td>\n",
       "    </tr>\n",
       "    <tr>\n",
       "      <th>8818</th>\n",
       "      <td>9046</td>\n",
       "      <td>Los Angeles</td>\n",
       "      <td>Lease</td>\n",
       "      <td>BEV</td>\n",
       "      <td>Chevrolet</td>\n",
       "      <td>2015</td>\n",
       "      <td>0</td>\n",
       "      <td>45-54</td>\n",
       "      <td>49.5</td>\n",
       "      <td>50</td>\n",
       "      <td>54</td>\n",
       "      <td>Male</td>\n",
       "      <td>75</td>\n",
       "      <td>87.0</td>\n",
       "      <td>87.0</td>\n",
       "      <td>100</td>\n",
       "      <td>Some college, no degree</td>\n",
       "      <td>Associates degree/Some college</td>\n",
       "      <td>Detached House</td>\n",
       "      <td>Own</td>\n",
       "    </tr>\n",
       "    <tr>\n",
       "      <th>8819</th>\n",
       "      <td>9047</td>\n",
       "      <td>Orange</td>\n",
       "      <td>Purchase</td>\n",
       "      <td>BEV</td>\n",
       "      <td>Kia</td>\n",
       "      <td>2014</td>\n",
       "      <td>0</td>\n",
       "      <td>65+</td>\n",
       "      <td>70.0</td>\n",
       "      <td>70</td>\n",
       "      <td>70</td>\n",
       "      <td>Male</td>\n",
       "      <td>200</td>\n",
       "      <td>225.0</td>\n",
       "      <td>225.0</td>\n",
       "      <td>250</td>\n",
       "      <td>Bachelor's degree</td>\n",
       "      <td>Bachelors degree</td>\n",
       "      <td>Detached House</td>\n",
       "      <td>Own</td>\n",
       "    </tr>\n",
       "    <tr>\n",
       "      <th>8820</th>\n",
       "      <td>9048</td>\n",
       "      <td>Los Angeles</td>\n",
       "      <td>Lease</td>\n",
       "      <td>BEV</td>\n",
       "      <td>Mercedes-Benz</td>\n",
       "      <td>2015</td>\n",
       "      <td>0</td>\n",
       "      <td>35-44</td>\n",
       "      <td>39.5</td>\n",
       "      <td>40</td>\n",
       "      <td>44</td>\n",
       "      <td>Male</td>\n",
       "      <td>150</td>\n",
       "      <td>162.5</td>\n",
       "      <td>163.0</td>\n",
       "      <td>175</td>\n",
       "      <td>Some college, no degree</td>\n",
       "      <td>Associates degree/Some college</td>\n",
       "      <td>Detached House</td>\n",
       "      <td>Own</td>\n",
       "    </tr>\n",
       "    <tr>\n",
       "      <th>8821</th>\n",
       "      <td>9049</td>\n",
       "      <td>Los Angeles</td>\n",
       "      <td>Lease</td>\n",
       "      <td>BEV</td>\n",
       "      <td>Volkswagen</td>\n",
       "      <td>2015</td>\n",
       "      <td>0</td>\n",
       "      <td>55-64</td>\n",
       "      <td>59.5</td>\n",
       "      <td>60</td>\n",
       "      <td>64</td>\n",
       "      <td>Female</td>\n",
       "      <td>150</td>\n",
       "      <td>162.5</td>\n",
       "      <td>163.0</td>\n",
       "      <td>175</td>\n",
       "      <td>Bachelor's degree</td>\n",
       "      <td>Bachelors degree</td>\n",
       "      <td>Detached House</td>\n",
       "      <td>Own</td>\n",
       "    </tr>\n",
       "  </tbody>\n",
       "</table>\n",
       "<p>8822 rows × 20 columns</p>\n",
       "</div>"
      ],
      "text/plain": [
       "      Unnamed: 0       County Lease_Purchase Vehicle Category           Make  \\\n",
       "0              1  Los Angeles       Purchase              BEV         Nissan   \n",
       "1              2       Sonoma       Purchase              BEV         Nissan   \n",
       "2              3  Santa Clara          Lease              BEV         Nissan   \n",
       "3              4       Orange          Lease              BEV         Nissan   \n",
       "4              5    San Mateo          Lease              BEV         Nissan   \n",
       "...          ...          ...            ...              ...            ...   \n",
       "8817        9044  San Joaquin          Lease              BEV      Chevrolet   \n",
       "8818        9046  Los Angeles          Lease              BEV      Chevrolet   \n",
       "8819        9047       Orange       Purchase              BEV            Kia   \n",
       "8820        9048  Los Angeles          Lease              BEV  Mercedes-Benz   \n",
       "8821        9049  Los Angeles          Lease              BEV     Volkswagen   \n",
       "\n",
       "      Purchase_Year  count Age_Group  Age_Mean  Age_Mean2  Age_Upper  Gender  \\\n",
       "0              2012      0     45-54      49.5         50         54    Male   \n",
       "1              2012      0     45-54      49.5         50         54  Female   \n",
       "2              2012      0     45-54      49.5         50         54    Male   \n",
       "3              2012      0     55-64      59.5         60         64    Male   \n",
       "4              2012      0     25-34      29.5         30         34    Male   \n",
       "...             ...    ...       ...       ...        ...        ...     ...   \n",
       "8817           2015      0       65+      70.0         70         70    Male   \n",
       "8818           2015      0     45-54      49.5         50         54    Male   \n",
       "8819           2014      0       65+      70.0         70         70    Male   \n",
       "8820           2015      0     35-44      39.5         40         44    Male   \n",
       "8821           2015      0     55-64      59.5         60         64  Female   \n",
       "\n",
       "      Income_Lower  Income_Mean  Income_Mean2  Income_Upper  \\\n",
       "0               75         87.0          87.0           100   \n",
       "1              175        187.5         188.0           200   \n",
       "2              200        225.0         225.0           250   \n",
       "3              200        225.0         225.0           250   \n",
       "4              125        137.5         138.0           150   \n",
       "...            ...          ...           ...           ...   \n",
       "8817            50         62.5          63.0            75   \n",
       "8818            75         87.0          87.0           100   \n",
       "8819           200        225.0         225.0           250   \n",
       "8820           150        162.5         163.0           175   \n",
       "8821           150        162.5         163.0           175   \n",
       "\n",
       "                    Education                 Education_Group  \\\n",
       "0           Bachelor's degree                Bachelors degree   \n",
       "1             Graduate degree                 Graduate degree   \n",
       "2             Graduate degree                 Graduate degree   \n",
       "3           Associates degree  Associates degree/Some college   \n",
       "4           Bachelor's degree                Bachelors degree   \n",
       "...                       ...                             ...   \n",
       "8817        Bachelor's degree                Bachelors degree   \n",
       "8818  Some college, no degree  Associates degree/Some college   \n",
       "8819        Bachelor's degree                Bachelors degree   \n",
       "8820  Some college, no degree  Associates degree/Some college   \n",
       "8821        Bachelor's degree                Bachelors degree   \n",
       "\n",
       "               Housing_Type Rent_Own  \n",
       "0            Detached House      Own  \n",
       "1            Detached House      Own  \n",
       "2            Detached House      Own  \n",
       "3            Detached House      Own  \n",
       "4     Apartment/Condominium     Rent  \n",
       "...                     ...      ...  \n",
       "8817         Detached House      Own  \n",
       "8818         Detached House      Own  \n",
       "8819         Detached House      Own  \n",
       "8820         Detached House      Own  \n",
       "8821         Detached House      Own  \n",
       "\n",
       "[8822 rows x 20 columns]"
      ]
     },
     "execution_count": 17,
     "metadata": {},
     "output_type": "execute_result"
    }
   ],
   "source": [
    "\n",
    "demo = pd.read_csv('Demo2.csv')                      \n",
    "                       \n",
    "#view first 5 rows of the data\n",
    "demo"
   ]
  },
  {
   "cell_type": "code",
   "execution_count": 18,
   "metadata": {},
   "outputs": [
    {
     "data": {
      "text/html": [
       "<div>\n",
       "<style scoped>\n",
       "    .dataframe tbody tr th:only-of-type {\n",
       "        vertical-align: middle;\n",
       "    }\n",
       "\n",
       "    .dataframe tbody tr th {\n",
       "        vertical-align: top;\n",
       "    }\n",
       "\n",
       "    .dataframe thead th {\n",
       "        text-align: right;\n",
       "    }\n",
       "</style>\n",
       "<table border=\"1\" class=\"dataframe\">\n",
       "  <thead>\n",
       "    <tr style=\"text-align: right;\">\n",
       "      <th></th>\n",
       "      <th>Unnamed: 0</th>\n",
       "      <th>Purchase_Year</th>\n",
       "      <th>count</th>\n",
       "      <th>Age_Mean</th>\n",
       "      <th>Age_Mean2</th>\n",
       "      <th>Age_Upper</th>\n",
       "      <th>Income_Lower</th>\n",
       "      <th>Income_Mean</th>\n",
       "      <th>Income_Mean2</th>\n",
       "      <th>Income_Upper</th>\n",
       "    </tr>\n",
       "  </thead>\n",
       "  <tbody>\n",
       "    <tr>\n",
       "      <th>count</th>\n",
       "      <td>8822.000000</td>\n",
       "      <td>8822.000000</td>\n",
       "      <td>8822.000000</td>\n",
       "      <td>8822.000000</td>\n",
       "      <td>8822.000000</td>\n",
       "      <td>8822.000000</td>\n",
       "      <td>8822.000000</td>\n",
       "      <td>8711.000000</td>\n",
       "      <td>8711.000000</td>\n",
       "      <td>8822.000000</td>\n",
       "    </tr>\n",
       "    <tr>\n",
       "      <th>mean</th>\n",
       "      <td>4514.986964</td>\n",
       "      <td>2013.746203</td>\n",
       "      <td>0.256518</td>\n",
       "      <td>48.504761</td>\n",
       "      <td>48.945931</td>\n",
       "      <td>52.492632</td>\n",
       "      <td>189.873158</td>\n",
       "      <td>209.455229</td>\n",
       "      <td>209.715188</td>\n",
       "      <td>236.610179</td>\n",
       "    </tr>\n",
       "    <tr>\n",
       "      <th>std</th>\n",
       "      <td>2612.403090</td>\n",
       "      <td>0.800376</td>\n",
       "      <td>0.436736</td>\n",
       "      <td>12.078388</td>\n",
       "      <td>11.986129</td>\n",
       "      <td>11.257652</td>\n",
       "      <td>130.477022</td>\n",
       "      <td>149.702402</td>\n",
       "      <td>149.560956</td>\n",
       "      <td>173.285716</td>\n",
       "    </tr>\n",
       "    <tr>\n",
       "      <th>min</th>\n",
       "      <td>1.000000</td>\n",
       "      <td>2012.000000</td>\n",
       "      <td>0.000000</td>\n",
       "      <td>21.000000</td>\n",
       "      <td>21.000000</td>\n",
       "      <td>24.000000</td>\n",
       "      <td>1.000000</td>\n",
       "      <td>13.000000</td>\n",
       "      <td>13.000000</td>\n",
       "      <td>25.000000</td>\n",
       "    </tr>\n",
       "    <tr>\n",
       "      <th>25%</th>\n",
       "      <td>2249.250000</td>\n",
       "      <td>2013.000000</td>\n",
       "      <td>0.000000</td>\n",
       "      <td>39.500000</td>\n",
       "      <td>40.000000</td>\n",
       "      <td>44.000000</td>\n",
       "      <td>100.000000</td>\n",
       "      <td>112.500000</td>\n",
       "      <td>113.000000</td>\n",
       "      <td>125.000000</td>\n",
       "    </tr>\n",
       "    <tr>\n",
       "      <th>50%</th>\n",
       "      <td>4518.500000</td>\n",
       "      <td>2014.000000</td>\n",
       "      <td>0.000000</td>\n",
       "      <td>49.500000</td>\n",
       "      <td>50.000000</td>\n",
       "      <td>54.000000</td>\n",
       "      <td>150.000000</td>\n",
       "      <td>162.500000</td>\n",
       "      <td>163.000000</td>\n",
       "      <td>175.000000</td>\n",
       "    </tr>\n",
       "    <tr>\n",
       "      <th>75%</th>\n",
       "      <td>6777.750000</td>\n",
       "      <td>2014.000000</td>\n",
       "      <td>1.000000</td>\n",
       "      <td>59.500000</td>\n",
       "      <td>60.000000</td>\n",
       "      <td>64.000000</td>\n",
       "      <td>250.000000</td>\n",
       "      <td>275.000000</td>\n",
       "      <td>275.000000</td>\n",
       "      <td>300.000000</td>\n",
       "    </tr>\n",
       "    <tr>\n",
       "      <th>max</th>\n",
       "      <td>9049.000000</td>\n",
       "      <td>2015.000000</td>\n",
       "      <td>1.000000</td>\n",
       "      <td>70.000000</td>\n",
       "      <td>70.000000</td>\n",
       "      <td>70.000000</td>\n",
       "      <td>500.000000</td>\n",
       "      <td>600.000000</td>\n",
       "      <td>600.000000</td>\n",
       "      <td>700.000000</td>\n",
       "    </tr>\n",
       "  </tbody>\n",
       "</table>\n",
       "</div>"
      ],
      "text/plain": [
       "        Unnamed: 0  Purchase_Year        count     Age_Mean    Age_Mean2  \\\n",
       "count  8822.000000    8822.000000  8822.000000  8822.000000  8822.000000   \n",
       "mean   4514.986964    2013.746203     0.256518    48.504761    48.945931   \n",
       "std    2612.403090       0.800376     0.436736    12.078388    11.986129   \n",
       "min       1.000000    2012.000000     0.000000    21.000000    21.000000   \n",
       "25%    2249.250000    2013.000000     0.000000    39.500000    40.000000   \n",
       "50%    4518.500000    2014.000000     0.000000    49.500000    50.000000   \n",
       "75%    6777.750000    2014.000000     1.000000    59.500000    60.000000   \n",
       "max    9049.000000    2015.000000     1.000000    70.000000    70.000000   \n",
       "\n",
       "         Age_Upper  Income_Lower  Income_Mean  Income_Mean2  Income_Upper  \n",
       "count  8822.000000   8822.000000  8711.000000   8711.000000   8822.000000  \n",
       "mean     52.492632    189.873158   209.455229    209.715188    236.610179  \n",
       "std      11.257652    130.477022   149.702402    149.560956    173.285716  \n",
       "min      24.000000      1.000000    13.000000     13.000000     25.000000  \n",
       "25%      44.000000    100.000000   112.500000    113.000000    125.000000  \n",
       "50%      54.000000    150.000000   162.500000    163.000000    175.000000  \n",
       "75%      64.000000    250.000000   275.000000    275.000000    300.000000  \n",
       "max      70.000000    500.000000   600.000000    600.000000    700.000000  "
      ]
     },
     "execution_count": 18,
     "metadata": {},
     "output_type": "execute_result"
    }
   ],
   "source": [
    "demo.describe()"
   ]
  },
  {
   "cell_type": "code",
   "execution_count": 19,
   "metadata": {},
   "outputs": [
    {
     "data": {
      "text/html": [
       "<div>\n",
       "<style scoped>\n",
       "    .dataframe tbody tr th:only-of-type {\n",
       "        vertical-align: middle;\n",
       "    }\n",
       "\n",
       "    .dataframe tbody tr th {\n",
       "        vertical-align: top;\n",
       "    }\n",
       "\n",
       "    .dataframe thead th {\n",
       "        text-align: right;\n",
       "    }\n",
       "</style>\n",
       "<table border=\"1\" class=\"dataframe\">\n",
       "  <thead>\n",
       "    <tr style=\"text-align: right;\">\n",
       "      <th></th>\n",
       "      <th>Unnamed: 0</th>\n",
       "      <th>County</th>\n",
       "      <th>Lease_Purchase</th>\n",
       "      <th>Vehicle Category</th>\n",
       "      <th>Make</th>\n",
       "      <th>Purchase_Year</th>\n",
       "      <th>count</th>\n",
       "      <th>Age_Group</th>\n",
       "      <th>Age_Mean</th>\n",
       "      <th>Age_Mean2</th>\n",
       "      <th>Age_Upper</th>\n",
       "      <th>Gender</th>\n",
       "      <th>Income_Lower</th>\n",
       "      <th>Income_Mean</th>\n",
       "      <th>Income_Mean2</th>\n",
       "      <th>Income_Upper</th>\n",
       "      <th>Education</th>\n",
       "      <th>Education_Group</th>\n",
       "      <th>Housing_Type</th>\n",
       "      <th>Rent_Own</th>\n",
       "    </tr>\n",
       "  </thead>\n",
       "  <tbody>\n",
       "    <tr>\n",
       "      <th>11</th>\n",
       "      <td>12</td>\n",
       "      <td>Sacramento</td>\n",
       "      <td>Purchase</td>\n",
       "      <td>BEV</td>\n",
       "      <td>Tesla</td>\n",
       "      <td>2012</td>\n",
       "      <td>1</td>\n",
       "      <td>45-54</td>\n",
       "      <td>49.5</td>\n",
       "      <td>50</td>\n",
       "      <td>54</td>\n",
       "      <td>Male</td>\n",
       "      <td>150</td>\n",
       "      <td>112.5</td>\n",
       "      <td>113.0</td>\n",
       "      <td>125</td>\n",
       "      <td>Bachelor's degree</td>\n",
       "      <td>Bachelors degree</td>\n",
       "      <td>Detached House</td>\n",
       "      <td>Own</td>\n",
       "    </tr>\n",
       "    <tr>\n",
       "      <th>13</th>\n",
       "      <td>14</td>\n",
       "      <td>Los Angeles</td>\n",
       "      <td>Purchase</td>\n",
       "      <td>BEV</td>\n",
       "      <td>Tesla</td>\n",
       "      <td>2012</td>\n",
       "      <td>1</td>\n",
       "      <td>45-54</td>\n",
       "      <td>49.5</td>\n",
       "      <td>50</td>\n",
       "      <td>54</td>\n",
       "      <td>Male</td>\n",
       "      <td>500</td>\n",
       "      <td>600.0</td>\n",
       "      <td>600.0</td>\n",
       "      <td>700</td>\n",
       "      <td>Graduate degree</td>\n",
       "      <td>Graduate degree</td>\n",
       "      <td>Detached House</td>\n",
       "      <td>Own</td>\n",
       "    </tr>\n",
       "    <tr>\n",
       "      <th>39</th>\n",
       "      <td>40</td>\n",
       "      <td>San Diego</td>\n",
       "      <td>Purchase</td>\n",
       "      <td>BEV</td>\n",
       "      <td>Tesla</td>\n",
       "      <td>2012</td>\n",
       "      <td>1</td>\n",
       "      <td>55-64</td>\n",
       "      <td>59.5</td>\n",
       "      <td>60</td>\n",
       "      <td>64</td>\n",
       "      <td>Male</td>\n",
       "      <td>500</td>\n",
       "      <td>600.0</td>\n",
       "      <td>600.0</td>\n",
       "      <td>700</td>\n",
       "      <td>Bachelor's degree</td>\n",
       "      <td>Bachelors degree</td>\n",
       "      <td>Detached House</td>\n",
       "      <td>Own</td>\n",
       "    </tr>\n",
       "    <tr>\n",
       "      <th>42</th>\n",
       "      <td>43</td>\n",
       "      <td>Santa Clara</td>\n",
       "      <td>Purchase</td>\n",
       "      <td>BEV</td>\n",
       "      <td>Tesla</td>\n",
       "      <td>2012</td>\n",
       "      <td>1</td>\n",
       "      <td>65+</td>\n",
       "      <td>70.0</td>\n",
       "      <td>70</td>\n",
       "      <td>70</td>\n",
       "      <td>Male</td>\n",
       "      <td>150</td>\n",
       "      <td>112.5</td>\n",
       "      <td>113.0</td>\n",
       "      <td>125</td>\n",
       "      <td>Bachelor's degree</td>\n",
       "      <td>Bachelors degree</td>\n",
       "      <td>Detached House</td>\n",
       "      <td>Own</td>\n",
       "    </tr>\n",
       "    <tr>\n",
       "      <th>63</th>\n",
       "      <td>64</td>\n",
       "      <td>Los Angeles</td>\n",
       "      <td>Purchase</td>\n",
       "      <td>BEV</td>\n",
       "      <td>Tesla</td>\n",
       "      <td>2012</td>\n",
       "      <td>1</td>\n",
       "      <td>35-44</td>\n",
       "      <td>39.5</td>\n",
       "      <td>40</td>\n",
       "      <td>44</td>\n",
       "      <td>Male</td>\n",
       "      <td>300</td>\n",
       "      <td>325.0</td>\n",
       "      <td>325.0</td>\n",
       "      <td>350</td>\n",
       "      <td>Bachelor's degree</td>\n",
       "      <td>Bachelors degree</td>\n",
       "      <td>Detached House</td>\n",
       "      <td>Own</td>\n",
       "    </tr>\n",
       "    <tr>\n",
       "      <th>...</th>\n",
       "      <td>...</td>\n",
       "      <td>...</td>\n",
       "      <td>...</td>\n",
       "      <td>...</td>\n",
       "      <td>...</td>\n",
       "      <td>...</td>\n",
       "      <td>...</td>\n",
       "      <td>...</td>\n",
       "      <td>...</td>\n",
       "      <td>...</td>\n",
       "      <td>...</td>\n",
       "      <td>...</td>\n",
       "      <td>...</td>\n",
       "      <td>...</td>\n",
       "      <td>...</td>\n",
       "      <td>...</td>\n",
       "      <td>...</td>\n",
       "      <td>...</td>\n",
       "      <td>...</td>\n",
       "      <td>...</td>\n",
       "    </tr>\n",
       "    <tr>\n",
       "      <th>8791</th>\n",
       "      <td>9015</td>\n",
       "      <td>San Diego</td>\n",
       "      <td>Purchase</td>\n",
       "      <td>BEV</td>\n",
       "      <td>Tesla</td>\n",
       "      <td>2015</td>\n",
       "      <td>1</td>\n",
       "      <td>65+</td>\n",
       "      <td>70.0</td>\n",
       "      <td>70</td>\n",
       "      <td>70</td>\n",
       "      <td>Male</td>\n",
       "      <td>125</td>\n",
       "      <td>137.5</td>\n",
       "      <td>138.0</td>\n",
       "      <td>150</td>\n",
       "      <td>Graduate degree</td>\n",
       "      <td>Graduate degree</td>\n",
       "      <td>Detached House</td>\n",
       "      <td>Own</td>\n",
       "    </tr>\n",
       "    <tr>\n",
       "      <th>8794</th>\n",
       "      <td>9018</td>\n",
       "      <td>Los Angeles</td>\n",
       "      <td>Lease</td>\n",
       "      <td>BEV</td>\n",
       "      <td>Tesla</td>\n",
       "      <td>2015</td>\n",
       "      <td>1</td>\n",
       "      <td>45-54</td>\n",
       "      <td>49.5</td>\n",
       "      <td>50</td>\n",
       "      <td>54</td>\n",
       "      <td>Male</td>\n",
       "      <td>500</td>\n",
       "      <td>600.0</td>\n",
       "      <td>600.0</td>\n",
       "      <td>700</td>\n",
       "      <td>Graduate degree</td>\n",
       "      <td>Graduate degree</td>\n",
       "      <td>Detached House</td>\n",
       "      <td>Own</td>\n",
       "    </tr>\n",
       "    <tr>\n",
       "      <th>8800</th>\n",
       "      <td>9024</td>\n",
       "      <td>Contra Costa</td>\n",
       "      <td>Lease</td>\n",
       "      <td>BEV</td>\n",
       "      <td>Tesla</td>\n",
       "      <td>2015</td>\n",
       "      <td>1</td>\n",
       "      <td>55-64</td>\n",
       "      <td>59.5</td>\n",
       "      <td>60</td>\n",
       "      <td>64</td>\n",
       "      <td>Male</td>\n",
       "      <td>500</td>\n",
       "      <td>600.0</td>\n",
       "      <td>600.0</td>\n",
       "      <td>700</td>\n",
       "      <td>Graduate degree</td>\n",
       "      <td>Graduate degree</td>\n",
       "      <td>Detached House</td>\n",
       "      <td>Own</td>\n",
       "    </tr>\n",
       "    <tr>\n",
       "      <th>8802</th>\n",
       "      <td>9027</td>\n",
       "      <td>Napa</td>\n",
       "      <td>Lease</td>\n",
       "      <td>BEV</td>\n",
       "      <td>Tesla</td>\n",
       "      <td>2015</td>\n",
       "      <td>1</td>\n",
       "      <td>55-64</td>\n",
       "      <td>59.5</td>\n",
       "      <td>60</td>\n",
       "      <td>64</td>\n",
       "      <td>Male</td>\n",
       "      <td>300</td>\n",
       "      <td>325.0</td>\n",
       "      <td>325.0</td>\n",
       "      <td>350</td>\n",
       "      <td>Bachelor's degree</td>\n",
       "      <td>Bachelors degree</td>\n",
       "      <td>Detached House</td>\n",
       "      <td>Own</td>\n",
       "    </tr>\n",
       "    <tr>\n",
       "      <th>8812</th>\n",
       "      <td>9037</td>\n",
       "      <td>Santa Clara</td>\n",
       "      <td>Purchase</td>\n",
       "      <td>BEV</td>\n",
       "      <td>Tesla</td>\n",
       "      <td>2015</td>\n",
       "      <td>1</td>\n",
       "      <td>55-64</td>\n",
       "      <td>59.5</td>\n",
       "      <td>60</td>\n",
       "      <td>64</td>\n",
       "      <td>Male</td>\n",
       "      <td>100</td>\n",
       "      <td>112.5</td>\n",
       "      <td>113.0</td>\n",
       "      <td>125</td>\n",
       "      <td>Graduate degree</td>\n",
       "      <td>Graduate degree</td>\n",
       "      <td>Detached House</td>\n",
       "      <td>Own</td>\n",
       "    </tr>\n",
       "  </tbody>\n",
       "</table>\n",
       "<p>2263 rows × 20 columns</p>\n",
       "</div>"
      ],
      "text/plain": [
       "      Unnamed: 0        County Lease_Purchase Vehicle Category   Make  \\\n",
       "11            12    Sacramento       Purchase              BEV  Tesla   \n",
       "13            14   Los Angeles       Purchase              BEV  Tesla   \n",
       "39            40     San Diego       Purchase              BEV  Tesla   \n",
       "42            43   Santa Clara       Purchase              BEV  Tesla   \n",
       "63            64   Los Angeles       Purchase              BEV  Tesla   \n",
       "...          ...           ...            ...              ...    ...   \n",
       "8791        9015     San Diego       Purchase              BEV  Tesla   \n",
       "8794        9018   Los Angeles          Lease              BEV  Tesla   \n",
       "8800        9024  Contra Costa          Lease              BEV  Tesla   \n",
       "8802        9027          Napa          Lease              BEV  Tesla   \n",
       "8812        9037   Santa Clara       Purchase              BEV  Tesla   \n",
       "\n",
       "      Purchase_Year  count Age_Group  Age_Mean  Age_Mean2  Age_Upper Gender  \\\n",
       "11             2012      1     45-54      49.5         50         54   Male   \n",
       "13             2012      1     45-54      49.5         50         54   Male   \n",
       "39             2012      1     55-64      59.5         60         64   Male   \n",
       "42             2012      1       65+      70.0         70         70   Male   \n",
       "63             2012      1     35-44      39.5         40         44   Male   \n",
       "...             ...    ...       ...       ...        ...        ...    ...   \n",
       "8791           2015      1       65+      70.0         70         70   Male   \n",
       "8794           2015      1     45-54      49.5         50         54   Male   \n",
       "8800           2015      1     55-64      59.5         60         64   Male   \n",
       "8802           2015      1     55-64      59.5         60         64   Male   \n",
       "8812           2015      1     55-64      59.5         60         64   Male   \n",
       "\n",
       "      Income_Lower  Income_Mean  Income_Mean2  Income_Upper  \\\n",
       "11             150        112.5         113.0           125   \n",
       "13             500        600.0         600.0           700   \n",
       "39             500        600.0         600.0           700   \n",
       "42             150        112.5         113.0           125   \n",
       "63             300        325.0         325.0           350   \n",
       "...            ...          ...           ...           ...   \n",
       "8791           125        137.5         138.0           150   \n",
       "8794           500        600.0         600.0           700   \n",
       "8800           500        600.0         600.0           700   \n",
       "8802           300        325.0         325.0           350   \n",
       "8812           100        112.5         113.0           125   \n",
       "\n",
       "              Education   Education_Group    Housing_Type Rent_Own  \n",
       "11    Bachelor's degree  Bachelors degree  Detached House      Own  \n",
       "13      Graduate degree   Graduate degree  Detached House      Own  \n",
       "39    Bachelor's degree  Bachelors degree  Detached House      Own  \n",
       "42    Bachelor's degree  Bachelors degree  Detached House      Own  \n",
       "63    Bachelor's degree  Bachelors degree  Detached House      Own  \n",
       "...                 ...               ...             ...      ...  \n",
       "8791    Graduate degree   Graduate degree  Detached House      Own  \n",
       "8794    Graduate degree   Graduate degree  Detached House      Own  \n",
       "8800    Graduate degree   Graduate degree  Detached House      Own  \n",
       "8802  Bachelor's degree  Bachelors degree  Detached House      Own  \n",
       "8812    Graduate degree   Graduate degree  Detached House      Own  \n",
       "\n",
       "[2263 rows x 20 columns]"
      ]
     },
     "execution_count": 19,
     "metadata": {},
     "output_type": "execute_result"
    }
   ],
   "source": [
    "#Creating demo_tesla because we need to filter data on the analysis\n",
    "demo_tesla=demo.loc[demo['Make']=='Tesla',:] \n",
    "demo_not_tesla=demo.loc[demo['Make']!='Tesla',:]\n",
    "demo_tesla\n",
    "#demo_not_tesla"
   ]
  },
  {
   "cell_type": "code",
   "execution_count": 20,
   "metadata": {},
   "outputs": [
    {
     "data": {
      "text/html": [
       "<div>\n",
       "<style scoped>\n",
       "    .dataframe tbody tr th:only-of-type {\n",
       "        vertical-align: middle;\n",
       "    }\n",
       "\n",
       "    .dataframe tbody tr th {\n",
       "        vertical-align: top;\n",
       "    }\n",
       "\n",
       "    .dataframe thead th {\n",
       "        text-align: right;\n",
       "    }\n",
       "</style>\n",
       "<table border=\"1\" class=\"dataframe\">\n",
       "  <thead>\n",
       "    <tr style=\"text-align: right;\">\n",
       "      <th></th>\n",
       "      <th>Unnamed: 0</th>\n",
       "      <th>Purchase_Year</th>\n",
       "      <th>count</th>\n",
       "      <th>Age_Mean</th>\n",
       "      <th>Age_Mean2</th>\n",
       "      <th>Age_Upper</th>\n",
       "      <th>Income_Lower</th>\n",
       "      <th>Income_Mean</th>\n",
       "      <th>Income_Mean2</th>\n",
       "      <th>Income_Upper</th>\n",
       "    </tr>\n",
       "  </thead>\n",
       "  <tbody>\n",
       "    <tr>\n",
       "      <th>count</th>\n",
       "      <td>2263.000000</td>\n",
       "      <td>2263.000000</td>\n",
       "      <td>2263.0</td>\n",
       "      <td>2263.000000</td>\n",
       "      <td>2263.000000</td>\n",
       "      <td>2263.000000</td>\n",
       "      <td>2263.000000</td>\n",
       "      <td>2195.000000</td>\n",
       "      <td>2195.000000</td>\n",
       "      <td>2263.000000</td>\n",
       "    </tr>\n",
       "    <tr>\n",
       "      <th>mean</th>\n",
       "      <td>3997.132125</td>\n",
       "      <td>2013.532479</td>\n",
       "      <td>1.0</td>\n",
       "      <td>52.696421</td>\n",
       "      <td>53.095890</td>\n",
       "      <td>56.299602</td>\n",
       "      <td>293.872735</td>\n",
       "      <td>329.650797</td>\n",
       "      <td>329.791800</td>\n",
       "      <td>374.911622</td>\n",
       "    </tr>\n",
       "    <tr>\n",
       "      <th>std</th>\n",
       "      <td>2754.762507</td>\n",
       "      <td>0.773501</td>\n",
       "      <td>0.0</td>\n",
       "      <td>11.872526</td>\n",
       "      <td>11.732281</td>\n",
       "      <td>10.654465</td>\n",
       "      <td>152.702263</td>\n",
       "      <td>186.405401</td>\n",
       "      <td>186.262635</td>\n",
       "      <td>218.214797</td>\n",
       "    </tr>\n",
       "    <tr>\n",
       "      <th>min</th>\n",
       "      <td>12.000000</td>\n",
       "      <td>2012.000000</td>\n",
       "      <td>1.0</td>\n",
       "      <td>21.000000</td>\n",
       "      <td>21.000000</td>\n",
       "      <td>24.000000</td>\n",
       "      <td>1.000000</td>\n",
       "      <td>13.000000</td>\n",
       "      <td>13.000000</td>\n",
       "      <td>25.000000</td>\n",
       "    </tr>\n",
       "    <tr>\n",
       "      <th>25%</th>\n",
       "      <td>1319.500000</td>\n",
       "      <td>2013.000000</td>\n",
       "      <td>1.0</td>\n",
       "      <td>39.500000</td>\n",
       "      <td>40.000000</td>\n",
       "      <td>44.000000</td>\n",
       "      <td>175.000000</td>\n",
       "      <td>162.500000</td>\n",
       "      <td>163.000000</td>\n",
       "      <td>200.000000</td>\n",
       "    </tr>\n",
       "    <tr>\n",
       "      <th>50%</th>\n",
       "      <td>3782.000000</td>\n",
       "      <td>2013.000000</td>\n",
       "      <td>1.0</td>\n",
       "      <td>49.500000</td>\n",
       "      <td>50.000000</td>\n",
       "      <td>54.000000</td>\n",
       "      <td>250.000000</td>\n",
       "      <td>275.000000</td>\n",
       "      <td>275.000000</td>\n",
       "      <td>300.000000</td>\n",
       "    </tr>\n",
       "    <tr>\n",
       "      <th>75%</th>\n",
       "      <td>6541.500000</td>\n",
       "      <td>2014.000000</td>\n",
       "      <td>1.0</td>\n",
       "      <td>59.500000</td>\n",
       "      <td>60.000000</td>\n",
       "      <td>64.000000</td>\n",
       "      <td>500.000000</td>\n",
       "      <td>600.000000</td>\n",
       "      <td>600.000000</td>\n",
       "      <td>700.000000</td>\n",
       "    </tr>\n",
       "    <tr>\n",
       "      <th>max</th>\n",
       "      <td>9037.000000</td>\n",
       "      <td>2015.000000</td>\n",
       "      <td>1.0</td>\n",
       "      <td>70.000000</td>\n",
       "      <td>70.000000</td>\n",
       "      <td>70.000000</td>\n",
       "      <td>500.000000</td>\n",
       "      <td>600.000000</td>\n",
       "      <td>600.000000</td>\n",
       "      <td>700.000000</td>\n",
       "    </tr>\n",
       "  </tbody>\n",
       "</table>\n",
       "</div>"
      ],
      "text/plain": [
       "        Unnamed: 0  Purchase_Year   count     Age_Mean    Age_Mean2  \\\n",
       "count  2263.000000    2263.000000  2263.0  2263.000000  2263.000000   \n",
       "mean   3997.132125    2013.532479     1.0    52.696421    53.095890   \n",
       "std    2754.762507       0.773501     0.0    11.872526    11.732281   \n",
       "min      12.000000    2012.000000     1.0    21.000000    21.000000   \n",
       "25%    1319.500000    2013.000000     1.0    39.500000    40.000000   \n",
       "50%    3782.000000    2013.000000     1.0    49.500000    50.000000   \n",
       "75%    6541.500000    2014.000000     1.0    59.500000    60.000000   \n",
       "max    9037.000000    2015.000000     1.0    70.000000    70.000000   \n",
       "\n",
       "         Age_Upper  Income_Lower  Income_Mean  Income_Mean2  Income_Upper  \n",
       "count  2263.000000   2263.000000  2195.000000   2195.000000   2263.000000  \n",
       "mean     56.299602    293.872735   329.650797    329.791800    374.911622  \n",
       "std      10.654465    152.702263   186.405401    186.262635    218.214797  \n",
       "min      24.000000      1.000000    13.000000     13.000000     25.000000  \n",
       "25%      44.000000    175.000000   162.500000    163.000000    200.000000  \n",
       "50%      54.000000    250.000000   275.000000    275.000000    300.000000  \n",
       "75%      64.000000    500.000000   600.000000    600.000000    700.000000  \n",
       "max      70.000000    500.000000   600.000000    600.000000    700.000000  "
      ]
     },
     "execution_count": 20,
     "metadata": {},
     "output_type": "execute_result"
    }
   ],
   "source": [
    "demo_tesla.describe()"
   ]
  },
  {
   "cell_type": "code",
   "execution_count": 21,
   "metadata": {},
   "outputs": [
    {
     "name": "stdout",
     "output_type": "stream",
     "text": [
      "Percentage of Male that bought EV car:  77.5334391294491 %\n"
     ]
    }
   ],
   "source": [
    "# Data from 2012-2015\n",
    "\n",
    "# % of Male that bought EV cars in the sample\n",
    "\n",
    "count_male = demo.loc[demo['Gender'] == 'Male', 'Unnamed: 0']\n",
    "perc_male = count_male.count()/len(demo)*100\n",
    "print(\"Percentage of Male that bought EV car: \", perc_male, \"%\") "
   ]
  },
  {
   "cell_type": "code",
   "execution_count": 22,
   "metadata": {},
   "outputs": [
    {
     "name": "stdout",
     "output_type": "stream",
     "text": [
      "Percentage of Purchase- EV car:  37.39514849240535 %\n"
     ]
    }
   ],
   "source": [
    "# % of purchase related to EV cars in the sample\n",
    "\n",
    "count_purchase = demo.loc[demo['Lease_Purchase'] == 'Purchase', 'count']\n",
    "perc_purchase = count_purchase.count()/len(demo)*100\n",
    "print(\"Percentage of Purchase- EV car: \", perc_purchase , \"%\") "
   ]
  },
  {
   "cell_type": "code",
   "execution_count": 23,
   "metadata": {},
   "outputs": [
    {
     "name": "stdout",
     "output_type": "stream",
     "text": [
      "Percentage of Male that bought Tesla car:  83.60583296509058 %\n"
     ]
    }
   ],
   "source": [
    "# Looking Tesla data, % of Male that bought Tesla cars (looking just people that bought Tesla)\n",
    " \n",
    "count_tesla_male = demo_tesla.loc[demo_tesla['Gender'] == 'Male', 'count']\n",
    "perc_tesla_male = count_tesla_male.count()/len(demo_tesla)*100\n",
    "print(\"Percentage of Male that bought Tesla car: \", perc_tesla_male , \"%\")    "
   ]
  },
  {
   "cell_type": "code",
   "execution_count": 24,
   "metadata": {},
   "outputs": [
    {
     "name": "stdout",
     "output_type": "stream",
     "text": [
      "Percentage of Purchase- Tesla car:  95.13919575784358 %\n"
     ]
    }
   ],
   "source": [
    "# Looking Tesla data, % of people that bought Tesla cars instead of lease it (looking just people that bought Tesla)\n",
    " \n",
    "count_tesla_purchase = demo_tesla.loc[demo_tesla['Lease_Purchase'] == 'Purchase', 'count']\n",
    "perc_tesla_purchase = count_tesla_purchase.count()/len(demo_tesla)*100\n",
    "print(\"Percentage of Purchase- Tesla car: \", perc_tesla_purchase , \"%\")"
   ]
  },
  {
   "cell_type": "markdown",
   "metadata": {},
   "source": [
    "Looking the data we verified that mens buys more electric vehicle than womens in California. For eletric vehicle that are not Tesla, people tend to lease it. For Tesla, we verified that males correspond to 95% of the buyings and they prefer purchase than lease it. "
   ]
  },
  {
   "cell_type": "code",
   "execution_count": 25,
   "metadata": {},
   "outputs": [
    {
     "data": {
      "image/png": "[encoded data removed]",
      "text/plain": [
       "<Figure size 1440x720 with 4 Axes>"
      ]
     },
     "metadata": {
      "needs_background": "light"
     },
     "output_type": "display_data"
    }
   ],
   "source": [
    "# construct the histogram for the predictors.\n",
    "\n",
    "#looking age and income associate with people that bought a electric vehicle different than Tesla\n",
    "demo_not_tesla[['Age_Upper','Income_Upper','Age_Mean','Income_Mean']].hist(figsize=(20,10))\n",
    "plt.show()\n"
   ]
  },
  {
   "cell_type": "code",
   "execution_count": 26,
   "metadata": {},
   "outputs": [
    {
     "data": {
      "image/png": "[encoded data removed]",
      "text/plain": [
       "<Figure size 1440x720 with 4 Axes>"
      ]
     },
     "metadata": {
      "needs_background": "light"
     },
     "output_type": "display_data"
    }
   ],
   "source": [
    "#looking age and income associate with people that bought Tesla car\n",
    "demo_tesla[['Age_Upper','Income_Upper','Age_Mean','Income_Mean']].hist(figsize=(20,10))\n",
    "plt.show()"
   ]
  },
  {
   "cell_type": "markdown",
   "metadata": {},
   "source": [
    "We could verify from the plots above and looking the statistics of the sample that people that bought tesla car have higher income comparing with people that bought other electric vehicle. "
   ]
  },
  {
   "cell_type": "code",
   "execution_count": null,
   "metadata": {},
   "outputs": [],
   "source": []
  },
  {
   "cell_type": "markdown",
   "metadata": {},
   "source": [
    "\n",
    "The following analysis is looking to obtain information about the consumer of Tesla vehicle. \n",
    "\n",
    "About the data: demographic data of electric vehicle consumer in California.\n",
    "\n",
    "The information available is related to the age, gender, income, if they lease or purchased the vehicle, their education level, their housing type and if they rent or own their house.\n",
    "\n",
    "In this analysis we would have 11 predictors and before running the logistic regression we decided to apply Lasso to check if we need to consider all those variables. If some variables are not contributing to our model, we can improve prediction accuracy and model interpretability by removing it from the model. "
   ]
  },
  {
   "cell_type": "code",
   "execution_count": 27,
   "metadata": {},
   "outputs": [
    {
     "data": {
      "text/html": [
       "<div>\n",
       "<style scoped>\n",
       "    .dataframe tbody tr th:only-of-type {\n",
       "        vertical-align: middle;\n",
       "    }\n",
       "\n",
       "    .dataframe tbody tr th {\n",
       "        vertical-align: top;\n",
       "    }\n",
       "\n",
       "    .dataframe thead th {\n",
       "        text-align: right;\n",
       "    }\n",
       "</style>\n",
       "<table border=\"1\" class=\"dataframe\">\n",
       "  <thead>\n",
       "    <tr style=\"text-align: right;\">\n",
       "      <th></th>\n",
       "      <th>Unnamed: 0</th>\n",
       "      <th>County</th>\n",
       "      <th>Lease_Purchase</th>\n",
       "      <th>Vehicle Category</th>\n",
       "      <th>Make</th>\n",
       "      <th>Purchase_Year</th>\n",
       "      <th>count</th>\n",
       "      <th>Age_Group</th>\n",
       "      <th>Age_Mean</th>\n",
       "      <th>Age_Mean2</th>\n",
       "      <th>...</th>\n",
       "      <th>purchase_dummy</th>\n",
       "      <th>male_dummy</th>\n",
       "      <th>bachelor_dummy</th>\n",
       "      <th>graduate_dummy</th>\n",
       "      <th>associate_some_collegue_dummy</th>\n",
       "      <th>Detached_House_dummy</th>\n",
       "      <th>Apartment_Condominium_dummy</th>\n",
       "      <th>Attached_house_dummy</th>\n",
       "      <th>Rent_dummy</th>\n",
       "      <th>Tesla_yes_dummy</th>\n",
       "    </tr>\n",
       "  </thead>\n",
       "  <tbody>\n",
       "    <tr>\n",
       "      <th>0</th>\n",
       "      <td>1</td>\n",
       "      <td>Los Angeles</td>\n",
       "      <td>Purchase</td>\n",
       "      <td>BEV</td>\n",
       "      <td>Nissan</td>\n",
       "      <td>2012</td>\n",
       "      <td>0</td>\n",
       "      <td>45-54</td>\n",
       "      <td>49.5</td>\n",
       "      <td>50</td>\n",
       "      <td>...</td>\n",
       "      <td>1</td>\n",
       "      <td>1</td>\n",
       "      <td>1</td>\n",
       "      <td>0</td>\n",
       "      <td>0</td>\n",
       "      <td>1</td>\n",
       "      <td>0</td>\n",
       "      <td>0</td>\n",
       "      <td>0</td>\n",
       "      <td>0</td>\n",
       "    </tr>\n",
       "    <tr>\n",
       "      <th>1</th>\n",
       "      <td>2</td>\n",
       "      <td>Sonoma</td>\n",
       "      <td>Purchase</td>\n",
       "      <td>BEV</td>\n",
       "      <td>Nissan</td>\n",
       "      <td>2012</td>\n",
       "      <td>0</td>\n",
       "      <td>45-54</td>\n",
       "      <td>49.5</td>\n",
       "      <td>50</td>\n",
       "      <td>...</td>\n",
       "      <td>1</td>\n",
       "      <td>0</td>\n",
       "      <td>0</td>\n",
       "      <td>1</td>\n",
       "      <td>0</td>\n",
       "      <td>1</td>\n",
       "      <td>0</td>\n",
       "      <td>0</td>\n",
       "      <td>0</td>\n",
       "      <td>0</td>\n",
       "    </tr>\n",
       "    <tr>\n",
       "      <th>2</th>\n",
       "      <td>3</td>\n",
       "      <td>Santa Clara</td>\n",
       "      <td>Lease</td>\n",
       "      <td>BEV</td>\n",
       "      <td>Nissan</td>\n",
       "      <td>2012</td>\n",
       "      <td>0</td>\n",
       "      <td>45-54</td>\n",
       "      <td>49.5</td>\n",
       "      <td>50</td>\n",
       "      <td>...</td>\n",
       "      <td>0</td>\n",
       "      <td>1</td>\n",
       "      <td>0</td>\n",
       "      <td>1</td>\n",
       "      <td>0</td>\n",
       "      <td>1</td>\n",
       "      <td>0</td>\n",
       "      <td>0</td>\n",
       "      <td>0</td>\n",
       "      <td>0</td>\n",
       "    </tr>\n",
       "    <tr>\n",
       "      <th>3</th>\n",
       "      <td>4</td>\n",
       "      <td>Orange</td>\n",
       "      <td>Lease</td>\n",
       "      <td>BEV</td>\n",
       "      <td>Nissan</td>\n",
       "      <td>2012</td>\n",
       "      <td>0</td>\n",
       "      <td>55-64</td>\n",
       "      <td>59.5</td>\n",
       "      <td>60</td>\n",
       "      <td>...</td>\n",
       "      <td>0</td>\n",
       "      <td>1</td>\n",
       "      <td>0</td>\n",
       "      <td>0</td>\n",
       "      <td>1</td>\n",
       "      <td>1</td>\n",
       "      <td>0</td>\n",
       "      <td>0</td>\n",
       "      <td>0</td>\n",
       "      <td>0</td>\n",
       "    </tr>\n",
       "    <tr>\n",
       "      <th>4</th>\n",
       "      <td>5</td>\n",
       "      <td>San Mateo</td>\n",
       "      <td>Lease</td>\n",
       "      <td>BEV</td>\n",
       "      <td>Nissan</td>\n",
       "      <td>2012</td>\n",
       "      <td>0</td>\n",
       "      <td>25-34</td>\n",
       "      <td>29.5</td>\n",
       "      <td>30</td>\n",
       "      <td>...</td>\n",
       "      <td>0</td>\n",
       "      <td>1</td>\n",
       "      <td>1</td>\n",
       "      <td>0</td>\n",
       "      <td>0</td>\n",
       "      <td>0</td>\n",
       "      <td>1</td>\n",
       "      <td>0</td>\n",
       "      <td>1</td>\n",
       "      <td>0</td>\n",
       "    </tr>\n",
       "    <tr>\n",
       "      <th>...</th>\n",
       "      <td>...</td>\n",
       "      <td>...</td>\n",
       "      <td>...</td>\n",
       "      <td>...</td>\n",
       "      <td>...</td>\n",
       "      <td>...</td>\n",
       "      <td>...</td>\n",
       "      <td>...</td>\n",
       "      <td>...</td>\n",
       "      <td>...</td>\n",
       "      <td>...</td>\n",
       "      <td>...</td>\n",
       "      <td>...</td>\n",
       "      <td>...</td>\n",
       "      <td>...</td>\n",
       "      <td>...</td>\n",
       "      <td>...</td>\n",
       "      <td>...</td>\n",
       "      <td>...</td>\n",
       "      <td>...</td>\n",
       "      <td>...</td>\n",
       "    </tr>\n",
       "    <tr>\n",
       "      <th>8817</th>\n",
       "      <td>9044</td>\n",
       "      <td>San Joaquin</td>\n",
       "      <td>Lease</td>\n",
       "      <td>BEV</td>\n",
       "      <td>Chevrolet</td>\n",
       "      <td>2015</td>\n",
       "      <td>0</td>\n",
       "      <td>65+</td>\n",
       "      <td>70.0</td>\n",
       "      <td>70</td>\n",
       "      <td>...</td>\n",
       "      <td>0</td>\n",
       "      <td>1</td>\n",
       "      <td>1</td>\n",
       "      <td>0</td>\n",
       "      <td>0</td>\n",
       "      <td>1</td>\n",
       "      <td>0</td>\n",
       "      <td>0</td>\n",
       "      <td>0</td>\n",
       "      <td>0</td>\n",
       "    </tr>\n",
       "    <tr>\n",
       "      <th>8818</th>\n",
       "      <td>9046</td>\n",
       "      <td>Los Angeles</td>\n",
       "      <td>Lease</td>\n",
       "      <td>BEV</td>\n",
       "      <td>Chevrolet</td>\n",
       "      <td>2015</td>\n",
       "      <td>0</td>\n",
       "      <td>45-54</td>\n",
       "      <td>49.5</td>\n",
       "      <td>50</td>\n",
       "      <td>...</td>\n",
       "      <td>0</td>\n",
       "      <td>1</td>\n",
       "      <td>0</td>\n",
       "      <td>0</td>\n",
       "      <td>1</td>\n",
       "      <td>1</td>\n",
       "      <td>0</td>\n",
       "      <td>0</td>\n",
       "      <td>0</td>\n",
       "      <td>0</td>\n",
       "    </tr>\n",
       "    <tr>\n",
       "      <th>8819</th>\n",
       "      <td>9047</td>\n",
       "      <td>Orange</td>\n",
       "      <td>Purchase</td>\n",
       "      <td>BEV</td>\n",
       "      <td>Kia</td>\n",
       "      <td>2014</td>\n",
       "      <td>0</td>\n",
       "      <td>65+</td>\n",
       "      <td>70.0</td>\n",
       "      <td>70</td>\n",
       "      <td>...</td>\n",
       "      <td>1</td>\n",
       "      <td>1</td>\n",
       "      <td>1</td>\n",
       "      <td>0</td>\n",
       "      <td>0</td>\n",
       "      <td>1</td>\n",
       "      <td>0</td>\n",
       "      <td>0</td>\n",
       "      <td>0</td>\n",
       "      <td>0</td>\n",
       "    </tr>\n",
       "    <tr>\n",
       "      <th>8820</th>\n",
       "      <td>9048</td>\n",
       "      <td>Los Angeles</td>\n",
       "      <td>Lease</td>\n",
       "      <td>BEV</td>\n",
       "      <td>Mercedes-Benz</td>\n",
       "      <td>2015</td>\n",
       "      <td>0</td>\n",
       "      <td>35-44</td>\n",
       "      <td>39.5</td>\n",
       "      <td>40</td>\n",
       "      <td>...</td>\n",
       "      <td>0</td>\n",
       "      <td>1</td>\n",
       "      <td>0</td>\n",
       "      <td>0</td>\n",
       "      <td>1</td>\n",
       "      <td>1</td>\n",
       "      <td>0</td>\n",
       "      <td>0</td>\n",
       "      <td>0</td>\n",
       "      <td>0</td>\n",
       "    </tr>\n",
       "    <tr>\n",
       "      <th>8821</th>\n",
       "      <td>9049</td>\n",
       "      <td>Los Angeles</td>\n",
       "      <td>Lease</td>\n",
       "      <td>BEV</td>\n",
       "      <td>Volkswagen</td>\n",
       "      <td>2015</td>\n",
       "      <td>0</td>\n",
       "      <td>55-64</td>\n",
       "      <td>59.5</td>\n",
       "      <td>60</td>\n",
       "      <td>...</td>\n",
       "      <td>0</td>\n",
       "      <td>0</td>\n",
       "      <td>1</td>\n",
       "      <td>0</td>\n",
       "      <td>0</td>\n",
       "      <td>1</td>\n",
       "      <td>0</td>\n",
       "      <td>0</td>\n",
       "      <td>0</td>\n",
       "      <td>0</td>\n",
       "    </tr>\n",
       "  </tbody>\n",
       "</table>\n",
       "<p>8822 rows × 30 columns</p>\n",
       "</div>"
      ],
      "text/plain": [
       "      Unnamed: 0       County Lease_Purchase Vehicle Category           Make  \\\n",
       "0              1  Los Angeles       Purchase              BEV         Nissan   \n",
       "1              2       Sonoma       Purchase              BEV         Nissan   \n",
       "2              3  Santa Clara          Lease              BEV         Nissan   \n",
       "3              4       Orange          Lease              BEV         Nissan   \n",
       "4              5    San Mateo          Lease              BEV         Nissan   \n",
       "...          ...          ...            ...              ...            ...   \n",
       "8817        9044  San Joaquin          Lease              BEV      Chevrolet   \n",
       "8818        9046  Los Angeles          Lease              BEV      Chevrolet   \n",
       "8819        9047       Orange       Purchase              BEV            Kia   \n",
       "8820        9048  Los Angeles          Lease              BEV  Mercedes-Benz   \n",
       "8821        9049  Los Angeles          Lease              BEV     Volkswagen   \n",
       "\n",
       "      Purchase_Year  count Age_Group  Age_Mean  Age_Mean2  ...  \\\n",
       "0              2012      0     45-54      49.5         50  ...   \n",
       "1              2012      0     45-54      49.5         50  ...   \n",
       "2              2012      0     45-54      49.5         50  ...   \n",
       "3              2012      0     55-64      59.5         60  ...   \n",
       "4              2012      0     25-34      29.5         30  ...   \n",
       "...             ...    ...       ...       ...        ...  ...   \n",
       "8817           2015      0       65+      70.0         70  ...   \n",
       "8818           2015      0     45-54      49.5         50  ...   \n",
       "8819           2014      0       65+      70.0         70  ...   \n",
       "8820           2015      0     35-44      39.5         40  ...   \n",
       "8821           2015      0     55-64      59.5         60  ...   \n",
       "\n",
       "      purchase_dummy male_dummy  bachelor_dummy  graduate_dummy  \\\n",
       "0                  1          1               1               0   \n",
       "1                  1          0               0               1   \n",
       "2                  0          1               0               1   \n",
       "3                  0          1               0               0   \n",
       "4                  0          1               1               0   \n",
       "...              ...        ...             ...             ...   \n",
       "8817               0          1               1               0   \n",
       "8818               0          1               0               0   \n",
       "8819               1          1               1               0   \n",
       "8820               0          1               0               0   \n",
       "8821               0          0               1               0   \n",
       "\n",
       "      associate_some_collegue_dummy  Detached_House_dummy  \\\n",
       "0                                 0                     1   \n",
       "1                                 0                     1   \n",
       "2                                 0                     1   \n",
       "3                                 1                     1   \n",
       "4                                 0                     0   \n",
       "...                             ...                   ...   \n",
       "8817                              0                     1   \n",
       "8818                              1                     1   \n",
       "8819                              0                     1   \n",
       "8820                              1                     1   \n",
       "8821                              0                     1   \n",
       "\n",
       "     Apartment_Condominium_dummy Attached_house_dummy Rent_dummy  \\\n",
       "0                              0                    0          0   \n",
       "1                              0                    0          0   \n",
       "2                              0                    0          0   \n",
       "3                              0                    0          0   \n",
       "4                              1                    0          1   \n",
       "...                          ...                  ...        ...   \n",
       "8817                           0                    0          0   \n",
       "8818                           0                    0          0   \n",
       "8819                           0                    0          0   \n",
       "8820                           0                    0          0   \n",
       "8821                           0                    0          0   \n",
       "\n",
       "     Tesla_yes_dummy  \n",
       "0                  0  \n",
       "1                  0  \n",
       "2                  0  \n",
       "3                  0  \n",
       "4                  0  \n",
       "...              ...  \n",
       "8817               0  \n",
       "8818               0  \n",
       "8819               0  \n",
       "8820               0  \n",
       "8821               0  \n",
       "\n",
       "[8822 rows x 30 columns]"
      ]
     },
     "execution_count": 27,
     "metadata": {},
     "output_type": "execute_result"
    }
   ],
   "source": [
    "# creating the dummy variable\n",
    "\n",
    "# creating dummy variable for purchase_lease\n",
    "demo['purchase_dummy']=demo['Lease_Purchase'].apply(lambda x: 1 if x=='Purchase' else 0)\n",
    "\n",
    "# creating dummy variable for gender\n",
    "demo['male_dummy']=demo['Gender'].apply(lambda x: 1 if x=='Male' else 0)\n",
    "\n",
    "# creating dummy variable for education\n",
    "demo['bachelor_dummy']=demo['Education_Group'].apply(lambda x: 1 if x=='Bachelors degree' else 0)\n",
    "demo['graduate_dummy']=demo['Education_Group'].apply(lambda x: 1 if x=='Graduate degree' else 0)\n",
    "demo['associate_some_collegue_dummy']=demo['Education_Group'].apply(lambda x: 1 if x=='Associates degree/Some college' else 0)\n",
    "\n",
    "\n",
    "# creating dummy variable for housing\n",
    "demo['Detached_House_dummy']=demo['Housing_Type'].apply(lambda x: 1 if x=='Detached House' else 0)\n",
    "demo['Apartment_Condominium_dummy']=demo['Housing_Type'].apply(lambda x: 1 if x=='Apartment/Condominium' else 0)\n",
    "demo['Attached_house_dummy']=demo['Housing_Type'].apply(lambda x: 1 if x=='Attached_house_townhome_duplex_triplex' else 0)\n",
    "\n",
    "\n",
    "# creating dummy variable for rent/own house\n",
    "demo['Rent_dummy']=demo['Rent_Own'].apply(lambda x: 1 if x=='Rent' else 0)\n",
    "\n",
    "# creating dummy variable for Tesla\n",
    "demo['Tesla_yes_dummy']=demo['Make'].apply(lambda x: 1 if x=='Tesla' else 0)\n",
    "demo"
   ]
  },
  {
   "cell_type": "code",
   "execution_count": 28,
   "metadata": {},
   "outputs": [
    {
     "data": {
      "image/png": "[encoded data removed]",
      "text/plain": [
       "<Figure size 360x360 with 1 Axes>"
      ]
     },
     "metadata": {
      "needs_background": "light"
     },
     "output_type": "display_data"
    }
   ],
   "source": [
    "# ploting income for telsa consumer and other eletric vehicle consumer. \n",
    "\n",
    "import seaborn as sns\n",
    "import matplotlib.pyplot as plt\n",
    "plt.figure(figsize=(5,5))\n",
    "\n",
    "ax = sns.boxplot(x=\"Tesla_yes_dummy\", y=\"Income_Upper\", data=demo, palette=\"Set1\") \n",
    "\n",
    "# Tesla:1  Other:0"
   ]
  },
  {
   "cell_type": "code",
   "execution_count": 29,
   "metadata": {},
   "outputs": [],
   "source": [
    "y = demo.Tesla_yes_dummy # what we want to predict\n",
    "\n",
    "X = demo[[\"Age_Upper\",\"Income_Upper\",\"male_dummy\",\"purchase_dummy\",\"bachelor_dummy\",\"graduate_dummy\",\"associate_some_collegue_dummy\",\"Detached_House_dummy\",\"Apartment_Condominium_dummy\",\"Attached_house_dummy\",\"Rent_dummy\"]]\n",
    "#X = demo[[\"Age_Upper\",\"Income_Upper\",\"male_dummy\",\"purchase_dummy\"]]"
   ]
  },
  {
   "cell_type": "code",
   "execution_count": 30,
   "metadata": {},
   "outputs": [
    {
     "data": {
      "text/plain": [
       "array([5.12131106e-06, 1.49984998e-05, 4.39252749e-05, 1.28641518e-04,\n",
       "       3.76745281e-04, 1.10335302e-03, 3.23132882e-03, 9.46341360e-03,\n",
       "       2.77149748e-02, 8.11673103e-02, 2.37710202e-01, 6.96168691e-01,\n",
       "       2.03883065e+00, 5.97101031e+00, 1.74869669e+01, 5.12131106e+01])"
      ]
     },
     "execution_count": 30,
     "metadata": {},
     "output_type": "execute_result"
    }
   ],
   "source": [
    "# Creating the Tuning Paramter (C=1/λ)\n",
    "cs = l1_min_c(X, y, loss='log') * np.logspace(0, 7, 16)\n",
    "cs"
   ]
  },
  {
   "cell_type": "code",
   "execution_count": 31,
   "metadata": {},
   "outputs": [
    {
     "name": "stderr",
     "output_type": "stream",
     "text": [
      "C:\\Users\\akint\\anaconda3\\lib\\site-packages\\sklearn\\linear_model\\_logistic.py:762: ConvergenceWarning: lbfgs failed to converge (status=1):\n",
      "STOP: TOTAL NO. of ITERATIONS REACHED LIMIT.\n",
      "\n",
      "Increase the number of iterations (max_iter) or scale the data as shown in:\n",
      "    https://scikit-learn.org/stable/modules/preprocessing.html\n",
      "Please also refer to the documentation for alternative solver options:\n",
      "    https://scikit-learn.org/stable/modules/linear_model.html#logistic-regression\n",
      "  n_iter_i = _check_optimize_result(\n",
      "C:\\Users\\akint\\anaconda3\\lib\\site-packages\\sklearn\\linear_model\\_logistic.py:762: ConvergenceWarning: lbfgs failed to converge (status=1):\n",
      "STOP: TOTAL NO. of ITERATIONS REACHED LIMIT.\n",
      "\n",
      "Increase the number of iterations (max_iter) or scale the data as shown in:\n",
      "    https://scikit-learn.org/stable/modules/preprocessing.html\n",
      "Please also refer to the documentation for alternative solver options:\n",
      "    https://scikit-learn.org/stable/modules/linear_model.html#logistic-regression\n",
      "  n_iter_i = _check_optimize_result(\n",
      "C:\\Users\\akint\\anaconda3\\lib\\site-packages\\sklearn\\linear_model\\_logistic.py:762: ConvergenceWarning: lbfgs failed to converge (status=1):\n",
      "STOP: TOTAL NO. of ITERATIONS REACHED LIMIT.\n",
      "\n",
      "Increase the number of iterations (max_iter) or scale the data as shown in:\n",
      "    https://scikit-learn.org/stable/modules/preprocessing.html\n",
      "Please also refer to the documentation for alternative solver options:\n",
      "    https://scikit-learn.org/stable/modules/linear_model.html#logistic-regression\n",
      "  n_iter_i = _check_optimize_result(\n",
      "C:\\Users\\akint\\anaconda3\\lib\\site-packages\\sklearn\\linear_model\\_logistic.py:762: ConvergenceWarning: lbfgs failed to converge (status=1):\n",
      "STOP: TOTAL NO. of ITERATIONS REACHED LIMIT.\n",
      "\n",
      "Increase the number of iterations (max_iter) or scale the data as shown in:\n",
      "    https://scikit-learn.org/stable/modules/preprocessing.html\n",
      "Please also refer to the documentation for alternative solver options:\n",
      "    https://scikit-learn.org/stable/modules/linear_model.html#logistic-regression\n",
      "  n_iter_i = _check_optimize_result(\n",
      "C:\\Users\\akint\\anaconda3\\lib\\site-packages\\sklearn\\linear_model\\_logistic.py:762: ConvergenceWarning: lbfgs failed to converge (status=1):\n",
      "STOP: TOTAL NO. of ITERATIONS REACHED LIMIT.\n",
      "\n",
      "Increase the number of iterations (max_iter) or scale the data as shown in:\n",
      "    https://scikit-learn.org/stable/modules/preprocessing.html\n",
      "Please also refer to the documentation for alternative solver options:\n",
      "    https://scikit-learn.org/stable/modules/linear_model.html#logistic-regression\n",
      "  n_iter_i = _check_optimize_result(\n",
      "C:\\Users\\akint\\anaconda3\\lib\\site-packages\\sklearn\\linear_model\\_logistic.py:762: ConvergenceWarning: lbfgs failed to converge (status=1):\n",
      "STOP: TOTAL NO. of ITERATIONS REACHED LIMIT.\n",
      "\n",
      "Increase the number of iterations (max_iter) or scale the data as shown in:\n",
      "    https://scikit-learn.org/stable/modules/preprocessing.html\n",
      "Please also refer to the documentation for alternative solver options:\n",
      "    https://scikit-learn.org/stable/modules/linear_model.html#logistic-regression\n",
      "  n_iter_i = _check_optimize_result(\n",
      "C:\\Users\\akint\\anaconda3\\lib\\site-packages\\sklearn\\linear_model\\_logistic.py:762: ConvergenceWarning: lbfgs failed to converge (status=1):\n",
      "STOP: TOTAL NO. of ITERATIONS REACHED LIMIT.\n",
      "\n",
      "Increase the number of iterations (max_iter) or scale the data as shown in:\n",
      "    https://scikit-learn.org/stable/modules/preprocessing.html\n",
      "Please also refer to the documentation for alternative solver options:\n",
      "    https://scikit-learn.org/stable/modules/linear_model.html#logistic-regression\n",
      "  n_iter_i = _check_optimize_result(\n",
      "C:\\Users\\akint\\anaconda3\\lib\\site-packages\\sklearn\\linear_model\\_logistic.py:762: ConvergenceWarning: lbfgs failed to converge (status=1):\n",
      "STOP: TOTAL NO. of ITERATIONS REACHED LIMIT.\n",
      "\n",
      "Increase the number of iterations (max_iter) or scale the data as shown in:\n",
      "    https://scikit-learn.org/stable/modules/preprocessing.html\n",
      "Please also refer to the documentation for alternative solver options:\n",
      "    https://scikit-learn.org/stable/modules/linear_model.html#logistic-regression\n",
      "  n_iter_i = _check_optimize_result(\n",
      "C:\\Users\\akint\\anaconda3\\lib\\site-packages\\sklearn\\linear_model\\_logistic.py:762: ConvergenceWarning: lbfgs failed to converge (status=1):\n",
      "STOP: TOTAL NO. of ITERATIONS REACHED LIMIT.\n",
      "\n",
      "Increase the number of iterations (max_iter) or scale the data as shown in:\n",
      "    https://scikit-learn.org/stable/modules/preprocessing.html\n",
      "Please also refer to the documentation for alternative solver options:\n",
      "    https://scikit-learn.org/stable/modules/linear_model.html#logistic-regression\n",
      "  n_iter_i = _check_optimize_result(\n",
      "C:\\Users\\akint\\anaconda3\\lib\\site-packages\\sklearn\\linear_model\\_logistic.py:762: ConvergenceWarning: lbfgs failed to converge (status=1):\n",
      "STOP: TOTAL NO. of ITERATIONS REACHED LIMIT.\n",
      "\n",
      "Increase the number of iterations (max_iter) or scale the data as shown in:\n",
      "    https://scikit-learn.org/stable/modules/preprocessing.html\n",
      "Please also refer to the documentation for alternative solver options:\n",
      "    https://scikit-learn.org/stable/modules/linear_model.html#logistic-regression\n",
      "  n_iter_i = _check_optimize_result(\n",
      "C:\\Users\\akint\\anaconda3\\lib\\site-packages\\sklearn\\linear_model\\_logistic.py:762: ConvergenceWarning: lbfgs failed to converge (status=1):\n",
      "STOP: TOTAL NO. of ITERATIONS REACHED LIMIT.\n",
      "\n",
      "Increase the number of iterations (max_iter) or scale the data as shown in:\n",
      "    https://scikit-learn.org/stable/modules/preprocessing.html\n",
      "Please also refer to the documentation for alternative solver options:\n",
      "    https://scikit-learn.org/stable/modules/linear_model.html#logistic-regression\n",
      "  n_iter_i = _check_optimize_result(\n"
     ]
    },
    {
     "data": {
      "text/plain": [
       "0.8856268419859442"
      ]
     },
     "execution_count": 31,
     "metadata": {},
     "output_type": "execute_result"
    }
   ],
   "source": [
    "#Associating each C to a Lasso coefficient\n",
    "from sklearn.linear_model import LogisticRegressionCV\n",
    "clf = LogisticRegressionCV(cv=5, random_state=0).fit(X, y)\n",
    "y_pred=clf.predict(X)\n",
    "y_pred_proba=clf.predict_proba(X)\n",
    "clf.score(X, y)\n"
   ]
  },
  {
   "cell_type": "code",
   "execution_count": 32,
   "metadata": {},
   "outputs": [
    {
     "data": {
      "text/plain": [
       "array([[0.57552631, 0.42447369],\n",
       "       [0.55873229, 0.44126771],\n",
       "       [0.96586855, 0.03413145],\n",
       "       ...,\n",
       "       [0.25388835, 0.74611165],\n",
       "       [0.98289558, 0.01710442],\n",
       "       [0.97136715, 0.02863285]])"
      ]
     },
     "execution_count": 32,
     "metadata": {},
     "output_type": "execute_result"
    }
   ],
   "source": [
    "y_pred_proba"
   ]
  },
  {
   "cell_type": "code",
   "execution_count": 33,
   "metadata": {},
   "outputs": [
    {
     "data": {
      "text/plain": [
       "array([[ 0.03388233,  0.00560199,  0.29589901,  3.68278819,  0.09072388,\n",
       "        -0.10515977, -0.05454509, -0.03893294,  0.15370972, -0.13537353,\n",
       "         0.03847332]])"
      ]
     },
     "execution_count": 33,
     "metadata": {},
     "output_type": "execute_result"
    }
   ],
   "source": [
    "np.shape(clf.coef_)\n",
    "clf.coef_"
   ]
  },
  {
   "cell_type": "code",
   "execution_count": 34,
   "metadata": {},
   "outputs": [
    {
     "data": {
      "text/plain": [
       "<matplotlib.axes._subplots.AxesSubplot at 0x1bdf2a9ebe0>"
      ]
     },
     "execution_count": 34,
     "metadata": {},
     "output_type": "execute_result"
    },
    {
     "data": {
      "image/png": "[encoded data removed]",
      "text/plain": [
       "<Figure size 432x288 with 1 Axes>"
      ]
     },
     "metadata": {
      "needs_background": "light"
     },
     "output_type": "display_data"
    }
   ],
   "source": [
    "coefs1 = clf.coef_\n",
    "coefs1_series = pd.Series(coefs1.ravel())\n",
    "coefs1_series.sort_values().plot(kind=\"barh\")"
   ]
  },
  {
   "cell_type": "code",
   "execution_count": 35,
   "metadata": {},
   "outputs": [
    {
     "data": {
      "text/plain": [
       "0     0.033882\n",
       "1     0.005602\n",
       "2     0.295899\n",
       "3     3.682788\n",
       "4     0.090724\n",
       "5    -0.105160\n",
       "6    -0.054545\n",
       "7    -0.038933\n",
       "8     0.153710\n",
       "9    -0.135374\n",
       "10    0.038473\n",
       "dtype: float64"
      ]
     },
     "execution_count": 35,
     "metadata": {},
     "output_type": "execute_result"
    }
   ],
   "source": [
    "coefs1_series"
   ]
  },
  {
   "cell_type": "markdown",
   "metadata": {},
   "source": [
    "Results:\n",
    "Since none of the coeficients resulted from Lasso model were zero, we will perform the logistic regression with all the 11 predictors."
   ]
  },
  {
   "cell_type": "code",
   "execution_count": null,
   "metadata": {},
   "outputs": [],
   "source": []
  },
  {
   "cell_type": "markdown",
   "metadata": {},
   "source": [
    "The objective of the logistic regression is to verify whether an individual that buys electric vehicle will buy a Tesla car or not. \n",
    "\n",
    "Null hypothesis: probability of buying a Tesla car does not depend on the predictors. "
   ]
  },
  {
   "cell_type": "code",
   "execution_count": 36,
   "metadata": {},
   "outputs": [
    {
     "name": "stdout",
     "output_type": "stream",
     "text": [
      "Optimization terminated successfully.\n",
      "         Current function value: 0.250041\n",
      "         Iterations 8\n"
     ]
    },
    {
     "data": {
      "text/html": [
       "<table class=\"simpletable\">\n",
       "<caption>Logit Regression Results</caption>\n",
       "<tr>\n",
       "  <th>Dep. Variable:</th>           <td>y</td>        <th>  No. Observations:  </th>  <td>  8822</td> \n",
       "</tr>\n",
       "<tr>\n",
       "  <th>Model:</th>                 <td>Logit</td>      <th>  Df Residuals:      </th>  <td>  8810</td> \n",
       "</tr>\n",
       "<tr>\n",
       "  <th>Method:</th>                 <td>MLE</td>       <th>  Df Model:          </th>  <td>    11</td> \n",
       "</tr>\n",
       "<tr>\n",
       "  <th>Date:</th>            <td>Sat, 05 Dec 2020</td> <th>  Pseudo R-squ.:     </th>  <td>0.5609</td> \n",
       "</tr>\n",
       "<tr>\n",
       "  <th>Time:</th>                <td>00:12:38</td>     <th>  Log-Likelihood:    </th> <td> -2205.9</td>\n",
       "</tr>\n",
       "<tr>\n",
       "  <th>converged:</th>             <td>True</td>       <th>  LL-Null:           </th> <td> -5023.1</td>\n",
       "</tr>\n",
       "<tr>\n",
       "  <th>Covariance Type:</th>     <td>nonrobust</td>    <th>  LLR p-value:       </th>  <td> 0.000</td> \n",
       "</tr>\n",
       "</table>\n",
       "<table class=\"simpletable\">\n",
       "<tr>\n",
       "                <td></td>                   <th>coef</th>     <th>std err</th>      <th>z</th>      <th>P>|z|</th>  <th>[0.025</th>    <th>0.975]</th>  \n",
       "</tr>\n",
       "<tr>\n",
       "  <th>const</th>                         <td>   -7.3824</td> <td>    0.594</td> <td>  -12.424</td> <td> 0.000</td> <td>   -8.547</td> <td>   -6.218</td>\n",
       "</tr>\n",
       "<tr>\n",
       "  <th>Age_Upper</th>                     <td>    0.0354</td> <td>    0.004</td> <td>    9.887</td> <td> 0.000</td> <td>    0.028</td> <td>    0.042</td>\n",
       "</tr>\n",
       "<tr>\n",
       "  <th>Income_Upper</th>                  <td>    0.0061</td> <td>    0.000</td> <td>   23.830</td> <td> 0.000</td> <td>    0.006</td> <td>    0.007</td>\n",
       "</tr>\n",
       "<tr>\n",
       "  <th>male_dummy</th>                    <td>    0.3724</td> <td>    0.095</td> <td>    3.919</td> <td> 0.000</td> <td>    0.186</td> <td>    0.559</td>\n",
       "</tr>\n",
       "<tr>\n",
       "  <th>purchase_dummy</th>                <td>    4.4961</td> <td>    0.115</td> <td>   39.092</td> <td> 0.000</td> <td>    4.271</td> <td>    4.722</td>\n",
       "</tr>\n",
       "<tr>\n",
       "  <th>bachelor_dummy</th>                <td>   -0.0909</td> <td>    0.297</td> <td>   -0.306</td> <td> 0.760</td> <td>   -0.674</td> <td>    0.492</td>\n",
       "</tr>\n",
       "<tr>\n",
       "  <th>graduate_dummy</th>                <td>   -0.3100</td> <td>    0.295</td> <td>   -1.049</td> <td> 0.294</td> <td>   -0.889</td> <td>    0.269</td>\n",
       "</tr>\n",
       "<tr>\n",
       "  <th>associate_some_collegue_dummy</th> <td>   -0.2392</td> <td>    0.310</td> <td>   -0.771</td> <td> 0.441</td> <td>   -0.848</td> <td>    0.369</td>\n",
       "</tr>\n",
       "<tr>\n",
       "  <th>Detached_House_dummy</th>          <td>   -0.1507</td> <td>    0.466</td> <td>   -0.323</td> <td> 0.746</td> <td>   -1.064</td> <td>    0.763</td>\n",
       "</tr>\n",
       "<tr>\n",
       "  <th>Apartment_Condominium_dummy</th>   <td>    0.1132</td> <td>    0.494</td> <td>    0.229</td> <td> 0.819</td> <td>   -0.856</td> <td>    1.082</td>\n",
       "</tr>\n",
       "<tr>\n",
       "  <th>Attached_house_dummy</th>          <td>   -0.3051</td> <td>    0.487</td> <td>   -0.626</td> <td> 0.531</td> <td>   -1.260</td> <td>    0.650</td>\n",
       "</tr>\n",
       "<tr>\n",
       "  <th>Rent_dummy</th>                    <td>    0.1244</td> <td>    0.154</td> <td>    0.809</td> <td> 0.419</td> <td>   -0.177</td> <td>    0.426</td>\n",
       "</tr>\n",
       "</table>"
      ],
      "text/plain": [
       "<class 'statsmodels.iolib.summary.Summary'>\n",
       "\"\"\"\n",
       "                           Logit Regression Results                           \n",
       "==============================================================================\n",
       "Dep. Variable:                      y   No. Observations:                 8822\n",
       "Model:                          Logit   Df Residuals:                     8810\n",
       "Method:                           MLE   Df Model:                           11\n",
       "Date:                Sat, 05 Dec 2020   Pseudo R-squ.:                  0.5609\n",
       "Time:                        00:12:38   Log-Likelihood:                -2205.9\n",
       "converged:                       True   LL-Null:                       -5023.1\n",
       "Covariance Type:            nonrobust   LLR p-value:                     0.000\n",
       "=================================================================================================\n",
       "                                    coef    std err          z      P>|z|      [0.025      0.975]\n",
       "-------------------------------------------------------------------------------------------------\n",
       "const                            -7.3824      0.594    -12.424      0.000      -8.547      -6.218\n",
       "Age_Upper                         0.0354      0.004      9.887      0.000       0.028       0.042\n",
       "Income_Upper                      0.0061      0.000     23.830      0.000       0.006       0.007\n",
       "male_dummy                        0.3724      0.095      3.919      0.000       0.186       0.559\n",
       "purchase_dummy                    4.4961      0.115     39.092      0.000       4.271       4.722\n",
       "bachelor_dummy                   -0.0909      0.297     -0.306      0.760      -0.674       0.492\n",
       "graduate_dummy                   -0.3100      0.295     -1.049      0.294      -0.889       0.269\n",
       "associate_some_collegue_dummy    -0.2392      0.310     -0.771      0.441      -0.848       0.369\n",
       "Detached_House_dummy             -0.1507      0.466     -0.323      0.746      -1.064       0.763\n",
       "Apartment_Condominium_dummy       0.1132      0.494      0.229      0.819      -0.856       1.082\n",
       "Attached_house_dummy             -0.3051      0.487     -0.626      0.531      -1.260       0.650\n",
       "Rent_dummy                        0.1244      0.154      0.809      0.419      -0.177       0.426\n",
       "=================================================================================================\n",
       "\"\"\""
      ]
     },
     "execution_count": 36,
     "metadata": {},
     "output_type": "execute_result"
    }
   ],
   "source": [
    "#Using variables to determine which of the predictors influence the probability to buy a Tesla car\n",
    "\n",
    "\n",
    "X1= demo[[\"Age_Upper\",\"Income_Upper\",\"male_dummy\",\"purchase_dummy\",\"bachelor_dummy\",\"graduate_dummy\",\"associate_some_collegue_dummy\",\"Detached_House_dummy\",\"Apartment_Condominium_dummy\",\"Attached_house_dummy\",\"Rent_dummy\"]]\n",
    "\n",
    "X1 = sm.add_constant(X1) ##  ## let's add an intercept (beta_0) to our model\n",
    "y = demo[\"Tesla_yes_dummy\"].values.reshape(-1,1)\n",
    "\n",
    "model = sm.Logit(y, X1).fit() \n",
    "\n",
    "# Print out the statistics \n",
    "model.summary()\n"
   ]
  },
  {
   "cell_type": "markdown",
   "metadata": {},
   "source": [
    "Results: \n",
    "\n",
    "We verified that Age, income, male, purchase have p-value <0.025, so we can reject the null hypothesis. Another evidence against the null hypothesis is the large value of z-statistics. Age and income have positive coeficients indicating that an increase in those variable increases the probability to buy a Tesla car. Also,if the person is male and is purchasing the car, increases the probability to buy a Tesla car, since they have positive coefficients.We conclude there is a string association between Age, income, male, purchase and the probability to buy a Tesla car. \n",
    "\n",
    "If we consider 97.5% confidence level the variables bachelor_dummy, graduate_dummy,associate_some_collegue_dummy,detached_house_dummy, apartment_condominium_dummy,attahced_house_dummy and rent_dummy have p-value greater than 0.025, so these variables statistically does not have a strong influence on the probability to buy a Tesla car.\n"
   ]
  },
  {
   "cell_type": "code",
   "execution_count": 37,
   "metadata": {},
   "outputs": [
    {
     "data": {
      "text/plain": [
       "0       0.442525\n",
       "1       0.448205\n",
       "2       0.017562\n",
       "3       0.026603\n",
       "4       0.008673\n",
       "          ...   \n",
       "8817    0.013193\n",
       "8818    0.007575\n",
       "8819    0.778484\n",
       "8820    0.008425\n",
       "8821    0.013588\n",
       "Length: 8822, dtype: float64"
      ]
     },
     "execution_count": 37,
     "metadata": {},
     "output_type": "execute_result"
    }
   ],
   "source": [
    "y_pred = model.predict(X1)\n",
    "y_pred.describe()\n",
    "y_pred.shape\n",
    "type(y_pred)\n",
    "y_pred"
   ]
  },
  {
   "cell_type": "code",
   "execution_count": 38,
   "metadata": {},
   "outputs": [
    {
     "data": {
      "text/plain": [
       "array([[5946,  613],\n",
       "       [ 406, 1857]], dtype=int64)"
      ]
     },
     "execution_count": 38,
     "metadata": {},
     "output_type": "execute_result"
    }
   ],
   "source": [
    "#The following command transforms all the elements with predicted probabilities of buying a Tesla car greater than 0.5 to Yes=1\n",
    "\n",
    "y_pred2 = y_pred.apply(lambda x: 1 if x > 0.5 else 0)\n",
    "y_pred2.head()\n",
    "\n",
    "y_pred2.describe()\n",
    "\n",
    "y_pred3 = y_pred2.values.reshape(-1,1)  # change to array \n",
    "\n",
    "# Use  confusion matrix to measure the accuracy of our model.\n",
    "\n",
    "confusion_matrix(y, y_pred2)"
   ]
  },
  {
   "cell_type": "code",
   "execution_count": 39,
   "metadata": {},
   "outputs": [
    {
     "name": "stdout",
     "output_type": "stream",
     "text": [
      "accuracy = 88.44933121741101%\n",
      "recall= 82.05921343349536%\n",
      "precision= 75.18218623481782%\n"
     ]
    }
   ],
   "source": [
    "from sklearn.metrics import accuracy_score\n",
    "\n",
    "#Accuracy of the model - Overall fraction of correct predictions\n",
    "accuracy_score=accuracy_score(y, y_pred3)\n",
    "print ('accuracy = {0}%'.format(accuracy_score*100)  )\n",
    "\n",
    "# Recall\n",
    "from sklearn.metrics import recall_score\n",
    "recall=recall_score(y, y_pred3, average='binary')\n",
    "print ('recall= {0}%'.format(recall*100)  )\n",
    "\n",
    "# Precision\n",
    "from sklearn.metrics import precision_score\n",
    "precision=precision_score(y, y_pred3, average='binary')\n",
    "print ('precision= {0}%'.format(precision*100))"
   ]
  },
  {
   "cell_type": "code",
   "execution_count": 40,
   "metadata": {},
   "outputs": [
    {
     "name": "stdout",
     "output_type": "stream",
     "text": [
      "F_Measure= 78.47031481090218%\n"
     ]
    }
   ],
   "source": [
    "# F-Measure\n",
    "F_Measure = 2 * (precision * recall) / (precision + recall)\n",
    "print ('F_Measure= {0}%'.format(F_Measure*100)  )"
   ]
  },
  {
   "cell_type": "code",
   "execution_count": 41,
   "metadata": {},
   "outputs": [
    {
     "name": "stdout",
     "output_type": "stream",
     "text": [
      "specificity= 90.65406311937795%\n",
      "FPR= 9.345936880622041%\n"
     ]
    }
   ],
   "source": [
    "#Specificity or True Negative Rate (TNR)=TN/(TN+FP)\n",
    "CM=confusion_matrix(y, y_pred2)\n",
    "\n",
    "specificity=CM[0,0]/(CM[0,0]+CM[0,1])\n",
    "print ('specificity= {0}%'.format(specificity*100)  )\n",
    "#FPR=1-specificity\n",
    "\n",
    "FPR=1-specificity\n",
    "print ('FPR= {0}%'.format(FPR*100)  )"
   ]
  },
  {
   "cell_type": "code",
   "execution_count": 42,
   "metadata": {},
   "outputs": [
    {
     "name": "stdout",
     "output_type": "stream",
     "text": [
      "Logistic: ROC AUC=0.864\n"
     ]
    },
    {
     "data": {
      "image/png": "[encoded data removed]",
      "text/plain": [
       "<Figure size 432x288 with 1 Axes>"
      ]
     },
     "metadata": {
      "needs_background": "light"
     },
     "output_type": "display_data"
    }
   ],
   "source": [
    "from sklearn.metrics import roc_curve\n",
    "from sklearn.metrics import roc_auc_score\n",
    "from matplotlib import pyplot\n",
    "\n",
    "# calculate scores\n",
    "lr_auc = roc_auc_score(y, y_pred2)\n",
    "\n",
    "# summarize scores\n",
    "\n",
    "print('Logistic: ROC AUC=%.3f' % (lr_auc))\n",
    "# calculate roc curves\n",
    "\n",
    "\n",
    "lr_fpr, lr_tpr, thresholds = roc_curve(y,  y_pred)\n",
    "# plot the roc curve for the model\n",
    "\n",
    "pyplot.plot(lr_fpr, lr_tpr, marker='.', label='Logistic')\n",
    "# axis labels\n",
    "pyplot.xlabel('False Positive Rate')\n",
    "pyplot.ylabel('True Positive Rate')\n",
    "# show the legend\n",
    "pyplot.legend()\n",
    "# show the plot\n",
    "pyplot.show()"
   ]
  },
  {
   "cell_type": "markdown",
   "metadata": {},
   "source": [
    "For this data the AUC is 0.86, which is close to the maximum of 1, so it is a very good result since they are considering all possible thresholds. "
   ]
  },
  {
   "cell_type": "markdown",
   "metadata": {},
   "source": [
    "In order to better verify the accuracy of the logistic regression model, we will fit the model using part of the data and then observe how well it predicts the data."
   ]
  },
  {
   "cell_type": "code",
   "execution_count": 43,
   "metadata": {},
   "outputs": [
    {
     "data": {
      "text/plain": [
       "(8822, 12)"
      ]
     },
     "execution_count": 43,
     "metadata": {},
     "output_type": "execute_result"
    }
   ],
   "source": [
    "\n",
    "X= demo[[\"Age_Upper\",\"Income_Upper\",\"male_dummy\",\"purchase_dummy\",\"bachelor_dummy\",\"graduate_dummy\",\"associate_some_collegue_dummy\",\"Detached_House_dummy\",\"Apartment_Condominium_dummy\",\"Attached_house_dummy\",\"Rent_dummy\"]]\n",
    "\n",
    "y = demo[\"Tesla_yes_dummy\"].values.reshape(-1,1)\n",
    "\n",
    "X = sm.add_constant(X)\n",
    "\n",
    "#Prior to training our model, we’ll set aside a portion of our data in order to evaluate its performance.\n",
    "\n",
    "x_train, x_test, y_train, y_test = train_test_split(X, y, random_state=1)\n",
    "X.shape"
   ]
  },
  {
   "cell_type": "code",
   "execution_count": 44,
   "metadata": {},
   "outputs": [
    {
     "data": {
      "text/plain": [
       "(6616, 12)"
      ]
     },
     "execution_count": 44,
     "metadata": {},
     "output_type": "execute_result"
    }
   ],
   "source": [
    "##See the size of the training sample\n",
    "x_train.shape"
   ]
  },
  {
   "cell_type": "code",
   "execution_count": 45,
   "metadata": {},
   "outputs": [
    {
     "data": {
      "text/plain": [
       "(2206, 12)"
      ]
     },
     "execution_count": 45,
     "metadata": {},
     "output_type": "execute_result"
    }
   ],
   "source": [
    "##See the size of the test sample\n",
    "x_test.shape"
   ]
  },
  {
   "cell_type": "code",
   "execution_count": 46,
   "metadata": {},
   "outputs": [
    {
     "name": "stdout",
     "output_type": "stream",
     "text": [
      "Optimization terminated successfully.\n",
      "         Current function value: 0.246740\n",
      "         Iterations 8\n"
     ]
    },
    {
     "data": {
      "text/html": [
       "<table class=\"simpletable\">\n",
       "<caption>Logit Regression Results</caption>\n",
       "<tr>\n",
       "  <th>Dep. Variable:</th>           <td>y</td>        <th>  No. Observations:  </th>  <td>  6616</td> \n",
       "</tr>\n",
       "<tr>\n",
       "  <th>Model:</th>                 <td>Logit</td>      <th>  Df Residuals:      </th>  <td>  6604</td> \n",
       "</tr>\n",
       "<tr>\n",
       "  <th>Method:</th>                 <td>MLE</td>       <th>  Df Model:          </th>  <td>    11</td> \n",
       "</tr>\n",
       "<tr>\n",
       "  <th>Date:</th>            <td>Sat, 05 Dec 2020</td> <th>  Pseudo R-squ.:     </th>  <td>0.5635</td> \n",
       "</tr>\n",
       "<tr>\n",
       "  <th>Time:</th>                <td>00:12:55</td>     <th>  Log-Likelihood:    </th> <td> -1632.4</td>\n",
       "</tr>\n",
       "<tr>\n",
       "  <th>converged:</th>             <td>True</td>       <th>  LL-Null:           </th> <td> -3740.1</td>\n",
       "</tr>\n",
       "<tr>\n",
       "  <th>Covariance Type:</th>     <td>nonrobust</td>    <th>  LLR p-value:       </th>  <td> 0.000</td> \n",
       "</tr>\n",
       "</table>\n",
       "<table class=\"simpletable\">\n",
       "<tr>\n",
       "                <td></td>                   <th>coef</th>     <th>std err</th>      <th>z</th>      <th>P>|z|</th>  <th>[0.025</th>    <th>0.975]</th>  \n",
       "</tr>\n",
       "<tr>\n",
       "  <th>const</th>                         <td>   -6.9755</td> <td>    0.737</td> <td>   -9.470</td> <td> 0.000</td> <td>   -8.419</td> <td>   -5.532</td>\n",
       "</tr>\n",
       "<tr>\n",
       "  <th>Age_Upper</th>                     <td>    0.0332</td> <td>    0.004</td> <td>    7.999</td> <td> 0.000</td> <td>    0.025</td> <td>    0.041</td>\n",
       "</tr>\n",
       "<tr>\n",
       "  <th>Income_Upper</th>                  <td>    0.0062</td> <td>    0.000</td> <td>   20.536</td> <td> 0.000</td> <td>    0.006</td> <td>    0.007</td>\n",
       "</tr>\n",
       "<tr>\n",
       "  <th>male_dummy</th>                    <td>    0.3240</td> <td>    0.111</td> <td>    2.930</td> <td> 0.003</td> <td>    0.107</td> <td>    0.541</td>\n",
       "</tr>\n",
       "<tr>\n",
       "  <th>purchase_dummy</th>                <td>    4.5703</td> <td>    0.138</td> <td>   33.142</td> <td> 0.000</td> <td>    4.300</td> <td>    4.841</td>\n",
       "</tr>\n",
       "<tr>\n",
       "  <th>bachelor_dummy</th>                <td>   -0.1869</td> <td>    0.349</td> <td>   -0.536</td> <td> 0.592</td> <td>   -0.871</td> <td>    0.497</td>\n",
       "</tr>\n",
       "<tr>\n",
       "  <th>graduate_dummy</th>                <td>   -0.3766</td> <td>    0.347</td> <td>   -1.086</td> <td> 0.278</td> <td>   -1.056</td> <td>    0.303</td>\n",
       "</tr>\n",
       "<tr>\n",
       "  <th>associate_some_collegue_dummy</th> <td>   -0.3964</td> <td>    0.363</td> <td>   -1.092</td> <td> 0.275</td> <td>   -1.108</td> <td>    0.315</td>\n",
       "</tr>\n",
       "<tr>\n",
       "  <th>Detached_House_dummy</th>          <td>   -0.4218</td> <td>    0.594</td> <td>   -0.710</td> <td> 0.478</td> <td>   -1.586</td> <td>    0.743</td>\n",
       "</tr>\n",
       "<tr>\n",
       "  <th>Apartment_Condominium_dummy</th>   <td>   -0.2065</td> <td>    0.624</td> <td>   -0.331</td> <td> 0.741</td> <td>   -1.430</td> <td>    1.017</td>\n",
       "</tr>\n",
       "<tr>\n",
       "  <th>Attached_house_dummy</th>          <td>   -0.5192</td> <td>    0.615</td> <td>   -0.844</td> <td> 0.399</td> <td>   -1.725</td> <td>    0.687</td>\n",
       "</tr>\n",
       "<tr>\n",
       "  <th>Rent_dummy</th>                    <td>   -0.0053</td> <td>    0.177</td> <td>   -0.030</td> <td> 0.976</td> <td>   -0.353</td> <td>    0.342</td>\n",
       "</tr>\n",
       "</table>"
      ],
      "text/plain": [
       "<class 'statsmodels.iolib.summary.Summary'>\n",
       "\"\"\"\n",
       "                           Logit Regression Results                           \n",
       "==============================================================================\n",
       "Dep. Variable:                      y   No. Observations:                 6616\n",
       "Model:                          Logit   Df Residuals:                     6604\n",
       "Method:                           MLE   Df Model:                           11\n",
       "Date:                Sat, 05 Dec 2020   Pseudo R-squ.:                  0.5635\n",
       "Time:                        00:12:55   Log-Likelihood:                -1632.4\n",
       "converged:                       True   LL-Null:                       -3740.1\n",
       "Covariance Type:            nonrobust   LLR p-value:                     0.000\n",
       "=================================================================================================\n",
       "                                    coef    std err          z      P>|z|      [0.025      0.975]\n",
       "-------------------------------------------------------------------------------------------------\n",
       "const                            -6.9755      0.737     -9.470      0.000      -8.419      -5.532\n",
       "Age_Upper                         0.0332      0.004      7.999      0.000       0.025       0.041\n",
       "Income_Upper                      0.0062      0.000     20.536      0.000       0.006       0.007\n",
       "male_dummy                        0.3240      0.111      2.930      0.003       0.107       0.541\n",
       "purchase_dummy                    4.5703      0.138     33.142      0.000       4.300       4.841\n",
       "bachelor_dummy                   -0.1869      0.349     -0.536      0.592      -0.871       0.497\n",
       "graduate_dummy                   -0.3766      0.347     -1.086      0.278      -1.056       0.303\n",
       "associate_some_collegue_dummy    -0.3964      0.363     -1.092      0.275      -1.108       0.315\n",
       "Detached_House_dummy             -0.4218      0.594     -0.710      0.478      -1.586       0.743\n",
       "Apartment_Condominium_dummy      -0.2065      0.624     -0.331      0.741      -1.430       1.017\n",
       "Attached_house_dummy             -0.5192      0.615     -0.844      0.399      -1.725       0.687\n",
       "Rent_dummy                       -0.0053      0.177     -0.030      0.976      -0.353       0.342\n",
       "=================================================================================================\n",
       "\"\"\""
      ]
     },
     "execution_count": 46,
     "metadata": {},
     "output_type": "execute_result"
    }
   ],
   "source": [
    "# Perfoming Logistic Regression model for the training data\n",
    "\n",
    "# Note the difference in argument order\n",
    "model = sm.Logit(y_train, x_train).fit() \n",
    "\n",
    "# Print out the statistics\n",
    "model.summary()"
   ]
  },
  {
   "cell_type": "markdown",
   "metadata": {},
   "source": [
    "Results: \n",
    "\n",
    "We verified that Age, income, male, purchase have p-value <0.025, so we can reject the null hypothesis. Another evidence against the null hypothesis is the large value of z-statistics. Age and income have positive coeficients indicating that an increase in those variable increases the probability to buy a Tesla car. Also,if the person is male and is purchasing the car, increases the probability to buy a Tesla car, since they have positive coefficients.We conclude there is a string association between Age, income, male, purchase and the probability to buy a Tesla car. \n",
    "\n",
    "If we consider 97.5% confidence level the variables bachelor_dummy, graduate_dummy,associate_some_collegue_dummy,detached_house_dummy, apartment_condominium_dummy,attahced_house_dummy and rent_dummy have p-value greater than 0.025, so these variables statistically does not have a strong influence on the probability to buy a Tesla car.\n"
   ]
  },
  {
   "cell_type": "code",
   "execution_count": 47,
   "metadata": {},
   "outputs": [
    {
     "data": {
      "text/plain": [
       "1729    0.011734\n",
       "7462    0.619891\n",
       "5343    0.885518\n",
       "4468    0.461572\n",
       "229     0.673085\n",
       "          ...   \n",
       "5953    0.919421\n",
       "8076    0.012686\n",
       "4841    0.002858\n",
       "654     0.292175\n",
       "3178    0.007388\n",
       "Length: 2206, dtype: float64"
      ]
     },
     "execution_count": 47,
     "metadata": {},
     "output_type": "execute_result"
    }
   ],
   "source": [
    "y_pred_split = model.predict(x_test)   \n",
    "y_pred_split.describe()\n",
    "y_pred_split.shape\n",
    "type(y_pred_split)\n",
    "y_pred_split"
   ]
  },
  {
   "cell_type": "code",
   "execution_count": 48,
   "metadata": {},
   "outputs": [
    {
     "data": {
      "text/plain": [
       "array([[1470,  145],\n",
       "       [ 114,  477]], dtype=int64)"
      ]
     },
     "execution_count": 48,
     "metadata": {},
     "output_type": "execute_result"
    }
   ],
   "source": [
    "## Calibrate first computing the prob and then assigning 1 or 0 using a chosen cut-off value\n",
    "\n",
    "y_pred2_split = y_pred_split.apply(lambda x: 1 if x > 0.5 else 0)\n",
    "y_pred2_split.head()\n",
    "\n",
    "y_pred2_split.describe()\n",
    "\n",
    "y_pred3_split = y_pred2_split.values.reshape(-1,1)  # change to array \n",
    "\n",
    "confusion_matrix(y_test, y_pred3_split)"
   ]
  },
  {
   "cell_type": "code",
   "execution_count": 49,
   "metadata": {},
   "outputs": [
    {
     "name": "stdout",
     "output_type": "stream",
     "text": [
      "accuracy = 88.25929283771532%\n",
      "recall= 80.71065989847716%\n",
      "precision= 76.68810289389067%\n"
     ]
    }
   ],
   "source": [
    "\n",
    "from sklearn.metrics import accuracy_score\n",
    "\n",
    "#Accuracy of the model - Overall fraction of correct predictions\n",
    "accuracy_score=accuracy_score(y_test, y_pred3_split)\n",
    "print ('accuracy = {0}%'.format(accuracy_score*100)  )\n",
    "\n",
    "# Recall\n",
    "from sklearn.metrics import recall_score\n",
    "recall2=recall_score(y_test, y_pred3_split, average='binary')\n",
    "print ('recall= {0}%'.format(recall2*100)  )\n",
    "\n",
    "# Precision\n",
    "from sklearn.metrics import precision_score\n",
    "precision2=precision_score(y_test, y_pred3_split, average='binary')\n",
    "print ('precision= {0}%'.format(precision2*100))"
   ]
  },
  {
   "cell_type": "code",
   "execution_count": 50,
   "metadata": {},
   "outputs": [
    {
     "name": "stdout",
     "output_type": "stream",
     "text": [
      "F_Measure= 78.6479802143446%\n"
     ]
    }
   ],
   "source": [
    "   # F-Measure\n",
    "F_Measure2 = 2 * (precision2 * recall2) / (precision2 + recall2)\n",
    "print ('F_Measure= {0}%'.format(F_Measure2*100)  )"
   ]
  },
  {
   "cell_type": "code",
   "execution_count": 51,
   "metadata": {},
   "outputs": [
    {
     "name": "stdout",
     "output_type": "stream",
     "text": [
      "specificity= 91.02167182662538%\n",
      "FPR= 8.978328173374617%\n"
     ]
    }
   ],
   "source": [
    "#Specificity or True Negative Rate (TNR)=TN/(TN+FP)\n",
    "\n",
    "CM2=confusion_matrix(y_test, y_pred3_split)\n",
    "\n",
    "specificity2=CM2[0,0]/(CM2[0,0]+CM2[0,1])\n",
    "print ('specificity= {0}%'.format(specificity2*100)  )\n",
    "\n",
    "#FPR=1-specificity\n",
    "FPR2=1-specificity2\n",
    "print ('FPR= {0}%'.format(FPR2*100)  )"
   ]
  },
  {
   "cell_type": "code",
   "execution_count": 52,
   "metadata": {},
   "outputs": [
    {
     "name": "stdout",
     "output_type": "stream",
     "text": [
      "Logistic: ROC AUC=0.859\n"
     ]
    },
    {
     "data": {
      "image/png": "[encoded data removed]",
      "text/plain": [
       "<Figure size 432x288 with 1 Axes>"
      ]
     },
     "metadata": {
      "needs_background": "light"
     },
     "output_type": "display_data"
    }
   ],
   "source": [
    "# calculate scores\n",
    "lr_auc_split = roc_auc_score(y_test,  y_pred3_split)\n",
    "\n",
    "# summarize scores\n",
    "\n",
    "print('Logistic: ROC AUC=%.3f' % (lr_auc_split))\n",
    "# calculate roc curves\n",
    "\n",
    "\n",
    "lr_fpr_split, lr_tpr_split, thresholds = roc_curve(y_test,  y_pred3_split)\n",
    "# plot the roc curve for the model\n",
    "\n",
    "pyplot.plot(lr_fpr_split, lr_tpr_split, marker='.', label='Logistic')\n",
    "# axis labels\n",
    "pyplot.xlabel('False Positive Rate')\n",
    "pyplot.ylabel('True Positive Rate')\n",
    "# show the legend\n",
    "pyplot.legend()\n",
    "# show the plot\n",
    "pyplot.show()"
   ]
  },
  {
   "cell_type": "markdown",
   "metadata": {},
   "source": [
    "Analyzing the results of the model considering the whole data and the split data (train and test data) we conclude that the model predicts well since both of them presented very similar results and the model that we applied the test data, presented a good prediction capacity. \n",
    "\n",
    "whole data\n",
    "accuracy = 88.44933121741101%\n",
    "recall= 82.05921343349536%\n",
    "precision= 75.18218623481782%\n",
    "F_Measure= 78.47031481090218%\n",
    "specificity= 90.65406311937795%\n",
    "FPR= 9.345936880622041%\n",
    "ROC AUC=0.864\n",
    "\n",
    "split data\n",
    "\n",
    "accuracy = 88.25929283771532%\n",
    "recall= 80.71065989847716%\n",
    "precision= 76.68810289389067%\n",
    "F_Measure= 78.6479802143446%\n",
    "specificity= 91.02167182662538%\n",
    "FPR= 8.978328173374617%\n",
    "ROC AUC=0.859\n"
   ]
  },
  {
   "cell_type": "code",
   "execution_count": null,
   "metadata": {},
   "outputs": [],
   "source": []
  },
  {
   "cell_type": "markdown",
   "metadata": {},
   "source": [
    "# TESLA STOCK FORECASTING"
   ]
  },
  {
   "cell_type": "code",
   "execution_count": 27,
   "metadata": {},
   "outputs": [],
   "source": [
    "df=pd.read_csv('TSLA.csv')\n",
    "\n"
   ]
  },
  {
   "cell_type": "code",
   "execution_count": 49,
   "metadata": {},
   "outputs": [
    {
     "name": "stdout",
     "output_type": "stream",
     "text": [
      "         Date   Open   High    Low  Close  Adj Close    Volume\n",
      "0  2010-06-29  3.800  5.000  3.508  4.778      4.778  93831500\n",
      "1  2010-06-30  5.158  6.084  4.660  4.766      4.766  85935500\n",
      "2  2010-07-01  5.000  5.184  4.054  4.392      4.392  41094000\n",
      "3  2010-07-02  4.600  4.620  3.742  3.840      3.840  25699000\n",
      "4  2010-07-06  4.000  4.000  3.166  3.222      3.222  34334500\n",
      "(2623, 7)\n",
      "Index(['Date', 'Open', 'High', 'Low', 'Close', 'Adj Close', 'Volume'], dtype='object')\n"
     ]
    }
   ],
   "source": [
    "\n",
    "print(df.head())\n",
    "print(df.shape)\n",
    "print(df.columns)"
   ]
  },
  {
   "cell_type": "code",
   "execution_count": 50,
   "metadata": {},
   "outputs": [
    {
     "data": {
      "image/png": "[encoded data removed]",
      "text/plain": [
       "<Figure size 432x288 with 1 Axes>"
      ]
     },
     "metadata": {
      "needs_background": "light"
     },
     "output_type": "display_data"
    }
   ],
   "source": [
    "df[['Close']].plot()\n",
    "plt.title(\"Tesla\")\n",
    "plt.show()"
   ]
  },
  {
   "cell_type": "code",
   "execution_count": 51,
   "metadata": {},
   "outputs": [
    {
     "data": {
      "text/plain": [
       "Text(0.5, 1.0, 'Tesla Cumulative Returns')"
      ]
     },
     "execution_count": 51,
     "metadata": {},
     "output_type": "execute_result"
    },
    {
     "data": {
      "image/png": "[encoded data removed]",
      "text/plain": [
       "<Figure size 432x288 with 1 Axes>"
      ]
     },
     "metadata": {
      "needs_background": "light"
     },
     "output_type": "display_data"
    }
   ],
   "source": [
    "# Comulative Return\n",
    "dr = df.cumsum()\n",
    "dr.plot()\n",
    "plt.title('Tesla Cumulative Returns')"
   ]
  },
  {
   "cell_type": "code",
   "execution_count": 52,
   "metadata": {},
   "outputs": [
    {
     "data": {
      "text/plain": [
       "Text(0.5, 1.0, 'Tesla Autocorrelation plot')"
      ]
     },
     "execution_count": 52,
     "metadata": {},
     "output_type": "execute_result"
    },
    {
     "data": {
      "image/png": "[encoded data removed]",
      "text/plain": [
       "<Figure size 720x720 with 1 Axes>"
      ]
     },
     "metadata": {
      "needs_background": "light"
     },
     "output_type": "display_data"
    }
   ],
   "source": [
    "plt.figure(figsize=(10,10))\n",
    "lag_plot(df['Open'], lag=5)\n",
    "plt.title('Tesla Autocorrelation plot')"
   ]
  },
  {
   "cell_type": "markdown",
   "metadata": {},
   "source": [
    "# 1. ARIMA (AutoRegressive Integrated Moving Average) for Time Series Prediction"
   ]
  },
  {
   "cell_type": "code",
   "execution_count": 53,
   "metadata": {},
   "outputs": [
    {
     "data": {
      "text/plain": [
       "<matplotlib.legend.Legend at 0x241635d16a0>"
      ]
     },
     "execution_count": 53,
     "metadata": {},
     "output_type": "execute_result"
    },
    {
     "data": {
      "image/png": "[encoded data removed]",
      "text/plain": [
       "<Figure size 864x504 with 1 Axes>"
      ]
     },
     "metadata": {
      "needs_background": "light"
     },
     "output_type": "display_data"
    }
   ],
   "source": [
    "train_data, test_data = df[0:int(len(df)*0.8)], df[int(len(df)*0.8):]\n",
    "plt.figure(figsize=(12,7))\n",
    "plt.title('Tesla Prices')\n",
    "plt.xlabel('Dates')\n",
    "plt.ylabel('Prices')\n",
    "plt.plot(df['Open'], 'blue', label='Training Data')\n",
    "plt.plot(test_data['Open'], 'green', label='Testing Data')\n",
    "plt.xticks(np.arange(0,2622, 300), df['Date'][0:2622:300])\n",
    "plt.legend()"
   ]
  },
  {
   "cell_type": "code",
   "execution_count": 54,
   "metadata": {},
   "outputs": [],
   "source": [
    "def smape_kun(y_true, y_pred):\n",
    "    return np.mean((np.abs(y_pred - y_true) * 200/ (np.abs(y_pred) + np.abs(y_true))))"
   ]
  },
  {
   "cell_type": "code",
   "execution_count": 55,
   "metadata": {},
   "outputs": [],
   "source": [
    "train_ar = train_data['Open'].values\n",
    "test_ar = test_data['Open'].values"
   ]
  },
  {
   "cell_type": "code",
   "execution_count": 56,
   "metadata": {},
   "outputs": [
    {
     "name": "stdout",
     "output_type": "stream",
     "text": [
      "<class 'list'>\n",
      "Testing Mean Squared Error: 119.900\n",
      "Symmetric mean absolute percentage error: 73.286\n"
     ]
    }
   ],
   "source": [
    "history = [x for x in train_ar]\n",
    "print(type(history))\n",
    "predictions = list()\n",
    "for t in range(len(test_ar)):\n",
    "    model = ARIMA(history, order=(5,1,0))\n",
    "    model_fit = model.fit(disp=0)\n",
    "    output = model_fit.forecast()\n",
    "    yhat = output[0]\n",
    "    predictions.append(yhat)\n",
    "    obs = test_ar[t]\n",
    "    history.append(obs)\n",
    "    #print('predicted=%f, expected=%f' % (yhat, obs))\n",
    "error = mean_squared_error(test_ar, predictions)\n",
    "print('Testing Mean Squared Error: %.3f' % error)\n",
    "error2 = smape_kun(test_ar, predictions)\n",
    "print('Symmetric mean absolute percentage error: %.3f' % error2)"
   ]
  },
  {
   "cell_type": "code",
   "execution_count": 57,
   "metadata": {},
   "outputs": [
    {
     "data": {
      "text/plain": [
       "<matplotlib.legend.Legend at 0x241632c9eb0>"
      ]
     },
     "execution_count": 57,
     "metadata": {},
     "output_type": "execute_result"
    },
    {
     "data": {
      "image/png": "[encoded data removed]",
      "text/plain": [
       "<Figure size 864x504 with 1 Axes>"
      ]
     },
     "metadata": {
      "needs_background": "light"
     },
     "output_type": "display_data"
    }
   ],
   "source": [
    "plt.figure(figsize=(12,7))\n",
    "plt.plot(df['Open'], 'green', color='blue', label='Training Data')\n",
    "plt.plot(test_data.index, predictions, color='green', marker='o', linestyle='dashed', \n",
    "         label='Predicted Price')\n",
    "plt.plot(test_data.index, test_data['Open'], color='red', label='Actual Price')\n",
    "plt.title('Tesla Prices Prediction')\n",
    "plt.xlabel('Dates')\n",
    "plt.ylabel('Prices')\n",
    "plt.xticks(np.arange(0,2622, 300), df['Date'][0:2622:300])\n",
    "plt.legend()"
   ]
  },
  {
   "cell_type": "code",
   "execution_count": 58,
   "metadata": {},
   "outputs": [
    {
     "data": {
      "text/plain": [
       "<matplotlib.legend.Legend at 0x24163881040>"
      ]
     },
     "execution_count": 58,
     "metadata": {},
     "output_type": "execute_result"
    },
    {
     "data": {
      "image/png": "[encoded data removed]",
      "text/plain": [
       "<Figure size 864x504 with 1 Axes>"
      ]
     },
     "metadata": {
      "needs_background": "light"
     },
     "output_type": "display_data"
    }
   ],
   "source": [
    "plt.figure(figsize=(12,7))\n",
    "plt.plot(test_data.index, predictions, color='green', marker='o', linestyle='dashed', \n",
    "         label='Predicted Price')\n",
    "plt.plot(test_data.index, test_data['Open'], color='red', label='Actual Price')\n",
    "plt.xticks(np.arange(2098,2622, 60), df['Date'][2098:2622:60])\n",
    "plt.title('Tesla Prices Prediction')\n",
    "plt.xlabel('Dates')\n",
    "plt.ylabel('Prices')\n",
    "plt.legend()"
   ]
  },
  {
   "cell_type": "markdown",
   "metadata": {},
   "source": [
    "# 2. Deep Learning"
   ]
  },
  {
   "cell_type": "code",
   "execution_count": 28,
   "metadata": {},
   "outputs": [
    {
     "name": "stderr",
     "output_type": "stream",
     "text": [
      "Using TensorFlow backend.\n",
      "//anaconda3/lib/python3.7/site-packages/tensorflow/python/framework/dtypes.py:516: FutureWarning: Passing (type, 1) or '1type' as a synonym of type is deprecated; in a future version of numpy, it will be understood as (type, (1,)) / '(1,)type'.\n",
      "  _np_qint8 = np.dtype([(\"qint8\", np.int8, 1)])\n",
      "//anaconda3/lib/python3.7/site-packages/tensorflow/python/framework/dtypes.py:517: FutureWarning: Passing (type, 1) or '1type' as a synonym of type is deprecated; in a future version of numpy, it will be understood as (type, (1,)) / '(1,)type'.\n",
      "  _np_quint8 = np.dtype([(\"quint8\", np.uint8, 1)])\n",
      "//anaconda3/lib/python3.7/site-packages/tensorflow/python/framework/dtypes.py:518: FutureWarning: Passing (type, 1) or '1type' as a synonym of type is deprecated; in a future version of numpy, it will be understood as (type, (1,)) / '(1,)type'.\n",
      "  _np_qint16 = np.dtype([(\"qint16\", np.int16, 1)])\n",
      "//anaconda3/lib/python3.7/site-packages/tensorflow/python/framework/dtypes.py:519: FutureWarning: Passing (type, 1) or '1type' as a synonym of type is deprecated; in a future version of numpy, it will be understood as (type, (1,)) / '(1,)type'.\n",
      "  _np_quint16 = np.dtype([(\"quint16\", np.uint16, 1)])\n",
      "//anaconda3/lib/python3.7/site-packages/tensorflow/python/framework/dtypes.py:520: FutureWarning: Passing (type, 1) or '1type' as a synonym of type is deprecated; in a future version of numpy, it will be understood as (type, (1,)) / '(1,)type'.\n",
      "  _np_qint32 = np.dtype([(\"qint32\", np.int32, 1)])\n",
      "//anaconda3/lib/python3.7/site-packages/tensorflow/python/framework/dtypes.py:525: FutureWarning: Passing (type, 1) or '1type' as a synonym of type is deprecated; in a future version of numpy, it will be understood as (type, (1,)) / '(1,)type'.\n",
      "  np_resource = np.dtype([(\"resource\", np.ubyte, 1)])\n",
      "//anaconda3/lib/python3.7/site-packages/tensorboard/compat/tensorflow_stub/dtypes.py:541: FutureWarning: Passing (type, 1) or '1type' as a synonym of type is deprecated; in a future version of numpy, it will be understood as (type, (1,)) / '(1,)type'.\n",
      "  _np_qint8 = np.dtype([(\"qint8\", np.int8, 1)])\n",
      "//anaconda3/lib/python3.7/site-packages/tensorboard/compat/tensorflow_stub/dtypes.py:542: FutureWarning: Passing (type, 1) or '1type' as a synonym of type is deprecated; in a future version of numpy, it will be understood as (type, (1,)) / '(1,)type'.\n",
      "  _np_quint8 = np.dtype([(\"quint8\", np.uint8, 1)])\n",
      "//anaconda3/lib/python3.7/site-packages/tensorboard/compat/tensorflow_stub/dtypes.py:543: FutureWarning: Passing (type, 1) or '1type' as a synonym of type is deprecated; in a future version of numpy, it will be understood as (type, (1,)) / '(1,)type'.\n",
      "  _np_qint16 = np.dtype([(\"qint16\", np.int16, 1)])\n",
      "//anaconda3/lib/python3.7/site-packages/tensorboard/compat/tensorflow_stub/dtypes.py:544: FutureWarning: Passing (type, 1) or '1type' as a synonym of type is deprecated; in a future version of numpy, it will be understood as (type, (1,)) / '(1,)type'.\n",
      "  _np_quint16 = np.dtype([(\"quint16\", np.uint16, 1)])\n",
      "//anaconda3/lib/python3.7/site-packages/tensorboard/compat/tensorflow_stub/dtypes.py:545: FutureWarning: Passing (type, 1) or '1type' as a synonym of type is deprecated; in a future version of numpy, it will be understood as (type, (1,)) / '(1,)type'.\n",
      "  _np_qint32 = np.dtype([(\"qint32\", np.int32, 1)])\n",
      "//anaconda3/lib/python3.7/site-packages/tensorboard/compat/tensorflow_stub/dtypes.py:550: FutureWarning: Passing (type, 1) or '1type' as a synonym of type is deprecated; in a future version of numpy, it will be understood as (type, (1,)) / '(1,)type'.\n",
      "  np_resource = np.dtype([(\"resource\", np.ubyte, 1)])\n"
     ]
    }
   ],
   "source": [
    "import matplotlib.pyplot as plt\n",
    "import pandas_datareader as web\n",
    "from sklearn.preprocessing import MinMaxScaler\n",
    "from keras.models import Sequential\n",
    "from keras.layers import Dense, LSTM\n",
    "import math"
   ]
  },
  {
   "cell_type": "code",
   "execution_count": 30,
   "metadata": {},
   "outputs": [
    {
     "data": {
      "text/plain": [
       "2099"
      ]
     },
     "execution_count": 30,
     "metadata": {},
     "output_type": "execute_result"
    }
   ],
   "source": [
    "# create a new data frame with only 'Close column'\n",
    "data = df.filter(['Open'])\n",
    "dataset = data.values #convert the data frame to a numpy array\n",
    "training_data_len = math.ceil(len(dataset)*.8)  # number of rows to train the model on\n",
    "training_data_len"
   ]
  },
  {
   "cell_type": "code",
   "execution_count": 31,
   "metadata": {},
   "outputs": [
    {
     "data": {
      "text/plain": [
       "array([[0.00104603],\n",
       "       [0.00352942],\n",
       "       [0.00324048],\n",
       "       ...,\n",
       "       [0.91485502],\n",
       "       [0.98233466],\n",
       "       [1.        ]])"
      ]
     },
     "execution_count": 31,
     "metadata": {},
     "output_type": "execute_result"
    }
   ],
   "source": [
    "#scale the data\n",
    "scaler = MinMaxScaler(feature_range=(0,1))\n",
    "scaled_data = scaler.fit_transform(dataset)\n",
    "scaled_data"
   ]
  },
  {
   "cell_type": "code",
   "execution_count": 32,
   "metadata": {},
   "outputs": [],
   "source": [
    "df['Date'] = pd.to_datetime(df['Date'])\n",
    "df.set_index('Date',inplace=True)"
   ]
  },
  {
   "cell_type": "code",
   "execution_count": 33,
   "metadata": {},
   "outputs": [
    {
     "name": "stdout",
     "output_type": "stream",
     "text": [
      "[array([1.04602511e-03, 3.52942038e-03, 3.24048338e-03, 2.50899729e-03,\n",
      "       1.41176815e-03, 9.50931917e-05, 0.00000000e+00, 5.26669985e-04,\n",
      "       6.61994911e-04, 4.57178806e-04, 6.58337481e-04, 1.38982357e-03,\n",
      "       1.66778828e-03, 1.91283612e-03, 2.08839279e-03, 1.65315856e-03,\n",
      "       1.59463968e-03, 1.84700238e-03, 1.96038272e-03, 1.74459432e-03,\n",
      "       1.61292683e-03, 1.69339030e-03, 1.48491676e-03, 1.59463968e-03,\n",
      "       1.77751120e-03, 2.12496709e-03, 1.97501244e-03, 1.44834246e-03,\n",
      "       1.37519385e-03, 1.28375809e-03, 9.32644765e-04, 6.07133455e-04,\n",
      "       7.46115812e-04, 8.44866434e-04, 1.03139539e-03, 1.26181350e-03,\n",
      "       8.77783308e-04, 9.18015043e-04, 1.07894198e-03, 1.13746087e-03,\n",
      "       1.10454400e-03, 1.37153642e-03, 1.32033239e-03, 1.30204524e-03,\n",
      "       1.28741552e-03, 1.27278580e-03, 1.54709308e-03, 1.72996460e-03,\n",
      "       1.63487141e-03, 1.65315856e-03, 1.77751120e-03, 1.68607544e-03,\n",
      "       1.73727946e-03, 1.60926940e-03, 1.77019634e-03, 2.19811570e-03,\n",
      "       1.78482606e-03, 1.65681599e-03, 1.73727946e-03, 1.72996460e-03])]\n",
      "[0.0013715364183937168]\n",
      "\n"
     ]
    }
   ],
   "source": [
    "#create the training dataset\n",
    "#create the scaled training dataset\n",
    "\n",
    "train_data = scaled_data[0:training_data_len, :]\n",
    "#Split the data into x_train, y_train datasets\n",
    "x_train = []\n",
    "y_train = []\n",
    "for i in range(60,len(train_data)):\n",
    "    x_train.append(train_data[i-60:i, 0])\n",
    "    y_train.append(train_data[i,0])\n",
    "    if i<=60:\n",
    "        print(x_train)\n",
    "        print(y_train)\n",
    "        print()"
   ]
  },
  {
   "cell_type": "code",
   "execution_count": 34,
   "metadata": {},
   "outputs": [],
   "source": [
    "#convert the x_train and y_train  to numppy array\n",
    "x_train,y_train = np.array(x_train), np.array(y_train)"
   ]
  },
  {
   "cell_type": "code",
   "execution_count": 35,
   "metadata": {},
   "outputs": [
    {
     "data": {
      "text/plain": [
       "(2039, 60, 1)"
      ]
     },
     "execution_count": 35,
     "metadata": {},
     "output_type": "execute_result"
    }
   ],
   "source": [
    "#reshape the data\n",
    "x_train = np.reshape(x_train,(x_train.shape[0],x_train.shape[1],1))\n",
    "x_train.shape"
   ]
  },
  {
   "cell_type": "code",
   "execution_count": 36,
   "metadata": {},
   "outputs": [
    {
     "name": "stdout",
     "output_type": "stream",
     "text": [
      "WARNING:tensorflow:From //anaconda3/lib/python3.7/site-packages/keras/backend/tensorflow_backend.py:74: The name tf.get_default_graph is deprecated. Please use tf.compat.v1.get_default_graph instead.\n",
      "\n",
      "WARNING:tensorflow:From //anaconda3/lib/python3.7/site-packages/keras/backend/tensorflow_backend.py:517: The name tf.placeholder is deprecated. Please use tf.compat.v1.placeholder instead.\n",
      "\n",
      "WARNING:tensorflow:From //anaconda3/lib/python3.7/site-packages/keras/backend/tensorflow_backend.py:4138: The name tf.random_uniform is deprecated. Please use tf.random.uniform instead.\n",
      "\n"
     ]
    }
   ],
   "source": [
    "#Buil the LSTM model\n",
    "model =Sequential()\n",
    "model.add(LSTM(64,return_sequences=True, input_shape=(x_train.shape[1],1)))\n",
    "model.add(LSTM(64, return_sequences= False))\n",
    "model.add(Dense(32))\n",
    "model.add(Dense(1))"
   ]
  },
  {
   "cell_type": "code",
   "execution_count": 37,
   "metadata": {},
   "outputs": [
    {
     "name": "stdout",
     "output_type": "stream",
     "text": [
      "WARNING:tensorflow:From //anaconda3/lib/python3.7/site-packages/keras/optimizers.py:790: The name tf.train.Optimizer is deprecated. Please use tf.compat.v1.train.Optimizer instead.\n",
      "\n"
     ]
    }
   ],
   "source": [
    "#Complie the model\n",
    "model.compile(optimizer='adam', loss='mean_squared_error')"
   ]
  },
  {
   "cell_type": "code",
   "execution_count": 38,
   "metadata": {},
   "outputs": [
    {
     "name": "stdout",
     "output_type": "stream",
     "text": [
      "WARNING:tensorflow:From //anaconda3/lib/python3.7/site-packages/tensorflow/python/ops/math_grad.py:1250: add_dispatch_support.<locals>.wrapper (from tensorflow.python.ops.array_ops) is deprecated and will be removed in a future version.\n",
      "Instructions for updating:\n",
      "Use tf.where in 2.0, which has the same broadcast rule as np.where\n",
      "WARNING:tensorflow:From //anaconda3/lib/python3.7/site-packages/keras/backend/tensorflow_backend.py:986: The name tf.assign_add is deprecated. Please use tf.compat.v1.assign_add instead.\n",
      "\n",
      "WARNING:tensorflow:From //anaconda3/lib/python3.7/site-packages/keras/backend/tensorflow_backend.py:973: The name tf.assign is deprecated. Please use tf.compat.v1.assign instead.\n",
      "\n",
      "Epoch 1/10\n",
      "2039/2039 [==============================] - 49s 24ms/step - loss: 1.5095e-04\n",
      "Epoch 2/10\n",
      "2039/2039 [==============================] - 44s 22ms/step - loss: 2.6288e-05\n",
      "Epoch 3/10\n",
      "2039/2039 [==============================] - 42s 21ms/step - loss: 2.0440e-05\n",
      "Epoch 4/10\n",
      "2039/2039 [==============================] - 50s 25ms/step - loss: 2.1415e-05\n",
      "Epoch 5/10\n",
      "2039/2039 [==============================] - 64s 31ms/step - loss: 2.1241e-05\n",
      "Epoch 6/10\n",
      "2039/2039 [==============================] - 54s 26ms/step - loss: 1.9167e-05\n",
      "Epoch 7/10\n",
      "2039/2039 [==============================] - 65s 32ms/step - loss: 1.5082e-05\n",
      "Epoch 8/10\n",
      "2039/2039 [==============================] - 50s 25ms/step - loss: 1.8195e-05\n",
      "Epoch 9/10\n",
      "2039/2039 [==============================] - 44s 21ms/step - loss: 1.2145e-05\n",
      "Epoch 10/10\n",
      "2039/2039 [==============================] - 45s 22ms/step - loss: 1.2476e-05\n"
     ]
    },
    {
     "data": {
      "text/plain": [
       "<keras.callbacks.History at 0x1a28a2e358>"
      ]
     },
     "execution_count": 38,
     "metadata": {},
     "output_type": "execute_result"
    }
   ],
   "source": [
    "#Train the model\n",
    "model.fit(x_train,y_train, batch_size=10, epochs=10)"
   ]
  },
  {
   "cell_type": "code",
   "execution_count": 39,
   "metadata": {},
   "outputs": [],
   "source": [
    "test_data= scaled_data[training_data_len-60:, :]\n",
    "#create the data sets x_test and y_test\n",
    "x_test = []\n",
    "y_test = dataset[training_data_len:,:]\n",
    "for i in range(60,len(test_data)):\n",
    "    x_test.append(test_data[i-60:i,0])"
   ]
  },
  {
   "cell_type": "code",
   "execution_count": 40,
   "metadata": {},
   "outputs": [],
   "source": [
    "#convert the data to a numpy array\n",
    "x_test = np.array(x_test)"
   ]
  },
  {
   "cell_type": "code",
   "execution_count": 41,
   "metadata": {},
   "outputs": [
    {
     "data": {
      "text/plain": [
       "(524, 60, 1)"
      ]
     },
     "execution_count": 41,
     "metadata": {},
     "output_type": "execute_result"
    }
   ],
   "source": [
    "x_test = np.reshape(x_test, (x_test.shape[0], x_test.shape[1],1))\n",
    "x_test.shape"
   ]
  },
  {
   "cell_type": "code",
   "execution_count": 42,
   "metadata": {},
   "outputs": [],
   "source": [
    "#predicting the data\n",
    "predictions = model.predict(x_test)\n",
    "predictions = scaler.inverse_transform(predictions)"
   ]
  },
  {
   "cell_type": "code",
   "execution_count": 43,
   "metadata": {},
   "outputs": [
    {
     "data": {
      "text/plain": [
       "67.94493597027282"
      ]
     },
     "execution_count": 43,
     "metadata": {},
     "output_type": "execute_result"
    }
   ],
   "source": [
    "np.mean(predictions - y_test)**2"
   ]
  },
  {
   "cell_type": "code",
   "execution_count": 44,
   "metadata": {},
   "outputs": [
    {
     "name": "stderr",
     "output_type": "stream",
     "text": [
      "//anaconda3/lib/python3.7/site-packages/ipykernel_launcher.py:4: SettingWithCopyWarning: \n",
      "A value is trying to be set on a copy of a slice from a DataFrame.\n",
      "Try using .loc[row_indexer,col_indexer] = value instead\n",
      "\n",
      "See the caveats in the documentation: https://pandas.pydata.org/pandas-docs/stable/user_guide/indexing.html#returning-a-view-versus-a-copy\n",
      "  after removing the cwd from sys.path.\n"
     ]
    },
    {
     "data": {
      "text/plain": [
       "<matplotlib.legend.Legend at 0x1a506a1550>"
      ]
     },
     "execution_count": 44,
     "metadata": {},
     "output_type": "execute_result"
    },
    {
     "data": {
      "image/png": "[encoded data removed]",
      "text/plain": [
       "<Figure size 1152x576 with 1 Axes>"
      ]
     },
     "metadata": {
      "needs_background": "light"
     },
     "output_type": "display_data"
    }
   ],
   "source": [
    "#plot the data\n",
    "train = data[:training_data_len]\n",
    "valid = data[training_data_len:]\n",
    "valid['Predictions'] = predictions\n",
    "#Visialization the data\n",
    "plt.figure(figsize=(16,8))\n",
    "plt.title('Model')\n",
    "plt.xlabel('Date', fontsize=18)\n",
    "plt.ylabel('Open Price' ,fontsize=18)\n",
    "plt.plot(train['Open'],linewidth=3.5)\n",
    "plt.plot(valid[['Open','Predictions']],linewidth=3.5)\n",
    "plt.legend(['Train','Valid','Predictions'], loc='upper center')"
   ]
  },
  {
   "cell_type": "markdown",
   "metadata": {},
   "source": [
    "# 3. FB PROPHET"
   ]
  },
  {
   "cell_type": "code",
   "execution_count": 45,
   "metadata": {},
   "outputs": [
    {
     "name": "stderr",
     "output_type": "stream",
     "text": [
      "Importing plotly failed. Interactive plots will not work.\n"
     ]
    }
   ],
   "source": [
    "import pandas as pd\n",
    "from fbprophet import Prophet"
   ]
  },
  {
   "cell_type": "code",
   "execution_count": 48,
   "metadata": {},
   "outputs": [],
   "source": [
    "df=pd.read_csv('TSLA.csv')\n",
    "\n"
   ]
  },
  {
   "cell_type": "code",
   "execution_count": 49,
   "metadata": {},
   "outputs": [],
   "source": [
    "df1 = df[['Date','Close']]"
   ]
  },
  {
   "cell_type": "code",
   "execution_count": 50,
   "metadata": {},
   "outputs": [
    {
     "data": {
      "text/html": [
       "<div>\n",
       "<style scoped>\n",
       "    .dataframe tbody tr th:only-of-type {\n",
       "        vertical-align: middle;\n",
       "    }\n",
       "\n",
       "    .dataframe tbody tr th {\n",
       "        vertical-align: top;\n",
       "    }\n",
       "\n",
       "    .dataframe thead th {\n",
       "        text-align: right;\n",
       "    }\n",
       "</style>\n",
       "<table border=\"1\" class=\"dataframe\">\n",
       "  <thead>\n",
       "    <tr style=\"text-align: right;\">\n",
       "      <th></th>\n",
       "      <th>Date</th>\n",
       "      <th>Close</th>\n",
       "    </tr>\n",
       "  </thead>\n",
       "  <tbody>\n",
       "    <tr>\n",
       "      <th>0</th>\n",
       "      <td>2010-06-29</td>\n",
       "      <td>4.778</td>\n",
       "    </tr>\n",
       "    <tr>\n",
       "      <th>1</th>\n",
       "      <td>2010-06-30</td>\n",
       "      <td>4.766</td>\n",
       "    </tr>\n",
       "    <tr>\n",
       "      <th>2</th>\n",
       "      <td>2010-07-01</td>\n",
       "      <td>4.392</td>\n",
       "    </tr>\n",
       "    <tr>\n",
       "      <th>3</th>\n",
       "      <td>2010-07-02</td>\n",
       "      <td>3.840</td>\n",
       "    </tr>\n",
       "    <tr>\n",
       "      <th>4</th>\n",
       "      <td>2010-07-06</td>\n",
       "      <td>3.222</td>\n",
       "    </tr>\n",
       "  </tbody>\n",
       "</table>\n",
       "</div>"
      ],
      "text/plain": [
       "         Date  Close\n",
       "0  2010-06-29  4.778\n",
       "1  2010-06-30  4.766\n",
       "2  2010-07-01  4.392\n",
       "3  2010-07-02  3.840\n",
       "4  2010-07-06  3.222"
      ]
     },
     "execution_count": 50,
     "metadata": {},
     "output_type": "execute_result"
    }
   ],
   "source": [
    "df1.head()"
   ]
  },
  {
   "cell_type": "code",
   "execution_count": 52,
   "metadata": {},
   "outputs": [
    {
     "name": "stderr",
     "output_type": "stream",
     "text": [
      "//anaconda3/lib/python3.7/site-packages/pandas/core/frame.py:4301: SettingWithCopyWarning: \n",
      "A value is trying to be set on a copy of a slice from a DataFrame\n",
      "\n",
      "See the caveats in the documentation: https://pandas.pydata.org/pandas-docs/stable/user_guide/indexing.html#returning-a-view-versus-a-copy\n",
      "  errors=errors,\n"
     ]
    }
   ],
   "source": [
    "df1.rename(columns={'Date':'ds','Close':'y'},inplace=True)"
   ]
  },
  {
   "cell_type": "code",
   "execution_count": 53,
   "metadata": {},
   "outputs": [
    {
     "name": "stderr",
     "output_type": "stream",
     "text": [
      "INFO:numexpr.utils:NumExpr defaulting to 8 threads.\n",
      "INFO:fbprophet:Disabling daily seasonality. Run prophet with daily_seasonality=True to override this.\n"
     ]
    },
    {
     "data": {
      "text/plain": [
       "<fbprophet.forecaster.Prophet at 0x1a521a4828>"
      ]
     },
     "execution_count": 53,
     "metadata": {},
     "output_type": "execute_result"
    }
   ],
   "source": [
    "dfwmt = df1[0:]\n",
    "m = Prophet()\n",
    "m.fit(dfwmt)"
   ]
  },
  {
   "cell_type": "code",
   "execution_count": 54,
   "metadata": {},
   "outputs": [
    {
     "data": {
      "text/html": [
       "<div>\n",
       "<style scoped>\n",
       "    .dataframe tbody tr th:only-of-type {\n",
       "        vertical-align: middle;\n",
       "    }\n",
       "\n",
       "    .dataframe tbody tr th {\n",
       "        vertical-align: top;\n",
       "    }\n",
       "\n",
       "    .dataframe thead th {\n",
       "        text-align: right;\n",
       "    }\n",
       "</style>\n",
       "<table border=\"1\" class=\"dataframe\">\n",
       "  <thead>\n",
       "    <tr style=\"text-align: right;\">\n",
       "      <th></th>\n",
       "      <th>ds</th>\n",
       "    </tr>\n",
       "  </thead>\n",
       "  <tbody>\n",
       "    <tr>\n",
       "      <th>2888</th>\n",
       "      <td>2021-08-18</td>\n",
       "    </tr>\n",
       "    <tr>\n",
       "      <th>2889</th>\n",
       "      <td>2021-08-19</td>\n",
       "    </tr>\n",
       "    <tr>\n",
       "      <th>2890</th>\n",
       "      <td>2021-08-20</td>\n",
       "    </tr>\n",
       "    <tr>\n",
       "      <th>2891</th>\n",
       "      <td>2021-08-21</td>\n",
       "    </tr>\n",
       "    <tr>\n",
       "      <th>2892</th>\n",
       "      <td>2021-08-22</td>\n",
       "    </tr>\n",
       "  </tbody>\n",
       "</table>\n",
       "</div>"
      ],
      "text/plain": [
       "             ds\n",
       "2888 2021-08-18\n",
       "2889 2021-08-19\n",
       "2890 2021-08-20\n",
       "2891 2021-08-21\n",
       "2892 2021-08-22"
      ]
     },
     "execution_count": 54,
     "metadata": {},
     "output_type": "execute_result"
    }
   ],
   "source": [
    "future1 = m.make_future_dataframe(periods=270)\n",
    "future1.tail()"
   ]
  },
  {
   "cell_type": "code",
   "execution_count": 55,
   "metadata": {},
   "outputs": [
    {
     "data": {
      "text/html": [
       "<div>\n",
       "<style scoped>\n",
       "    .dataframe tbody tr th:only-of-type {\n",
       "        vertical-align: middle;\n",
       "    }\n",
       "\n",
       "    .dataframe tbody tr th {\n",
       "        vertical-align: top;\n",
       "    }\n",
       "\n",
       "    .dataframe thead th {\n",
       "        text-align: right;\n",
       "    }\n",
       "</style>\n",
       "<table border=\"1\" class=\"dataframe\">\n",
       "  <thead>\n",
       "    <tr style=\"text-align: right;\">\n",
       "      <th></th>\n",
       "      <th>ds</th>\n",
       "      <th>yhat</th>\n",
       "      <th>yhat_lower</th>\n",
       "      <th>yhat_upper</th>\n",
       "    </tr>\n",
       "  </thead>\n",
       "  <tbody>\n",
       "    <tr>\n",
       "      <th>0</th>\n",
       "      <td>2010-06-29</td>\n",
       "      <td>-1.328114</td>\n",
       "      <td>-47.567197</td>\n",
       "      <td>46.307414</td>\n",
       "    </tr>\n",
       "    <tr>\n",
       "      <th>1</th>\n",
       "      <td>2010-06-30</td>\n",
       "      <td>-0.540227</td>\n",
       "      <td>-42.971511</td>\n",
       "      <td>47.354997</td>\n",
       "    </tr>\n",
       "    <tr>\n",
       "      <th>2</th>\n",
       "      <td>2010-07-01</td>\n",
       "      <td>-0.517865</td>\n",
       "      <td>-46.437579</td>\n",
       "      <td>43.635397</td>\n",
       "    </tr>\n",
       "    <tr>\n",
       "      <th>3</th>\n",
       "      <td>2010-07-02</td>\n",
       "      <td>-0.656819</td>\n",
       "      <td>-47.851795</td>\n",
       "      <td>44.655624</td>\n",
       "    </tr>\n",
       "    <tr>\n",
       "      <th>4</th>\n",
       "      <td>2010-07-06</td>\n",
       "      <td>1.539728</td>\n",
       "      <td>-43.881169</td>\n",
       "      <td>47.885749</td>\n",
       "    </tr>\n",
       "  </tbody>\n",
       "</table>\n",
       "</div>"
      ],
      "text/plain": [
       "          ds      yhat  yhat_lower  yhat_upper\n",
       "0 2010-06-29 -1.328114  -47.567197   46.307414\n",
       "1 2010-06-30 -0.540227  -42.971511   47.354997\n",
       "2 2010-07-01 -0.517865  -46.437579   43.635397\n",
       "3 2010-07-02 -0.656819  -47.851795   44.655624\n",
       "4 2010-07-06  1.539728  -43.881169   47.885749"
      ]
     },
     "execution_count": 55,
     "metadata": {},
     "output_type": "execute_result"
    }
   ],
   "source": [
    "forecast1 = m.predict(future1)\n",
    "forecast1[['ds', 'yhat', 'yhat_lower', 'yhat_upper']].head()"
   ]
  },
  {
   "cell_type": "code",
   "execution_count": 56,
   "metadata": {},
   "outputs": [
    {
     "data": {
      "image/png": "[encoded data removed]",
      "text/plain": [
       "<Figure size 720x432 with 1 Axes>"
      ]
     },
     "execution_count": 56,
     "metadata": {},
     "output_type": "execute_result"
    },
    {
     "data": {
      "image/png": "[encoded data removed]",
      "text/plain": [
       "<Figure size 720x432 with 1 Axes>"
      ]
     },
     "metadata": {},
     "output_type": "display_data"
    }
   ],
   "source": [
    "m.plot(forecast1)"
   ]
  },
  {
   "cell_type": "code",
   "execution_count": 57,
   "metadata": {},
   "outputs": [
    {
     "name": "stderr",
     "output_type": "stream",
     "text": [
      "//anaconda3/lib/python3.7/site-packages/ipykernel_launcher.py:5: SettingWithCopyWarning: \n",
      "A value is trying to be set on a copy of a slice from a DataFrame.\n",
      "Try using .loc[row_indexer,col_indexer] = value instead\n",
      "\n",
      "See the caveats in the documentation: https://pandas.pydata.org/pandas-docs/stable/user_guide/indexing.html#returning-a-view-versus-a-copy\n",
      "  \"\"\"\n",
      "//anaconda3/lib/python3.7/site-packages/ipykernel_launcher.py:7: SettingWithCopyWarning: \n",
      "A value is trying to be set on a copy of a slice from a DataFrame.\n",
      "Try using .loc[row_indexer,col_indexer] = value instead\n",
      "\n",
      "See the caveats in the documentation: https://pandas.pydata.org/pandas-docs/stable/user_guide/indexing.html#returning-a-view-versus-a-copy\n",
      "  import sys\n"
     ]
    }
   ],
   "source": [
    "ll = []\n",
    "for i in df1['ds']:\n",
    "    ll.append(str(i))\n",
    "    \n",
    "df1['strdate'] = ll\n",
    "\n",
    "df1['strdate'] = df1['strdate'].str.replace(' 00:00:00','')\n",
    "\n",
    "ll1 = []\n",
    "for i in forecast1['ds']:\n",
    "    ll1.append(str(i))\n",
    "    \n",
    "forecast1['strdate'] = ll1\n",
    "\n",
    "forecast1['strdate'] = forecast1['strdate'].str.replace(' 00:00:00','')"
   ]
  },
  {
   "cell_type": "code",
   "execution_count": 58,
   "metadata": {},
   "outputs": [
    {
     "data": {
      "text/html": [
       "<div>\n",
       "<style scoped>\n",
       "    .dataframe tbody tr th:only-of-type {\n",
       "        vertical-align: middle;\n",
       "    }\n",
       "\n",
       "    .dataframe tbody tr th {\n",
       "        vertical-align: top;\n",
       "    }\n",
       "\n",
       "    .dataframe thead th {\n",
       "        text-align: right;\n",
       "    }\n",
       "</style>\n",
       "<table border=\"1\" class=\"dataframe\">\n",
       "  <thead>\n",
       "    <tr style=\"text-align: right;\">\n",
       "      <th></th>\n",
       "      <th>y</th>\n",
       "      <th>strdate</th>\n",
       "      <th>yhat</th>\n",
       "      <th>yhat_lower</th>\n",
       "      <th>yhat_upper</th>\n",
       "    </tr>\n",
       "    <tr>\n",
       "      <th>ds</th>\n",
       "      <th></th>\n",
       "      <th></th>\n",
       "      <th></th>\n",
       "      <th></th>\n",
       "      <th></th>\n",
       "    </tr>\n",
       "  </thead>\n",
       "  <tbody>\n",
       "    <tr>\n",
       "      <th>2010-06-29</th>\n",
       "      <td>4.778</td>\n",
       "      <td>2010-06-29</td>\n",
       "      <td>-1.328114</td>\n",
       "      <td>-47.567197</td>\n",
       "      <td>46.307414</td>\n",
       "    </tr>\n",
       "    <tr>\n",
       "      <th>2010-06-30</th>\n",
       "      <td>4.766</td>\n",
       "      <td>2010-06-30</td>\n",
       "      <td>-0.540227</td>\n",
       "      <td>-42.971511</td>\n",
       "      <td>47.354997</td>\n",
       "    </tr>\n",
       "    <tr>\n",
       "      <th>2010-07-01</th>\n",
       "      <td>4.392</td>\n",
       "      <td>2010-07-01</td>\n",
       "      <td>-0.517865</td>\n",
       "      <td>-46.437579</td>\n",
       "      <td>43.635397</td>\n",
       "    </tr>\n",
       "    <tr>\n",
       "      <th>2010-07-02</th>\n",
       "      <td>3.840</td>\n",
       "      <td>2010-07-02</td>\n",
       "      <td>-0.656819</td>\n",
       "      <td>-47.851795</td>\n",
       "      <td>44.655624</td>\n",
       "    </tr>\n",
       "    <tr>\n",
       "      <th>2010-07-06</th>\n",
       "      <td>3.222</td>\n",
       "      <td>2010-07-06</td>\n",
       "      <td>1.539728</td>\n",
       "      <td>-43.881169</td>\n",
       "      <td>47.885749</td>\n",
       "    </tr>\n",
       "  </tbody>\n",
       "</table>\n",
       "</div>"
      ],
      "text/plain": [
       "                y     strdate      yhat  yhat_lower  yhat_upper\n",
       "ds                                                             \n",
       "2010-06-29  4.778  2010-06-29 -1.328114  -47.567197   46.307414\n",
       "2010-06-30  4.766  2010-06-30 -0.540227  -42.971511   47.354997\n",
       "2010-07-01  4.392  2010-07-01 -0.517865  -46.437579   43.635397\n",
       "2010-07-02  3.840  2010-07-02 -0.656819  -47.851795   44.655624\n",
       "2010-07-06  3.222  2010-07-06  1.539728  -43.881169   47.885749"
      ]
     },
     "execution_count": 58,
     "metadata": {},
     "output_type": "execute_result"
    }
   ],
   "source": [
    "df1_f = pd.merge(df1, forecast1[['strdate', 'yhat', 'yhat_lower', 'yhat_upper']], on='strdate')\n",
    "df1_f = df1_f.set_index('ds')\n",
    "df1_f.head()"
   ]
  },
  {
   "cell_type": "code",
   "execution_count": 59,
   "metadata": {},
   "outputs": [
    {
     "data": {
      "text/plain": [
       "<Figure size 1600x1600 with 0 Axes>"
      ]
     },
     "execution_count": 59,
     "metadata": {},
     "output_type": "execute_result"
    },
    {
     "data": {
      "text/plain": [
       "<Figure size 1600x1600 with 0 Axes>"
      ]
     },
     "metadata": {},
     "output_type": "display_data"
    }
   ],
   "source": [
    "from matplotlib.pyplot import figure\n",
    "figure(num=None, figsize=(20,20), dpi=80, facecolor='w', edgecolor='k')"
   ]
  },
  {
   "cell_type": "code",
   "execution_count": 60,
   "metadata": {},
   "outputs": [
    {
     "name": "stderr",
     "output_type": "stream",
     "text": [
      "//anaconda3/lib/python3.7/site-packages/pandas/plotting/_matplotlib/core.py:1235: UserWarning: FixedFormatter should only be used together with FixedLocator\n",
      "  ax.set_xticklabels(xticklabels)\n"
     ]
    },
    {
     "data": {
      "text/plain": [
       "<Figure size 1440x1440 with 0 Axes>"
      ]
     },
     "execution_count": 60,
     "metadata": {},
     "output_type": "execute_result"
    },
    {
     "data": {
      "text/plain": [
       "<Figure size 1440x1440 with 0 Axes>"
      ]
     },
     "metadata": {},
     "output_type": "display_data"
    },
    {
     "data": {
      "image/png": "[encoded data removed]",
      "text/plain": [
       "<Figure size 432x288 with 1 Axes>"
      ]
     },
     "metadata": {
      "needs_background": "light"
     },
     "output_type": "display_data"
    },
    {
     "data": {
      "text/plain": [
       "<Figure size 1440x1440 with 0 Axes>"
      ]
     },
     "metadata": {},
     "output_type": "display_data"
    }
   ],
   "source": [
    "plt.figure(figsize=(20,20))\n",
    "df1_f.loc[:,[\"y\", \"yhat\"]].plot()\n",
    "plt.figure(figsize=(20,20))"
   ]
  },
  {
   "cell_type": "code",
   "execution_count": 61,
   "metadata": {},
   "outputs": [
    {
     "data": {
      "image/png": "[encoded data removed]",
      "text/plain": [
       "<Figure size 648x648 with 3 Axes>"
      ]
     },
     "metadata": {},
     "output_type": "display_data"
    }
   ],
   "source": [
    "fig1 = m.plot_components(forecast1)"
   ]
  },
  {
   "cell_type": "code",
   "execution_count": null,
   "metadata": {},
   "outputs": [],
   "source": []
  },
  {
   "cell_type": "markdown",
   "metadata": {},
   "source": [
    "\n",
    "Data Sources:\n",
    "\n",
    "Transportation Research Center at Argonne National Laboratory, anl.gov/es/light-duty-electric-drive-vehicles-monthly-sales-updates\n",
    "\n",
    "U.S.Department of Energy: Alternative Fuels Data Center\n",
    "afdc.energy.gov/data\n",
    "\n",
    "Center for Sustainable Energy (2019). California Air Resources Board Clean Vehicle Rebate Project, EV Consumer Survey Dataset. Retrieved [date retrieved] from http://cleanvehiclerebate.org/eng/survey-dashboard/ev\n",
    "\n",
    "Yahoo Finance for Tesla Stock\n",
    "\n",
    "Statistica\n"
   ]
  },
  {
   "cell_type": "code",
   "execution_count": null,
   "metadata": {},
   "outputs": [],
   "source": []
  }
 ],
 "metadata": {
  "kernelspec": {
   "display_name": "Python 3",
   "language": "python",
   "name": "python3"
  },
  "language_info": {
   "codemirror_mode": {
    "name": "ipython",
    "version": 3
   },
   "file_extension": ".py",
   "mimetype": "text/x-python",
   "name": "python",
   "nbconvert_exporter": "python",
   "pygments_lexer": "ipython3",
   "version": "3.8.3"
  }
 },
 "nbformat": 4,
 "nbformat_minor": 4
}
