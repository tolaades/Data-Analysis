{
  "nbformat": 4,
  "nbformat_minor": 0,
  "metadata": {
    "kernelspec": {
      "display_name": "Python 3",
      "language": "python",
      "name": "python3"
    },
    "language_info": {
      "codemirror_mode": {
        "name": "ipython",
        "version": 3
      },
      "file_extension": ".py",
      "mimetype": "text/x-python",
      "name": "python",
      "nbconvert_exporter": "python",
      "pygments_lexer": "ipython3",
      "version": "3.7.3"
    },
    "colab": {
      "name": "Colab_Neural_Network_Application_Predicting_SP500.ipynb",
      "provenance": [],
      "toc_visible": true
    }
  },
  "cells": [
    {
      "cell_type": "markdown",
      "metadata": {
        "id": "EGp7bdra_0aL"
      },
      "source": [
        "# Neural Network Application: Predicting SP500"
      ]
    },
    {
      "cell_type": "markdown",
      "metadata": {
        "id": "oJVqIpnM_0aN"
      },
      "source": [
        "In this exercise, you will build a neural network that aims to predict whether the SP500 index will go up or down based on the daily returns in the previous five days. "
      ]
    },
    {
      "cell_type": "markdown",
      "metadata": {
        "id": "ihyU6YXp_0aO"
      },
      "source": [
        "###  We first import python libraries: NumPy and Pandas.\n",
        "\n",
        "\"NumPy is the fundamental package for scientific computing with Python.\"\n",
        "\n",
        "\"Pandas is a fast, powerful, flexible and easy to use open source data analysis and manipulation tool, built on top of the Python programming language.\""
      ]
    },
    {
      "cell_type": "code",
      "metadata": {
        "id": "Acrq2qxg_0aO"
      },
      "source": [
        "import numpy as np\n",
        "import pandas as pd"
      ],
      "execution_count": 1,
      "outputs": []
    },
    {
      "cell_type": "markdown",
      "metadata": {
        "id": "gauewT_b_0aP"
      },
      "source": [
        "### We then import Keras models: \"Sequential\" and \"Dense\".\n",
        "\n",
        "The \"Sequential\" model is a linear stack of layers.\n",
        "\n",
        "The \"Dense\" class use fully connected layers. In a fully connected layer, each neuron receives input from every element of the previous layer."
      ]
    },
    {
      "cell_type": "code",
      "metadata": {
        "id": "0z6xLCE8Dw93"
      },
      "source": [
        "from tensorflow.keras.models import Sequential\n",
        "from tensorflow.keras.layers import Dense"
      ],
      "execution_count": 2,
      "outputs": []
    },
    {
      "cell_type": "code",
      "metadata": {
        "id": "Ov_QyzgxERfD",
        "colab": {
          "base_uri": "https://localhost:8080/"
        },
        "outputId": "619642ed-2f1f-48a0-91de-b104d87cf90f"
      },
      "source": [
        "from google.colab import drive \n",
        "drive.mount('/content/drive')"
      ],
      "execution_count": 3,
      "outputs": [
        {
          "output_type": "stream",
          "text": [
            "Drive already mounted at /content/drive; to attempt to forcibly remount, call drive.mount(\"/content/drive\", force_remount=True).\n"
          ],
          "name": "stdout"
        }
      ]
    },
    {
      "cell_type": "markdown",
      "metadata": {
        "id": "zhApEYc1_0aQ"
      },
      "source": [
        "### Now we import the dataset \"SP500dailyinputdata.csv\". \n",
        "This dataset includes a variable that indicates whether the S&P500 index goes up or down in a given day and the daily returns in the previous 5 days. The sample period is from January 2015 to December 2019. \n",
        "\n",
        "### YOUR TURN\n",
        "To import \"SP500dailyinputdata.csv\", complete the next line by replacing \"?\"."
      ]
    },
    {
      "cell_type": "code",
      "metadata": {
        "id": "Wi5uywNuDw97"
      },
      "source": [
        "dataset = pd.read_csv(\"/content/drive/My Drive/SP500dailyinputdata.csv\")"
      ],
      "execution_count": 4,
      "outputs": []
    },
    {
      "cell_type": "markdown",
      "metadata": {
        "id": "UgbZmT-1_0aQ"
      },
      "source": [
        "Variable description:\n",
        "\n",
        "UpDown = indicates whether the S&P index goes up or down in day t. (0: down, 1: up)\n",
        "\n",
        "lag1return = the return of the S&P index in t-1.\n",
        "\n",
        "lag2return = the return of the S&P index in t-2.\n",
        "\n",
        "lag3return = the return of the S&P index in t-3.\n",
        "\n",
        "lag4return = the return of the S&P index in t-4.\n",
        "\n",
        "lag5return = the return of the S&P index in t-5.\n"
      ]
    },
    {
      "cell_type": "markdown",
      "metadata": {
        "id": "KHMj_ADZ_0aR"
      },
      "source": [
        "### We generate two datasets X and y from the original dataset.  \n",
        "\n",
        "X is the dataset that contains the independent (predictive) variables. \n",
        "\n",
        "y is the dataset that contains the outcome variable \"UpDown\". \n",
        "\n",
        "### YOUR TURN\n",
        "To generate two datasets X and y, complete the next line by replacing \"?\"."
      ]
    },
    {
      "cell_type": "code",
      "metadata": {
        "id": "wZn54cO__0aR"
      },
      "source": [
        "X = dataset.drop(['UpDown'],axis=1)\n",
        "y = dataset['UpDown']"
      ],
      "execution_count": 7,
      "outputs": []
    },
    {
      "cell_type": "markdown",
      "metadata": {
        "id": "RSSEUlr3_0aR"
      },
      "source": [
        "### Now we define the neural network.  "
      ]
    },
    {
      "cell_type": "code",
      "metadata": {
        "id": "h_57NDmM_0aR"
      },
      "source": [
        "model = Sequential()"
      ],
      "execution_count": 11,
      "outputs": []
    },
    {
      "cell_type": "markdown",
      "metadata": {
        "id": "rGMPGu2s_0aS"
      },
      "source": [
        "## YOUR TURN"
      ]
    },
    {
      "cell_type": "markdown",
      "metadata": {
        "id": "FgwI9r3w_0aS"
      },
      "source": [
        "To add a layer with 8 neurons to your neural network, complete the next line by replacing \"?\"."
      ]
    },
    {
      "cell_type": "code",
      "metadata": {
        "id": "F2_wI4l1_0aS"
      },
      "source": [
        "model.add(Dense(8, input_dim=5, activation='relu'))"
      ],
      "execution_count": 12,
      "outputs": []
    },
    {
      "cell_type": "markdown",
      "metadata": {
        "id": "bAIDLftO_0aS"
      },
      "source": [
        "To add another layer with 6 neurons to your neural network, complete the next line by replacing \"?\"."
      ]
    },
    {
      "cell_type": "code",
      "metadata": {
        "id": "v3sxNHuJ_0aS"
      },
      "source": [
        "model.add(Dense(6, activation='relu'))"
      ],
      "execution_count": 13,
      "outputs": []
    },
    {
      "cell_type": "code",
      "metadata": {
        "id": "7IK80lX__0aT"
      },
      "source": [
        "model.add(Dense(4, activation='relu'))\n",
        "model.add(Dense(1, activation='sigmoid'))"
      ],
      "execution_count": 14,
      "outputs": []
    },
    {
      "cell_type": "code",
      "metadata": {
        "id": "WpNNTtQs_0aT"
      },
      "source": [
        "model.compile(loss='binary_crossentropy', optimizer='adam', metrics=['accuracy'])"
      ],
      "execution_count": 15,
      "outputs": []
    },
    {
      "cell_type": "markdown",
      "metadata": {
        "id": "FSraMki4_0aT"
      },
      "source": [
        "\"input_dim\" is the number of variables in X dataset.\n",
        "\n",
        "Two activation functions used here include  \"ReLu\" and \"sigmoid\". We have learned \"sigmoid\" in our class.  \n",
        "\n",
        "If you are interested in learning \"ReLu\", here is a good website:\n",
        "\n",
        "https://www.kaggle.com/dansbecker/rectified-linear-units-relu-in-deep-learning\n",
        "\n",
        "(\"ReLu\" is not required by this class). \n",
        "\n",
        "A sigmoid works well for a classifier. ReLu is less computationally expensive than sigmoid because it involves simpler mathematical operations.\n",
        "\n",
        "The loss function is \"binary_crossentropy\".  The optimizer is \"Adam\"."
      ]
    },
    {
      "cell_type": "markdown",
      "metadata": {
        "id": "QPPRyV63_0aT"
      },
      "source": [
        "### Fit the neural network model on the dataset"
      ]
    },
    {
      "cell_type": "code",
      "metadata": {
        "id": "SeuZGq06_0aT",
        "colab": {
          "base_uri": "https://localhost:8080/"
        },
        "outputId": "86ff4910-c4b2-4007-9b9e-846f7d778d25"
      },
      "source": [
        "model.fit(X, y, epochs=150, verbose=0)"
      ],
      "execution_count": 16,
      "outputs": [
        {
          "output_type": "execute_result",
          "data": {
            "text/plain": [
              "<tensorflow.python.keras.callbacks.History at 0x7ff288e9da20>"
            ]
          },
          "metadata": {
            "tags": []
          },
          "execution_count": 16
        }
      ]
    },
    {
      "cell_type": "markdown",
      "metadata": {
        "id": "JwxqVyFM_0aU"
      },
      "source": [
        "epochs: Number of epochs to train the model. An epoch is an iteration over the entire x and y data provided.\n",
        "\n",
        "verbose: display option. 0 = silent, 1 = progress bar, 2 = one line per epoch."
      ]
    },
    {
      "cell_type": "markdown",
      "metadata": {
        "id": "zGJTvaZJ_0aU"
      },
      "source": [
        "### Evaluate the neural network model"
      ]
    },
    {
      "cell_type": "code",
      "metadata": {
        "id": "6OEWnvN9_0aU",
        "colab": {
          "base_uri": "https://localhost:8080/"
        },
        "outputId": "3f1bf931-5bc7-4d86-dc3e-c5a0694d57a7"
      },
      "source": [
        "loss, accuracy = model.evaluate(X, y)"
      ],
      "execution_count": 17,
      "outputs": [
        {
          "output_type": "stream",
          "text": [
            "40/40 [==============================] - 0s 961us/step - loss: 0.6861 - accuracy: 0.5388\n"
          ],
          "name": "stdout"
        }
      ]
    },
    {
      "cell_type": "code",
      "metadata": {
        "id": "ousKugE8_0aU",
        "colab": {
          "base_uri": "https://localhost:8080/"
        },
        "outputId": "9b2b68b8-720b-4e26-d5ea-3818f38475f2"
      },
      "source": [
        "print(accuracy)"
      ],
      "execution_count": 18,
      "outputs": [
        {
          "output_type": "stream",
          "text": [
            "0.538769006729126\n"
          ],
          "name": "stdout"
        }
      ]
    },
    {
      "cell_type": "markdown",
      "metadata": {
        "id": "lVKeUk5f_0aU"
      },
      "source": [
        "### YOUR TURN\n",
        "Just double click the text below and you will be able to fill in the blanks. "
      ]
    },
    {
      "cell_type": "markdown",
      "metadata": {
        "id": "-YKAbfHa_0aV"
      },
      "source": [
        "The accuracy of the predictions is **0.539**.  This means that **53.9 %** of cases are predicted correctly. "
      ]
    },
    {
      "cell_type": "markdown",
      "metadata": {
        "id": "OHR4jSol_0aV"
      },
      "source": [
        "Is market efficient? (you don't have to answer it here. Just give some thoughts...). "
      ]
    },
    {
      "cell_type": "markdown",
      "metadata": {
        "id": "CCb3J88c_0aV"
      },
      "source": [
        "### Congratulations! Now you have successfully built a neural network model!"
      ]
    }
  ]
}