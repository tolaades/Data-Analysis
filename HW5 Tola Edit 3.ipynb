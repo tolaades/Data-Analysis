{
 "cells": [
  {
   "cell_type": "code",
   "execution_count": 56,
   "metadata": {},
   "outputs": [],
   "source": [
    "# Importing Data Analysis Librarys\n",
    "import numpy as np\n",
    "import pandas as pd\n",
    "import matplotlib.pyplot as plt\n",
    "import seaborn as sns\n",
    "%matplotlib inline\n",
    "import warnings\n",
    "warnings.filterwarnings('ignore')\n"
   ]
  },
  {
   "cell_type": "code",
   "execution_count": 57,
   "metadata": {},
   "outputs": [
    {
     "data": {
      "text/html": [
       "<div>\n",
       "<style scoped>\n",
       "    .dataframe tbody tr th:only-of-type {\n",
       "        vertical-align: middle;\n",
       "    }\n",
       "\n",
       "    .dataframe tbody tr th {\n",
       "        vertical-align: top;\n",
       "    }\n",
       "\n",
       "    .dataframe thead th {\n",
       "        text-align: right;\n",
       "    }\n",
       "</style>\n",
       "<table border=\"1\" class=\"dataframe\">\n",
       "  <thead>\n",
       "    <tr style=\"text-align: right;\">\n",
       "      <th></th>\n",
       "      <th>age</th>\n",
       "      <th>job</th>\n",
       "      <th>marital</th>\n",
       "      <th>education</th>\n",
       "      <th>default</th>\n",
       "      <th>housing</th>\n",
       "      <th>loan</th>\n",
       "      <th>contact</th>\n",
       "      <th>month</th>\n",
       "      <th>day_of_week</th>\n",
       "      <th>...</th>\n",
       "      <th>campaign</th>\n",
       "      <th>pdays</th>\n",
       "      <th>previous</th>\n",
       "      <th>poutcome</th>\n",
       "      <th>emp.var.rate</th>\n",
       "      <th>cons.price.idx</th>\n",
       "      <th>cons.conf.idx</th>\n",
       "      <th>euribor3m</th>\n",
       "      <th>nr.employed</th>\n",
       "      <th>y</th>\n",
       "    </tr>\n",
       "  </thead>\n",
       "  <tbody>\n",
       "    <tr>\n",
       "      <th>0</th>\n",
       "      <td>56</td>\n",
       "      <td>housemaid</td>\n",
       "      <td>married</td>\n",
       "      <td>basic.4y</td>\n",
       "      <td>no</td>\n",
       "      <td>no</td>\n",
       "      <td>no</td>\n",
       "      <td>telephone</td>\n",
       "      <td>may</td>\n",
       "      <td>mon</td>\n",
       "      <td>...</td>\n",
       "      <td>1</td>\n",
       "      <td>999</td>\n",
       "      <td>0</td>\n",
       "      <td>nonexistent</td>\n",
       "      <td>1.1</td>\n",
       "      <td>93.994</td>\n",
       "      <td>-36.4</td>\n",
       "      <td>4.857</td>\n",
       "      <td>5191.0</td>\n",
       "      <td>no</td>\n",
       "    </tr>\n",
       "    <tr>\n",
       "      <th>1</th>\n",
       "      <td>57</td>\n",
       "      <td>services</td>\n",
       "      <td>married</td>\n",
       "      <td>high.school</td>\n",
       "      <td>unknown</td>\n",
       "      <td>no</td>\n",
       "      <td>no</td>\n",
       "      <td>telephone</td>\n",
       "      <td>may</td>\n",
       "      <td>mon</td>\n",
       "      <td>...</td>\n",
       "      <td>1</td>\n",
       "      <td>999</td>\n",
       "      <td>0</td>\n",
       "      <td>nonexistent</td>\n",
       "      <td>1.1</td>\n",
       "      <td>93.994</td>\n",
       "      <td>-36.4</td>\n",
       "      <td>4.857</td>\n",
       "      <td>5191.0</td>\n",
       "      <td>no</td>\n",
       "    </tr>\n",
       "    <tr>\n",
       "      <th>2</th>\n",
       "      <td>37</td>\n",
       "      <td>services</td>\n",
       "      <td>married</td>\n",
       "      <td>high.school</td>\n",
       "      <td>no</td>\n",
       "      <td>yes</td>\n",
       "      <td>no</td>\n",
       "      <td>telephone</td>\n",
       "      <td>may</td>\n",
       "      <td>mon</td>\n",
       "      <td>...</td>\n",
       "      <td>1</td>\n",
       "      <td>999</td>\n",
       "      <td>0</td>\n",
       "      <td>nonexistent</td>\n",
       "      <td>1.1</td>\n",
       "      <td>93.994</td>\n",
       "      <td>-36.4</td>\n",
       "      <td>4.857</td>\n",
       "      <td>5191.0</td>\n",
       "      <td>no</td>\n",
       "    </tr>\n",
       "    <tr>\n",
       "      <th>3</th>\n",
       "      <td>40</td>\n",
       "      <td>admin.</td>\n",
       "      <td>married</td>\n",
       "      <td>basic.6y</td>\n",
       "      <td>no</td>\n",
       "      <td>no</td>\n",
       "      <td>no</td>\n",
       "      <td>telephone</td>\n",
       "      <td>may</td>\n",
       "      <td>mon</td>\n",
       "      <td>...</td>\n",
       "      <td>1</td>\n",
       "      <td>999</td>\n",
       "      <td>0</td>\n",
       "      <td>nonexistent</td>\n",
       "      <td>1.1</td>\n",
       "      <td>93.994</td>\n",
       "      <td>-36.4</td>\n",
       "      <td>4.857</td>\n",
       "      <td>5191.0</td>\n",
       "      <td>no</td>\n",
       "    </tr>\n",
       "    <tr>\n",
       "      <th>4</th>\n",
       "      <td>56</td>\n",
       "      <td>services</td>\n",
       "      <td>married</td>\n",
       "      <td>high.school</td>\n",
       "      <td>no</td>\n",
       "      <td>no</td>\n",
       "      <td>yes</td>\n",
       "      <td>telephone</td>\n",
       "      <td>may</td>\n",
       "      <td>mon</td>\n",
       "      <td>...</td>\n",
       "      <td>1</td>\n",
       "      <td>999</td>\n",
       "      <td>0</td>\n",
       "      <td>nonexistent</td>\n",
       "      <td>1.1</td>\n",
       "      <td>93.994</td>\n",
       "      <td>-36.4</td>\n",
       "      <td>4.857</td>\n",
       "      <td>5191.0</td>\n",
       "      <td>no</td>\n",
       "    </tr>\n",
       "  </tbody>\n",
       "</table>\n",
       "<p>5 rows × 21 columns</p>\n",
       "</div>"
      ],
      "text/plain": [
       "   age        job  marital    education  default housing loan    contact  \\\n",
       "0   56  housemaid  married     basic.4y       no      no   no  telephone   \n",
       "1   57   services  married  high.school  unknown      no   no  telephone   \n",
       "2   37   services  married  high.school       no     yes   no  telephone   \n",
       "3   40     admin.  married     basic.6y       no      no   no  telephone   \n",
       "4   56   services  married  high.school       no      no  yes  telephone   \n",
       "\n",
       "  month day_of_week  ...  campaign  pdays  previous     poutcome emp.var.rate  \\\n",
       "0   may         mon  ...         1    999         0  nonexistent          1.1   \n",
       "1   may         mon  ...         1    999         0  nonexistent          1.1   \n",
       "2   may         mon  ...         1    999         0  nonexistent          1.1   \n",
       "3   may         mon  ...         1    999         0  nonexistent          1.1   \n",
       "4   may         mon  ...         1    999         0  nonexistent          1.1   \n",
       "\n",
       "   cons.price.idx  cons.conf.idx  euribor3m  nr.employed   y  \n",
       "0          93.994          -36.4      4.857       5191.0  no  \n",
       "1          93.994          -36.4      4.857       5191.0  no  \n",
       "2          93.994          -36.4      4.857       5191.0  no  \n",
       "3          93.994          -36.4      4.857       5191.0  no  \n",
       "4          93.994          -36.4      4.857       5191.0  no  \n",
       "\n",
       "[5 rows x 21 columns]"
      ]
     },
     "execution_count": 57,
     "metadata": {},
     "output_type": "execute_result"
    }
   ],
   "source": [
    "bank = pd.read_csv('bank-additional-full.csv', sep = ';')\n",
    "#Converting dependent variable categorical to dummy\n",
    "y = pd.get_dummies(bank['y'], columns = ['y'], prefix = ['y'], drop_first = True)\n",
    "bank.head()"
   ]
  },
  {
   "cell_type": "code",
   "execution_count": 58,
   "metadata": {},
   "outputs": [
    {
     "name": "stdout",
     "output_type": "stream",
     "text": [
      "<class 'pandas.core.frame.DataFrame'>\n",
      "RangeIndex: 41188 entries, 0 to 41187\n",
      "Data columns (total 21 columns):\n",
      " #   Column          Non-Null Count  Dtype  \n",
      "---  ------          --------------  -----  \n",
      " 0   age             41188 non-null  int64  \n",
      " 1   job             41188 non-null  object \n",
      " 2   marital         41188 non-null  object \n",
      " 3   education       41188 non-null  object \n",
      " 4   default         41188 non-null  object \n",
      " 5   housing         41188 non-null  object \n",
      " 6   loan            41188 non-null  object \n",
      " 7   contact         41188 non-null  object \n",
      " 8   month           41188 non-null  object \n",
      " 9   day_of_week     41188 non-null  object \n",
      " 10  duration        41188 non-null  int64  \n",
      " 11  campaign        41188 non-null  int64  \n",
      " 12  pdays           41188 non-null  int64  \n",
      " 13  previous        41188 non-null  int64  \n",
      " 14  poutcome        41188 non-null  object \n",
      " 15  emp.var.rate    41188 non-null  float64\n",
      " 16  cons.price.idx  41188 non-null  float64\n",
      " 17  cons.conf.idx   41188 non-null  float64\n",
      " 18  euribor3m       41188 non-null  float64\n",
      " 19  nr.employed     41188 non-null  float64\n",
      " 20  y               41188 non-null  object \n",
      "dtypes: float64(5), int64(5), object(11)\n",
      "memory usage: 6.6+ MB\n"
     ]
    }
   ],
   "source": [
    "# take a look at the type, number of columns, entries, null values etc..\n",
    "bank.info()\n",
    "# bank.isnull().any() # one way to search for null values"
   ]
  },
  {
   "cell_type": "code",
   "execution_count": 59,
   "metadata": {},
   "outputs": [
    {
     "data": {
      "text/plain": [
       "Index(['age', 'job', 'marital', 'education', 'default', 'housing', 'loan',\n",
       "       'contact', 'month', 'day_of_week', 'duration', 'campaign', 'pdays',\n",
       "       'previous', 'poutcome', 'emp.var.rate', 'cons.price.idx',\n",
       "       'cons.conf.idx', 'euribor3m', 'nr.employed', 'y'],\n",
       "      dtype='object')"
      ]
     },
     "execution_count": 59,
     "metadata": {},
     "output_type": "execute_result"
    }
   ],
   "source": [
    "bank.columns"
   ]
  },
  {
   "cell_type": "code",
   "execution_count": 60,
   "metadata": {},
   "outputs": [
    {
     "data": {
      "text/html": [
       "<div>\n",
       "<style scoped>\n",
       "    .dataframe tbody tr th:only-of-type {\n",
       "        vertical-align: middle;\n",
       "    }\n",
       "\n",
       "    .dataframe tbody tr th {\n",
       "        vertical-align: top;\n",
       "    }\n",
       "\n",
       "    .dataframe thead th {\n",
       "        text-align: right;\n",
       "    }\n",
       "</style>\n",
       "<table border=\"1\" class=\"dataframe\">\n",
       "  <thead>\n",
       "    <tr style=\"text-align: right;\">\n",
       "      <th></th>\n",
       "      <th>age</th>\n",
       "      <th>job</th>\n",
       "      <th>marital</th>\n",
       "      <th>education</th>\n",
       "      <th>default</th>\n",
       "      <th>housing</th>\n",
       "      <th>loan</th>\n",
       "    </tr>\n",
       "  </thead>\n",
       "  <tbody>\n",
       "    <tr>\n",
       "      <th>0</th>\n",
       "      <td>56</td>\n",
       "      <td>housemaid</td>\n",
       "      <td>married</td>\n",
       "      <td>basic.4y</td>\n",
       "      <td>no</td>\n",
       "      <td>no</td>\n",
       "      <td>no</td>\n",
       "    </tr>\n",
       "    <tr>\n",
       "      <th>1</th>\n",
       "      <td>57</td>\n",
       "      <td>services</td>\n",
       "      <td>married</td>\n",
       "      <td>high.school</td>\n",
       "      <td>unknown</td>\n",
       "      <td>no</td>\n",
       "      <td>no</td>\n",
       "    </tr>\n",
       "    <tr>\n",
       "      <th>2</th>\n",
       "      <td>37</td>\n",
       "      <td>services</td>\n",
       "      <td>married</td>\n",
       "      <td>high.school</td>\n",
       "      <td>no</td>\n",
       "      <td>yes</td>\n",
       "      <td>no</td>\n",
       "    </tr>\n",
       "    <tr>\n",
       "      <th>3</th>\n",
       "      <td>40</td>\n",
       "      <td>admin.</td>\n",
       "      <td>married</td>\n",
       "      <td>basic.6y</td>\n",
       "      <td>no</td>\n",
       "      <td>no</td>\n",
       "      <td>no</td>\n",
       "    </tr>\n",
       "    <tr>\n",
       "      <th>4</th>\n",
       "      <td>56</td>\n",
       "      <td>services</td>\n",
       "      <td>married</td>\n",
       "      <td>high.school</td>\n",
       "      <td>no</td>\n",
       "      <td>no</td>\n",
       "      <td>yes</td>\n",
       "    </tr>\n",
       "  </tbody>\n",
       "</table>\n",
       "</div>"
      ],
      "text/plain": [
       "   age        job  marital    education  default housing loan\n",
       "0   56  housemaid  married     basic.4y       no      no   no\n",
       "1   57   services  married  high.school  unknown      no   no\n",
       "2   37   services  married  high.school       no     yes   no\n",
       "3   40     admin.  married     basic.6y       no      no   no\n",
       "4   56   services  married  high.school       no      no  yes"
      ]
     },
     "execution_count": 60,
     "metadata": {},
     "output_type": "execute_result"
    }
   ],
   "source": [
    "#1. Bank client data Analysis and Categorical Treatment\n",
    "#Work with the atributes related to bank clients\n",
    "#To make things more clear, i'm going to creat a new datasets that contains just this part of data\n",
    "bank_client = bank.iloc[: , 0:7]\n",
    "bank_client.head()"
   ]
  },
  {
   "cell_type": "code",
   "execution_count": 61,
   "metadata": {},
   "outputs": [
    {
     "name": "stdout",
     "output_type": "stream",
     "text": [
      "Jobs:\n",
      " ['housemaid' 'services' 'admin.' 'blue-collar' 'technician' 'retired'\n",
      " 'management' 'unemployed' 'self-employed' 'unknown' 'entrepreneur'\n",
      " 'student']\n"
     ]
    }
   ],
   "source": [
    "#1.1. Knowing the categorical variables\n",
    "# knowing the categorical variables\n",
    "print('Jobs:\\n', bank_client['job'].unique())"
   ]
  },
  {
   "cell_type": "code",
   "execution_count": 62,
   "metadata": {},
   "outputs": [
    {
     "name": "stdout",
     "output_type": "stream",
     "text": [
      "Marital:\n",
      " ['married' 'single' 'divorced' 'unknown']\n"
     ]
    }
   ],
   "source": [
    "print('Marital:\\n', bank_client['marital'].unique())"
   ]
  },
  {
   "cell_type": "code",
   "execution_count": 63,
   "metadata": {},
   "outputs": [
    {
     "name": "stdout",
     "output_type": "stream",
     "text": [
      "Education:\n",
      " ['basic.4y' 'high.school' 'basic.6y' 'basic.9y' 'professional.course'\n",
      " 'unknown' 'university.degree' 'illiterate']\n"
     ]
    }
   ],
   "source": [
    "print('Education:\\n', bank_client['education'].unique())"
   ]
  },
  {
   "cell_type": "code",
   "execution_count": 64,
   "metadata": {},
   "outputs": [
    {
     "name": "stdout",
     "output_type": "stream",
     "text": [
      "Default:\n",
      " ['no' 'unknown' 'yes']\n",
      "Housing:\n",
      " ['no' 'yes' 'unknown']\n",
      "Loan:\n",
      " ['no' 'yes' 'unknown']\n"
     ]
    }
   ],
   "source": [
    "print('Default:\\n', bank_client['default'].unique())\n",
    "print('Housing:\\n', bank_client['housing'].unique())\n",
    "print('Loan:\\n', bank_client['loan'].unique())"
   ]
  },
  {
   "cell_type": "code",
   "execution_count": 65,
   "metadata": {},
   "outputs": [
    {
     "name": "stdout",
     "output_type": "stream",
     "text": [
      "Min age:  98\n",
      "Max age:  17\n",
      "Null Values:  False\n"
     ]
    }
   ],
   "source": [
    "#1.2. Age\n",
    "#Trying to find some insights crossing those variables\n",
    "#Trying to find some strange values or null values\n",
    "print('Min age: ', bank_client['age'].max())\n",
    "print('Max age: ', bank_client['age'].min())\n",
    "print('Null Values: ', bank_client['age'].isnull().any())"
   ]
  },
  {
   "cell_type": "code",
   "execution_count": 66,
   "metadata": {},
   "outputs": [
    {
     "data": {
      "image/png": "[encoded data removed]",
      "text/plain": [
       "<Figure size 1440x576 with 1 Axes>"
      ]
     },
     "metadata": {
      "needs_background": "light"
     },
     "output_type": "display_data"
    }
   ],
   "source": [
    "fig, ax = plt.subplots()\n",
    "fig.set_size_inches(20, 8)\n",
    "sns.countplot(x = 'age', data = bank_client)\n",
    "ax.set_xlabel('Age', fontsize=15)\n",
    "ax.set_ylabel('Count', fontsize=15)\n",
    "ax.set_title('Age Count Distribution', fontsize=15)\n",
    "sns.despine()"
   ]
  },
  {
   "cell_type": "code",
   "execution_count": 67,
   "metadata": {},
   "outputs": [
    {
     "data": {
      "image/png": "[encoded data removed]",
      "text/plain": [
       "<Figure size 936x360 with 2 Axes>"
      ]
     },
     "metadata": {
      "needs_background": "light"
     },
     "output_type": "display_data"
    }
   ],
   "source": [
    "fig, (ax1, ax2) = plt.subplots(nrows = 1, ncols = 2, figsize = (13, 5))\n",
    "sns.boxplot(x = 'age', data = bank_client, orient = 'v', ax = ax1)\n",
    "ax1.set_xlabel('People Age', fontsize=15)\n",
    "ax1.set_ylabel('Age', fontsize=15)\n",
    "ax1.set_title('Age Distribution', fontsize=15)\n",
    "ax1.tick_params(labelsize=15)\n",
    "\n",
    "sns.distplot(bank_client['age'], ax = ax2)\n",
    "sns.despine(ax = ax2)\n",
    "ax2.set_xlabel('Age', fontsize=15)\n",
    "ax2.set_ylabel('Occurence', fontsize=15)\n",
    "ax2.set_title('Age x Ocucurence', fontsize=15)\n",
    "ax2.tick_params(labelsize=15)\n",
    "\n",
    "plt.subplots_adjust(wspace=0.5)\n",
    "plt.tight_layout() "
   ]
  },
  {
   "cell_type": "code",
   "execution_count": 68,
   "metadata": {},
   "outputs": [
    {
     "name": "stdout",
     "output_type": "stream",
     "text": [
      "1º Quartile:  32.0\n",
      "2º Quartile:  38.0\n",
      "3º Quartile:  47.0\n",
      "4º Quartile:  98.0\n",
      "Ages above:  69.5 are outliers\n"
     ]
    }
   ],
   "source": [
    "# Quartiles\n",
    "print('1º Quartile: ', bank_client['age'].quantile(q = 0.25))\n",
    "print('2º Quartile: ', bank_client['age'].quantile(q = 0.50))\n",
    "print('3º Quartile: ', bank_client['age'].quantile(q = 0.75))\n",
    "print('4º Quartile: ', bank_client['age'].quantile(q = 1.00))\n",
    "#Calculate the outliers:\n",
    "  # Interquartile range, IQR = Q3 - Q1\n",
    "  # lower 1.5*IQR whisker = Q1 - 1.5 * IQR \n",
    "  # Upper 1.5*IQR whisker = Q3 + 1.5 * IQR\n",
    "    \n",
    "print('Ages above: ', bank_client['age'].quantile(q = 0.75) + \n",
    "                      1.5*(bank_client['age'].quantile(q = 0.75) - bank_client['age'].quantile(q = 0.25)), 'are outliers')"
   ]
  },
  {
   "cell_type": "code",
   "execution_count": 69,
   "metadata": {},
   "outputs": [
    {
     "name": "stdout",
     "output_type": "stream",
     "text": [
      "Numerber of outliers:  469\n",
      "Number of clients:  41188\n",
      "Outliers are: 1.14 %\n"
     ]
    }
   ],
   "source": [
    "print('Numerber of outliers: ', bank_client[bank_client['age'] > 69.6]['age'].count())\n",
    "print('Number of clients: ', len(bank_client))\n",
    "#Outliers in %\n",
    "print('Outliers are:', round(bank_client[bank_client['age'] > 69.6]['age'].count()*100/len(bank_client),2), '%')"
   ]
  },
  {
   "cell_type": "code",
   "execution_count": 70,
   "metadata": {},
   "outputs": [
    {
     "name": "stdout",
     "output_type": "stream",
     "text": [
      "MEAN: 40.0\n",
      "STD : 10.4\n",
      "CV  : 26.0 , High middle dispersion\n"
     ]
    }
   ],
   "source": [
    "# Calculating some values to evaluete this independent variable\n",
    "print('MEAN:', round(bank_client['age'].mean(), 1))\n",
    "# A low standard deviation indicates that the data points tend to be close to the mean or expected value\n",
    "# A high standard deviation indicates that the data points are scattered\n",
    "print('STD :', round(bank_client['age'].std(), 1))\n",
    "# I thing the best way to give a precisly insight abou dispersion is using the CV (coefficient variation) (STD/MEAN)*100\n",
    "#    cv < 15%, low dispersion\n",
    "#    cv > 30%, high dispersion\n",
    "print('CV  :',round(bank_client['age'].std()*100/bank_client['age'].mean(), 1), ', High middle dispersion')"
   ]
  },
  {
   "cell_type": "code",
   "execution_count": 71,
   "metadata": {},
   "outputs": [],
   "source": [
    "#Conclusion about AGE, in my opinion due to almost high dispersion and just looking at this this graph we cannot conclude\n",
    "#if age have a high effect to our variable y, need to keep searching for some pattern. high middle dispersion means we have \n",
    "#people with all ages and maybe all of them can subscript a term deposit, or not. The outliers was calculated, so my thinking \n",
    "#is fit the model with and without them"
   ]
  },
  {
   "cell_type": "code",
   "execution_count": 72,
   "metadata": {},
   "outputs": [
    {
     "data": {
      "image/png": "[encoded data removed]",
      "text/plain": [
       "<Figure size 1440x576 with 1 Axes>"
      ]
     },
     "metadata": {
      "needs_background": "light"
     },
     "output_type": "display_data"
    }
   ],
   "source": [
    "#1.3. JOBS\n",
    "# What kind of jobs clients this bank have, if you cross jobs with default, loan or housing, there is no relation\n",
    "fig, ax = plt.subplots()\n",
    "fig.set_size_inches(20, 8)\n",
    "sns.countplot(x = 'job', data = bank_client)\n",
    "ax.set_xlabel('Job', fontsize=15)\n",
    "ax.set_ylabel('Count', fontsize=15)\n",
    "ax.set_title('Age Count Distribution', fontsize=15)\n",
    "ax.tick_params(labelsize=15)\n",
    "sns.despine()"
   ]
  },
  {
   "cell_type": "code",
   "execution_count": 73,
   "metadata": {},
   "outputs": [
    {
     "data": {
      "image/png": "[encoded data removed]",
      "text/plain": [
       "<Figure size 720x360 with 1 Axes>"
      ]
     },
     "metadata": {
      "needs_background": "light"
     },
     "output_type": "display_data"
    }
   ],
   "source": [
    "#1.4. MARITAL\n",
    "\n",
    "# What kind of 'marital clients' this bank have, if you cross marital with default, loan or housing, there is no relation\n",
    "fig, ax = plt.subplots()\n",
    "fig.set_size_inches(10, 5)\n",
    "sns.countplot(x = 'marital', data = bank_client)\n",
    "ax.set_xlabel('Marital', fontsize=15)\n",
    "ax.set_ylabel('Count', fontsize=15)\n",
    "ax.set_title('Age Count Distribution', fontsize=15)\n",
    "ax.tick_params(labelsize=15)\n",
    "sns.despine()"
   ]
  },
  {
   "cell_type": "code",
   "execution_count": 74,
   "metadata": {},
   "outputs": [
    {
     "data": {
      "image/png": "[encoded data removed]",
      "text/plain": [
       "<Figure size 1440x360 with 1 Axes>"
      ]
     },
     "metadata": {
      "needs_background": "light"
     },
     "output_type": "display_data"
    }
   ],
   "source": [
    "#1.5. EDUCATION\n",
    "\n",
    "# What kind of 'education clients this bank have, if you cross education with default, loan or housing, there is no relation\n",
    "fig, ax = plt.subplots()\n",
    "fig.set_size_inches(20, 5)\n",
    "sns.countplot(x = 'education', data = bank_client)\n",
    "ax.set_xlabel('Education', fontsize=15)\n",
    "ax.set_ylabel('Count', fontsize=15)\n",
    "ax.set_title('Education Count Distribution', fontsize=15)\n",
    "ax.tick_params(labelsize=15)\n",
    "sns.despine()"
   ]
  },
  {
   "cell_type": "code",
   "execution_count": 75,
   "metadata": {},
   "outputs": [
    {
     "data": {
      "image/png": "[encoded data removed]",
      "text/plain": [
       "<Figure size 1440x576 with 3 Axes>"
      ]
     },
     "metadata": {
      "needs_background": "light"
     },
     "output_type": "display_data"
    }
   ],
   "source": [
    "#1.6. DEFAULT, HOUSING, LOAN\n",
    "\n",
    "# Default, has credit in default ?\n",
    "fig, (ax1, ax2, ax3) = plt.subplots(nrows = 1, ncols = 3, figsize = (20,8))\n",
    "sns.countplot(x = 'default', data = bank_client, ax = ax1, order = ['no', 'unknown', 'yes'])\n",
    "ax1.set_title('Default', fontsize=15)\n",
    "ax1.set_xlabel('')\n",
    "ax1.set_ylabel('Count', fontsize=15)\n",
    "ax1.tick_params(labelsize=15)\n",
    "\n",
    "# Housing, has housing loan ?\n",
    "sns.countplot(x = 'housing', data = bank_client, ax = ax2, order = ['no', 'unknown', 'yes'])\n",
    "ax2.set_title('Housing', fontsize=15)\n",
    "ax2.set_xlabel('')\n",
    "ax2.set_ylabel('Count', fontsize=15)\n",
    "ax2.tick_params(labelsize=15)\n",
    "\n",
    "# Loan, has personal loan ?\n",
    "sns.countplot(x = 'loan', data = bank_client, ax = ax3, order = ['no', 'unknown', 'yes'])\n",
    "ax3.set_title('Loan', fontsize=15)\n",
    "ax3.set_xlabel('')\n",
    "ax3.set_ylabel('Count', fontsize=15)\n",
    "ax3.tick_params(labelsize=15)\n",
    "\n",
    "plt.subplots_adjust(wspace=0.25)"
   ]
  },
  {
   "cell_type": "code",
   "execution_count": 76,
   "metadata": {},
   "outputs": [
    {
     "name": "stdout",
     "output_type": "stream",
     "text": [
      "Default:\n",
      " No credit in default: 32588 \n",
      " Unknown credit in default: 8597 \n",
      " Yes to credit in default: 3\n"
     ]
    }
   ],
   "source": [
    "print('Default:\\n No credit in default:'     , bank_client[bank_client['default'] == 'no']     ['age'].count(),\n",
    "              '\\n Unknown credit in default:', bank_client[bank_client['default'] == 'unknown']['age'].count(),\n",
    "              '\\n Yes to credit in default:' , bank_client[bank_client['default'] == 'yes']    ['age'].count())"
   ]
  },
  {
   "cell_type": "code",
   "execution_count": 77,
   "metadata": {},
   "outputs": [
    {
     "name": "stdout",
     "output_type": "stream",
     "text": [
      "Housing:\n",
      " No housing in loan: 18622 \n",
      " Unknown housing in loan: 990 \n",
      " Yes to housing in loan: 21576\n"
     ]
    }
   ],
   "source": [
    "print('Housing:\\n No housing in loan:'     , bank_client[bank_client['housing'] == 'no']     ['age'].count(),\n",
    "              '\\n Unknown housing in loan:', bank_client[bank_client['housing'] == 'unknown']['age'].count(),\n",
    "              '\\n Yes to housing in loan:' , bank_client[bank_client['housing'] == 'yes']    ['age'].count())"
   ]
  },
  {
   "cell_type": "code",
   "execution_count": 78,
   "metadata": {},
   "outputs": [
    {
     "name": "stdout",
     "output_type": "stream",
     "text": [
      "Housing:\n",
      " No to personal loan: 33950 \n",
      " Unknown to personal loan: 990 \n",
      " Yes to personal loan: 6248\n"
     ]
    }
   ],
   "source": [
    "print('Housing:\\n No to personal loan:'     , bank_client[bank_client['loan'] == 'no']     ['age'].count(),\n",
    "              '\\n Unknown to personal loan:', bank_client[bank_client['loan'] == 'unknown']['age'].count(),\n",
    "              '\\n Yes to personal loan:'    , bank_client[bank_client['loan'] == 'yes']    ['age'].count())"
   ]
  },
  {
   "cell_type": "code",
   "execution_count": 79,
   "metadata": {},
   "outputs": [],
   "source": [
    "#BANK CLIENTS CONCLUSION\n",
    "#The ages dont mean to much, has a medium dispersion and dont make sense relate with other variables will\n",
    "#not tell any insight\n",
    "\n",
    "#Jobs, Marital and Education i think the best analisys is just the count of each variable, \n",
    "#if we related with the other ones its is not conclusive, all this kind of variables has yes, unknown \n",
    "#and no for loan, default and housing.\n",
    "\n",
    "#Default, loan and housing, its just to see the distribution of people.\n",
    "\n",
    "#1.7. Bank Client Categorical Treatment\n",
    "\n",
    "#Jobs, Marital, Education, Default, Housing, Loan. Converting to continuous due the feature scaling will be \n",
    "#apllyed later\n",
    "\n",
    "# Label encoder order is alphabetical\n",
    "from sklearn.preprocessing import LabelEncoder\n",
    "labelencoder_X = LabelEncoder()\n",
    "bank_client['job']      = labelencoder_X.fit_transform(bank_client['job']) \n",
    "bank_client['marital']  = labelencoder_X.fit_transform(bank_client['marital']) \n",
    "bank_client['education']= labelencoder_X.fit_transform(bank_client['education']) \n",
    "bank_client['default']  = labelencoder_X.fit_transform(bank_client['default']) \n",
    "bank_client['housing']  = labelencoder_X.fit_transform(bank_client['housing']) \n",
    "bank_client['loan']     = labelencoder_X.fit_transform(bank_client['loan']) "
   ]
  },
  {
   "cell_type": "code",
   "execution_count": 80,
   "metadata": {},
   "outputs": [],
   "source": [
    "#function to creat group of ages, this helps because we have 78 differente values here\n",
    "def age(dataframe):\n",
    "    dataframe.loc[dataframe['age'] <= 32, 'age'] = 1\n",
    "    dataframe.loc[(dataframe['age'] > 32) & (dataframe['age'] <= 47), 'age'] = 2\n",
    "    dataframe.loc[(dataframe['age'] > 47) & (dataframe['age'] <= 70), 'age'] = 3\n",
    "    dataframe.loc[(dataframe['age'] > 70) & (dataframe['age'] <= 98), 'age'] = 4\n",
    "           \n",
    "    return dataframe\n",
    "\n",
    "age(bank_client);"
   ]
  },
  {
   "cell_type": "code",
   "execution_count": 81,
   "metadata": {},
   "outputs": [
    {
     "data": {
      "text/html": [
       "<div>\n",
       "<style scoped>\n",
       "    .dataframe tbody tr th:only-of-type {\n",
       "        vertical-align: middle;\n",
       "    }\n",
       "\n",
       "    .dataframe tbody tr th {\n",
       "        vertical-align: top;\n",
       "    }\n",
       "\n",
       "    .dataframe thead th {\n",
       "        text-align: right;\n",
       "    }\n",
       "</style>\n",
       "<table border=\"1\" class=\"dataframe\">\n",
       "  <thead>\n",
       "    <tr style=\"text-align: right;\">\n",
       "      <th></th>\n",
       "      <th>age</th>\n",
       "      <th>job</th>\n",
       "      <th>marital</th>\n",
       "      <th>education</th>\n",
       "      <th>default</th>\n",
       "      <th>housing</th>\n",
       "      <th>loan</th>\n",
       "    </tr>\n",
       "  </thead>\n",
       "  <tbody>\n",
       "    <tr>\n",
       "      <th>0</th>\n",
       "      <td>3</td>\n",
       "      <td>3</td>\n",
       "      <td>1</td>\n",
       "      <td>0</td>\n",
       "      <td>0</td>\n",
       "      <td>0</td>\n",
       "      <td>0</td>\n",
       "    </tr>\n",
       "    <tr>\n",
       "      <th>1</th>\n",
       "      <td>3</td>\n",
       "      <td>7</td>\n",
       "      <td>1</td>\n",
       "      <td>3</td>\n",
       "      <td>1</td>\n",
       "      <td>0</td>\n",
       "      <td>0</td>\n",
       "    </tr>\n",
       "    <tr>\n",
       "      <th>2</th>\n",
       "      <td>2</td>\n",
       "      <td>7</td>\n",
       "      <td>1</td>\n",
       "      <td>3</td>\n",
       "      <td>0</td>\n",
       "      <td>2</td>\n",
       "      <td>0</td>\n",
       "    </tr>\n",
       "    <tr>\n",
       "      <th>3</th>\n",
       "      <td>2</td>\n",
       "      <td>0</td>\n",
       "      <td>1</td>\n",
       "      <td>1</td>\n",
       "      <td>0</td>\n",
       "      <td>0</td>\n",
       "      <td>0</td>\n",
       "    </tr>\n",
       "    <tr>\n",
       "      <th>4</th>\n",
       "      <td>3</td>\n",
       "      <td>7</td>\n",
       "      <td>1</td>\n",
       "      <td>3</td>\n",
       "      <td>0</td>\n",
       "      <td>0</td>\n",
       "      <td>2</td>\n",
       "    </tr>\n",
       "  </tbody>\n",
       "</table>\n",
       "</div>"
      ],
      "text/plain": [
       "   age  job  marital  education  default  housing  loan\n",
       "0    3    3        1          0        0        0     0\n",
       "1    3    7        1          3        1        0     0\n",
       "2    2    7        1          3        0        2     0\n",
       "3    2    0        1          1        0        0     0\n",
       "4    3    7        1          3        0        0     2"
      ]
     },
     "execution_count": 81,
     "metadata": {},
     "output_type": "execute_result"
    }
   ],
   "source": [
    "bank_client.head()"
   ]
  },
  {
   "cell_type": "code",
   "execution_count": 82,
   "metadata": {},
   "outputs": [
    {
     "name": "stdout",
     "output_type": "stream",
     "text": [
      "(41188, 7)\n"
     ]
    },
    {
     "data": {
      "text/html": [
       "<div>\n",
       "<style scoped>\n",
       "    .dataframe tbody tr th:only-of-type {\n",
       "        vertical-align: middle;\n",
       "    }\n",
       "\n",
       "    .dataframe tbody tr th {\n",
       "        vertical-align: top;\n",
       "    }\n",
       "\n",
       "    .dataframe thead th {\n",
       "        text-align: right;\n",
       "    }\n",
       "</style>\n",
       "<table border=\"1\" class=\"dataframe\">\n",
       "  <thead>\n",
       "    <tr style=\"text-align: right;\">\n",
       "      <th></th>\n",
       "      <th>age</th>\n",
       "      <th>job</th>\n",
       "      <th>marital</th>\n",
       "      <th>education</th>\n",
       "      <th>default</th>\n",
       "      <th>housing</th>\n",
       "      <th>loan</th>\n",
       "    </tr>\n",
       "  </thead>\n",
       "  <tbody>\n",
       "    <tr>\n",
       "      <th>0</th>\n",
       "      <td>3</td>\n",
       "      <td>3</td>\n",
       "      <td>1</td>\n",
       "      <td>0</td>\n",
       "      <td>0</td>\n",
       "      <td>0</td>\n",
       "      <td>0</td>\n",
       "    </tr>\n",
       "    <tr>\n",
       "      <th>1</th>\n",
       "      <td>3</td>\n",
       "      <td>7</td>\n",
       "      <td>1</td>\n",
       "      <td>3</td>\n",
       "      <td>1</td>\n",
       "      <td>0</td>\n",
       "      <td>0</td>\n",
       "    </tr>\n",
       "    <tr>\n",
       "      <th>2</th>\n",
       "      <td>2</td>\n",
       "      <td>7</td>\n",
       "      <td>1</td>\n",
       "      <td>3</td>\n",
       "      <td>0</td>\n",
       "      <td>2</td>\n",
       "      <td>0</td>\n",
       "    </tr>\n",
       "    <tr>\n",
       "      <th>3</th>\n",
       "      <td>2</td>\n",
       "      <td>0</td>\n",
       "      <td>1</td>\n",
       "      <td>1</td>\n",
       "      <td>0</td>\n",
       "      <td>0</td>\n",
       "      <td>0</td>\n",
       "    </tr>\n",
       "    <tr>\n",
       "      <th>4</th>\n",
       "      <td>3</td>\n",
       "      <td>7</td>\n",
       "      <td>1</td>\n",
       "      <td>3</td>\n",
       "      <td>0</td>\n",
       "      <td>0</td>\n",
       "      <td>2</td>\n",
       "    </tr>\n",
       "  </tbody>\n",
       "</table>\n",
       "</div>"
      ],
      "text/plain": [
       "   age  job  marital  education  default  housing  loan\n",
       "0    3    3        1          0        0        0     0\n",
       "1    3    7        1          3        1        0     0\n",
       "2    2    7        1          3        0        2     0\n",
       "3    2    0        1          1        0        0     0\n",
       "4    3    7        1          3        0        0     2"
      ]
     },
     "execution_count": 82,
     "metadata": {},
     "output_type": "execute_result"
    }
   ],
   "source": [
    "print(bank_client.shape)\n",
    "bank_client.head()"
   ]
  },
  {
   "cell_type": "code",
   "execution_count": 83,
   "metadata": {},
   "outputs": [],
   "source": [
    "#2. Related with the last contact of the current campaign\n",
    "#Treat categorical, see those values\n",
    "#group continuous variables if necessary"
   ]
  },
  {
   "cell_type": "code",
   "execution_count": 84,
   "metadata": {},
   "outputs": [
    {
     "data": {
      "text/html": [
       "<div>\n",
       "<style scoped>\n",
       "    .dataframe tbody tr th:only-of-type {\n",
       "        vertical-align: middle;\n",
       "    }\n",
       "\n",
       "    .dataframe tbody tr th {\n",
       "        vertical-align: top;\n",
       "    }\n",
       "\n",
       "    .dataframe thead th {\n",
       "        text-align: right;\n",
       "    }\n",
       "</style>\n",
       "<table border=\"1\" class=\"dataframe\">\n",
       "  <thead>\n",
       "    <tr style=\"text-align: right;\">\n",
       "      <th></th>\n",
       "      <th>contact</th>\n",
       "      <th>month</th>\n",
       "      <th>day_of_week</th>\n",
       "      <th>duration</th>\n",
       "    </tr>\n",
       "  </thead>\n",
       "  <tbody>\n",
       "    <tr>\n",
       "      <th>0</th>\n",
       "      <td>telephone</td>\n",
       "      <td>may</td>\n",
       "      <td>mon</td>\n",
       "      <td>261</td>\n",
       "    </tr>\n",
       "    <tr>\n",
       "      <th>1</th>\n",
       "      <td>telephone</td>\n",
       "      <td>may</td>\n",
       "      <td>mon</td>\n",
       "      <td>149</td>\n",
       "    </tr>\n",
       "    <tr>\n",
       "      <th>2</th>\n",
       "      <td>telephone</td>\n",
       "      <td>may</td>\n",
       "      <td>mon</td>\n",
       "      <td>226</td>\n",
       "    </tr>\n",
       "    <tr>\n",
       "      <th>3</th>\n",
       "      <td>telephone</td>\n",
       "      <td>may</td>\n",
       "      <td>mon</td>\n",
       "      <td>151</td>\n",
       "    </tr>\n",
       "    <tr>\n",
       "      <th>4</th>\n",
       "      <td>telephone</td>\n",
       "      <td>may</td>\n",
       "      <td>mon</td>\n",
       "      <td>307</td>\n",
       "    </tr>\n",
       "  </tbody>\n",
       "</table>\n",
       "</div>"
      ],
      "text/plain": [
       "     contact month day_of_week  duration\n",
       "0  telephone   may         mon       261\n",
       "1  telephone   may         mon       149\n",
       "2  telephone   may         mon       226\n",
       "3  telephone   may         mon       151\n",
       "4  telephone   may         mon       307"
      ]
     },
     "execution_count": 84,
     "metadata": {},
     "output_type": "execute_result"
    }
   ],
   "source": [
    "# Slicing DataFrame to treat separately, make things more easy\n",
    "bank_related = bank.iloc[: , 7:11]\n",
    "bank_related.head()"
   ]
  },
  {
   "cell_type": "code",
   "execution_count": 85,
   "metadata": {},
   "outputs": [
    {
     "data": {
      "text/plain": [
       "contact        False\n",
       "month          False\n",
       "day_of_week    False\n",
       "duration       False\n",
       "dtype: bool"
      ]
     },
     "execution_count": 85,
     "metadata": {},
     "output_type": "execute_result"
    }
   ],
   "source": [
    "bank_related.isnull().any()"
   ]
  },
  {
   "cell_type": "code",
   "execution_count": 86,
   "metadata": {},
   "outputs": [
    {
     "name": "stdout",
     "output_type": "stream",
     "text": [
      "Kind of Contact: \n",
      " ['telephone' 'cellular']\n",
      "\n",
      "Which monthis this campaing work: \n",
      " ['may' 'jun' 'jul' 'aug' 'oct' 'nov' 'dec' 'mar' 'apr' 'sep']\n",
      "\n",
      "Which days of week this campaing work: \n",
      " ['mon' 'tue' 'wed' 'thu' 'fri']\n"
     ]
    }
   ],
   "source": [
    "print(\"Kind of Contact: \\n\", bank_related['contact'].unique())\n",
    "print(\"\\nWhich monthis this campaing work: \\n\", bank_related['month'].unique())\n",
    "print(\"\\nWhich days of week this campaing work: \\n\", bank_related['day_of_week'].unique())"
   ]
  },
  {
   "cell_type": "code",
   "execution_count": 87,
   "metadata": {},
   "outputs": [
    {
     "data": {
      "image/png": "[encoded data removed]",
      "text/plain": [
       "<Figure size 936x360 with 2 Axes>"
      ]
     },
     "metadata": {
      "needs_background": "light"
     },
     "output_type": "display_data"
    }
   ],
   "source": [
    "#2.1 Duration\n",
    "\n",
    "fig, (ax1, ax2) = plt.subplots(nrows = 1, ncols = 2, figsize = (13, 5))\n",
    "sns.boxplot(x = 'duration', data = bank_related, orient = 'v', ax = ax1)\n",
    "ax1.set_xlabel('Calls', fontsize=10)\n",
    "ax1.set_ylabel('Duration', fontsize=10)\n",
    "ax1.set_title('Calls Distribution', fontsize=10)\n",
    "ax1.tick_params(labelsize=10)\n",
    "\n",
    "sns.distplot(bank_related['duration'], ax = ax2)\n",
    "sns.despine(ax = ax2)\n",
    "ax2.set_xlabel('Duration Calls', fontsize=10)\n",
    "ax2.set_ylabel('Occurence', fontsize=10)\n",
    "ax2.set_title('Duration x Ocucurence', fontsize=10)\n",
    "ax2.tick_params(labelsize=10)\n",
    "\n",
    "plt.subplots_adjust(wspace=0.5)\n",
    "plt.tight_layout() "
   ]
  },
  {
   "cell_type": "code",
   "execution_count": 88,
   "metadata": {},
   "outputs": [
    {
     "name": "stdout",
     "output_type": "stream",
     "text": [
      "Max duration  call in minutes:   82.0\n",
      "Min duration  call in minutes:    0.0\n",
      "Mean duration call in minutes:    4.3\n",
      "STD duration  call in minutes:    4.3\n"
     ]
    }
   ],
   "source": [
    "print(\"Max duration  call in minutes:  \", round((bank_related['duration'].max()/60),1))\n",
    "print(\"Min duration  call in minutes:   \", round((bank_related['duration'].min()/60),1))\n",
    "print(\"Mean duration call in minutes:   \", round((bank_related['duration'].mean()/60),1))\n",
    "print(\"STD duration  call in minutes:   \", round((bank_related['duration'].std()/60),1))\n",
    "# Std close to the mean means that the data values are close to the mean "
   ]
  },
  {
   "cell_type": "code",
   "execution_count": 89,
   "metadata": {},
   "outputs": [
    {
     "name": "stdout",
     "output_type": "stream",
     "text": [
      "1º Quartile:  102.0\n",
      "2º Quartile:  180.0\n",
      "3º Quartile:  319.0\n",
      "4º Quartile:  4918.0\n",
      "Duration calls above:  644.5 are outliers\n"
     ]
    }
   ],
   "source": [
    "# Quartiles\n",
    "print('1º Quartile: ', bank_related['duration'].quantile(q = 0.25))\n",
    "print('2º Quartile: ', bank_related['duration'].quantile(q = 0.50))\n",
    "print('3º Quartile: ', bank_related['duration'].quantile(q = 0.75))\n",
    "print('4º Quartile: ', bank_related['duration'].quantile(q = 1.00))\n",
    "#Calculate the outliers:\n",
    "  # Interquartile range, IQR = Q3 - Q1\n",
    "  # lower 1.5*IQR whisker = Q1 - 1.5 * IQR \n",
    "  # Upper 1.5*IQR whisker = Q3 + 1.5 * IQR\n",
    "    \n",
    "print('Duration calls above: ', bank_related['duration'].quantile(q = 0.75) + \n",
    "                      1.5*(bank_related['duration'].quantile(q = 0.75) - bank_related['duration'].quantile(q = 0.25)), 'are outliers')"
   ]
  },
  {
   "cell_type": "code",
   "execution_count": 90,
   "metadata": {},
   "outputs": [
    {
     "name": "stdout",
     "output_type": "stream",
     "text": [
      "Numerber of outliers:  2963\n",
      "Number of clients:  41188\n",
      "Outliers are: 7.19 %\n"
     ]
    }
   ],
   "source": [
    "print('Numerber of outliers: ', bank_related[bank_related['duration'] > 644.5]['duration'].count())\n",
    "print('Number of clients: ', len(bank_related))\n",
    "#Outliers in %\n",
    "print('Outliers are:', round(bank_related[bank_related['duration'] > 644.5]['duration'].count()*100/len(bank_related),2), '%')"
   ]
  },
  {
   "cell_type": "code",
   "execution_count": 91,
   "metadata": {},
   "outputs": [
    {
     "data": {
      "text/html": [
       "<div>\n",
       "<style scoped>\n",
       "    .dataframe tbody tr th:only-of-type {\n",
       "        vertical-align: middle;\n",
       "    }\n",
       "\n",
       "    .dataframe tbody tr th {\n",
       "        vertical-align: top;\n",
       "    }\n",
       "\n",
       "    .dataframe thead th {\n",
       "        text-align: right;\n",
       "    }\n",
       "</style>\n",
       "<table border=\"1\" class=\"dataframe\">\n",
       "  <thead>\n",
       "    <tr style=\"text-align: right;\">\n",
       "      <th></th>\n",
       "      <th>age</th>\n",
       "      <th>job</th>\n",
       "      <th>marital</th>\n",
       "      <th>education</th>\n",
       "      <th>default</th>\n",
       "      <th>housing</th>\n",
       "      <th>loan</th>\n",
       "      <th>contact</th>\n",
       "      <th>month</th>\n",
       "      <th>day_of_week</th>\n",
       "      <th>...</th>\n",
       "      <th>campaign</th>\n",
       "      <th>pdays</th>\n",
       "      <th>previous</th>\n",
       "      <th>poutcome</th>\n",
       "      <th>emp.var.rate</th>\n",
       "      <th>cons.price.idx</th>\n",
       "      <th>cons.conf.idx</th>\n",
       "      <th>euribor3m</th>\n",
       "      <th>nr.employed</th>\n",
       "      <th>y</th>\n",
       "    </tr>\n",
       "  </thead>\n",
       "  <tbody>\n",
       "    <tr>\n",
       "      <th>6251</th>\n",
       "      <td>39</td>\n",
       "      <td>admin.</td>\n",
       "      <td>married</td>\n",
       "      <td>high.school</td>\n",
       "      <td>no</td>\n",
       "      <td>yes</td>\n",
       "      <td>no</td>\n",
       "      <td>telephone</td>\n",
       "      <td>may</td>\n",
       "      <td>tue</td>\n",
       "      <td>...</td>\n",
       "      <td>4</td>\n",
       "      <td>999</td>\n",
       "      <td>0</td>\n",
       "      <td>nonexistent</td>\n",
       "      <td>1.1</td>\n",
       "      <td>93.994</td>\n",
       "      <td>-36.4</td>\n",
       "      <td>4.857</td>\n",
       "      <td>5191.0</td>\n",
       "      <td>no</td>\n",
       "    </tr>\n",
       "    <tr>\n",
       "      <th>23031</th>\n",
       "      <td>59</td>\n",
       "      <td>management</td>\n",
       "      <td>married</td>\n",
       "      <td>university.degree</td>\n",
       "      <td>no</td>\n",
       "      <td>yes</td>\n",
       "      <td>no</td>\n",
       "      <td>cellular</td>\n",
       "      <td>aug</td>\n",
       "      <td>tue</td>\n",
       "      <td>...</td>\n",
       "      <td>10</td>\n",
       "      <td>999</td>\n",
       "      <td>0</td>\n",
       "      <td>nonexistent</td>\n",
       "      <td>1.4</td>\n",
       "      <td>93.444</td>\n",
       "      <td>-36.1</td>\n",
       "      <td>4.965</td>\n",
       "      <td>5228.1</td>\n",
       "      <td>no</td>\n",
       "    </tr>\n",
       "    <tr>\n",
       "      <th>28063</th>\n",
       "      <td>53</td>\n",
       "      <td>blue-collar</td>\n",
       "      <td>divorced</td>\n",
       "      <td>high.school</td>\n",
       "      <td>no</td>\n",
       "      <td>yes</td>\n",
       "      <td>no</td>\n",
       "      <td>cellular</td>\n",
       "      <td>apr</td>\n",
       "      <td>fri</td>\n",
       "      <td>...</td>\n",
       "      <td>3</td>\n",
       "      <td>999</td>\n",
       "      <td>0</td>\n",
       "      <td>nonexistent</td>\n",
       "      <td>-1.8</td>\n",
       "      <td>93.075</td>\n",
       "      <td>-47.1</td>\n",
       "      <td>1.479</td>\n",
       "      <td>5099.1</td>\n",
       "      <td>no</td>\n",
       "    </tr>\n",
       "    <tr>\n",
       "      <th>33015</th>\n",
       "      <td>31</td>\n",
       "      <td>blue-collar</td>\n",
       "      <td>married</td>\n",
       "      <td>basic.9y</td>\n",
       "      <td>no</td>\n",
       "      <td>no</td>\n",
       "      <td>no</td>\n",
       "      <td>cellular</td>\n",
       "      <td>may</td>\n",
       "      <td>mon</td>\n",
       "      <td>...</td>\n",
       "      <td>2</td>\n",
       "      <td>999</td>\n",
       "      <td>0</td>\n",
       "      <td>nonexistent</td>\n",
       "      <td>-1.8</td>\n",
       "      <td>92.893</td>\n",
       "      <td>-46.2</td>\n",
       "      <td>1.299</td>\n",
       "      <td>5099.1</td>\n",
       "      <td>no</td>\n",
       "    </tr>\n",
       "  </tbody>\n",
       "</table>\n",
       "<p>4 rows × 21 columns</p>\n",
       "</div>"
      ],
      "text/plain": [
       "       age          job   marital          education default housing loan  \\\n",
       "6251    39       admin.   married        high.school      no     yes   no   \n",
       "23031   59   management   married  university.degree      no     yes   no   \n",
       "28063   53  blue-collar  divorced        high.school      no     yes   no   \n",
       "33015   31  blue-collar   married           basic.9y      no      no   no   \n",
       "\n",
       "         contact month day_of_week  ...  campaign  pdays  previous  \\\n",
       "6251   telephone   may         tue  ...         4    999         0   \n",
       "23031   cellular   aug         tue  ...        10    999         0   \n",
       "28063   cellular   apr         fri  ...         3    999         0   \n",
       "33015   cellular   may         mon  ...         2    999         0   \n",
       "\n",
       "          poutcome emp.var.rate  cons.price.idx  cons.conf.idx  euribor3m  \\\n",
       "6251   nonexistent          1.1          93.994          -36.4      4.857   \n",
       "23031  nonexistent          1.4          93.444          -36.1      4.965   \n",
       "28063  nonexistent         -1.8          93.075          -47.1      1.479   \n",
       "33015  nonexistent         -1.8          92.893          -46.2      1.299   \n",
       "\n",
       "       nr.employed   y  \n",
       "6251        5191.0  no  \n",
       "23031       5228.1  no  \n",
       "28063       5099.1  no  \n",
       "33015       5099.1  no  \n",
       "\n",
       "[4 rows x 21 columns]"
      ]
     },
     "execution_count": 91,
     "metadata": {},
     "output_type": "execute_result"
    }
   ],
   "source": [
    "# Look, if the call duration is iqual to 0, then is obviously that this person didn't subscribed, \n",
    "# THIS LINES NEED TO BE DELETED LATER \n",
    "bank[(bank['duration'] == 0)]"
   ]
  },
  {
   "cell_type": "code",
   "execution_count": 92,
   "metadata": {},
   "outputs": [
    {
     "data": {
      "image/png": "[encoded data removed]",
      "text/plain": [
       "<Figure size 1080x432 with 3 Axes>"
      ]
     },
     "metadata": {
      "needs_background": "light"
     },
     "output_type": "display_data"
    }
   ],
   "source": [
    "#2.2 Contact, Month, Day of Week\n",
    "\n",
    "fig, (ax1, ax2, ax3) = plt.subplots(nrows = 1, ncols = 3, figsize = (15,6))\n",
    "sns.countplot(bank_related['contact'], ax = ax1)\n",
    "ax1.set_xlabel('Contact', fontsize = 10)\n",
    "ax1.set_ylabel('Count', fontsize = 10)\n",
    "ax1.set_title('Contact Counts')\n",
    "ax1.tick_params(labelsize=10)\n",
    "\n",
    "sns.countplot(bank_related['month'], ax = ax2, order = ['mar', 'apr', 'may', 'jun', 'jul', 'aug', 'sep', 'oct', 'nov', 'dec'])\n",
    "ax2.set_xlabel('Months', fontsize = 10)\n",
    "ax2.set_ylabel('')\n",
    "ax2.set_title('Months Counts')\n",
    "ax2.tick_params(labelsize=10)\n",
    "\n",
    "sns.countplot(bank_related['day_of_week'], ax = ax3)\n",
    "ax3.set_xlabel('Day of Week', fontsize = 10)\n",
    "ax3.set_ylabel('')\n",
    "ax3.set_title('Day of Week Counts')\n",
    "ax3.tick_params(labelsize=10)\n",
    "\n",
    "plt.subplots_adjust(wspace=0.25)"
   ]
  },
  {
   "cell_type": "code",
   "execution_count": 93,
   "metadata": {},
   "outputs": [
    {
     "name": "stdout",
     "output_type": "stream",
     "text": [
      "Ages above:  644.5 are outliers\n"
     ]
    }
   ],
   "source": [
    "print('Ages above: ', bank_related['duration'].quantile(q = 0.75) + \n",
    "                      1.5*(bank_related['duration'].quantile(q = 0.75) - bank_related['duration'].quantile(q = 0.25)), 'are outliers')"
   ]
  },
  {
   "cell_type": "code",
   "execution_count": 94,
   "metadata": {},
   "outputs": [
    {
     "data": {
      "text/plain": [
       "contact        3008\n",
       "month          3008\n",
       "day_of_week    3008\n",
       "duration       3008\n",
       "dtype: int64"
      ]
     },
     "execution_count": 94,
     "metadata": {},
     "output_type": "execute_result"
    }
   ],
   "source": [
    "bank_related[bank_related['duration'] > 640].count()"
   ]
  },
  {
   "cell_type": "code",
   "execution_count": 95,
   "metadata": {},
   "outputs": [],
   "source": [
    "#2.1 Contact, Month, Day of Week treatment\n",
    "\n",
    "# Label encoder order is alphabetical\n",
    "from sklearn.preprocessing import LabelEncoder\n",
    "labelencoder_X = LabelEncoder()\n",
    "bank_related['contact']     = labelencoder_X.fit_transform(bank_related['contact']) \n",
    "bank_related['month']       = labelencoder_X.fit_transform(bank_related['month']) \n",
    "bank_related['day_of_week'] = labelencoder_X.fit_transform(bank_related['day_of_week']) "
   ]
  },
  {
   "cell_type": "code",
   "execution_count": 96,
   "metadata": {},
   "outputs": [
    {
     "data": {
      "text/html": [
       "<div>\n",
       "<style scoped>\n",
       "    .dataframe tbody tr th:only-of-type {\n",
       "        vertical-align: middle;\n",
       "    }\n",
       "\n",
       "    .dataframe tbody tr th {\n",
       "        vertical-align: top;\n",
       "    }\n",
       "\n",
       "    .dataframe thead th {\n",
       "        text-align: right;\n",
       "    }\n",
       "</style>\n",
       "<table border=\"1\" class=\"dataframe\">\n",
       "  <thead>\n",
       "    <tr style=\"text-align: right;\">\n",
       "      <th></th>\n",
       "      <th>contact</th>\n",
       "      <th>month</th>\n",
       "      <th>day_of_week</th>\n",
       "      <th>duration</th>\n",
       "    </tr>\n",
       "  </thead>\n",
       "  <tbody>\n",
       "    <tr>\n",
       "      <th>0</th>\n",
       "      <td>1</td>\n",
       "      <td>6</td>\n",
       "      <td>1</td>\n",
       "      <td>261</td>\n",
       "    </tr>\n",
       "    <tr>\n",
       "      <th>1</th>\n",
       "      <td>1</td>\n",
       "      <td>6</td>\n",
       "      <td>1</td>\n",
       "      <td>149</td>\n",
       "    </tr>\n",
       "    <tr>\n",
       "      <th>2</th>\n",
       "      <td>1</td>\n",
       "      <td>6</td>\n",
       "      <td>1</td>\n",
       "      <td>226</td>\n",
       "    </tr>\n",
       "    <tr>\n",
       "      <th>3</th>\n",
       "      <td>1</td>\n",
       "      <td>6</td>\n",
       "      <td>1</td>\n",
       "      <td>151</td>\n",
       "    </tr>\n",
       "    <tr>\n",
       "      <th>4</th>\n",
       "      <td>1</td>\n",
       "      <td>6</td>\n",
       "      <td>1</td>\n",
       "      <td>307</td>\n",
       "    </tr>\n",
       "  </tbody>\n",
       "</table>\n",
       "</div>"
      ],
      "text/plain": [
       "   contact  month  day_of_week  duration\n",
       "0        1      6            1       261\n",
       "1        1      6            1       149\n",
       "2        1      6            1       226\n",
       "3        1      6            1       151\n",
       "4        1      6            1       307"
      ]
     },
     "execution_count": 96,
     "metadata": {},
     "output_type": "execute_result"
    }
   ],
   "source": [
    "bank_related.head()"
   ]
  },
  {
   "cell_type": "code",
   "execution_count": 97,
   "metadata": {},
   "outputs": [],
   "source": [
    "def duration(data):\n",
    "\n",
    "    data.loc[data['duration'] <= 102, 'duration'] = 1\n",
    "    data.loc[(data['duration'] > 102) & (data['duration'] <= 180)  , 'duration']    = 2\n",
    "    data.loc[(data['duration'] > 180) & (data['duration'] <= 319)  , 'duration']   = 3\n",
    "    data.loc[(data['duration'] > 319) & (data['duration'] <= 644.5), 'duration'] = 4\n",
    "    data.loc[data['duration']  > 644.5, 'duration'] = 5\n",
    "\n",
    "    return data\n",
    "duration(bank_related);"
   ]
  },
  {
   "cell_type": "code",
   "execution_count": 98,
   "metadata": {},
   "outputs": [
    {
     "data": {
      "text/html": [
       "<div>\n",
       "<style scoped>\n",
       "    .dataframe tbody tr th:only-of-type {\n",
       "        vertical-align: middle;\n",
       "    }\n",
       "\n",
       "    .dataframe tbody tr th {\n",
       "        vertical-align: top;\n",
       "    }\n",
       "\n",
       "    .dataframe thead th {\n",
       "        text-align: right;\n",
       "    }\n",
       "</style>\n",
       "<table border=\"1\" class=\"dataframe\">\n",
       "  <thead>\n",
       "    <tr style=\"text-align: right;\">\n",
       "      <th></th>\n",
       "      <th>contact</th>\n",
       "      <th>month</th>\n",
       "      <th>day_of_week</th>\n",
       "      <th>duration</th>\n",
       "    </tr>\n",
       "  </thead>\n",
       "  <tbody>\n",
       "    <tr>\n",
       "      <th>0</th>\n",
       "      <td>1</td>\n",
       "      <td>6</td>\n",
       "      <td>1</td>\n",
       "      <td>3</td>\n",
       "    </tr>\n",
       "    <tr>\n",
       "      <th>1</th>\n",
       "      <td>1</td>\n",
       "      <td>6</td>\n",
       "      <td>1</td>\n",
       "      <td>2</td>\n",
       "    </tr>\n",
       "    <tr>\n",
       "      <th>2</th>\n",
       "      <td>1</td>\n",
       "      <td>6</td>\n",
       "      <td>1</td>\n",
       "      <td>3</td>\n",
       "    </tr>\n",
       "    <tr>\n",
       "      <th>3</th>\n",
       "      <td>1</td>\n",
       "      <td>6</td>\n",
       "      <td>1</td>\n",
       "      <td>2</td>\n",
       "    </tr>\n",
       "    <tr>\n",
       "      <th>4</th>\n",
       "      <td>1</td>\n",
       "      <td>6</td>\n",
       "      <td>1</td>\n",
       "      <td>3</td>\n",
       "    </tr>\n",
       "  </tbody>\n",
       "</table>\n",
       "</div>"
      ],
      "text/plain": [
       "   contact  month  day_of_week  duration\n",
       "0        1      6            1         3\n",
       "1        1      6            1         2\n",
       "2        1      6            1         3\n",
       "3        1      6            1         2\n",
       "4        1      6            1         3"
      ]
     },
     "execution_count": 98,
     "metadata": {},
     "output_type": "execute_result"
    }
   ],
   "source": [
    "bank_related.head()"
   ]
  },
  {
   "cell_type": "code",
   "execution_count": 99,
   "metadata": {},
   "outputs": [
    {
     "data": {
      "text/html": [
       "<div>\n",
       "<style scoped>\n",
       "    .dataframe tbody tr th:only-of-type {\n",
       "        vertical-align: middle;\n",
       "    }\n",
       "\n",
       "    .dataframe tbody tr th {\n",
       "        vertical-align: top;\n",
       "    }\n",
       "\n",
       "    .dataframe thead th {\n",
       "        text-align: right;\n",
       "    }\n",
       "</style>\n",
       "<table border=\"1\" class=\"dataframe\">\n",
       "  <thead>\n",
       "    <tr style=\"text-align: right;\">\n",
       "      <th></th>\n",
       "      <th>emp.var.rate</th>\n",
       "      <th>cons.price.idx</th>\n",
       "      <th>cons.conf.idx</th>\n",
       "      <th>euribor3m</th>\n",
       "      <th>nr.employed</th>\n",
       "    </tr>\n",
       "  </thead>\n",
       "  <tbody>\n",
       "    <tr>\n",
       "      <th>0</th>\n",
       "      <td>1.1</td>\n",
       "      <td>93.994</td>\n",
       "      <td>-36.4</td>\n",
       "      <td>4.857</td>\n",
       "      <td>5191.0</td>\n",
       "    </tr>\n",
       "    <tr>\n",
       "      <th>1</th>\n",
       "      <td>1.1</td>\n",
       "      <td>93.994</td>\n",
       "      <td>-36.4</td>\n",
       "      <td>4.857</td>\n",
       "      <td>5191.0</td>\n",
       "    </tr>\n",
       "    <tr>\n",
       "      <th>2</th>\n",
       "      <td>1.1</td>\n",
       "      <td>93.994</td>\n",
       "      <td>-36.4</td>\n",
       "      <td>4.857</td>\n",
       "      <td>5191.0</td>\n",
       "    </tr>\n",
       "    <tr>\n",
       "      <th>3</th>\n",
       "      <td>1.1</td>\n",
       "      <td>93.994</td>\n",
       "      <td>-36.4</td>\n",
       "      <td>4.857</td>\n",
       "      <td>5191.0</td>\n",
       "    </tr>\n",
       "    <tr>\n",
       "      <th>4</th>\n",
       "      <td>1.1</td>\n",
       "      <td>93.994</td>\n",
       "      <td>-36.4</td>\n",
       "      <td>4.857</td>\n",
       "      <td>5191.0</td>\n",
       "    </tr>\n",
       "  </tbody>\n",
       "</table>\n",
       "</div>"
      ],
      "text/plain": [
       "   emp.var.rate  cons.price.idx  cons.conf.idx  euribor3m  nr.employed\n",
       "0           1.1          93.994          -36.4      4.857       5191.0\n",
       "1           1.1          93.994          -36.4      4.857       5191.0\n",
       "2           1.1          93.994          -36.4      4.857       5191.0\n",
       "3           1.1          93.994          -36.4      4.857       5191.0\n",
       "4           1.1          93.994          -36.4      4.857       5191.0"
      ]
     },
     "execution_count": 99,
     "metadata": {},
     "output_type": "execute_result"
    }
   ],
   "source": [
    "bank_se = bank.loc[: , ['emp.var.rate', 'cons.price.idx', 'cons.conf.idx', 'euribor3m', 'nr.employed']]\n",
    "bank_se.head()"
   ]
  },
  {
   "cell_type": "code",
   "execution_count": 100,
   "metadata": {},
   "outputs": [
    {
     "data": {
      "text/html": [
       "<div>\n",
       "<style scoped>\n",
       "    .dataframe tbody tr th:only-of-type {\n",
       "        vertical-align: middle;\n",
       "    }\n",
       "\n",
       "    .dataframe tbody tr th {\n",
       "        vertical-align: top;\n",
       "    }\n",
       "\n",
       "    .dataframe thead th {\n",
       "        text-align: right;\n",
       "    }\n",
       "</style>\n",
       "<table border=\"1\" class=\"dataframe\">\n",
       "  <thead>\n",
       "    <tr style=\"text-align: right;\">\n",
       "      <th></th>\n",
       "      <th>campaign</th>\n",
       "      <th>pdays</th>\n",
       "      <th>previous</th>\n",
       "      <th>poutcome</th>\n",
       "    </tr>\n",
       "  </thead>\n",
       "  <tbody>\n",
       "    <tr>\n",
       "      <th>0</th>\n",
       "      <td>1</td>\n",
       "      <td>999</td>\n",
       "      <td>0</td>\n",
       "      <td>nonexistent</td>\n",
       "    </tr>\n",
       "    <tr>\n",
       "      <th>1</th>\n",
       "      <td>1</td>\n",
       "      <td>999</td>\n",
       "      <td>0</td>\n",
       "      <td>nonexistent</td>\n",
       "    </tr>\n",
       "    <tr>\n",
       "      <th>2</th>\n",
       "      <td>1</td>\n",
       "      <td>999</td>\n",
       "      <td>0</td>\n",
       "      <td>nonexistent</td>\n",
       "    </tr>\n",
       "    <tr>\n",
       "      <th>3</th>\n",
       "      <td>1</td>\n",
       "      <td>999</td>\n",
       "      <td>0</td>\n",
       "      <td>nonexistent</td>\n",
       "    </tr>\n",
       "    <tr>\n",
       "      <th>4</th>\n",
       "      <td>1</td>\n",
       "      <td>999</td>\n",
       "      <td>0</td>\n",
       "      <td>nonexistent</td>\n",
       "    </tr>\n",
       "  </tbody>\n",
       "</table>\n",
       "</div>"
      ],
      "text/plain": [
       "   campaign  pdays  previous     poutcome\n",
       "0         1    999         0  nonexistent\n",
       "1         1    999         0  nonexistent\n",
       "2         1    999         0  nonexistent\n",
       "3         1    999         0  nonexistent\n",
       "4         1    999         0  nonexistent"
      ]
     },
     "execution_count": 100,
     "metadata": {},
     "output_type": "execute_result"
    }
   ],
   "source": [
    "bank_o = bank.loc[: , ['campaign', 'pdays','previous', 'poutcome']]\n",
    "bank_o.head()"
   ]
  },
  {
   "cell_type": "code",
   "execution_count": 101,
   "metadata": {},
   "outputs": [
    {
     "data": {
      "text/plain": [
       "array(['nonexistent', 'failure', 'success'], dtype=object)"
      ]
     },
     "execution_count": 101,
     "metadata": {},
     "output_type": "execute_result"
    }
   ],
   "source": [
    "bank_o['poutcome'].unique()"
   ]
  },
  {
   "cell_type": "code",
   "execution_count": 102,
   "metadata": {},
   "outputs": [],
   "source": [
    "bank_o['poutcome'].replace(['nonexistent', 'failure', 'success'], [1,2,3], inplace  = True)"
   ]
  },
  {
   "cell_type": "code",
   "execution_count": 103,
   "metadata": {},
   "outputs": [
    {
     "data": {
      "text/plain": [
       "(41188, 20)"
      ]
     },
     "execution_count": 103,
     "metadata": {},
     "output_type": "execute_result"
    }
   ],
   "source": [
    "bank_final= pd.concat([bank_client, bank_related, bank_se, bank_o], axis = 1)\n",
    "bank_final = bank_final[['age', 'job', 'marital', 'education', 'default', 'housing', 'loan',\n",
    "                     'contact', 'month', 'day_of_week', 'duration', 'emp.var.rate', 'cons.price.idx', \n",
    "                     'cons.conf.idx', 'euribor3m', 'nr.employed', 'campaign', 'pdays', 'previous', 'poutcome']]\n",
    "bank_final.shape"
   ]
  },
  {
   "cell_type": "code",
   "execution_count": 104,
   "metadata": {},
   "outputs": [],
   "source": [
    "from sklearn.model_selection import train_test_split\n",
    "X_train, X_test, y_train, y_test = train_test_split(bank_final, y, test_size = 0.1942313295, random_state = 101)\n",
    "\n",
    "from sklearn.model_selection import KFold\n",
    "from sklearn.model_selection import cross_val_score\n",
    "from sklearn.metrics import confusion_matrix, accuracy_score\n",
    "k_fold = KFold(n_splits=10, shuffle=True, random_state=0)"
   ]
  },
  {
   "cell_type": "code",
   "execution_count": 105,
   "metadata": {},
   "outputs": [
    {
     "data": {
      "text/html": [
       "<div>\n",
       "<style scoped>\n",
       "    .dataframe tbody tr th:only-of-type {\n",
       "        vertical-align: middle;\n",
       "    }\n",
       "\n",
       "    .dataframe tbody tr th {\n",
       "        vertical-align: top;\n",
       "    }\n",
       "\n",
       "    .dataframe thead th {\n",
       "        text-align: right;\n",
       "    }\n",
       "</style>\n",
       "<table border=\"1\" class=\"dataframe\">\n",
       "  <thead>\n",
       "    <tr style=\"text-align: right;\">\n",
       "      <th></th>\n",
       "      <th>age</th>\n",
       "      <th>job</th>\n",
       "      <th>marital</th>\n",
       "      <th>education</th>\n",
       "      <th>default</th>\n",
       "      <th>housing</th>\n",
       "      <th>loan</th>\n",
       "      <th>contact</th>\n",
       "      <th>month</th>\n",
       "      <th>day_of_week</th>\n",
       "      <th>duration</th>\n",
       "      <th>emp.var.rate</th>\n",
       "      <th>cons.price.idx</th>\n",
       "      <th>cons.conf.idx</th>\n",
       "      <th>euribor3m</th>\n",
       "      <th>nr.employed</th>\n",
       "      <th>campaign</th>\n",
       "      <th>pdays</th>\n",
       "      <th>previous</th>\n",
       "      <th>poutcome</th>\n",
       "    </tr>\n",
       "  </thead>\n",
       "  <tbody>\n",
       "    <tr>\n",
       "      <th>38912</th>\n",
       "      <td>3</td>\n",
       "      <td>5</td>\n",
       "      <td>1</td>\n",
       "      <td>6</td>\n",
       "      <td>0</td>\n",
       "      <td>2</td>\n",
       "      <td>0</td>\n",
       "      <td>0</td>\n",
       "      <td>7</td>\n",
       "      <td>4</td>\n",
       "      <td>5</td>\n",
       "      <td>-3.4</td>\n",
       "      <td>92.649</td>\n",
       "      <td>-30.1</td>\n",
       "      <td>0.716</td>\n",
       "      <td>5017.5</td>\n",
       "      <td>2</td>\n",
       "      <td>3</td>\n",
       "      <td>3</td>\n",
       "      <td>3</td>\n",
       "    </tr>\n",
       "    <tr>\n",
       "      <th>9455</th>\n",
       "      <td>2</td>\n",
       "      <td>7</td>\n",
       "      <td>1</td>\n",
       "      <td>5</td>\n",
       "      <td>1</td>\n",
       "      <td>0</td>\n",
       "      <td>0</td>\n",
       "      <td>1</td>\n",
       "      <td>4</td>\n",
       "      <td>0</td>\n",
       "      <td>2</td>\n",
       "      <td>1.4</td>\n",
       "      <td>94.465</td>\n",
       "      <td>-41.8</td>\n",
       "      <td>4.967</td>\n",
       "      <td>5228.1</td>\n",
       "      <td>1</td>\n",
       "      <td>999</td>\n",
       "      <td>0</td>\n",
       "      <td>1</td>\n",
       "    </tr>\n",
       "    <tr>\n",
       "      <th>14153</th>\n",
       "      <td>1</td>\n",
       "      <td>4</td>\n",
       "      <td>1</td>\n",
       "      <td>6</td>\n",
       "      <td>0</td>\n",
       "      <td>2</td>\n",
       "      <td>0</td>\n",
       "      <td>0</td>\n",
       "      <td>3</td>\n",
       "      <td>1</td>\n",
       "      <td>5</td>\n",
       "      <td>1.4</td>\n",
       "      <td>93.918</td>\n",
       "      <td>-42.7</td>\n",
       "      <td>4.962</td>\n",
       "      <td>5228.1</td>\n",
       "      <td>3</td>\n",
       "      <td>999</td>\n",
       "      <td>0</td>\n",
       "      <td>1</td>\n",
       "    </tr>\n",
       "    <tr>\n",
       "      <th>25021</th>\n",
       "      <td>3</td>\n",
       "      <td>6</td>\n",
       "      <td>1</td>\n",
       "      <td>6</td>\n",
       "      <td>0</td>\n",
       "      <td>2</td>\n",
       "      <td>0</td>\n",
       "      <td>0</td>\n",
       "      <td>7</td>\n",
       "      <td>3</td>\n",
       "      <td>1</td>\n",
       "      <td>-0.1</td>\n",
       "      <td>93.200</td>\n",
       "      <td>-42.0</td>\n",
       "      <td>4.153</td>\n",
       "      <td>5195.8</td>\n",
       "      <td>1</td>\n",
       "      <td>999</td>\n",
       "      <td>0</td>\n",
       "      <td>1</td>\n",
       "    </tr>\n",
       "    <tr>\n",
       "      <th>30911</th>\n",
       "      <td>2</td>\n",
       "      <td>5</td>\n",
       "      <td>0</td>\n",
       "      <td>0</td>\n",
       "      <td>0</td>\n",
       "      <td>2</td>\n",
       "      <td>2</td>\n",
       "      <td>0</td>\n",
       "      <td>6</td>\n",
       "      <td>3</td>\n",
       "      <td>3</td>\n",
       "      <td>-1.8</td>\n",
       "      <td>92.893</td>\n",
       "      <td>-46.2</td>\n",
       "      <td>1.344</td>\n",
       "      <td>5099.1</td>\n",
       "      <td>2</td>\n",
       "      <td>999</td>\n",
       "      <td>1</td>\n",
       "      <td>2</td>\n",
       "    </tr>\n",
       "  </tbody>\n",
       "</table>\n",
       "</div>"
      ],
      "text/plain": [
       "       age  job  marital  education  default  housing  loan  contact  month  \\\n",
       "38912    3    5        1          6        0        2     0        0      7   \n",
       "9455     2    7        1          5        1        0     0        1      4   \n",
       "14153    1    4        1          6        0        2     0        0      3   \n",
       "25021    3    6        1          6        0        2     0        0      7   \n",
       "30911    2    5        0          0        0        2     2        0      6   \n",
       "\n",
       "       day_of_week  duration  emp.var.rate  cons.price.idx  cons.conf.idx  \\\n",
       "38912            4         5          -3.4          92.649          -30.1   \n",
       "9455             0         2           1.4          94.465          -41.8   \n",
       "14153            1         5           1.4          93.918          -42.7   \n",
       "25021            3         1          -0.1          93.200          -42.0   \n",
       "30911            3         3          -1.8          92.893          -46.2   \n",
       "\n",
       "       euribor3m  nr.employed  campaign  pdays  previous  poutcome  \n",
       "38912      0.716       5017.5         2      3         3         3  \n",
       "9455       4.967       5228.1         1    999         0         1  \n",
       "14153      4.962       5228.1         3    999         0         1  \n",
       "25021      4.153       5195.8         1    999         0         1  \n",
       "30911      1.344       5099.1         2    999         1         2  "
      ]
     },
     "execution_count": 105,
     "metadata": {},
     "output_type": "execute_result"
    }
   ],
   "source": [
    "X_train.head()"
   ]
  },
  {
   "cell_type": "code",
   "execution_count": 106,
   "metadata": {},
   "outputs": [],
   "source": [
    "from sklearn.preprocessing import StandardScaler\n",
    "sc_X = StandardScaler()\n",
    "X_train = sc_X.fit_transform(X_train)\n",
    "X_test = sc_X.transform(X_test)"
   ]
  },
  {
   "cell_type": "code",
   "execution_count": 107,
   "metadata": {},
   "outputs": [
    {
     "name": "stdout",
     "output_type": "stream",
     "text": [
      "[[6909  164]\n",
      " [ 598  329]]\n",
      "90.0\n"
     ]
    }
   ],
   "source": [
    "from sklearn.linear_model import LogisticRegression\n",
    "logmodel = LogisticRegression() \n",
    "logmodel.fit(X_train,y_train)\n",
    "logpred = logmodel.predict(X_test)\n",
    "\n",
    "\n",
    "print(confusion_matrix(y_test, logpred))\n",
    "print(round(accuracy_score(y_test, logpred),2)*100)\n",
    "LOGCV = (cross_val_score(logmodel, X_train, y_train, cv=k_fold, n_jobs=1, scoring = 'accuracy').mean())"
   ]
  },
  {
   "cell_type": "code",
   "execution_count": 108,
   "metadata": {},
   "outputs": [
    {
     "name": "stdout",
     "output_type": "stream",
     "text": [
      "k=1 87.84 (+/- 0.59)\n",
      "k=2 89.73 (+/- 0.50)\n",
      "k=3 89.69 (+/- 0.49)\n",
      "k=4 90.02 (+/- 0.51)\n",
      "k=5 89.98 (+/- 0.41)\n",
      "k=6 90.07 (+/- 0.47)\n",
      "k=7 90.24 (+/- 0.41)\n",
      "k=8 90.28 (+/- 0.48)\n",
      "k=9 90.33 (+/- 0.46)\n",
      "k=10 90.35 (+/- 0.49)\n",
      "k=11 90.33 (+/- 0.51)\n",
      "k=12 90.32 (+/- 0.59)\n",
      "k=13 90.37 (+/- 0.51)\n",
      "k=14 90.40 (+/- 0.48)\n",
      "k=15 90.44 (+/- 0.47)\n",
      "k=16 90.41 (+/- 0.50)\n",
      "k=17 90.41 (+/- 0.50)\n",
      "k=18 90.38 (+/- 0.52)\n",
      "k=19 90.43 (+/- 0.45)\n",
      "k=20 90.38 (+/- 0.48)\n",
      "k=21 90.42 (+/- 0.46)\n",
      "k=22 90.37 (+/- 0.48)\n",
      "k=23 90.45 (+/- 0.44)\n",
      "k=24 90.34 (+/- 0.49)\n",
      "k=25 90.44 (+/- 0.47)\n",
      "The optimal number of neighbors is 22 with 90.4%\n"
     ]
    },
    {
     "data": {
      "image/png": "[encoded data removed]",
      "text/plain": [
       "<Figure size 432x288 with 1 Axes>"
      ]
     },
     "metadata": {
      "needs_background": "light"
     },
     "output_type": "display_data"
    }
   ],
   "source": [
    "from sklearn import model_selection\n",
    "from sklearn.neighbors import KNeighborsClassifier\n",
    "\n",
    "X_trainK, X_testK, y_trainK, y_testK = train_test_split(bank_final, y, test_size = 0.2, random_state = 101)\n",
    "\n",
    "#Neighbors\n",
    "neighbors = np.arange(0,25)\n",
    "\n",
    "#Create empty list that will hold cv scores\n",
    "cv_scores = []\n",
    "\n",
    "#Perform 10-fold cross validation on training set for odd values of k:\n",
    "for k in neighbors:\n",
    "    k_value = k+1\n",
    "    knn = KNeighborsClassifier(n_neighbors = k_value, weights='uniform', p=2, metric='euclidean')\n",
    "    kfold = model_selection.KFold(n_splits=10, random_state=123)\n",
    "    scores = model_selection.cross_val_score(knn, X_trainK, y_trainK, cv=kfold, scoring='accuracy')\n",
    "    cv_scores.append(scores.mean()*100)\n",
    "    print(\"k=%d %0.2f (+/- %0.2f)\" % (k_value, scores.mean()*100, scores.std()*100))\n",
    "\n",
    "optimal_k = neighbors[cv_scores.index(max(cv_scores))]\n",
    "print (\"The optimal number of neighbors is %d with %0.1f%%\" % (optimal_k, cv_scores[optimal_k]))\n",
    "\n",
    "plt.plot(neighbors, cv_scores)\n",
    "plt.xlabel('Number of Neighbors K')\n",
    "plt.ylabel('Train Accuracy')\n",
    "plt.show()"
   ]
  },
  {
   "cell_type": "code",
   "execution_count": 109,
   "metadata": {},
   "outputs": [
    {
     "name": "stdout",
     "output_type": "stream",
     "text": [
      "[[6962  111]\n",
      " [ 684  243]]\n",
      "90.0\n"
     ]
    }
   ],
   "source": [
    "from sklearn.neighbors import KNeighborsClassifier\n",
    "knn = KNeighborsClassifier(n_neighbors=22)\n",
    "knn.fit(X_train, y_train)\n",
    "knnpred = knn.predict(X_test)\n",
    "\n",
    "print(confusion_matrix(y_test, knnpred))\n",
    "print(round(accuracy_score(y_test, knnpred),2)*100)\n",
    "KNNCV = (cross_val_score(knn, X_train, y_train, cv=k_fold, n_jobs=1, scoring = 'accuracy').mean())"
   ]
  },
  {
   "cell_type": "code",
   "execution_count": 110,
   "metadata": {},
   "outputs": [
    {
     "name": "stdout",
     "output_type": "stream",
     "text": [
      "[[6531  542]\n",
      " [ 584  343]]\n",
      "86.0\n"
     ]
    }
   ],
   "source": [
    "from sklearn.svm import SVC\n",
    "svc= SVC(kernel = 'sigmoid')\n",
    "svc.fit(X_train, y_train)\n",
    "svcpred = svc.predict(X_test)\n",
    "print(confusion_matrix(y_test, svcpred))\n",
    "print(round(accuracy_score(y_test, svcpred),2)*100)\n",
    "SVCCV = (cross_val_score(svc, X_train, y_train, cv=k_fold, n_jobs=1, scoring = 'accuracy').mean())"
   ]
  },
  {
   "cell_type": "code",
   "execution_count": 111,
   "metadata": {},
   "outputs": [
    {
     "name": "stdout",
     "output_type": "stream",
     "text": [
      "[[6606  467]\n",
      " [ 487  440]]\n",
      "88.0\n"
     ]
    }
   ],
   "source": [
    "from sklearn.tree import DecisionTreeClassifier\n",
    "dtree = DecisionTreeClassifier(criterion='gini') #criterion = entopy, gini\n",
    "dtree.fit(X_train, y_train)\n",
    "dtreepred = dtree.predict(X_test)\n",
    "\n",
    "print(confusion_matrix(y_test, dtreepred))\n",
    "print(round(accuracy_score(y_test, dtreepred),2)*100)\n",
    "DTREECV = (cross_val_score(dtree, X_train, y_train, cv=k_fold, n_jobs=1, scoring = 'accuracy').mean())"
   ]
  },
  {
   "cell_type": "code",
   "execution_count": 112,
   "metadata": {},
   "outputs": [
    {
     "name": "stdout",
     "output_type": "stream",
     "text": [
      "[[6796  277]\n",
      " [ 490  437]]\n",
      "90.0\n"
     ]
    }
   ],
   "source": [
    "from sklearn.ensemble import RandomForestClassifier\n",
    "rfc = RandomForestClassifier(n_estimators = 200)#criterion = entopy,gini\n",
    "rfc.fit(X_train, y_train)\n",
    "rfcpred = rfc.predict(X_test)\n",
    "\n",
    "print(confusion_matrix(y_test, rfcpred ))\n",
    "print(round(accuracy_score(y_test, rfcpred),2)*100)\n",
    "RFCCV = (cross_val_score(rfc, X_train, y_train, cv=k_fold, n_jobs=1, scoring = 'accuracy').mean())"
   ]
  },
  {
   "cell_type": "code",
   "execution_count": 113,
   "metadata": {},
   "outputs": [
    {
     "name": "stdout",
     "output_type": "stream",
     "text": [
      "[[6272  801]\n",
      " [ 417  510]]\n",
      "85.0\n"
     ]
    }
   ],
   "source": [
    "from sklearn.naive_bayes import GaussianNB\n",
    "gaussiannb= GaussianNB()\n",
    "gaussiannb.fit(X_train, y_train)\n",
    "gaussiannbpred = gaussiannb.predict(X_test)\n",
    "probs = gaussiannb.predict(X_test)\n",
    "\n",
    "print(confusion_matrix(y_test, gaussiannbpred ))\n",
    "print(round(accuracy_score(y_test, gaussiannbpred),2)*100)\n",
    "GAUSIAN = (cross_val_score(gaussiannb, X_train, y_train, cv=k_fold, n_jobs=1, scoring = 'accuracy').mean())"
   ]
  },
  {
   "cell_type": "code",
   "execution_count": 116,
   "metadata": {},
   "outputs": [
    {
     "name": "stdout",
     "output_type": "stream",
     "text": [
      "[[6826  247]\n",
      " [ 460  467]]\n",
      "91.0\n"
     ]
    }
   ],
   "source": [
    "from sklearn.ensemble import GradientBoostingClassifier\n",
    "gbk = GradientBoostingClassifier()\n",
    "gbk.fit(X_train, y_train)\n",
    "gbkpred = gbk.predict(X_test)\n",
    "print(confusion_matrix(y_test, gbkpred ))\n",
    "print(round(accuracy_score(y_test, gbkpred),2)*100)\n",
    "GBKCV = (cross_val_score(gbk, X_train, y_train, cv=k_fold, n_jobs=1, scoring = 'accuracy').mean())"
   ]
  },
  {
   "cell_type": "code",
   "execution_count": null,
   "metadata": {},
   "outputs": [],
   "source": [
    "models = pd.DataFrame({\n",
    "                'Models': ['Random Forest Classifier', 'Decision Tree Classifier', 'Support Vector Machine',\n",
    "                           'K-Near Neighbors', 'Logistic Model', 'Gausian NB', 'XGBoost', 'Gradient Boosting'],\n",
    "                'Score':  [RFCCV, DTREECV, SVCCV, KNNCV, LOGCV, GAUSIAN, XGB, GBKCV]})\n",
    "\n",
    "models.sort_values(by='Score', ascending=False)"
   ]
  },
  {
   "cell_type": "code",
   "execution_count": null,
   "metadata": {},
   "outputs": [],
   "source": [
    "# XGBOOST ROC/ AUC , BEST MODEL\n",
    "from sklearn import metrics\n",
    "fig, (ax, ax1) = plt.subplots(nrows = 1, ncols = 2, figsize = (15,5))\n",
    "probs = xgb.predict_proba(X_test)\n",
    "preds = probs[:,1]\n",
    "fprxgb, tprxgb, thresholdxgb = metrics.roc_curve(y_test, preds)\n",
    "roc_aucxgb = metrics.auc(fprxgb, tprxgb)\n",
    "\n",
    "ax.plot(fprxgb, tprxgb, 'b', label = 'AUC = %0.2f' % roc_aucxgb)\n",
    "ax.plot([0, 1], [0, 1],'r--')\n",
    "ax.set_title('Receiver Operating Characteristic XGBOOST ',fontsize=10)\n",
    "ax.set_ylabel('True Positive Rate',fontsize=20)\n",
    "ax.set_xlabel('False Positive Rate',fontsize=15)\n",
    "ax.legend(loc = 'lower right', prop={'size': 16})\n",
    "\n",
    "#Gradient\n",
    "probs = gbk.predict_proba(X_test)\n",
    "preds = probs[:,1]\n",
    "fprgbk, tprgbk, thresholdgbk = metrics.roc_curve(y_test, preds)\n",
    "roc_aucgbk = metrics.auc(fprgbk, tprgbk)\n",
    "\n",
    "ax1.plot(fprgbk, tprgbk, 'b', label = 'AUC = %0.2f' % roc_aucgbk)\n",
    "ax1.plot([0, 1], [0, 1],'r--')\n",
    "ax1.set_title('Receiver Operating Characteristic GRADIENT BOOST ',fontsize=10)\n",
    "ax1.set_ylabel('True Positive Rate',fontsize=20)\n",
    "ax1.set_xlabel('False Positive Rate',fontsize=15)\n",
    "ax1.legend(loc = 'lower right', prop={'size': 16})"
   ]
  },
  {
   "cell_type": "code",
   "execution_count": null,
   "metadata": {},
   "outputs": [],
   "source": [
    "#fig, (ax1, ax2, ax3, ax4, ax5) = plt.subplots(nrows = 2, ncols = 3, figsize = (15, 4))\n",
    "fig, ax_arr = plt.subplots(nrows = 2, ncols = 3, figsize = (20,15))\n",
    "\n",
    "#LOGMODEL\n",
    "probs = logmodel.predict_proba(X_test)\n",
    "preds = probs[:,1]\n",
    "fprlog, tprlog, thresholdlog = metrics.roc_curve(y_test, preds)\n",
    "roc_auclog = metrics.auc(fprlog, tprlog)\n",
    "\n",
    "ax_arr[0,0].plot(fprlog, tprlog, 'b', label = 'AUC = %0.2f' % roc_auclog)\n",
    "ax_arr[0,0].plot([0, 1], [0, 1],'r--')\n",
    "ax_arr[0,0].set_title('Receiver Operating Characteristic Logistic ',fontsize=20)\n",
    "ax_arr[0,0].set_ylabel('True Positive Rate',fontsize=20)\n",
    "ax_arr[0,0].set_xlabel('False Positive Rate',fontsize=15)\n",
    "ax_arr[0,0].legend(loc = 'lower right', prop={'size': 16})\n",
    "\n",
    "#RANDOM FOREST --------------------\n",
    "probs = rfc.predict_proba(X_test)\n",
    "preds = probs[:,1]\n",
    "fprrfc, tprrfc, thresholdrfc = metrics.roc_curve(y_test, preds)\n",
    "roc_aucrfc = metrics.auc(fprrfc, tprrfc)\n",
    "\n",
    "ax_arr[0,1].plot(fprrfc, tprrfc, 'b', label = 'AUC = %0.2f' % roc_aucrfc)\n",
    "ax_arr[0,1].plot([0, 1], [0, 1],'r--')\n",
    "ax_arr[0,1].set_title('Receiver Operating Characteristic Random Forest ',fontsize=20)\n",
    "ax_arr[0,1].set_ylabel('True Positive Rate',fontsize=20)\n",
    "ax_arr[0,1].set_xlabel('False Positive Rate',fontsize=15)\n",
    "ax_arr[0,1].legend(loc = 'lower right', prop={'size': 16})\n",
    "\n",
    "#KNN----------------------\n",
    "probs = knn.predict_proba(X_test)\n",
    "preds = probs[:,1]\n",
    "fprknn, tprknn, thresholdknn = metrics.roc_curve(y_test, preds)\n",
    "roc_aucknn = metrics.auc(fprknn, tprknn)\n",
    "\n",
    "ax_arr[0,2].plot(fprknn, tprknn, 'b', label = 'AUC = %0.2f' % roc_aucknn)\n",
    "ax_arr[0,2].plot([0, 1], [0, 1],'r--')\n",
    "ax_arr[0,2].set_title('Receiver Operating Characteristic KNN ',fontsize=20)\n",
    "ax_arr[0,2].set_ylabel('True Positive Rate',fontsize=20)\n",
    "ax_arr[0,2].set_xlabel('False Positive Rate',fontsize=15)\n",
    "ax_arr[0,2].legend(loc = 'lower right', prop={'size': 16})\n",
    "\n",
    "#DECISION TREE ---------------------\n",
    "probs = dtree.predict_proba(X_test)\n",
    "preds = probs[:,1]\n",
    "fprdtree, tprdtree, thresholddtree = metrics.roc_curve(y_test, preds)\n",
    "roc_aucdtree = metrics.auc(fprdtree, tprdtree)\n",
    "\n",
    "ax_arr[1,0].plot(fprdtree, tprdtree, 'b', label = 'AUC = %0.2f' % roc_aucdtree)\n",
    "ax_arr[1,0].plot([0, 1], [0, 1],'r--')\n",
    "ax_arr[1,0].set_title('Receiver Operating Characteristic Decision Tree ',fontsize=20)\n",
    "ax_arr[1,0].set_ylabel('True Positive Rate',fontsize=20)\n",
    "ax_arr[1,0].set_xlabel('False Positive Rate',fontsize=15)\n",
    "ax_arr[1,0].legend(loc = 'lower right', prop={'size': 16})\n",
    "\n",
    "#GAUSSIAN ---------------------\n",
    "probs = gaussiannb.predict_proba(X_test)\n",
    "preds = probs[:,1]\n",
    "fprgau, tprgau, thresholdgau = metrics.roc_curve(y_test, preds)\n",
    "roc_aucgau = metrics.auc(fprgau, tprgau)\n",
    "\n",
    "ax_arr[1,1].plot(fprgau, tprgau, 'b', label = 'AUC = %0.2f' % roc_aucgau)\n",
    "ax_arr[1,1].plot([0, 1], [0, 1],'r--')\n",
    "ax_arr[1,1].set_title('Receiver Operating Characteristic Gaussian ',fontsize=20)\n",
    "ax_arr[1,1].set_ylabel('True Positive Rate',fontsize=20)\n",
    "ax_arr[1,1].set_xlabel('False Positive Rate',fontsize=15)\n",
    "ax_arr[1,1].legend(loc = 'lower right', prop={'size': 16})\n",
    "\n",
    "#ALL PLOTS ----------------------------------\n",
    "ax_arr[1,2].plot(fprgau, tprgau, 'b', label = 'Gaussian', color='black')\n",
    "ax_arr[1,2].plot(fprdtree, tprdtree, 'b', label = 'Decision Tree', color='blue')\n",
    "ax_arr[1,2].plot(fprknn, tprknn, 'b', label = 'Knn', color='brown')\n",
    "ax_arr[1,2].plot(fprrfc, tprrfc, 'b', label = 'Random Forest', color='green')\n",
    "ax_arr[1,2].plot(fprlog, tprlog, 'b', label = 'Logistic', color='grey')\n",
    "ax_arr[1,2].set_title('Receiver Operating Comparison ',fontsize=20)\n",
    "ax_arr[1,2].set_ylabel('True Positive Rate',fontsize=20)\n",
    "ax_arr[1,2].set_xlabel('False Positive Rate',fontsize=15)\n",
    "ax_arr[1,2].legend(loc = 'lower right', prop={'size': 16})\n",
    "\n",
    "plt.subplots_adjust(wspace=0.2)\n",
    "plt.tight_layout() "
   ]
  },
  {
   "cell_type": "code",
   "execution_count": null,
   "metadata": {},
   "outputs": [],
   "source": [
    "#ANALYZING THE RESULTS\n",
    "#So now we have to decide which one is the best model, and we have two types of wrong values:\n",
    "\n",
    "#False Positive, means the client do NOT SUBSCRIBED to term deposit, but the model thinks he did.\n",
    "#False Negative, means the client SUBSCRIBED to term deposit, but the model said he dont.\n",
    "#In my opinion:\n",
    "\n",
    "#The first one its most harmful, because we think that we already have that client but we dont and maybe we lost him in \n",
    "#other future campaings\n",
    "#The second its not good but its ok, we have that client and in the future we'll discovery that in truth he's \n",
    "#already our client\n",
    "#So, our objective here, is to find the best model by confusion matrix with the lowest False Positive as possible"
   ]
  },
  {
   "cell_type": "code",
   "execution_count": null,
   "metadata": {},
   "outputs": [],
   "source": [
    "from sklearn.metrics import classification_report"
   ]
  },
  {
   "cell_type": "code",
   "execution_count": null,
   "metadata": {},
   "outputs": [],
   "source": [
    "print('KNN Confusion Matrix\\n', confusion_matrix(y_test, knnpred))"
   ]
  },
  {
   "cell_type": "code",
   "execution_count": null,
   "metadata": {},
   "outputs": [],
   "source": [
    "print('KNN Reports\\n',classification_report(y_test, knnpred))"
   ]
  },
  {
   "cell_type": "code",
   "execution_count": null,
   "metadata": {},
   "outputs": [],
   "source": [
    "#Ok, now lets go deep into this values\n",
    "#CHOOSED MODEL ANALYSIS\n",
    "#RECALL\n",
    "#Recall - Specificity\n",
    "#3TN / (TN + FP) [ MATRIX LINE 1 ]\n",
    "\n",
    "#For all NEGATIVE(0) REAL VALUES how much we predict correct ?\n",
    "\n",
    "#other way to understand, our real test set has 7163+116 = 7279 clients that didin't subscribe(0), and our model predict \n",
    "#98% correct or 7163 correct and 116 incorrect\n"
   ]
  },
  {
   "cell_type": "code",
   "execution_count": null,
   "metadata": {},
   "outputs": [],
   "source": [
    "print(round(7163 /(7163 + 116),2))"
   ]
  },
  {
   "cell_type": "code",
   "execution_count": null,
   "metadata": {},
   "outputs": [],
   "source": [
    "#Recall - Sensitivity\n",
    "#TP / (TP + FN) [ MATRIX LINE 2 ]\n",
    "\n",
    "#For all POSITIVE(1) REAL VALUES how much we predict correct ?\n",
    "\n",
    "#other way to understand, our real test set has 706 + 253 = 959 clients that subscribe(1), and our model predict 26% correct\n",
    "#or 253 correct and 706 incorrect, BUT REMEMBER, its best we miss by False negative instead of False Positive\n",
    "print(round(253 / (253 + 706  ),2))\n",
    "print(round(metrics.recall_score(y_test, knnpred),2))"
   ]
  },
  {
   "cell_type": "code",
   "execution_count": null,
   "metadata": {},
   "outputs": [],
   "source": [
    "#PRECISION\n",
    "#Precision\n",
    "#TN / (TN + FN) [ MATRIX COLUMN 1 ]\n",
    "\n",
    "#For all NEGATIVE(0) PREDICTIONS by our model, how much we predict correct ?\n",
    "\n",
    "#other way to understand, our model pointed 7163 + 706 = 7869 clients that didin't subscribe(0), and our model predict\n",
    "#91% correct or 7163 correct and 706 incorrect\n",
    "\n",
    "print(round(7163 / (7163 + 706),2))"
   ]
  },
  {
   "cell_type": "code",
   "execution_count": null,
   "metadata": {},
   "outputs": [],
   "source": [
    "print(round(253 / (253 + 116),2))\n",
    "print(round(metrics.precision_score(y_test, knnpred),2))"
   ]
  },
  {
   "cell_type": "code",
   "execution_count": null,
   "metadata": {},
   "outputs": [],
   "source": [
    "F1_0 = 2*0.91*0.98/(0.91+0.98)\n",
    "round(F1_0,2)"
   ]
  },
  {
   "cell_type": "code",
   "execution_count": null,
   "metadata": {},
   "outputs": [],
   "source": [
    "F1_1 = 2*0.69*0.26/(0.69+0.26)\n",
    "round(F1_1,2)"
   ]
  },
  {
   "cell_type": "code",
   "execution_count": null,
   "metadata": {},
   "outputs": [],
   "source": [
    "AVG_precision =  (0.91*(7279/8238))+ (0.69*(959/8238))\n",
    "round(AVG_precision,2)"
   ]
  },
  {
   "cell_type": "code",
   "execution_count": null,
   "metadata": {},
   "outputs": [],
   "source": [
    "AVG_Recall =  (0.98*(7279/8238))+ (0.26*(959/8238))\n",
    "round(AVG_Recall,2)"
   ]
  },
  {
   "cell_type": "code",
   "execution_count": null,
   "metadata": {},
   "outputs": [],
   "source": [
    "AVG_f1 =  (0.95*(7279/8238))+ (0.38*(959/8238))\n",
    "round(AVG_f1,2)"
   ]
  },
  {
   "cell_type": "code",
   "execution_count": null,
   "metadata": {},
   "outputs": [],
   "source": []
  },
  {
   "cell_type": "code",
   "execution_count": null,
   "metadata": {},
   "outputs": [],
   "source": [
    "#Tola Messing Around "
   ]
  },
  {
   "cell_type": "code",
   "execution_count": null,
   "metadata": {},
   "outputs": [],
   "source": [
    "from sklearn.datasets import make_classification\n",
    "from sklearn.linear_model import LogisticRegression\n",
    "from sklearn.model_selection import train_test_split\n",
    "from sklearn.metrics import roc_curve\n",
    "from sklearn.metrics import roc_auc_score\n",
    "from matplotlib import pyplot"
   ]
  },
  {
   "cell_type": "code",
   "execution_count": null,
   "metadata": {},
   "outputs": [],
   "source": [
    "#X_train, y_train y_test  X_test\n",
    "ns_probs = [0 for _ in range(len(y_test))]\n",
    "\n",
    "model = LogisticRegression(solver='lbfgs')\n",
    "model.fit(X_train, y_train)"
   ]
  },
  {
   "cell_type": "code",
   "execution_count": null,
   "metadata": {},
   "outputs": [],
   "source": [
    "# predict probabilities\n",
    "lr_probs = model.predict_proba(X_test)\n",
    "# keep probabilities for the positive outcome only\n",
    "lr_probs = lr_probs[:, 1]\n",
    "# calculate scores\n",
    "ns_auc = roc_auc_score(y_test, ns_probs)\n",
    "lr_auc = roc_auc_score(y_test, lr_probs)"
   ]
  },
  {
   "cell_type": "code",
   "execution_count": null,
   "metadata": {},
   "outputs": [],
   "source": [
    "# summarize scores\n",
    "print('No Skill: ROC AUC=%.3f' % (ns_auc))\n",
    "print('Logistic: ROC AUC=%.3f' % (lr_auc))\n",
    "# calculate roc curves\n",
    "ns_fpr, ns_tpr, _ = roc_curve(y_test, ns_probs)\n",
    "lr_fpr, lr_tpr, _ = roc_curve(y_test, lr_probs)\n"
   ]
  },
  {
   "cell_type": "code",
   "execution_count": null,
   "metadata": {},
   "outputs": [],
   "source": [
    "# plot the roc curve for the model\n",
    "pyplot.plot(ns_fpr, ns_tpr, linestyle='--', label='No Skill')\n",
    "pyplot.plot(lr_fpr, lr_tpr, marker='.', label='Logistic')\n",
    "# axis labels\n",
    "pyplot.xlabel('False Positive Rate')\n",
    "pyplot.ylabel('True Positive Rate')\n",
    "# show the legend\n",
    "pyplot.legend()\n",
    "# show the plot\n",
    "pyplot.show()"
   ]
  },
  {
   "cell_type": "code",
   "execution_count": null,
   "metadata": {},
   "outputs": [],
   "source": [
    "#https://machinelearningmastery.com/roc-curves-and-precision-recall-curves-for-classification-in-python/"
   ]
  },
  {
   "cell_type": "code",
   "execution_count": null,
   "metadata": {},
   "outputs": [],
   "source": []
  },
  {
   "cell_type": "code",
   "execution_count": null,
   "metadata": {},
   "outputs": [],
   "source": []
  },
  {
   "cell_type": "code",
   "execution_count": null,
   "metadata": {},
   "outputs": [],
   "source": []
  },
  {
   "cell_type": "code",
   "execution_count": null,
   "metadata": {},
   "outputs": [],
   "source": [
    "#DECISION TREE ---------------------\n",
    "\n",
    "import matplotlib.pyplot as plt\n",
    "probs = dtree.predict_proba(X_test)\n",
    "preds = probs[:,1]\n",
    "fprdtree, tprdtree, thresholddtree = metrics.roc_curve(y_test, preds)\n",
    "roc_aucdtree = metrics.auc(fprdtree, tprdtree)\n",
    "\n",
    "plt.plot(fprdtree, tprdtree, 'b', label = 'AUC = %0.2f' % roc_aucdtree)\n",
    "plt.plot([0, 1], [0, 1],'r--')\n",
    "plt.title('Receiver Operating Characteristic Decision Tree ',fontsize=15)\n",
    "plt.ylabel('True Positive Rate',fontsize=10)\n",
    "plt.xlabel('False Positive Rate',fontsize=10)\n",
    "plt.legend(loc = 'lower right', prop={'size': 12})"
   ]
  },
  {
   "cell_type": "code",
   "execution_count": null,
   "metadata": {},
   "outputs": [],
   "source": []
  }
 ],
 "metadata": {
  "kernelspec": {
   "display_name": "Python 3",
   "language": "python",
   "name": "python3"
  },
  "language_info": {
   "codemirror_mode": {
    "name": "ipython",
    "version": 3
   },
   "file_extension": ".py",
   "mimetype": "text/x-python",
   "name": "python",
   "nbconvert_exporter": "python",
   "pygments_lexer": "ipython3",
   "version": "3.8.3"
  }
 },
 "nbformat": 4,
 "nbformat_minor": 5
}
