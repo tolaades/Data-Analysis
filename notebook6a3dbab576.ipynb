{
 "cells": [
  {
   "cell_type": "markdown",
   "metadata": {},
   "source": [
    "**Description**\n",
    "\n",
    "The goal of this project was to EDA to thinking about While many parameters influence a car buyer, the decision always involves emotion. The first thing to consider before taking any decision is to have as much good quality data as possible. We have then to perform analysis and extract information's. In this EDA project , I'll study a public dataset available on KAGGLE. The dataset is scraped from Craiglist, a very popular classified ads in the US, and north America. It contains information's from around 450k car classified ads observation and 26 columns."
   ]
  },
  {
   "cell_type": "markdown",
   "metadata": {},
   "source": [
    "**Content:**\n",
    "\n",
    "1. Missingno - Missing Data\n",
    "2. Data Cleaning (drop columns , fill numerical with mean and categorical with mode)\n",
    "3. Detect Outliers ,perform IQR (Box plot, Histogram)\n",
    "4. Seaborn - Bar Plot\n",
    "5. Matplotlib - Bar Plot\n",
    "6. Seaborn - Heatmap"
   ]
  },
  {
   "cell_type": "markdown",
   "metadata": {},
   "source": [
    "**Data Exploration**\n"
   ]
  },
  {
   "cell_type": "code",
   "execution_count": 1,
   "metadata": {},
   "outputs": [],
   "source": [
    "# This Python 3 environment comes with many helpful analytics libraries installed\n",
    "# It is defined by the kaggle/python Docker image: https://github.com/kaggle/docker-python\n",
    "# For example, here's several helpful packages to load\n",
    "\n",
    "import numpy as np # linear algebra\n",
    "import pandas as pd # data processing, CSV file I/O (e.g. pd.read_csv)\n",
    "\n",
    "# Input data files are available in the read-only \"../input/\" directory\n",
    "# For example, running this (by clicking run or pressing Shift+Enter) will list all files under the input directory\n",
    "\n",
    "import os\n",
    "for dirname, _, filenames in os.walk('/kaggle/input'):\n",
    "    for filename in filenames:\n",
    "        print(os.path.join(dirname, filename))\n",
    "\n",
    "# You can write up to 20GB to the current directory (/kaggle/working/) that gets preserved as output when you create a version using \"Save & Run All\" \n",
    "# You can also write temporary files to /kaggle/temp/, but they won't be saved outside of the current session"
   ]
  },
  {
   "cell_type": "markdown",
   "metadata": {},
   "source": [
    "**Data Preparation**\n",
    "\n"
   ]
  },
  {
   "cell_type": "markdown",
   "metadata": {},
   "source": [
    "Import Data"
   ]
  },
  {
   "cell_type": "code",
   "execution_count": 2,
   "metadata": {
    "execution": {
     "iopub.execute_input": "2021-11-19T09:09:56.301615Z",
     "iopub.status.busy": "2021-11-19T09:09:56.30126Z",
     "iopub.status.idle": "2021-11-19T09:09:57.294056Z",
     "shell.execute_reply": "2021-11-19T09:09:57.293151Z",
     "shell.execute_reply.started": "2021-11-19T09:09:56.301577Z"
    }
   },
   "outputs": [],
   "source": [
    "import pandas as pd\n",
    "import numpy as np\n",
    "import seaborn as sns\n",
    "import matplotlib.pyplot as plt\n",
    "import math\n",
    "\n",
    "from sklearn import preprocessing"
   ]
  },
  {
   "cell_type": "markdown",
   "metadata": {},
   "source": [
    "Reading Data"
   ]
  },
  {
   "cell_type": "code",
   "execution_count": 6,
   "metadata": {
    "execution": {
     "iopub.execute_input": "2021-11-19T09:13:21.224412Z",
     "iopub.status.busy": "2021-11-19T09:13:21.223835Z",
     "iopub.status.idle": "2021-11-19T09:14:01.646385Z",
     "shell.execute_reply": "2021-11-19T09:14:01.645441Z",
     "shell.execute_reply.started": "2021-11-19T09:13:21.224373Z"
    }
   },
   "outputs": [
    {
     "data": {
      "text/html": [
       "<div>\n",
       "<style scoped>\n",
       "    .dataframe tbody tr th:only-of-type {\n",
       "        vertical-align: middle;\n",
       "    }\n",
       "\n",
       "    .dataframe tbody tr th {\n",
       "        vertical-align: top;\n",
       "    }\n",
       "\n",
       "    .dataframe thead th {\n",
       "        text-align: right;\n",
       "    }\n",
       "</style>\n",
       "<table border=\"1\" class=\"dataframe\">\n",
       "  <thead>\n",
       "    <tr style=\"text-align: right;\">\n",
       "      <th></th>\n",
       "      <th>id</th>\n",
       "      <th>url</th>\n",
       "      <th>region</th>\n",
       "      <th>region_url</th>\n",
       "      <th>price</th>\n",
       "      <th>year</th>\n",
       "      <th>manufacturer</th>\n",
       "      <th>model</th>\n",
       "      <th>condition</th>\n",
       "      <th>cylinders</th>\n",
       "      <th>...</th>\n",
       "      <th>size</th>\n",
       "      <th>type</th>\n",
       "      <th>paint_color</th>\n",
       "      <th>image_url</th>\n",
       "      <th>description</th>\n",
       "      <th>county</th>\n",
       "      <th>state</th>\n",
       "      <th>lat</th>\n",
       "      <th>long</th>\n",
       "      <th>posting_date</th>\n",
       "    </tr>\n",
       "  </thead>\n",
       "  <tbody>\n",
       "    <tr>\n",
       "      <th>0</th>\n",
       "      <td>7222695916</td>\n",
       "      <td>https://prescott.craigslist.org/cto/d/prescott...</td>\n",
       "      <td>prescott</td>\n",
       "      <td>https://prescott.craigslist.org</td>\n",
       "      <td>6000</td>\n",
       "      <td>NaN</td>\n",
       "      <td>NaN</td>\n",
       "      <td>NaN</td>\n",
       "      <td>NaN</td>\n",
       "      <td>NaN</td>\n",
       "      <td>...</td>\n",
       "      <td>NaN</td>\n",
       "      <td>NaN</td>\n",
       "      <td>NaN</td>\n",
       "      <td>NaN</td>\n",
       "      <td>NaN</td>\n",
       "      <td>NaN</td>\n",
       "      <td>az</td>\n",
       "      <td>NaN</td>\n",
       "      <td>NaN</td>\n",
       "      <td>NaN</td>\n",
       "    </tr>\n",
       "    <tr>\n",
       "      <th>1</th>\n",
       "      <td>7218891961</td>\n",
       "      <td>https://fayar.craigslist.org/ctd/d/bentonville...</td>\n",
       "      <td>fayetteville</td>\n",
       "      <td>https://fayar.craigslist.org</td>\n",
       "      <td>11900</td>\n",
       "      <td>NaN</td>\n",
       "      <td>NaN</td>\n",
       "      <td>NaN</td>\n",
       "      <td>NaN</td>\n",
       "      <td>NaN</td>\n",
       "      <td>...</td>\n",
       "      <td>NaN</td>\n",
       "      <td>NaN</td>\n",
       "      <td>NaN</td>\n",
       "      <td>NaN</td>\n",
       "      <td>NaN</td>\n",
       "      <td>NaN</td>\n",
       "      <td>ar</td>\n",
       "      <td>NaN</td>\n",
       "      <td>NaN</td>\n",
       "      <td>NaN</td>\n",
       "    </tr>\n",
       "    <tr>\n",
       "      <th>2</th>\n",
       "      <td>7221797935</td>\n",
       "      <td>https://keys.craigslist.org/cto/d/summerland-k...</td>\n",
       "      <td>florida keys</td>\n",
       "      <td>https://keys.craigslist.org</td>\n",
       "      <td>21000</td>\n",
       "      <td>NaN</td>\n",
       "      <td>NaN</td>\n",
       "      <td>NaN</td>\n",
       "      <td>NaN</td>\n",
       "      <td>NaN</td>\n",
       "      <td>...</td>\n",
       "      <td>NaN</td>\n",
       "      <td>NaN</td>\n",
       "      <td>NaN</td>\n",
       "      <td>NaN</td>\n",
       "      <td>NaN</td>\n",
       "      <td>NaN</td>\n",
       "      <td>fl</td>\n",
       "      <td>NaN</td>\n",
       "      <td>NaN</td>\n",
       "      <td>NaN</td>\n",
       "    </tr>\n",
       "    <tr>\n",
       "      <th>3</th>\n",
       "      <td>7222270760</td>\n",
       "      <td>https://worcester.craigslist.org/cto/d/west-br...</td>\n",
       "      <td>worcester / central MA</td>\n",
       "      <td>https://worcester.craigslist.org</td>\n",
       "      <td>1500</td>\n",
       "      <td>NaN</td>\n",
       "      <td>NaN</td>\n",
       "      <td>NaN</td>\n",
       "      <td>NaN</td>\n",
       "      <td>NaN</td>\n",
       "      <td>...</td>\n",
       "      <td>NaN</td>\n",
       "      <td>NaN</td>\n",
       "      <td>NaN</td>\n",
       "      <td>NaN</td>\n",
       "      <td>NaN</td>\n",
       "      <td>NaN</td>\n",
       "      <td>ma</td>\n",
       "      <td>NaN</td>\n",
       "      <td>NaN</td>\n",
       "      <td>NaN</td>\n",
       "    </tr>\n",
       "    <tr>\n",
       "      <th>4</th>\n",
       "      <td>7210384030</td>\n",
       "      <td>https://greensboro.craigslist.org/cto/d/trinit...</td>\n",
       "      <td>greensboro</td>\n",
       "      <td>https://greensboro.craigslist.org</td>\n",
       "      <td>4900</td>\n",
       "      <td>NaN</td>\n",
       "      <td>NaN</td>\n",
       "      <td>NaN</td>\n",
       "      <td>NaN</td>\n",
       "      <td>NaN</td>\n",
       "      <td>...</td>\n",
       "      <td>NaN</td>\n",
       "      <td>NaN</td>\n",
       "      <td>NaN</td>\n",
       "      <td>NaN</td>\n",
       "      <td>NaN</td>\n",
       "      <td>NaN</td>\n",
       "      <td>nc</td>\n",
       "      <td>NaN</td>\n",
       "      <td>NaN</td>\n",
       "      <td>NaN</td>\n",
       "    </tr>\n",
       "    <tr>\n",
       "      <th>...</th>\n",
       "      <td>...</td>\n",
       "      <td>...</td>\n",
       "      <td>...</td>\n",
       "      <td>...</td>\n",
       "      <td>...</td>\n",
       "      <td>...</td>\n",
       "      <td>...</td>\n",
       "      <td>...</td>\n",
       "      <td>...</td>\n",
       "      <td>...</td>\n",
       "      <td>...</td>\n",
       "      <td>...</td>\n",
       "      <td>...</td>\n",
       "      <td>...</td>\n",
       "      <td>...</td>\n",
       "      <td>...</td>\n",
       "      <td>...</td>\n",
       "      <td>...</td>\n",
       "      <td>...</td>\n",
       "      <td>...</td>\n",
       "      <td>...</td>\n",
       "    </tr>\n",
       "    <tr>\n",
       "      <th>426875</th>\n",
       "      <td>7301591192</td>\n",
       "      <td>https://wyoming.craigslist.org/ctd/d/atlanta-2...</td>\n",
       "      <td>wyoming</td>\n",
       "      <td>https://wyoming.craigslist.org</td>\n",
       "      <td>23590</td>\n",
       "      <td>2019.0</td>\n",
       "      <td>nissan</td>\n",
       "      <td>maxima s sedan 4d</td>\n",
       "      <td>good</td>\n",
       "      <td>6 cylinders</td>\n",
       "      <td>...</td>\n",
       "      <td>NaN</td>\n",
       "      <td>sedan</td>\n",
       "      <td>NaN</td>\n",
       "      <td>https://images.craigslist.org/00o0o_iiraFnHg8q...</td>\n",
       "      <td>Carvana is the safer way to buy a car During t...</td>\n",
       "      <td>NaN</td>\n",
       "      <td>wy</td>\n",
       "      <td>33.786500</td>\n",
       "      <td>-84.445400</td>\n",
       "      <td>2021-04-04T03:21:31-0600</td>\n",
       "    </tr>\n",
       "    <tr>\n",
       "      <th>426876</th>\n",
       "      <td>7301591187</td>\n",
       "      <td>https://wyoming.craigslist.org/ctd/d/atlanta-2...</td>\n",
       "      <td>wyoming</td>\n",
       "      <td>https://wyoming.craigslist.org</td>\n",
       "      <td>30590</td>\n",
       "      <td>2020.0</td>\n",
       "      <td>volvo</td>\n",
       "      <td>s60 t5 momentum sedan 4d</td>\n",
       "      <td>good</td>\n",
       "      <td>NaN</td>\n",
       "      <td>...</td>\n",
       "      <td>NaN</td>\n",
       "      <td>sedan</td>\n",
       "      <td>red</td>\n",
       "      <td>https://images.craigslist.org/00x0x_15sbgnxCIS...</td>\n",
       "      <td>Carvana is the safer way to buy a car During t...</td>\n",
       "      <td>NaN</td>\n",
       "      <td>wy</td>\n",
       "      <td>33.786500</td>\n",
       "      <td>-84.445400</td>\n",
       "      <td>2021-04-04T03:21:29-0600</td>\n",
       "    </tr>\n",
       "    <tr>\n",
       "      <th>426877</th>\n",
       "      <td>7301591147</td>\n",
       "      <td>https://wyoming.craigslist.org/ctd/d/atlanta-2...</td>\n",
       "      <td>wyoming</td>\n",
       "      <td>https://wyoming.craigslist.org</td>\n",
       "      <td>34990</td>\n",
       "      <td>2020.0</td>\n",
       "      <td>cadillac</td>\n",
       "      <td>xt4 sport suv 4d</td>\n",
       "      <td>good</td>\n",
       "      <td>NaN</td>\n",
       "      <td>...</td>\n",
       "      <td>NaN</td>\n",
       "      <td>hatchback</td>\n",
       "      <td>white</td>\n",
       "      <td>https://images.craigslist.org/00L0L_farM7bxnxR...</td>\n",
       "      <td>Carvana is the safer way to buy a car During t...</td>\n",
       "      <td>NaN</td>\n",
       "      <td>wy</td>\n",
       "      <td>33.779214</td>\n",
       "      <td>-84.411811</td>\n",
       "      <td>2021-04-04T03:21:17-0600</td>\n",
       "    </tr>\n",
       "    <tr>\n",
       "      <th>426878</th>\n",
       "      <td>7301591140</td>\n",
       "      <td>https://wyoming.craigslist.org/ctd/d/atlanta-2...</td>\n",
       "      <td>wyoming</td>\n",
       "      <td>https://wyoming.craigslist.org</td>\n",
       "      <td>28990</td>\n",
       "      <td>2018.0</td>\n",
       "      <td>lexus</td>\n",
       "      <td>es 350 sedan 4d</td>\n",
       "      <td>good</td>\n",
       "      <td>6 cylinders</td>\n",
       "      <td>...</td>\n",
       "      <td>NaN</td>\n",
       "      <td>sedan</td>\n",
       "      <td>silver</td>\n",
       "      <td>https://images.craigslist.org/00z0z_bKnIVGLkDT...</td>\n",
       "      <td>Carvana is the safer way to buy a car During t...</td>\n",
       "      <td>NaN</td>\n",
       "      <td>wy</td>\n",
       "      <td>33.786500</td>\n",
       "      <td>-84.445400</td>\n",
       "      <td>2021-04-04T03:21:11-0600</td>\n",
       "    </tr>\n",
       "    <tr>\n",
       "      <th>426879</th>\n",
       "      <td>7301591129</td>\n",
       "      <td>https://wyoming.craigslist.org/ctd/d/atlanta-2...</td>\n",
       "      <td>wyoming</td>\n",
       "      <td>https://wyoming.craigslist.org</td>\n",
       "      <td>30590</td>\n",
       "      <td>2019.0</td>\n",
       "      <td>bmw</td>\n",
       "      <td>4 series 430i gran coupe</td>\n",
       "      <td>good</td>\n",
       "      <td>NaN</td>\n",
       "      <td>...</td>\n",
       "      <td>NaN</td>\n",
       "      <td>coupe</td>\n",
       "      <td>NaN</td>\n",
       "      <td>https://images.craigslist.org/00Y0Y_lEUocjyRxa...</td>\n",
       "      <td>Carvana is the safer way to buy a car During t...</td>\n",
       "      <td>NaN</td>\n",
       "      <td>wy</td>\n",
       "      <td>33.779214</td>\n",
       "      <td>-84.411811</td>\n",
       "      <td>2021-04-04T03:21:07-0600</td>\n",
       "    </tr>\n",
       "  </tbody>\n",
       "</table>\n",
       "<p>426880 rows × 26 columns</p>\n",
       "</div>"
      ],
      "text/plain": [
       "                id                                                url  \\\n",
       "0       7222695916  https://prescott.craigslist.org/cto/d/prescott...   \n",
       "1       7218891961  https://fayar.craigslist.org/ctd/d/bentonville...   \n",
       "2       7221797935  https://keys.craigslist.org/cto/d/summerland-k...   \n",
       "3       7222270760  https://worcester.craigslist.org/cto/d/west-br...   \n",
       "4       7210384030  https://greensboro.craigslist.org/cto/d/trinit...   \n",
       "...            ...                                                ...   \n",
       "426875  7301591192  https://wyoming.craigslist.org/ctd/d/atlanta-2...   \n",
       "426876  7301591187  https://wyoming.craigslist.org/ctd/d/atlanta-2...   \n",
       "426877  7301591147  https://wyoming.craigslist.org/ctd/d/atlanta-2...   \n",
       "426878  7301591140  https://wyoming.craigslist.org/ctd/d/atlanta-2...   \n",
       "426879  7301591129  https://wyoming.craigslist.org/ctd/d/atlanta-2...   \n",
       "\n",
       "                        region                         region_url  price  \\\n",
       "0                     prescott    https://prescott.craigslist.org   6000   \n",
       "1                 fayetteville       https://fayar.craigslist.org  11900   \n",
       "2                 florida keys        https://keys.craigslist.org  21000   \n",
       "3       worcester / central MA   https://worcester.craigslist.org   1500   \n",
       "4                   greensboro  https://greensboro.craigslist.org   4900   \n",
       "...                        ...                                ...    ...   \n",
       "426875                 wyoming     https://wyoming.craigslist.org  23590   \n",
       "426876                 wyoming     https://wyoming.craigslist.org  30590   \n",
       "426877                 wyoming     https://wyoming.craigslist.org  34990   \n",
       "426878                 wyoming     https://wyoming.craigslist.org  28990   \n",
       "426879                 wyoming     https://wyoming.craigslist.org  30590   \n",
       "\n",
       "          year manufacturer                     model condition    cylinders  \\\n",
       "0          NaN          NaN                       NaN       NaN          NaN   \n",
       "1          NaN          NaN                       NaN       NaN          NaN   \n",
       "2          NaN          NaN                       NaN       NaN          NaN   \n",
       "3          NaN          NaN                       NaN       NaN          NaN   \n",
       "4          NaN          NaN                       NaN       NaN          NaN   \n",
       "...        ...          ...                       ...       ...          ...   \n",
       "426875  2019.0       nissan         maxima s sedan 4d      good  6 cylinders   \n",
       "426876  2020.0        volvo  s60 t5 momentum sedan 4d      good          NaN   \n",
       "426877  2020.0     cadillac          xt4 sport suv 4d      good          NaN   \n",
       "426878  2018.0        lexus           es 350 sedan 4d      good  6 cylinders   \n",
       "426879  2019.0          bmw  4 series 430i gran coupe      good          NaN   \n",
       "\n",
       "        ... size       type paint_color  \\\n",
       "0       ...  NaN        NaN         NaN   \n",
       "1       ...  NaN        NaN         NaN   \n",
       "2       ...  NaN        NaN         NaN   \n",
       "3       ...  NaN        NaN         NaN   \n",
       "4       ...  NaN        NaN         NaN   \n",
       "...     ...  ...        ...         ...   \n",
       "426875  ...  NaN      sedan         NaN   \n",
       "426876  ...  NaN      sedan         red   \n",
       "426877  ...  NaN  hatchback       white   \n",
       "426878  ...  NaN      sedan      silver   \n",
       "426879  ...  NaN      coupe         NaN   \n",
       "\n",
       "                                                image_url  \\\n",
       "0                                                     NaN   \n",
       "1                                                     NaN   \n",
       "2                                                     NaN   \n",
       "3                                                     NaN   \n",
       "4                                                     NaN   \n",
       "...                                                   ...   \n",
       "426875  https://images.craigslist.org/00o0o_iiraFnHg8q...   \n",
       "426876  https://images.craigslist.org/00x0x_15sbgnxCIS...   \n",
       "426877  https://images.craigslist.org/00L0L_farM7bxnxR...   \n",
       "426878  https://images.craigslist.org/00z0z_bKnIVGLkDT...   \n",
       "426879  https://images.craigslist.org/00Y0Y_lEUocjyRxa...   \n",
       "\n",
       "                                              description county state  \\\n",
       "0                                                     NaN    NaN    az   \n",
       "1                                                     NaN    NaN    ar   \n",
       "2                                                     NaN    NaN    fl   \n",
       "3                                                     NaN    NaN    ma   \n",
       "4                                                     NaN    NaN    nc   \n",
       "...                                                   ...    ...   ...   \n",
       "426875  Carvana is the safer way to buy a car During t...    NaN    wy   \n",
       "426876  Carvana is the safer way to buy a car During t...    NaN    wy   \n",
       "426877  Carvana is the safer way to buy a car During t...    NaN    wy   \n",
       "426878  Carvana is the safer way to buy a car During t...    NaN    wy   \n",
       "426879  Carvana is the safer way to buy a car During t...    NaN    wy   \n",
       "\n",
       "              lat       long              posting_date  \n",
       "0             NaN        NaN                       NaN  \n",
       "1             NaN        NaN                       NaN  \n",
       "2             NaN        NaN                       NaN  \n",
       "3             NaN        NaN                       NaN  \n",
       "4             NaN        NaN                       NaN  \n",
       "...           ...        ...                       ...  \n",
       "426875  33.786500 -84.445400  2021-04-04T03:21:31-0600  \n",
       "426876  33.786500 -84.445400  2021-04-04T03:21:29-0600  \n",
       "426877  33.779214 -84.411811  2021-04-04T03:21:17-0600  \n",
       "426878  33.786500 -84.445400  2021-04-04T03:21:11-0600  \n",
       "426879  33.779214 -84.411811  2021-04-04T03:21:07-0600  \n",
       "\n",
       "[426880 rows x 26 columns]"
      ]
     },
     "execution_count": 6,
     "metadata": {},
     "output_type": "execute_result"
    }
   ],
   "source": [
    "# Reading data\n",
    "df = pd.read_csv('vehicles.csv')\n",
    "df"
   ]
  },
  {
   "cell_type": "code",
   "execution_count": 8,
   "metadata": {
    "execution": {
     "iopub.execute_input": "2021-11-19T09:15:40.025775Z",
     "iopub.status.busy": "2021-11-19T09:15:40.025406Z",
     "iopub.status.idle": "2021-11-19T09:15:40.913798Z",
     "shell.execute_reply": "2021-11-19T09:15:40.912922Z",
     "shell.execute_reply.started": "2021-11-19T09:15:40.02573Z"
    }
   },
   "outputs": [
    {
     "name": "stdout",
     "output_type": "stream",
     "text": [
      "<class 'pandas.core.frame.DataFrame'>\n",
      "RangeIndex: 426880 entries, 0 to 426879\n",
      "Data columns (total 26 columns):\n",
      " #   Column        Non-Null Count   Dtype  \n",
      "---  ------        --------------   -----  \n",
      " 0   id            426880 non-null  int64  \n",
      " 1   url           426880 non-null  object \n",
      " 2   region        426880 non-null  object \n",
      " 3   region_url    426880 non-null  object \n",
      " 4   price         426880 non-null  int64  \n",
      " 5   year          425675 non-null  float64\n",
      " 6   manufacturer  409234 non-null  object \n",
      " 7   model         421603 non-null  object \n",
      " 8   condition     252776 non-null  object \n",
      " 9   cylinders     249202 non-null  object \n",
      " 10  fuel          423867 non-null  object \n",
      " 11  odometer      422480 non-null  float64\n",
      " 12  title_status  418638 non-null  object \n",
      " 13  transmission  424324 non-null  object \n",
      " 14  VIN           265838 non-null  object \n",
      " 15  drive         296313 non-null  object \n",
      " 16  size          120519 non-null  object \n",
      " 17  type          334022 non-null  object \n",
      " 18  paint_color   296677 non-null  object \n",
      " 19  image_url     426812 non-null  object \n",
      " 20  description   426810 non-null  object \n",
      " 21  county        0 non-null       float64\n",
      " 22  state         426880 non-null  object \n",
      " 23  lat           420331 non-null  float64\n",
      " 24  long          420331 non-null  float64\n",
      " 25  posting_date  426812 non-null  object \n",
      "dtypes: float64(5), int64(2), object(19)\n",
      "memory usage: 84.7+ MB\n"
     ]
    }
   ],
   "source": [
    "# information about data\n",
    "df.info()"
   ]
  },
  {
   "cell_type": "code",
   "execution_count": 9,
   "metadata": {
    "execution": {
     "iopub.execute_input": "2021-11-19T09:15:46.236528Z",
     "iopub.status.busy": "2021-11-19T09:15:46.236184Z",
     "iopub.status.idle": "2021-11-19T09:15:46.268227Z",
     "shell.execute_reply": "2021-11-19T09:15:46.267468Z",
     "shell.execute_reply.started": "2021-11-19T09:15:46.236493Z"
    }
   },
   "outputs": [
    {
     "data": {
      "text/html": [
       "<div>\n",
       "<style scoped>\n",
       "    .dataframe tbody tr th:only-of-type {\n",
       "        vertical-align: middle;\n",
       "    }\n",
       "\n",
       "    .dataframe tbody tr th {\n",
       "        vertical-align: top;\n",
       "    }\n",
       "\n",
       "    .dataframe thead th {\n",
       "        text-align: right;\n",
       "    }\n",
       "</style>\n",
       "<table border=\"1\" class=\"dataframe\">\n",
       "  <thead>\n",
       "    <tr style=\"text-align: right;\">\n",
       "      <th></th>\n",
       "      <th>id</th>\n",
       "      <th>url</th>\n",
       "      <th>region</th>\n",
       "      <th>region_url</th>\n",
       "      <th>price</th>\n",
       "      <th>year</th>\n",
       "      <th>manufacturer</th>\n",
       "      <th>model</th>\n",
       "      <th>condition</th>\n",
       "      <th>cylinders</th>\n",
       "      <th>...</th>\n",
       "      <th>size</th>\n",
       "      <th>type</th>\n",
       "      <th>paint_color</th>\n",
       "      <th>image_url</th>\n",
       "      <th>description</th>\n",
       "      <th>county</th>\n",
       "      <th>state</th>\n",
       "      <th>lat</th>\n",
       "      <th>long</th>\n",
       "      <th>posting_date</th>\n",
       "    </tr>\n",
       "  </thead>\n",
       "  <tbody>\n",
       "    <tr>\n",
       "      <th>0</th>\n",
       "      <td>7222695916</td>\n",
       "      <td>https://prescott.craigslist.org/cto/d/prescott...</td>\n",
       "      <td>prescott</td>\n",
       "      <td>https://prescott.craigslist.org</td>\n",
       "      <td>6000</td>\n",
       "      <td>NaN</td>\n",
       "      <td>NaN</td>\n",
       "      <td>NaN</td>\n",
       "      <td>NaN</td>\n",
       "      <td>NaN</td>\n",
       "      <td>...</td>\n",
       "      <td>NaN</td>\n",
       "      <td>NaN</td>\n",
       "      <td>NaN</td>\n",
       "      <td>NaN</td>\n",
       "      <td>NaN</td>\n",
       "      <td>NaN</td>\n",
       "      <td>az</td>\n",
       "      <td>NaN</td>\n",
       "      <td>NaN</td>\n",
       "      <td>NaN</td>\n",
       "    </tr>\n",
       "    <tr>\n",
       "      <th>1</th>\n",
       "      <td>7218891961</td>\n",
       "      <td>https://fayar.craigslist.org/ctd/d/bentonville...</td>\n",
       "      <td>fayetteville</td>\n",
       "      <td>https://fayar.craigslist.org</td>\n",
       "      <td>11900</td>\n",
       "      <td>NaN</td>\n",
       "      <td>NaN</td>\n",
       "      <td>NaN</td>\n",
       "      <td>NaN</td>\n",
       "      <td>NaN</td>\n",
       "      <td>...</td>\n",
       "      <td>NaN</td>\n",
       "      <td>NaN</td>\n",
       "      <td>NaN</td>\n",
       "      <td>NaN</td>\n",
       "      <td>NaN</td>\n",
       "      <td>NaN</td>\n",
       "      <td>ar</td>\n",
       "      <td>NaN</td>\n",
       "      <td>NaN</td>\n",
       "      <td>NaN</td>\n",
       "    </tr>\n",
       "    <tr>\n",
       "      <th>2</th>\n",
       "      <td>7221797935</td>\n",
       "      <td>https://keys.craigslist.org/cto/d/summerland-k...</td>\n",
       "      <td>florida keys</td>\n",
       "      <td>https://keys.craigslist.org</td>\n",
       "      <td>21000</td>\n",
       "      <td>NaN</td>\n",
       "      <td>NaN</td>\n",
       "      <td>NaN</td>\n",
       "      <td>NaN</td>\n",
       "      <td>NaN</td>\n",
       "      <td>...</td>\n",
       "      <td>NaN</td>\n",
       "      <td>NaN</td>\n",
       "      <td>NaN</td>\n",
       "      <td>NaN</td>\n",
       "      <td>NaN</td>\n",
       "      <td>NaN</td>\n",
       "      <td>fl</td>\n",
       "      <td>NaN</td>\n",
       "      <td>NaN</td>\n",
       "      <td>NaN</td>\n",
       "    </tr>\n",
       "    <tr>\n",
       "      <th>3</th>\n",
       "      <td>7222270760</td>\n",
       "      <td>https://worcester.craigslist.org/cto/d/west-br...</td>\n",
       "      <td>worcester / central MA</td>\n",
       "      <td>https://worcester.craigslist.org</td>\n",
       "      <td>1500</td>\n",
       "      <td>NaN</td>\n",
       "      <td>NaN</td>\n",
       "      <td>NaN</td>\n",
       "      <td>NaN</td>\n",
       "      <td>NaN</td>\n",
       "      <td>...</td>\n",
       "      <td>NaN</td>\n",
       "      <td>NaN</td>\n",
       "      <td>NaN</td>\n",
       "      <td>NaN</td>\n",
       "      <td>NaN</td>\n",
       "      <td>NaN</td>\n",
       "      <td>ma</td>\n",
       "      <td>NaN</td>\n",
       "      <td>NaN</td>\n",
       "      <td>NaN</td>\n",
       "    </tr>\n",
       "    <tr>\n",
       "      <th>4</th>\n",
       "      <td>7210384030</td>\n",
       "      <td>https://greensboro.craigslist.org/cto/d/trinit...</td>\n",
       "      <td>greensboro</td>\n",
       "      <td>https://greensboro.craigslist.org</td>\n",
       "      <td>4900</td>\n",
       "      <td>NaN</td>\n",
       "      <td>NaN</td>\n",
       "      <td>NaN</td>\n",
       "      <td>NaN</td>\n",
       "      <td>NaN</td>\n",
       "      <td>...</td>\n",
       "      <td>NaN</td>\n",
       "      <td>NaN</td>\n",
       "      <td>NaN</td>\n",
       "      <td>NaN</td>\n",
       "      <td>NaN</td>\n",
       "      <td>NaN</td>\n",
       "      <td>nc</td>\n",
       "      <td>NaN</td>\n",
       "      <td>NaN</td>\n",
       "      <td>NaN</td>\n",
       "    </tr>\n",
       "    <tr>\n",
       "      <th>5</th>\n",
       "      <td>7222379453</td>\n",
       "      <td>https://hudsonvalley.craigslist.org/cto/d/west...</td>\n",
       "      <td>hudson valley</td>\n",
       "      <td>https://hudsonvalley.craigslist.org</td>\n",
       "      <td>1600</td>\n",
       "      <td>NaN</td>\n",
       "      <td>NaN</td>\n",
       "      <td>NaN</td>\n",
       "      <td>NaN</td>\n",
       "      <td>NaN</td>\n",
       "      <td>...</td>\n",
       "      <td>NaN</td>\n",
       "      <td>NaN</td>\n",
       "      <td>NaN</td>\n",
       "      <td>NaN</td>\n",
       "      <td>NaN</td>\n",
       "      <td>NaN</td>\n",
       "      <td>ny</td>\n",
       "      <td>NaN</td>\n",
       "      <td>NaN</td>\n",
       "      <td>NaN</td>\n",
       "    </tr>\n",
       "    <tr>\n",
       "      <th>6</th>\n",
       "      <td>7221952215</td>\n",
       "      <td>https://hudsonvalley.craigslist.org/cto/d/west...</td>\n",
       "      <td>hudson valley</td>\n",
       "      <td>https://hudsonvalley.craigslist.org</td>\n",
       "      <td>1000</td>\n",
       "      <td>NaN</td>\n",
       "      <td>NaN</td>\n",
       "      <td>NaN</td>\n",
       "      <td>NaN</td>\n",
       "      <td>NaN</td>\n",
       "      <td>...</td>\n",
       "      <td>NaN</td>\n",
       "      <td>NaN</td>\n",
       "      <td>NaN</td>\n",
       "      <td>NaN</td>\n",
       "      <td>NaN</td>\n",
       "      <td>NaN</td>\n",
       "      <td>ny</td>\n",
       "      <td>NaN</td>\n",
       "      <td>NaN</td>\n",
       "      <td>NaN</td>\n",
       "    </tr>\n",
       "    <tr>\n",
       "      <th>7</th>\n",
       "      <td>7220195662</td>\n",
       "      <td>https://hudsonvalley.craigslist.org/cto/d/poug...</td>\n",
       "      <td>hudson valley</td>\n",
       "      <td>https://hudsonvalley.craigslist.org</td>\n",
       "      <td>15995</td>\n",
       "      <td>NaN</td>\n",
       "      <td>NaN</td>\n",
       "      <td>NaN</td>\n",
       "      <td>NaN</td>\n",
       "      <td>NaN</td>\n",
       "      <td>...</td>\n",
       "      <td>NaN</td>\n",
       "      <td>NaN</td>\n",
       "      <td>NaN</td>\n",
       "      <td>NaN</td>\n",
       "      <td>NaN</td>\n",
       "      <td>NaN</td>\n",
       "      <td>ny</td>\n",
       "      <td>NaN</td>\n",
       "      <td>NaN</td>\n",
       "      <td>NaN</td>\n",
       "    </tr>\n",
       "    <tr>\n",
       "      <th>8</th>\n",
       "      <td>7209064557</td>\n",
       "      <td>https://medford.craigslist.org/cto/d/grants-pa...</td>\n",
       "      <td>medford-ashland</td>\n",
       "      <td>https://medford.craigslist.org</td>\n",
       "      <td>5000</td>\n",
       "      <td>NaN</td>\n",
       "      <td>NaN</td>\n",
       "      <td>NaN</td>\n",
       "      <td>NaN</td>\n",
       "      <td>NaN</td>\n",
       "      <td>...</td>\n",
       "      <td>NaN</td>\n",
       "      <td>NaN</td>\n",
       "      <td>NaN</td>\n",
       "      <td>NaN</td>\n",
       "      <td>NaN</td>\n",
       "      <td>NaN</td>\n",
       "      <td>or</td>\n",
       "      <td>NaN</td>\n",
       "      <td>NaN</td>\n",
       "      <td>NaN</td>\n",
       "    </tr>\n",
       "    <tr>\n",
       "      <th>9</th>\n",
       "      <td>7219485069</td>\n",
       "      <td>https://erie.craigslist.org/cto/d/erie-2012-su...</td>\n",
       "      <td>erie</td>\n",
       "      <td>https://erie.craigslist.org</td>\n",
       "      <td>3000</td>\n",
       "      <td>NaN</td>\n",
       "      <td>NaN</td>\n",
       "      <td>NaN</td>\n",
       "      <td>NaN</td>\n",
       "      <td>NaN</td>\n",
       "      <td>...</td>\n",
       "      <td>NaN</td>\n",
       "      <td>NaN</td>\n",
       "      <td>NaN</td>\n",
       "      <td>NaN</td>\n",
       "      <td>NaN</td>\n",
       "      <td>NaN</td>\n",
       "      <td>pa</td>\n",
       "      <td>NaN</td>\n",
       "      <td>NaN</td>\n",
       "      <td>NaN</td>\n",
       "    </tr>\n",
       "  </tbody>\n",
       "</table>\n",
       "<p>10 rows × 26 columns</p>\n",
       "</div>"
      ],
      "text/plain": [
       "           id                                                url  \\\n",
       "0  7222695916  https://prescott.craigslist.org/cto/d/prescott...   \n",
       "1  7218891961  https://fayar.craigslist.org/ctd/d/bentonville...   \n",
       "2  7221797935  https://keys.craigslist.org/cto/d/summerland-k...   \n",
       "3  7222270760  https://worcester.craigslist.org/cto/d/west-br...   \n",
       "4  7210384030  https://greensboro.craigslist.org/cto/d/trinit...   \n",
       "5  7222379453  https://hudsonvalley.craigslist.org/cto/d/west...   \n",
       "6  7221952215  https://hudsonvalley.craigslist.org/cto/d/west...   \n",
       "7  7220195662  https://hudsonvalley.craigslist.org/cto/d/poug...   \n",
       "8  7209064557  https://medford.craigslist.org/cto/d/grants-pa...   \n",
       "9  7219485069  https://erie.craigslist.org/cto/d/erie-2012-su...   \n",
       "\n",
       "                   region                           region_url  price  year  \\\n",
       "0                prescott      https://prescott.craigslist.org   6000   NaN   \n",
       "1            fayetteville         https://fayar.craigslist.org  11900   NaN   \n",
       "2            florida keys          https://keys.craigslist.org  21000   NaN   \n",
       "3  worcester / central MA     https://worcester.craigslist.org   1500   NaN   \n",
       "4              greensboro    https://greensboro.craigslist.org   4900   NaN   \n",
       "5           hudson valley  https://hudsonvalley.craigslist.org   1600   NaN   \n",
       "6           hudson valley  https://hudsonvalley.craigslist.org   1000   NaN   \n",
       "7           hudson valley  https://hudsonvalley.craigslist.org  15995   NaN   \n",
       "8         medford-ashland       https://medford.craigslist.org   5000   NaN   \n",
       "9                    erie          https://erie.craigslist.org   3000   NaN   \n",
       "\n",
       "  manufacturer model condition cylinders  ... size  type paint_color  \\\n",
       "0          NaN   NaN       NaN       NaN  ...  NaN   NaN         NaN   \n",
       "1          NaN   NaN       NaN       NaN  ...  NaN   NaN         NaN   \n",
       "2          NaN   NaN       NaN       NaN  ...  NaN   NaN         NaN   \n",
       "3          NaN   NaN       NaN       NaN  ...  NaN   NaN         NaN   \n",
       "4          NaN   NaN       NaN       NaN  ...  NaN   NaN         NaN   \n",
       "5          NaN   NaN       NaN       NaN  ...  NaN   NaN         NaN   \n",
       "6          NaN   NaN       NaN       NaN  ...  NaN   NaN         NaN   \n",
       "7          NaN   NaN       NaN       NaN  ...  NaN   NaN         NaN   \n",
       "8          NaN   NaN       NaN       NaN  ...  NaN   NaN         NaN   \n",
       "9          NaN   NaN       NaN       NaN  ...  NaN   NaN         NaN   \n",
       "\n",
       "  image_url description county state lat long posting_date  \n",
       "0       NaN         NaN    NaN    az NaN  NaN          NaN  \n",
       "1       NaN         NaN    NaN    ar NaN  NaN          NaN  \n",
       "2       NaN         NaN    NaN    fl NaN  NaN          NaN  \n",
       "3       NaN         NaN    NaN    ma NaN  NaN          NaN  \n",
       "4       NaN         NaN    NaN    nc NaN  NaN          NaN  \n",
       "5       NaN         NaN    NaN    ny NaN  NaN          NaN  \n",
       "6       NaN         NaN    NaN    ny NaN  NaN          NaN  \n",
       "7       NaN         NaN    NaN    ny NaN  NaN          NaN  \n",
       "8       NaN         NaN    NaN    or NaN  NaN          NaN  \n",
       "9       NaN         NaN    NaN    pa NaN  NaN          NaN  \n",
       "\n",
       "[10 rows x 26 columns]"
      ]
     },
     "execution_count": 9,
     "metadata": {},
     "output_type": "execute_result"
    }
   ],
   "source": [
    "# show first 10 rowes\n",
    "df.head(10)"
   ]
  },
  {
   "cell_type": "code",
   "execution_count": 10,
   "metadata": {
    "execution": {
     "iopub.execute_input": "2021-11-19T09:16:06.667665Z",
     "iopub.status.busy": "2021-11-19T09:16:06.667261Z",
     "iopub.status.idle": "2021-11-19T09:16:06.70967Z",
     "shell.execute_reply": "2021-11-19T09:16:06.709056Z",
     "shell.execute_reply.started": "2021-11-19T09:16:06.667626Z"
    }
   },
   "outputs": [
    {
     "data": {
      "text/html": [
       "<div>\n",
       "<style scoped>\n",
       "    .dataframe tbody tr th:only-of-type {\n",
       "        vertical-align: middle;\n",
       "    }\n",
       "\n",
       "    .dataframe tbody tr th {\n",
       "        vertical-align: top;\n",
       "    }\n",
       "\n",
       "    .dataframe thead th {\n",
       "        text-align: right;\n",
       "    }\n",
       "</style>\n",
       "<table border=\"1\" class=\"dataframe\">\n",
       "  <thead>\n",
       "    <tr style=\"text-align: right;\">\n",
       "      <th></th>\n",
       "      <th>id</th>\n",
       "      <th>url</th>\n",
       "      <th>region</th>\n",
       "      <th>region_url</th>\n",
       "      <th>price</th>\n",
       "      <th>year</th>\n",
       "      <th>manufacturer</th>\n",
       "      <th>model</th>\n",
       "      <th>condition</th>\n",
       "      <th>cylinders</th>\n",
       "      <th>...</th>\n",
       "      <th>size</th>\n",
       "      <th>type</th>\n",
       "      <th>paint_color</th>\n",
       "      <th>image_url</th>\n",
       "      <th>description</th>\n",
       "      <th>county</th>\n",
       "      <th>state</th>\n",
       "      <th>lat</th>\n",
       "      <th>long</th>\n",
       "      <th>posting_date</th>\n",
       "    </tr>\n",
       "  </thead>\n",
       "  <tbody>\n",
       "    <tr>\n",
       "      <th>220872</th>\n",
       "      <td>7313051752</td>\n",
       "      <td>https://kirksville.craigslist.org/ctd/d/forsyt...</td>\n",
       "      <td>kirksville</td>\n",
       "      <td>https://kirksville.craigslist.org</td>\n",
       "      <td>32900</td>\n",
       "      <td>2011.0</td>\n",
       "      <td>ford</td>\n",
       "      <td>f-450 sd</td>\n",
       "      <td>excellent</td>\n",
       "      <td>10 cylinders</td>\n",
       "      <td>...</td>\n",
       "      <td>full-size</td>\n",
       "      <td>truck</td>\n",
       "      <td>white</td>\n",
       "      <td>https://images.craigslist.org/00303_kBP333O7YJ...</td>\n",
       "      <td>2011 Ford F450 SD Crew Cab DRW 4WD - $32,900  ...</td>\n",
       "      <td>NaN</td>\n",
       "      <td>mo</td>\n",
       "      <td>36.695500</td>\n",
       "      <td>-93.115000</td>\n",
       "      <td>2021-04-26T16:40:54-0500</td>\n",
       "    </tr>\n",
       "    <tr>\n",
       "      <th>37081</th>\n",
       "      <td>7315177126</td>\n",
       "      <td>https://modesto.craigslist.org/cto/d/modesto-2...</td>\n",
       "      <td>modesto</td>\n",
       "      <td>https://modesto.craigslist.org</td>\n",
       "      <td>5000</td>\n",
       "      <td>2008.0</td>\n",
       "      <td>chrysler</td>\n",
       "      <td>pt cruiser touring</td>\n",
       "      <td>excellent</td>\n",
       "      <td>4 cylinders</td>\n",
       "      <td>...</td>\n",
       "      <td>compact</td>\n",
       "      <td>hatchback</td>\n",
       "      <td>blue</td>\n",
       "      <td>https://images.craigslist.org/00j0j_lGDoukEpmu...</td>\n",
       "      <td>2008 CHRYSLER PT CRUZER 108000 MILES  RUNES AN...</td>\n",
       "      <td>NaN</td>\n",
       "      <td>ca</td>\n",
       "      <td>37.640900</td>\n",
       "      <td>-120.974900</td>\n",
       "      <td>2021-04-30T21:26:30-0700</td>\n",
       "    </tr>\n",
       "    <tr>\n",
       "      <th>240432</th>\n",
       "      <td>7316482835</td>\n",
       "      <td>https://raleigh.craigslist.org/cto/d/fuquay-va...</td>\n",
       "      <td>raleigh / durham / CH</td>\n",
       "      <td>https://raleigh.craigslist.org</td>\n",
       "      <td>58000</td>\n",
       "      <td>2014.0</td>\n",
       "      <td>ford</td>\n",
       "      <td>f250 super duty</td>\n",
       "      <td>excellent</td>\n",
       "      <td>8 cylinders</td>\n",
       "      <td>...</td>\n",
       "      <td>full-size</td>\n",
       "      <td>truck</td>\n",
       "      <td>white</td>\n",
       "      <td>https://images.craigslist.org/00303_a5FOcRPd4r...</td>\n",
       "      <td>6\" 4 link lift with king coilovers, king shock...</td>\n",
       "      <td>NaN</td>\n",
       "      <td>nc</td>\n",
       "      <td>35.580000</td>\n",
       "      <td>-78.790800</td>\n",
       "      <td>2021-05-03T18:49:52-0400</td>\n",
       "    </tr>\n",
       "    <tr>\n",
       "      <th>409509</th>\n",
       "      <td>7316355699</td>\n",
       "      <td>https://seattle.craigslist.org/see/ctd/d/seatt...</td>\n",
       "      <td>seattle-tacoma</td>\n",
       "      <td>https://seattle.craigslist.org</td>\n",
       "      <td>9499</td>\n",
       "      <td>2013.0</td>\n",
       "      <td>dodge</td>\n",
       "      <td>grand caravan sxt</td>\n",
       "      <td>NaN</td>\n",
       "      <td>6 cylinders</td>\n",
       "      <td>...</td>\n",
       "      <td>NaN</td>\n",
       "      <td>van</td>\n",
       "      <td>white</td>\n",
       "      <td>https://images.craigslist.org/00Q0Q_kayTLbnLZt...</td>\n",
       "      <td>2013 Dodge Grand Caravan SXT VanExterior Color...</td>\n",
       "      <td>NaN</td>\n",
       "      <td>wa</td>\n",
       "      <td>47.745162</td>\n",
       "      <td>-122.344962</td>\n",
       "      <td>2021-05-03T12:01:00-0700</td>\n",
       "    </tr>\n",
       "  </tbody>\n",
       "</table>\n",
       "<p>4 rows × 26 columns</p>\n",
       "</div>"
      ],
      "text/plain": [
       "                id                                                url  \\\n",
       "220872  7313051752  https://kirksville.craigslist.org/ctd/d/forsyt...   \n",
       "37081   7315177126  https://modesto.craigslist.org/cto/d/modesto-2...   \n",
       "240432  7316482835  https://raleigh.craigslist.org/cto/d/fuquay-va...   \n",
       "409509  7316355699  https://seattle.craigslist.org/see/ctd/d/seatt...   \n",
       "\n",
       "                       region                         region_url  price  \\\n",
       "220872             kirksville  https://kirksville.craigslist.org  32900   \n",
       "37081                 modesto     https://modesto.craigslist.org   5000   \n",
       "240432  raleigh / durham / CH     https://raleigh.craigslist.org  58000   \n",
       "409509         seattle-tacoma     https://seattle.craigslist.org   9499   \n",
       "\n",
       "          year manufacturer               model  condition     cylinders  ...  \\\n",
       "220872  2011.0         ford            f-450 sd  excellent  10 cylinders  ...   \n",
       "37081   2008.0     chrysler  pt cruiser touring  excellent   4 cylinders  ...   \n",
       "240432  2014.0         ford     f250 super duty  excellent   8 cylinders  ...   \n",
       "409509  2013.0        dodge   grand caravan sxt        NaN   6 cylinders  ...   \n",
       "\n",
       "             size       type paint_color  \\\n",
       "220872  full-size      truck       white   \n",
       "37081     compact  hatchback        blue   \n",
       "240432  full-size      truck       white   \n",
       "409509        NaN        van       white   \n",
       "\n",
       "                                                image_url  \\\n",
       "220872  https://images.craigslist.org/00303_kBP333O7YJ...   \n",
       "37081   https://images.craigslist.org/00j0j_lGDoukEpmu...   \n",
       "240432  https://images.craigslist.org/00303_a5FOcRPd4r...   \n",
       "409509  https://images.craigslist.org/00Q0Q_kayTLbnLZt...   \n",
       "\n",
       "                                              description county state  \\\n",
       "220872  2011 Ford F450 SD Crew Cab DRW 4WD - $32,900  ...    NaN    mo   \n",
       "37081   2008 CHRYSLER PT CRUZER 108000 MILES  RUNES AN...    NaN    ca   \n",
       "240432  6\" 4 link lift with king coilovers, king shock...    NaN    nc   \n",
       "409509  2013 Dodge Grand Caravan SXT VanExterior Color...    NaN    wa   \n",
       "\n",
       "              lat        long              posting_date  \n",
       "220872  36.695500  -93.115000  2021-04-26T16:40:54-0500  \n",
       "37081   37.640900 -120.974900  2021-04-30T21:26:30-0700  \n",
       "240432  35.580000  -78.790800  2021-05-03T18:49:52-0400  \n",
       "409509  47.745162 -122.344962  2021-05-03T12:01:00-0700  \n",
       "\n",
       "[4 rows x 26 columns]"
      ]
     },
     "execution_count": 10,
     "metadata": {},
     "output_type": "execute_result"
    }
   ],
   "source": [
    "# random sample from data\n",
    "df.sample(4)"
   ]
  },
  {
   "cell_type": "code",
   "execution_count": 11,
   "metadata": {
    "execution": {
     "iopub.execute_input": "2021-11-19T09:16:25.837074Z",
     "iopub.status.busy": "2021-11-19T09:16:25.836466Z",
     "iopub.status.idle": "2021-11-19T09:16:25.958805Z",
     "shell.execute_reply": "2021-11-19T09:16:25.957997Z",
     "shell.execute_reply.started": "2021-11-19T09:16:25.837035Z"
    }
   },
   "outputs": [
    {
     "data": {
      "text/html": [
       "<div>\n",
       "<style scoped>\n",
       "    .dataframe tbody tr th:only-of-type {\n",
       "        vertical-align: middle;\n",
       "    }\n",
       "\n",
       "    .dataframe tbody tr th {\n",
       "        vertical-align: top;\n",
       "    }\n",
       "\n",
       "    .dataframe thead th {\n",
       "        text-align: right;\n",
       "    }\n",
       "</style>\n",
       "<table border=\"1\" class=\"dataframe\">\n",
       "  <thead>\n",
       "    <tr style=\"text-align: right;\">\n",
       "      <th></th>\n",
       "      <th>id</th>\n",
       "      <th>price</th>\n",
       "      <th>year</th>\n",
       "      <th>odometer</th>\n",
       "      <th>county</th>\n",
       "      <th>lat</th>\n",
       "      <th>long</th>\n",
       "    </tr>\n",
       "  </thead>\n",
       "  <tbody>\n",
       "    <tr>\n",
       "      <th>count</th>\n",
       "      <td>4.268800e+05</td>\n",
       "      <td>4.268800e+05</td>\n",
       "      <td>425675.000000</td>\n",
       "      <td>4.224800e+05</td>\n",
       "      <td>0.0</td>\n",
       "      <td>420331.000000</td>\n",
       "      <td>420331.000000</td>\n",
       "    </tr>\n",
       "    <tr>\n",
       "      <th>mean</th>\n",
       "      <td>7.311487e+09</td>\n",
       "      <td>7.519903e+04</td>\n",
       "      <td>2011.235191</td>\n",
       "      <td>9.804333e+04</td>\n",
       "      <td>NaN</td>\n",
       "      <td>38.493940</td>\n",
       "      <td>-94.748599</td>\n",
       "    </tr>\n",
       "    <tr>\n",
       "      <th>std</th>\n",
       "      <td>4.473170e+06</td>\n",
       "      <td>1.218228e+07</td>\n",
       "      <td>9.452120</td>\n",
       "      <td>2.138815e+05</td>\n",
       "      <td>NaN</td>\n",
       "      <td>5.841533</td>\n",
       "      <td>18.365462</td>\n",
       "    </tr>\n",
       "    <tr>\n",
       "      <th>min</th>\n",
       "      <td>7.207408e+09</td>\n",
       "      <td>0.000000e+00</td>\n",
       "      <td>1900.000000</td>\n",
       "      <td>0.000000e+00</td>\n",
       "      <td>NaN</td>\n",
       "      <td>-84.122245</td>\n",
       "      <td>-159.827728</td>\n",
       "    </tr>\n",
       "    <tr>\n",
       "      <th>25%</th>\n",
       "      <td>7.308143e+09</td>\n",
       "      <td>5.900000e+03</td>\n",
       "      <td>2008.000000</td>\n",
       "      <td>3.770400e+04</td>\n",
       "      <td>NaN</td>\n",
       "      <td>34.601900</td>\n",
       "      <td>-111.939847</td>\n",
       "    </tr>\n",
       "    <tr>\n",
       "      <th>50%</th>\n",
       "      <td>7.312621e+09</td>\n",
       "      <td>1.395000e+04</td>\n",
       "      <td>2013.000000</td>\n",
       "      <td>8.554800e+04</td>\n",
       "      <td>NaN</td>\n",
       "      <td>39.150100</td>\n",
       "      <td>-88.432600</td>\n",
       "    </tr>\n",
       "    <tr>\n",
       "      <th>75%</th>\n",
       "      <td>7.315254e+09</td>\n",
       "      <td>2.648575e+04</td>\n",
       "      <td>2017.000000</td>\n",
       "      <td>1.335425e+05</td>\n",
       "      <td>NaN</td>\n",
       "      <td>42.398900</td>\n",
       "      <td>-80.832039</td>\n",
       "    </tr>\n",
       "    <tr>\n",
       "      <th>max</th>\n",
       "      <td>7.317101e+09</td>\n",
       "      <td>3.736929e+09</td>\n",
       "      <td>2022.000000</td>\n",
       "      <td>1.000000e+07</td>\n",
       "      <td>NaN</td>\n",
       "      <td>82.390818</td>\n",
       "      <td>173.885502</td>\n",
       "    </tr>\n",
       "  </tbody>\n",
       "</table>\n",
       "</div>"
      ],
      "text/plain": [
       "                 id         price           year      odometer  county  \\\n",
       "count  4.268800e+05  4.268800e+05  425675.000000  4.224800e+05     0.0   \n",
       "mean   7.311487e+09  7.519903e+04    2011.235191  9.804333e+04     NaN   \n",
       "std    4.473170e+06  1.218228e+07       9.452120  2.138815e+05     NaN   \n",
       "min    7.207408e+09  0.000000e+00    1900.000000  0.000000e+00     NaN   \n",
       "25%    7.308143e+09  5.900000e+03    2008.000000  3.770400e+04     NaN   \n",
       "50%    7.312621e+09  1.395000e+04    2013.000000  8.554800e+04     NaN   \n",
       "75%    7.315254e+09  2.648575e+04    2017.000000  1.335425e+05     NaN   \n",
       "max    7.317101e+09  3.736929e+09    2022.000000  1.000000e+07     NaN   \n",
       "\n",
       "                 lat           long  \n",
       "count  420331.000000  420331.000000  \n",
       "mean       38.493940     -94.748599  \n",
       "std         5.841533      18.365462  \n",
       "min       -84.122245    -159.827728  \n",
       "25%        34.601900    -111.939847  \n",
       "50%        39.150100     -88.432600  \n",
       "75%        42.398900     -80.832039  \n",
       "max        82.390818     173.885502  "
      ]
     },
     "execution_count": 11,
     "metadata": {},
     "output_type": "execute_result"
    }
   ],
   "source": [
    "# statistic information \n",
    "df.describe()"
   ]
  },
  {
   "cell_type": "code",
   "execution_count": 12,
   "metadata": {
    "execution": {
     "iopub.execute_input": "2021-11-19T09:16:48.253358Z",
     "iopub.status.busy": "2021-11-19T09:16:48.253023Z",
     "iopub.status.idle": "2021-11-19T09:16:48.260992Z",
     "shell.execute_reply": "2021-11-19T09:16:48.26004Z",
     "shell.execute_reply.started": "2021-11-19T09:16:48.253321Z"
    }
   },
   "outputs": [
    {
     "name": "stdout",
     "output_type": "stream",
     "text": [
      "The max and min respectively\n",
      "3736928711\n",
      "0\n"
     ]
    }
   ],
   "source": [
    "print(\"The max and min respectively\")\n",
    "print(df['price'].max())\n",
    "print(df['price'].min())"
   ]
  },
  {
   "cell_type": "code",
   "execution_count": 13,
   "metadata": {
    "execution": {
     "iopub.execute_input": "2021-11-19T09:17:18.365874Z",
     "iopub.status.busy": "2021-11-19T09:17:18.365239Z",
     "iopub.status.idle": "2021-11-19T09:17:18.37215Z",
     "shell.execute_reply": "2021-11-19T09:17:18.371054Z",
     "shell.execute_reply.started": "2021-11-19T09:17:18.365821Z"
    }
   },
   "outputs": [
    {
     "name": "stdout",
     "output_type": "stream",
     "text": [
      "Index(['id', 'url', 'region', 'region_url', 'price', 'year', 'manufacturer',\n",
      "       'model', 'condition', 'cylinders', 'fuel', 'odometer', 'title_status',\n",
      "       'transmission', 'VIN', 'drive', 'size', 'type', 'paint_color',\n",
      "       'image_url', 'description', 'county', 'state', 'lat', 'long',\n",
      "       'posting_date'],\n",
      "      dtype='object')\n"
     ]
    }
   ],
   "source": [
    "# show columns\n",
    "print(df.columns)"
   ]
  },
  {
   "cell_type": "code",
   "execution_count": 14,
   "metadata": {
    "execution": {
     "iopub.execute_input": "2021-11-19T09:17:45.593765Z",
     "iopub.status.busy": "2021-11-19T09:17:45.593071Z",
     "iopub.status.idle": "2021-11-19T09:17:45.60164Z",
     "shell.execute_reply": "2021-11-19T09:17:45.600722Z",
     "shell.execute_reply.started": "2021-11-19T09:17:45.593718Z"
    }
   },
   "outputs": [
    {
     "data": {
      "text/plain": [
       "id                int64\n",
       "url              object\n",
       "region           object\n",
       "region_url       object\n",
       "price             int64\n",
       "year            float64\n",
       "manufacturer     object\n",
       "model            object\n",
       "condition        object\n",
       "cylinders        object\n",
       "fuel             object\n",
       "odometer        float64\n",
       "title_status     object\n",
       "transmission     object\n",
       "VIN              object\n",
       "drive            object\n",
       "size             object\n",
       "type             object\n",
       "paint_color      object\n",
       "image_url        object\n",
       "description      object\n",
       "county          float64\n",
       "state            object\n",
       "lat             float64\n",
       "long            float64\n",
       "posting_date     object\n",
       "dtype: object"
      ]
     },
     "execution_count": 14,
     "metadata": {},
     "output_type": "execute_result"
    }
   ],
   "source": [
    "# show data types\n",
    "df.dtypes"
   ]
  },
  {
   "cell_type": "code",
   "execution_count": 15,
   "metadata": {
    "execution": {
     "iopub.execute_input": "2021-11-19T09:18:16.735238Z",
     "iopub.status.busy": "2021-11-19T09:18:16.734808Z",
     "iopub.status.idle": "2021-11-19T09:18:16.74117Z",
     "shell.execute_reply": "2021-11-19T09:18:16.740088Z",
     "shell.execute_reply.started": "2021-11-19T09:18:16.735206Z"
    }
   },
   "outputs": [
    {
     "data": {
      "text/plain": [
       "(426880, 26)"
      ]
     },
     "execution_count": 15,
     "metadata": {},
     "output_type": "execute_result"
    }
   ],
   "source": [
    "# show number of rows and columns\n",
    "df.shape"
   ]
  },
  {
   "cell_type": "code",
   "execution_count": 62,
   "metadata": {
    "execution": {
     "iopub.execute_input": "2021-11-19T09:18:47.527707Z",
     "iopub.status.busy": "2021-11-19T09:18:47.526814Z",
     "iopub.status.idle": "2021-11-19T09:18:48.820561Z",
     "shell.execute_reply": "2021-11-19T09:18:48.819693Z",
     "shell.execute_reply.started": "2021-11-19T09:18:47.527608Z"
    }
   },
   "outputs": [
    {
     "name": "stdout",
     "output_type": "stream",
     "text": [
      "<class 'pandas.core.frame.DataFrame'>\n",
      "Int64Index: 418703 entries, 0 to 426879\n",
      "Data columns (total 20 columns):\n",
      " #   Column        Non-Null Count   Dtype  \n",
      "---  ------        --------------   -----  \n",
      " 0   region        418703 non-null  object \n",
      " 1   region_url    418703 non-null  object \n",
      " 2   price         418703 non-null  int64  \n",
      " 3   year          418703 non-null  object \n",
      " 4   manufacturer  401898 non-null  object \n",
      " 5   model         413770 non-null  object \n",
      " 6   condition     249860 non-null  object \n",
      " 7   cylinders     244940 non-null  object \n",
      " 8   fuel          415737 non-null  object \n",
      " 9   odometer      414381 non-null  float64\n",
      " 10  title_status  410674 non-null  object \n",
      " 11  transmission  416214 non-null  object \n",
      " 12  drive         290031 non-null  object \n",
      " 13  type          327642 non-null  object \n",
      " 14  paint_color   290979 non-null  object \n",
      " 15  description   418633 non-null  object \n",
      " 16  state         418703 non-null  object \n",
      " 17  lat           412179 non-null  float64\n",
      " 18  long          412179 non-null  float64\n",
      " 19  posting_date  418635 non-null  object \n",
      "dtypes: float64(3), int64(1), object(16)\n",
      "memory usage: 67.1+ MB\n"
     ]
    }
   ],
   "source": [
    "df['year'] = df.year.astype(str)\n",
    "df.info()"
   ]
  },
  {
   "cell_type": "markdown",
   "metadata": {},
   "source": [
    "**Data Preprocessing**"
   ]
  },
  {
   "cell_type": "markdown",
   "metadata": {},
   "source": [
    "**Clean Data**\n"
   ]
  },
  {
   "cell_type": "markdown",
   "metadata": {},
   "source": [
    "There are some features that won't be relevant in our analysis, and contain alot of missing values."
   ]
  },
  {
   "cell_type": "code",
   "execution_count": 63,
   "metadata": {
    "execution": {
     "iopub.execute_input": "2021-11-19T09:20:31.207486Z",
     "iopub.status.busy": "2021-11-19T09:20:31.206609Z",
     "iopub.status.idle": "2021-11-19T09:20:31.665807Z",
     "shell.execute_reply": "2021-11-19T09:20:31.6649Z",
     "shell.execute_reply.started": "2021-11-19T09:20:31.207428Z"
    }
   },
   "outputs": [
    {
     "ename": "KeyError",
     "evalue": "\"['url' 'image_url' 'size' 'VIN' 'county' 'id'] not found in axis\"",
     "output_type": "error",
     "traceback": [
      "\u001b[1;31m---------------------------------------------------------------------------\u001b[0m",
      "\u001b[1;31mKeyError\u001b[0m                                  Traceback (most recent call last)",
      "\u001b[1;32m<ipython-input-63-2182785bc1b2>\u001b[0m in \u001b[0;36m<module>\u001b[1;34m\u001b[0m\n\u001b[0;32m      1\u001b[0m \u001b[0mdrop_cols\u001b[0m \u001b[1;33m=\u001b[0m\u001b[1;33m[\u001b[0m\u001b[1;34m'url'\u001b[0m\u001b[1;33m,\u001b[0m\u001b[1;34m'image_url'\u001b[0m\u001b[1;33m,\u001b[0m \u001b[1;34m'size'\u001b[0m\u001b[1;33m,\u001b[0m \u001b[1;34m'VIN'\u001b[0m\u001b[1;33m,\u001b[0m\u001b[1;34m'county'\u001b[0m\u001b[1;33m,\u001b[0m\u001b[1;34m'id'\u001b[0m\u001b[1;33m]\u001b[0m\u001b[1;33m\u001b[0m\u001b[1;33m\u001b[0m\u001b[0m\n\u001b[1;32m----> 2\u001b[1;33m \u001b[0mdf\u001b[0m\u001b[1;33m.\u001b[0m\u001b[0mdrop\u001b[0m\u001b[1;33m(\u001b[0m\u001b[0mcolumns\u001b[0m\u001b[1;33m=\u001b[0m\u001b[0mdrop_cols\u001b[0m \u001b[1;33m,\u001b[0m \u001b[0maxis\u001b[0m\u001b[1;33m=\u001b[0m\u001b[1;36m1\u001b[0m\u001b[1;33m,\u001b[0m \u001b[0minplace\u001b[0m\u001b[1;33m=\u001b[0m\u001b[1;32mTrue\u001b[0m\u001b[1;33m)\u001b[0m\u001b[1;33m\u001b[0m\u001b[1;33m\u001b[0m\u001b[0m\n\u001b[0m\u001b[0;32m      3\u001b[0m \u001b[1;33m\u001b[0m\u001b[0m\n\u001b[0;32m      4\u001b[0m \u001b[0mdf\u001b[0m\u001b[1;33m.\u001b[0m\u001b[0mhead\u001b[0m\u001b[1;33m(\u001b[0m\u001b[1;33m)\u001b[0m\u001b[1;33m\u001b[0m\u001b[1;33m\u001b[0m\u001b[0m\n",
      "\u001b[1;32m~\\anaconda3\\lib\\site-packages\\pandas\\core\\frame.py\u001b[0m in \u001b[0;36mdrop\u001b[1;34m(self, labels, axis, index, columns, level, inplace, errors)\u001b[0m\n\u001b[0;32m   3988\u001b[0m                 \u001b[0mweight\u001b[0m  \u001b[1;36m1.0\u001b[0m     \u001b[1;36m0.8\u001b[0m\u001b[1;33m\u001b[0m\u001b[1;33m\u001b[0m\u001b[0m\n\u001b[0;32m   3989\u001b[0m         \"\"\"\n\u001b[1;32m-> 3990\u001b[1;33m         return super().drop(\n\u001b[0m\u001b[0;32m   3991\u001b[0m             \u001b[0mlabels\u001b[0m\u001b[1;33m=\u001b[0m\u001b[0mlabels\u001b[0m\u001b[1;33m,\u001b[0m\u001b[1;33m\u001b[0m\u001b[1;33m\u001b[0m\u001b[0m\n\u001b[0;32m   3992\u001b[0m             \u001b[0maxis\u001b[0m\u001b[1;33m=\u001b[0m\u001b[0maxis\u001b[0m\u001b[1;33m,\u001b[0m\u001b[1;33m\u001b[0m\u001b[1;33m\u001b[0m\u001b[0m\n",
      "\u001b[1;32m~\\anaconda3\\lib\\site-packages\\pandas\\core\\generic.py\u001b[0m in \u001b[0;36mdrop\u001b[1;34m(self, labels, axis, index, columns, level, inplace, errors)\u001b[0m\n\u001b[0;32m   3934\u001b[0m         \u001b[1;32mfor\u001b[0m \u001b[0maxis\u001b[0m\u001b[1;33m,\u001b[0m \u001b[0mlabels\u001b[0m \u001b[1;32min\u001b[0m \u001b[0maxes\u001b[0m\u001b[1;33m.\u001b[0m\u001b[0mitems\u001b[0m\u001b[1;33m(\u001b[0m\u001b[1;33m)\u001b[0m\u001b[1;33m:\u001b[0m\u001b[1;33m\u001b[0m\u001b[1;33m\u001b[0m\u001b[0m\n\u001b[0;32m   3935\u001b[0m             \u001b[1;32mif\u001b[0m \u001b[0mlabels\u001b[0m \u001b[1;32mis\u001b[0m \u001b[1;32mnot\u001b[0m \u001b[1;32mNone\u001b[0m\u001b[1;33m:\u001b[0m\u001b[1;33m\u001b[0m\u001b[1;33m\u001b[0m\u001b[0m\n\u001b[1;32m-> 3936\u001b[1;33m                 \u001b[0mobj\u001b[0m \u001b[1;33m=\u001b[0m \u001b[0mobj\u001b[0m\u001b[1;33m.\u001b[0m\u001b[0m_drop_axis\u001b[0m\u001b[1;33m(\u001b[0m\u001b[0mlabels\u001b[0m\u001b[1;33m,\u001b[0m \u001b[0maxis\u001b[0m\u001b[1;33m,\u001b[0m \u001b[0mlevel\u001b[0m\u001b[1;33m=\u001b[0m\u001b[0mlevel\u001b[0m\u001b[1;33m,\u001b[0m \u001b[0merrors\u001b[0m\u001b[1;33m=\u001b[0m\u001b[0merrors\u001b[0m\u001b[1;33m)\u001b[0m\u001b[1;33m\u001b[0m\u001b[1;33m\u001b[0m\u001b[0m\n\u001b[0m\u001b[0;32m   3937\u001b[0m \u001b[1;33m\u001b[0m\u001b[0m\n\u001b[0;32m   3938\u001b[0m         \u001b[1;32mif\u001b[0m \u001b[0minplace\u001b[0m\u001b[1;33m:\u001b[0m\u001b[1;33m\u001b[0m\u001b[1;33m\u001b[0m\u001b[0m\n",
      "\u001b[1;32m~\\anaconda3\\lib\\site-packages\\pandas\\core\\generic.py\u001b[0m in \u001b[0;36m_drop_axis\u001b[1;34m(self, labels, axis, level, errors)\u001b[0m\n\u001b[0;32m   3968\u001b[0m                 \u001b[0mnew_axis\u001b[0m \u001b[1;33m=\u001b[0m \u001b[0maxis\u001b[0m\u001b[1;33m.\u001b[0m\u001b[0mdrop\u001b[0m\u001b[1;33m(\u001b[0m\u001b[0mlabels\u001b[0m\u001b[1;33m,\u001b[0m \u001b[0mlevel\u001b[0m\u001b[1;33m=\u001b[0m\u001b[0mlevel\u001b[0m\u001b[1;33m,\u001b[0m \u001b[0merrors\u001b[0m\u001b[1;33m=\u001b[0m\u001b[0merrors\u001b[0m\u001b[1;33m)\u001b[0m\u001b[1;33m\u001b[0m\u001b[1;33m\u001b[0m\u001b[0m\n\u001b[0;32m   3969\u001b[0m             \u001b[1;32melse\u001b[0m\u001b[1;33m:\u001b[0m\u001b[1;33m\u001b[0m\u001b[1;33m\u001b[0m\u001b[0m\n\u001b[1;32m-> 3970\u001b[1;33m                 \u001b[0mnew_axis\u001b[0m \u001b[1;33m=\u001b[0m \u001b[0maxis\u001b[0m\u001b[1;33m.\u001b[0m\u001b[0mdrop\u001b[0m\u001b[1;33m(\u001b[0m\u001b[0mlabels\u001b[0m\u001b[1;33m,\u001b[0m \u001b[0merrors\u001b[0m\u001b[1;33m=\u001b[0m\u001b[0merrors\u001b[0m\u001b[1;33m)\u001b[0m\u001b[1;33m\u001b[0m\u001b[1;33m\u001b[0m\u001b[0m\n\u001b[0m\u001b[0;32m   3971\u001b[0m             \u001b[0mresult\u001b[0m \u001b[1;33m=\u001b[0m \u001b[0mself\u001b[0m\u001b[1;33m.\u001b[0m\u001b[0mreindex\u001b[0m\u001b[1;33m(\u001b[0m\u001b[1;33m**\u001b[0m\u001b[1;33m{\u001b[0m\u001b[0maxis_name\u001b[0m\u001b[1;33m:\u001b[0m \u001b[0mnew_axis\u001b[0m\u001b[1;33m}\u001b[0m\u001b[1;33m)\u001b[0m\u001b[1;33m\u001b[0m\u001b[1;33m\u001b[0m\u001b[0m\n\u001b[0;32m   3972\u001b[0m \u001b[1;33m\u001b[0m\u001b[0m\n",
      "\u001b[1;32m~\\anaconda3\\lib\\site-packages\\pandas\\core\\indexes\\base.py\u001b[0m in \u001b[0;36mdrop\u001b[1;34m(self, labels, errors)\u001b[0m\n\u001b[0;32m   5016\u001b[0m         \u001b[1;32mif\u001b[0m \u001b[0mmask\u001b[0m\u001b[1;33m.\u001b[0m\u001b[0many\u001b[0m\u001b[1;33m(\u001b[0m\u001b[1;33m)\u001b[0m\u001b[1;33m:\u001b[0m\u001b[1;33m\u001b[0m\u001b[1;33m\u001b[0m\u001b[0m\n\u001b[0;32m   5017\u001b[0m             \u001b[1;32mif\u001b[0m \u001b[0merrors\u001b[0m \u001b[1;33m!=\u001b[0m \u001b[1;34m\"ignore\"\u001b[0m\u001b[1;33m:\u001b[0m\u001b[1;33m\u001b[0m\u001b[1;33m\u001b[0m\u001b[0m\n\u001b[1;32m-> 5018\u001b[1;33m                 \u001b[1;32mraise\u001b[0m \u001b[0mKeyError\u001b[0m\u001b[1;33m(\u001b[0m\u001b[1;34mf\"{labels[mask]} not found in axis\"\u001b[0m\u001b[1;33m)\u001b[0m\u001b[1;33m\u001b[0m\u001b[1;33m\u001b[0m\u001b[0m\n\u001b[0m\u001b[0;32m   5019\u001b[0m             \u001b[0mindexer\u001b[0m \u001b[1;33m=\u001b[0m \u001b[0mindexer\u001b[0m\u001b[1;33m[\u001b[0m\u001b[1;33m~\u001b[0m\u001b[0mmask\u001b[0m\u001b[1;33m]\u001b[0m\u001b[1;33m\u001b[0m\u001b[1;33m\u001b[0m\u001b[0m\n\u001b[0;32m   5020\u001b[0m         \u001b[1;32mreturn\u001b[0m \u001b[0mself\u001b[0m\u001b[1;33m.\u001b[0m\u001b[0mdelete\u001b[0m\u001b[1;33m(\u001b[0m\u001b[0mindexer\u001b[0m\u001b[1;33m)\u001b[0m\u001b[1;33m\u001b[0m\u001b[1;33m\u001b[0m\u001b[0m\n",
      "\u001b[1;31mKeyError\u001b[0m: \"['url' 'image_url' 'size' 'VIN' 'county' 'id'] not found in axis\""
     ]
    }
   ],
   "source": [
    "drop_cols =['url','image_url', 'size', 'VIN','county','id']\n",
    "df.drop(columns=drop_cols , axis=1, inplace=True)\n",
    "\n",
    "df.head()"
   ]
  },
  {
   "cell_type": "markdown",
   "metadata": {},
   "source": [
    "Separate numerical and categorical feature.\n",
    "\n"
   ]
  },
  {
   "cell_type": "code",
   "execution_count": 18,
   "metadata": {
    "execution": {
     "iopub.execute_input": "2021-11-19T09:20:33.045195Z",
     "iopub.status.busy": "2021-11-19T09:20:33.044296Z",
     "iopub.status.idle": "2021-11-19T09:20:33.136746Z",
     "shell.execute_reply": "2021-11-19T09:20:33.135838Z",
     "shell.execute_reply.started": "2021-11-19T09:20:33.045152Z"
    }
   },
   "outputs": [
    {
     "data": {
      "text/html": [
       "<div>\n",
       "<style scoped>\n",
       "    .dataframe tbody tr th:only-of-type {\n",
       "        vertical-align: middle;\n",
       "    }\n",
       "\n",
       "    .dataframe tbody tr th {\n",
       "        vertical-align: top;\n",
       "    }\n",
       "\n",
       "    .dataframe thead th {\n",
       "        text-align: right;\n",
       "    }\n",
       "</style>\n",
       "<table border=\"1\" class=\"dataframe\">\n",
       "  <thead>\n",
       "    <tr style=\"text-align: right;\">\n",
       "      <th></th>\n",
       "      <th>price</th>\n",
       "      <th>odometer</th>\n",
       "      <th>lat</th>\n",
       "      <th>long</th>\n",
       "    </tr>\n",
       "  </thead>\n",
       "  <tbody>\n",
       "    <tr>\n",
       "      <th>0</th>\n",
       "      <td>6000</td>\n",
       "      <td>NaN</td>\n",
       "      <td>NaN</td>\n",
       "      <td>NaN</td>\n",
       "    </tr>\n",
       "    <tr>\n",
       "      <th>1</th>\n",
       "      <td>11900</td>\n",
       "      <td>NaN</td>\n",
       "      <td>NaN</td>\n",
       "      <td>NaN</td>\n",
       "    </tr>\n",
       "    <tr>\n",
       "      <th>2</th>\n",
       "      <td>21000</td>\n",
       "      <td>NaN</td>\n",
       "      <td>NaN</td>\n",
       "      <td>NaN</td>\n",
       "    </tr>\n",
       "    <tr>\n",
       "      <th>3</th>\n",
       "      <td>1500</td>\n",
       "      <td>NaN</td>\n",
       "      <td>NaN</td>\n",
       "      <td>NaN</td>\n",
       "    </tr>\n",
       "    <tr>\n",
       "      <th>4</th>\n",
       "      <td>4900</td>\n",
       "      <td>NaN</td>\n",
       "      <td>NaN</td>\n",
       "      <td>NaN</td>\n",
       "    </tr>\n",
       "  </tbody>\n",
       "</table>\n",
       "</div>"
      ],
      "text/plain": [
       "   price  odometer  lat  long\n",
       "0   6000       NaN  NaN   NaN\n",
       "1  11900       NaN  NaN   NaN\n",
       "2  21000       NaN  NaN   NaN\n",
       "3   1500       NaN  NaN   NaN\n",
       "4   4900       NaN  NaN   NaN"
      ]
     },
     "execution_count": 18,
     "metadata": {},
     "output_type": "execute_result"
    }
   ],
   "source": [
    "category = ['manufacturer','cylinders','fuel','title_status','transmission','drive','type','paint_color','condition','year','posting_date'\n",
    "           ,'state','description','model','region','region_url']\n",
    "numerical = df.drop(category, axis=1)\n",
    "categorical = df[category]\n",
    "numerical.head()"
   ]
  },
  {
   "cell_type": "code",
   "execution_count": 19,
   "metadata": {
    "execution": {
     "iopub.execute_input": "2021-11-19T09:22:01.39717Z",
     "iopub.status.busy": "2021-11-19T09:22:01.396446Z",
     "iopub.status.idle": "2021-11-19T09:22:01.416279Z",
     "shell.execute_reply": "2021-11-19T09:22:01.415479Z",
     "shell.execute_reply.started": "2021-11-19T09:22:01.397129Z"
    }
   },
   "outputs": [
    {
     "data": {
      "text/html": [
       "<div>\n",
       "<style scoped>\n",
       "    .dataframe tbody tr th:only-of-type {\n",
       "        vertical-align: middle;\n",
       "    }\n",
       "\n",
       "    .dataframe tbody tr th {\n",
       "        vertical-align: top;\n",
       "    }\n",
       "\n",
       "    .dataframe thead th {\n",
       "        text-align: right;\n",
       "    }\n",
       "</style>\n",
       "<table border=\"1\" class=\"dataframe\">\n",
       "  <thead>\n",
       "    <tr style=\"text-align: right;\">\n",
       "      <th></th>\n",
       "      <th>manufacturer</th>\n",
       "      <th>cylinders</th>\n",
       "      <th>fuel</th>\n",
       "      <th>title_status</th>\n",
       "      <th>transmission</th>\n",
       "      <th>drive</th>\n",
       "      <th>type</th>\n",
       "      <th>paint_color</th>\n",
       "      <th>condition</th>\n",
       "      <th>year</th>\n",
       "      <th>posting_date</th>\n",
       "      <th>state</th>\n",
       "      <th>description</th>\n",
       "      <th>model</th>\n",
       "      <th>region</th>\n",
       "      <th>region_url</th>\n",
       "    </tr>\n",
       "  </thead>\n",
       "  <tbody>\n",
       "    <tr>\n",
       "      <th>0</th>\n",
       "      <td>NaN</td>\n",
       "      <td>NaN</td>\n",
       "      <td>NaN</td>\n",
       "      <td>NaN</td>\n",
       "      <td>NaN</td>\n",
       "      <td>NaN</td>\n",
       "      <td>NaN</td>\n",
       "      <td>NaN</td>\n",
       "      <td>NaN</td>\n",
       "      <td>nan</td>\n",
       "      <td>NaN</td>\n",
       "      <td>az</td>\n",
       "      <td>NaN</td>\n",
       "      <td>NaN</td>\n",
       "      <td>prescott</td>\n",
       "      <td>https://prescott.craigslist.org</td>\n",
       "    </tr>\n",
       "    <tr>\n",
       "      <th>1</th>\n",
       "      <td>NaN</td>\n",
       "      <td>NaN</td>\n",
       "      <td>NaN</td>\n",
       "      <td>NaN</td>\n",
       "      <td>NaN</td>\n",
       "      <td>NaN</td>\n",
       "      <td>NaN</td>\n",
       "      <td>NaN</td>\n",
       "      <td>NaN</td>\n",
       "      <td>nan</td>\n",
       "      <td>NaN</td>\n",
       "      <td>ar</td>\n",
       "      <td>NaN</td>\n",
       "      <td>NaN</td>\n",
       "      <td>fayetteville</td>\n",
       "      <td>https://fayar.craigslist.org</td>\n",
       "    </tr>\n",
       "    <tr>\n",
       "      <th>2</th>\n",
       "      <td>NaN</td>\n",
       "      <td>NaN</td>\n",
       "      <td>NaN</td>\n",
       "      <td>NaN</td>\n",
       "      <td>NaN</td>\n",
       "      <td>NaN</td>\n",
       "      <td>NaN</td>\n",
       "      <td>NaN</td>\n",
       "      <td>NaN</td>\n",
       "      <td>nan</td>\n",
       "      <td>NaN</td>\n",
       "      <td>fl</td>\n",
       "      <td>NaN</td>\n",
       "      <td>NaN</td>\n",
       "      <td>florida keys</td>\n",
       "      <td>https://keys.craigslist.org</td>\n",
       "    </tr>\n",
       "    <tr>\n",
       "      <th>3</th>\n",
       "      <td>NaN</td>\n",
       "      <td>NaN</td>\n",
       "      <td>NaN</td>\n",
       "      <td>NaN</td>\n",
       "      <td>NaN</td>\n",
       "      <td>NaN</td>\n",
       "      <td>NaN</td>\n",
       "      <td>NaN</td>\n",
       "      <td>NaN</td>\n",
       "      <td>nan</td>\n",
       "      <td>NaN</td>\n",
       "      <td>ma</td>\n",
       "      <td>NaN</td>\n",
       "      <td>NaN</td>\n",
       "      <td>worcester / central MA</td>\n",
       "      <td>https://worcester.craigslist.org</td>\n",
       "    </tr>\n",
       "    <tr>\n",
       "      <th>4</th>\n",
       "      <td>NaN</td>\n",
       "      <td>NaN</td>\n",
       "      <td>NaN</td>\n",
       "      <td>NaN</td>\n",
       "      <td>NaN</td>\n",
       "      <td>NaN</td>\n",
       "      <td>NaN</td>\n",
       "      <td>NaN</td>\n",
       "      <td>NaN</td>\n",
       "      <td>nan</td>\n",
       "      <td>NaN</td>\n",
       "      <td>nc</td>\n",
       "      <td>NaN</td>\n",
       "      <td>NaN</td>\n",
       "      <td>greensboro</td>\n",
       "      <td>https://greensboro.craigslist.org</td>\n",
       "    </tr>\n",
       "  </tbody>\n",
       "</table>\n",
       "</div>"
      ],
      "text/plain": [
       "  manufacturer cylinders fuel title_status transmission drive type  \\\n",
       "0          NaN       NaN  NaN          NaN          NaN   NaN  NaN   \n",
       "1          NaN       NaN  NaN          NaN          NaN   NaN  NaN   \n",
       "2          NaN       NaN  NaN          NaN          NaN   NaN  NaN   \n",
       "3          NaN       NaN  NaN          NaN          NaN   NaN  NaN   \n",
       "4          NaN       NaN  NaN          NaN          NaN   NaN  NaN   \n",
       "\n",
       "  paint_color condition year posting_date state description model  \\\n",
       "0         NaN       NaN  nan          NaN    az         NaN   NaN   \n",
       "1         NaN       NaN  nan          NaN    ar         NaN   NaN   \n",
       "2         NaN       NaN  nan          NaN    fl         NaN   NaN   \n",
       "3         NaN       NaN  nan          NaN    ma         NaN   NaN   \n",
       "4         NaN       NaN  nan          NaN    nc         NaN   NaN   \n",
       "\n",
       "                   region                         region_url  \n",
       "0                prescott    https://prescott.craigslist.org  \n",
       "1            fayetteville       https://fayar.craigslist.org  \n",
       "2            florida keys        https://keys.craigslist.org  \n",
       "3  worcester / central MA   https://worcester.craigslist.org  \n",
       "4              greensboro  https://greensboro.craigslist.org  "
      ]
     },
     "execution_count": 19,
     "metadata": {},
     "output_type": "execute_result"
    }
   ],
   "source": [
    "categorical.head()"
   ]
  },
  {
   "cell_type": "code",
   "execution_count": 20,
   "metadata": {
    "execution": {
     "iopub.execute_input": "2021-11-19T09:22:11.311107Z",
     "iopub.status.busy": "2021-11-19T09:22:11.310242Z",
     "iopub.status.idle": "2021-11-19T09:22:12.059559Z",
     "shell.execute_reply": "2021-11-19T09:22:12.058678Z",
     "shell.execute_reply.started": "2021-11-19T09:22:11.31103Z"
    }
   },
   "outputs": [
    {
     "name": "stdout",
     "output_type": "stream",
     "text": [
      "<class 'pandas.core.frame.DataFrame'>\n",
      "RangeIndex: 426880 entries, 0 to 426879\n",
      "Data columns (total 16 columns):\n",
      " #   Column        Non-Null Count   Dtype \n",
      "---  ------        --------------   ----- \n",
      " 0   manufacturer  409234 non-null  object\n",
      " 1   cylinders     249202 non-null  object\n",
      " 2   fuel          423867 non-null  object\n",
      " 3   title_status  418638 non-null  object\n",
      " 4   transmission  424324 non-null  object\n",
      " 5   drive         296313 non-null  object\n",
      " 6   type          334022 non-null  object\n",
      " 7   paint_color   296677 non-null  object\n",
      " 8   condition     252776 non-null  object\n",
      " 9   year          426880 non-null  object\n",
      " 10  posting_date  426812 non-null  object\n",
      " 11  state         426880 non-null  object\n",
      " 12  description   426810 non-null  object\n",
      " 13  model         421603 non-null  object\n",
      " 14  region        426880 non-null  object\n",
      " 15  region_url    426880 non-null  object\n",
      "dtypes: object(16)\n",
      "memory usage: 52.1+ MB\n"
     ]
    }
   ],
   "source": [
    "categorical.info()"
   ]
  },
  {
   "cell_type": "code",
   "execution_count": 21,
   "metadata": {
    "execution": {
     "iopub.execute_input": "2021-11-19T09:22:13.382731Z",
     "iopub.status.busy": "2021-11-19T09:22:13.382411Z",
     "iopub.status.idle": "2021-11-19T09:22:13.398158Z",
     "shell.execute_reply": "2021-11-19T09:22:13.397129Z",
     "shell.execute_reply.started": "2021-11-19T09:22:13.382697Z"
    }
   },
   "outputs": [
    {
     "name": "stdout",
     "output_type": "stream",
     "text": [
      "<class 'pandas.core.frame.DataFrame'>\n",
      "RangeIndex: 426880 entries, 0 to 426879\n",
      "Data columns (total 4 columns):\n",
      " #   Column    Non-Null Count   Dtype  \n",
      "---  ------    --------------   -----  \n",
      " 0   price     426880 non-null  int64  \n",
      " 1   odometer  422480 non-null  float64\n",
      " 2   lat       420331 non-null  float64\n",
      " 3   long      420331 non-null  float64\n",
      "dtypes: float64(3), int64(1)\n",
      "memory usage: 13.0 MB\n"
     ]
    }
   ],
   "source": [
    "numerical.info()"
   ]
  },
  {
   "cell_type": "code",
   "execution_count": 22,
   "metadata": {
    "execution": {
     "iopub.execute_input": "2021-11-19T09:22:27.93348Z",
     "iopub.status.busy": "2021-11-19T09:22:27.933151Z",
     "iopub.status.idle": "2021-11-19T09:22:27.953784Z",
     "shell.execute_reply": "2021-11-19T09:22:27.952712Z",
     "shell.execute_reply.started": "2021-11-19T09:22:27.933448Z"
    }
   },
   "outputs": [],
   "source": [
    "#fill value in numerical with mean\n",
    "for num in numerical:\n",
    "    mean = numerical[num].mean()\n",
    "    numerical[num]=numerical[num].fillna(mean) "
   ]
  },
  {
   "cell_type": "code",
   "execution_count": 23,
   "metadata": {
    "execution": {
     "iopub.execute_input": "2021-11-19T09:22:41.342326Z",
     "iopub.status.busy": "2021-11-19T09:22:41.341692Z",
     "iopub.status.idle": "2021-11-19T09:22:41.34908Z",
     "shell.execute_reply": "2021-11-19T09:22:41.348169Z",
     "shell.execute_reply.started": "2021-11-19T09:22:41.342287Z"
    }
   },
   "outputs": [
    {
     "name": "stdout",
     "output_type": "stream",
     "text": [
      "manufacturer\n",
      "cylinders\n",
      "fuel\n",
      "title_status\n",
      "transmission\n",
      "drive\n",
      "type\n",
      "paint_color\n",
      "condition\n",
      "year\n",
      "posting_date\n",
      "state\n",
      "description\n",
      "model\n",
      "region\n",
      "region_url\n"
     ]
    }
   ],
   "source": [
    "for i in  categorical:\n",
    "    print(i)"
   ]
  },
  {
   "cell_type": "code",
   "execution_count": 24,
   "metadata": {
    "execution": {
     "iopub.execute_input": "2021-11-19T09:22:59.05502Z",
     "iopub.status.busy": "2021-11-19T09:22:59.054759Z",
     "iopub.status.idle": "2021-11-19T09:22:59.067249Z",
     "shell.execute_reply": "2021-11-19T09:22:59.066205Z",
     "shell.execute_reply.started": "2021-11-19T09:22:59.054993Z"
    }
   },
   "outputs": [
    {
     "data": {
      "text/plain": [
       "long        0\n",
       "lat         0\n",
       "odometer    0\n",
       "price       0\n",
       "dtype: int64"
      ]
     },
     "execution_count": 24,
     "metadata": {},
     "output_type": "execute_result"
    }
   ],
   "source": [
    "#detect numerical missing value\n",
    "numerical.isnull().sum().sort_values(ascending=False) "
   ]
  },
  {
   "cell_type": "code",
   "execution_count": 25,
   "metadata": {
    "execution": {
     "iopub.execute_input": "2021-11-19T09:23:19.642166Z",
     "iopub.status.busy": "2021-11-19T09:23:19.641899Z",
     "iopub.status.idle": "2021-11-19T09:23:19.648332Z",
     "shell.execute_reply": "2021-11-19T09:23:19.647661Z",
     "shell.execute_reply.started": "2021-11-19T09:23:19.64214Z"
    }
   },
   "outputs": [
    {
     "data": {
      "text/plain": [
       "Index(['manufacturer', 'cylinders', 'fuel', 'title_status', 'transmission',\n",
       "       'drive', 'type', 'paint_color', 'condition', 'year', 'posting_date',\n",
       "       'state', 'description', 'model', 'region', 'region_url'],\n",
       "      dtype='object')"
      ]
     },
     "execution_count": 25,
     "metadata": {},
     "output_type": "execute_result"
    }
   ],
   "source": [
    "categorical.columns"
   ]
  },
  {
   "cell_type": "code",
   "execution_count": 26,
   "metadata": {
    "execution": {
     "iopub.execute_input": "2021-11-19T09:25:17.280208Z",
     "iopub.status.busy": "2021-11-19T09:25:17.279735Z",
     "iopub.status.idle": "2021-11-19T09:25:17.284463Z",
     "shell.execute_reply": "2021-11-19T09:25:17.283774Z",
     "shell.execute_reply.started": "2021-11-19T09:25:17.280168Z"
    }
   },
   "outputs": [],
   "source": [
    "import warnings\n",
    "warnings.filterwarnings('ignore')"
   ]
  },
  {
   "cell_type": "code",
   "execution_count": 27,
   "metadata": {
    "execution": {
     "iopub.execute_input": "2021-11-19T09:25:32.541015Z",
     "iopub.status.busy": "2021-11-19T09:25:32.54073Z",
     "iopub.status.idle": "2021-11-19T09:25:35.183276Z",
     "shell.execute_reply": "2021-11-19T09:25:35.182267Z",
     "shell.execute_reply.started": "2021-11-19T09:25:32.540987Z"
    }
   },
   "outputs": [],
   "source": [
    "# fill categorical with mode\n",
    "for cat in categorical:\n",
    "    mode = categorical[cat].mode().values[0]\n",
    "    categorical[cat]=df[cat].fillna(mode)\n",
    "    "
   ]
  },
  {
   "cell_type": "code",
   "execution_count": 28,
   "metadata": {
    "execution": {
     "iopub.execute_input": "2021-11-19T09:25:38.404441Z",
     "iopub.status.busy": "2021-11-19T09:25:38.403485Z",
     "iopub.status.idle": "2021-11-19T09:25:39.181586Z",
     "shell.execute_reply": "2021-11-19T09:25:39.180761Z",
     "shell.execute_reply.started": "2021-11-19T09:25:38.404386Z"
    }
   },
   "outputs": [
    {
     "data": {
      "text/plain": [
       "region_url      0\n",
       "region          0\n",
       "model           0\n",
       "description     0\n",
       "state           0\n",
       "posting_date    0\n",
       "year            0\n",
       "condition       0\n",
       "paint_color     0\n",
       "type            0\n",
       "drive           0\n",
       "transmission    0\n",
       "title_status    0\n",
       "fuel            0\n",
       "cylinders       0\n",
       "manufacturer    0\n",
       "dtype: int64"
      ]
     },
     "execution_count": 28,
     "metadata": {},
     "output_type": "execute_result"
    }
   ],
   "source": [
    "#detect categorical missing value\n",
    "categorical.isnull().sum().sort_values(ascending=False) "
   ]
  },
  {
   "cell_type": "code",
   "execution_count": 29,
   "metadata": {
    "execution": {
     "iopub.execute_input": "2021-11-19T09:25:54.496636Z",
     "iopub.status.busy": "2021-11-19T09:25:54.496312Z",
     "iopub.status.idle": "2021-11-19T09:25:54.517118Z",
     "shell.execute_reply": "2021-11-19T09:25:54.51622Z",
     "shell.execute_reply.started": "2021-11-19T09:25:54.4966Z"
    }
   },
   "outputs": [
    {
     "data": {
      "text/html": [
       "<div>\n",
       "<style scoped>\n",
       "    .dataframe tbody tr th:only-of-type {\n",
       "        vertical-align: middle;\n",
       "    }\n",
       "\n",
       "    .dataframe tbody tr th {\n",
       "        vertical-align: top;\n",
       "    }\n",
       "\n",
       "    .dataframe thead th {\n",
       "        text-align: right;\n",
       "    }\n",
       "</style>\n",
       "<table border=\"1\" class=\"dataframe\">\n",
       "  <thead>\n",
       "    <tr style=\"text-align: right;\">\n",
       "      <th></th>\n",
       "      <th>manufacturer</th>\n",
       "      <th>cylinders</th>\n",
       "      <th>fuel</th>\n",
       "      <th>title_status</th>\n",
       "      <th>transmission</th>\n",
       "      <th>drive</th>\n",
       "      <th>type</th>\n",
       "      <th>paint_color</th>\n",
       "      <th>condition</th>\n",
       "      <th>year</th>\n",
       "      <th>posting_date</th>\n",
       "      <th>state</th>\n",
       "      <th>description</th>\n",
       "      <th>model</th>\n",
       "      <th>region</th>\n",
       "      <th>region_url</th>\n",
       "    </tr>\n",
       "  </thead>\n",
       "  <tbody>\n",
       "    <tr>\n",
       "      <th>0</th>\n",
       "      <td>ford</td>\n",
       "      <td>6 cylinders</td>\n",
       "      <td>gas</td>\n",
       "      <td>clean</td>\n",
       "      <td>automatic</td>\n",
       "      <td>4wd</td>\n",
       "      <td>sedan</td>\n",
       "      <td>white</td>\n",
       "      <td>good</td>\n",
       "      <td>nan</td>\n",
       "      <td>2021-04-23T22:13:05-0400</td>\n",
       "      <td>az</td>\n",
       "      <td>35 VEHICLES PRICED UNDER $3000!!!  BIG TIME! T...</td>\n",
       "      <td>f-150</td>\n",
       "      <td>prescott</td>\n",
       "      <td>https://prescott.craigslist.org</td>\n",
       "    </tr>\n",
       "    <tr>\n",
       "      <th>1</th>\n",
       "      <td>ford</td>\n",
       "      <td>6 cylinders</td>\n",
       "      <td>gas</td>\n",
       "      <td>clean</td>\n",
       "      <td>automatic</td>\n",
       "      <td>4wd</td>\n",
       "      <td>sedan</td>\n",
       "      <td>white</td>\n",
       "      <td>good</td>\n",
       "      <td>nan</td>\n",
       "      <td>2021-04-23T22:13:05-0400</td>\n",
       "      <td>ar</td>\n",
       "      <td>35 VEHICLES PRICED UNDER $3000!!!  BIG TIME! T...</td>\n",
       "      <td>f-150</td>\n",
       "      <td>fayetteville</td>\n",
       "      <td>https://fayar.craigslist.org</td>\n",
       "    </tr>\n",
       "    <tr>\n",
       "      <th>2</th>\n",
       "      <td>ford</td>\n",
       "      <td>6 cylinders</td>\n",
       "      <td>gas</td>\n",
       "      <td>clean</td>\n",
       "      <td>automatic</td>\n",
       "      <td>4wd</td>\n",
       "      <td>sedan</td>\n",
       "      <td>white</td>\n",
       "      <td>good</td>\n",
       "      <td>nan</td>\n",
       "      <td>2021-04-23T22:13:05-0400</td>\n",
       "      <td>fl</td>\n",
       "      <td>35 VEHICLES PRICED UNDER $3000!!!  BIG TIME! T...</td>\n",
       "      <td>f-150</td>\n",
       "      <td>florida keys</td>\n",
       "      <td>https://keys.craigslist.org</td>\n",
       "    </tr>\n",
       "    <tr>\n",
       "      <th>3</th>\n",
       "      <td>ford</td>\n",
       "      <td>6 cylinders</td>\n",
       "      <td>gas</td>\n",
       "      <td>clean</td>\n",
       "      <td>automatic</td>\n",
       "      <td>4wd</td>\n",
       "      <td>sedan</td>\n",
       "      <td>white</td>\n",
       "      <td>good</td>\n",
       "      <td>nan</td>\n",
       "      <td>2021-04-23T22:13:05-0400</td>\n",
       "      <td>ma</td>\n",
       "      <td>35 VEHICLES PRICED UNDER $3000!!!  BIG TIME! T...</td>\n",
       "      <td>f-150</td>\n",
       "      <td>worcester / central MA</td>\n",
       "      <td>https://worcester.craigslist.org</td>\n",
       "    </tr>\n",
       "    <tr>\n",
       "      <th>4</th>\n",
       "      <td>ford</td>\n",
       "      <td>6 cylinders</td>\n",
       "      <td>gas</td>\n",
       "      <td>clean</td>\n",
       "      <td>automatic</td>\n",
       "      <td>4wd</td>\n",
       "      <td>sedan</td>\n",
       "      <td>white</td>\n",
       "      <td>good</td>\n",
       "      <td>nan</td>\n",
       "      <td>2021-04-23T22:13:05-0400</td>\n",
       "      <td>nc</td>\n",
       "      <td>35 VEHICLES PRICED UNDER $3000!!!  BIG TIME! T...</td>\n",
       "      <td>f-150</td>\n",
       "      <td>greensboro</td>\n",
       "      <td>https://greensboro.craigslist.org</td>\n",
       "    </tr>\n",
       "  </tbody>\n",
       "</table>\n",
       "</div>"
      ],
      "text/plain": [
       "  manufacturer    cylinders fuel title_status transmission drive   type  \\\n",
       "0         ford  6 cylinders  gas        clean    automatic   4wd  sedan   \n",
       "1         ford  6 cylinders  gas        clean    automatic   4wd  sedan   \n",
       "2         ford  6 cylinders  gas        clean    automatic   4wd  sedan   \n",
       "3         ford  6 cylinders  gas        clean    automatic   4wd  sedan   \n",
       "4         ford  6 cylinders  gas        clean    automatic   4wd  sedan   \n",
       "\n",
       "  paint_color condition year              posting_date state  \\\n",
       "0       white      good  nan  2021-04-23T22:13:05-0400    az   \n",
       "1       white      good  nan  2021-04-23T22:13:05-0400    ar   \n",
       "2       white      good  nan  2021-04-23T22:13:05-0400    fl   \n",
       "3       white      good  nan  2021-04-23T22:13:05-0400    ma   \n",
       "4       white      good  nan  2021-04-23T22:13:05-0400    nc   \n",
       "\n",
       "                                         description  model  \\\n",
       "0  35 VEHICLES PRICED UNDER $3000!!!  BIG TIME! T...  f-150   \n",
       "1  35 VEHICLES PRICED UNDER $3000!!!  BIG TIME! T...  f-150   \n",
       "2  35 VEHICLES PRICED UNDER $3000!!!  BIG TIME! T...  f-150   \n",
       "3  35 VEHICLES PRICED UNDER $3000!!!  BIG TIME! T...  f-150   \n",
       "4  35 VEHICLES PRICED UNDER $3000!!!  BIG TIME! T...  f-150   \n",
       "\n",
       "                   region                         region_url  \n",
       "0                prescott    https://prescott.craigslist.org  \n",
       "1            fayetteville       https://fayar.craigslist.org  \n",
       "2            florida keys        https://keys.craigslist.org  \n",
       "3  worcester / central MA   https://worcester.craigslist.org  \n",
       "4              greensboro  https://greensboro.craigslist.org  "
      ]
     },
     "execution_count": 29,
     "metadata": {},
     "output_type": "execute_result"
    }
   ],
   "source": [
    "categorical.head()"
   ]
  },
  {
   "cell_type": "code",
   "execution_count": 30,
   "metadata": {
    "execution": {
     "iopub.execute_input": "2021-11-19T09:26:15.637683Z",
     "iopub.status.busy": "2021-11-19T09:26:15.637367Z",
     "iopub.status.idle": "2021-11-19T09:26:15.648509Z",
     "shell.execute_reply": "2021-11-19T09:26:15.6479Z",
     "shell.execute_reply.started": "2021-11-19T09:26:15.637652Z"
    }
   },
   "outputs": [
    {
     "data": {
      "text/html": [
       "<div>\n",
       "<style scoped>\n",
       "    .dataframe tbody tr th:only-of-type {\n",
       "        vertical-align: middle;\n",
       "    }\n",
       "\n",
       "    .dataframe tbody tr th {\n",
       "        vertical-align: top;\n",
       "    }\n",
       "\n",
       "    .dataframe thead th {\n",
       "        text-align: right;\n",
       "    }\n",
       "</style>\n",
       "<table border=\"1\" class=\"dataframe\">\n",
       "  <thead>\n",
       "    <tr style=\"text-align: right;\">\n",
       "      <th></th>\n",
       "      <th>price</th>\n",
       "      <th>odometer</th>\n",
       "      <th>lat</th>\n",
       "      <th>long</th>\n",
       "    </tr>\n",
       "  </thead>\n",
       "  <tbody>\n",
       "    <tr>\n",
       "      <th>0</th>\n",
       "      <td>6000</td>\n",
       "      <td>98043.331443</td>\n",
       "      <td>38.49394</td>\n",
       "      <td>-94.748599</td>\n",
       "    </tr>\n",
       "    <tr>\n",
       "      <th>1</th>\n",
       "      <td>11900</td>\n",
       "      <td>98043.331443</td>\n",
       "      <td>38.49394</td>\n",
       "      <td>-94.748599</td>\n",
       "    </tr>\n",
       "    <tr>\n",
       "      <th>2</th>\n",
       "      <td>21000</td>\n",
       "      <td>98043.331443</td>\n",
       "      <td>38.49394</td>\n",
       "      <td>-94.748599</td>\n",
       "    </tr>\n",
       "    <tr>\n",
       "      <th>3</th>\n",
       "      <td>1500</td>\n",
       "      <td>98043.331443</td>\n",
       "      <td>38.49394</td>\n",
       "      <td>-94.748599</td>\n",
       "    </tr>\n",
       "    <tr>\n",
       "      <th>4</th>\n",
       "      <td>4900</td>\n",
       "      <td>98043.331443</td>\n",
       "      <td>38.49394</td>\n",
       "      <td>-94.748599</td>\n",
       "    </tr>\n",
       "  </tbody>\n",
       "</table>\n",
       "</div>"
      ],
      "text/plain": [
       "   price      odometer       lat       long\n",
       "0   6000  98043.331443  38.49394 -94.748599\n",
       "1  11900  98043.331443  38.49394 -94.748599\n",
       "2  21000  98043.331443  38.49394 -94.748599\n",
       "3   1500  98043.331443  38.49394 -94.748599\n",
       "4   4900  98043.331443  38.49394 -94.748599"
      ]
     },
     "execution_count": 30,
     "metadata": {},
     "output_type": "execute_result"
    }
   ],
   "source": [
    "numerical.head()"
   ]
  },
  {
   "cell_type": "code",
   "execution_count": 31,
   "metadata": {
    "execution": {
     "iopub.execute_input": "2021-11-19T09:26:33.022214Z",
     "iopub.status.busy": "2021-11-19T09:26:33.021915Z",
     "iopub.status.idle": "2021-11-19T09:26:33.161663Z",
     "shell.execute_reply": "2021-11-19T09:26:33.160753Z",
     "shell.execute_reply.started": "2021-11-19T09:26:33.022183Z"
    }
   },
   "outputs": [
    {
     "data": {
      "text/html": [
       "<div>\n",
       "<style scoped>\n",
       "    .dataframe tbody tr th:only-of-type {\n",
       "        vertical-align: middle;\n",
       "    }\n",
       "\n",
       "    .dataframe tbody tr th {\n",
       "        vertical-align: top;\n",
       "    }\n",
       "\n",
       "    .dataframe thead th {\n",
       "        text-align: right;\n",
       "    }\n",
       "</style>\n",
       "<table border=\"1\" class=\"dataframe\">\n",
       "  <thead>\n",
       "    <tr style=\"text-align: right;\">\n",
       "      <th></th>\n",
       "      <th>manufacturer</th>\n",
       "      <th>cylinders</th>\n",
       "      <th>fuel</th>\n",
       "      <th>title_status</th>\n",
       "      <th>transmission</th>\n",
       "      <th>drive</th>\n",
       "      <th>type</th>\n",
       "      <th>paint_color</th>\n",
       "      <th>condition</th>\n",
       "      <th>year</th>\n",
       "      <th>posting_date</th>\n",
       "      <th>state</th>\n",
       "      <th>description</th>\n",
       "      <th>model</th>\n",
       "      <th>region</th>\n",
       "      <th>region_url</th>\n",
       "      <th>price</th>\n",
       "      <th>odometer</th>\n",
       "      <th>lat</th>\n",
       "      <th>long</th>\n",
       "    </tr>\n",
       "  </thead>\n",
       "  <tbody>\n",
       "    <tr>\n",
       "      <th>0</th>\n",
       "      <td>ford</td>\n",
       "      <td>6 cylinders</td>\n",
       "      <td>gas</td>\n",
       "      <td>clean</td>\n",
       "      <td>automatic</td>\n",
       "      <td>4wd</td>\n",
       "      <td>sedan</td>\n",
       "      <td>white</td>\n",
       "      <td>good</td>\n",
       "      <td>nan</td>\n",
       "      <td>2021-04-23T22:13:05-0400</td>\n",
       "      <td>az</td>\n",
       "      <td>35 VEHICLES PRICED UNDER $3000!!!  BIG TIME! T...</td>\n",
       "      <td>f-150</td>\n",
       "      <td>prescott</td>\n",
       "      <td>https://prescott.craigslist.org</td>\n",
       "      <td>6000</td>\n",
       "      <td>98043.331443</td>\n",
       "      <td>38.49394</td>\n",
       "      <td>-94.748599</td>\n",
       "    </tr>\n",
       "    <tr>\n",
       "      <th>1</th>\n",
       "      <td>ford</td>\n",
       "      <td>6 cylinders</td>\n",
       "      <td>gas</td>\n",
       "      <td>clean</td>\n",
       "      <td>automatic</td>\n",
       "      <td>4wd</td>\n",
       "      <td>sedan</td>\n",
       "      <td>white</td>\n",
       "      <td>good</td>\n",
       "      <td>nan</td>\n",
       "      <td>2021-04-23T22:13:05-0400</td>\n",
       "      <td>ar</td>\n",
       "      <td>35 VEHICLES PRICED UNDER $3000!!!  BIG TIME! T...</td>\n",
       "      <td>f-150</td>\n",
       "      <td>fayetteville</td>\n",
       "      <td>https://fayar.craigslist.org</td>\n",
       "      <td>11900</td>\n",
       "      <td>98043.331443</td>\n",
       "      <td>38.49394</td>\n",
       "      <td>-94.748599</td>\n",
       "    </tr>\n",
       "    <tr>\n",
       "      <th>2</th>\n",
       "      <td>ford</td>\n",
       "      <td>6 cylinders</td>\n",
       "      <td>gas</td>\n",
       "      <td>clean</td>\n",
       "      <td>automatic</td>\n",
       "      <td>4wd</td>\n",
       "      <td>sedan</td>\n",
       "      <td>white</td>\n",
       "      <td>good</td>\n",
       "      <td>nan</td>\n",
       "      <td>2021-04-23T22:13:05-0400</td>\n",
       "      <td>fl</td>\n",
       "      <td>35 VEHICLES PRICED UNDER $3000!!!  BIG TIME! T...</td>\n",
       "      <td>f-150</td>\n",
       "      <td>florida keys</td>\n",
       "      <td>https://keys.craigslist.org</td>\n",
       "      <td>21000</td>\n",
       "      <td>98043.331443</td>\n",
       "      <td>38.49394</td>\n",
       "      <td>-94.748599</td>\n",
       "    </tr>\n",
       "    <tr>\n",
       "      <th>3</th>\n",
       "      <td>ford</td>\n",
       "      <td>6 cylinders</td>\n",
       "      <td>gas</td>\n",
       "      <td>clean</td>\n",
       "      <td>automatic</td>\n",
       "      <td>4wd</td>\n",
       "      <td>sedan</td>\n",
       "      <td>white</td>\n",
       "      <td>good</td>\n",
       "      <td>nan</td>\n",
       "      <td>2021-04-23T22:13:05-0400</td>\n",
       "      <td>ma</td>\n",
       "      <td>35 VEHICLES PRICED UNDER $3000!!!  BIG TIME! T...</td>\n",
       "      <td>f-150</td>\n",
       "      <td>worcester / central MA</td>\n",
       "      <td>https://worcester.craigslist.org</td>\n",
       "      <td>1500</td>\n",
       "      <td>98043.331443</td>\n",
       "      <td>38.49394</td>\n",
       "      <td>-94.748599</td>\n",
       "    </tr>\n",
       "    <tr>\n",
       "      <th>4</th>\n",
       "      <td>ford</td>\n",
       "      <td>6 cylinders</td>\n",
       "      <td>gas</td>\n",
       "      <td>clean</td>\n",
       "      <td>automatic</td>\n",
       "      <td>4wd</td>\n",
       "      <td>sedan</td>\n",
       "      <td>white</td>\n",
       "      <td>good</td>\n",
       "      <td>nan</td>\n",
       "      <td>2021-04-23T22:13:05-0400</td>\n",
       "      <td>nc</td>\n",
       "      <td>35 VEHICLES PRICED UNDER $3000!!!  BIG TIME! T...</td>\n",
       "      <td>f-150</td>\n",
       "      <td>greensboro</td>\n",
       "      <td>https://greensboro.craigslist.org</td>\n",
       "      <td>4900</td>\n",
       "      <td>98043.331443</td>\n",
       "      <td>38.49394</td>\n",
       "      <td>-94.748599</td>\n",
       "    </tr>\n",
       "  </tbody>\n",
       "</table>\n",
       "</div>"
      ],
      "text/plain": [
       "  manufacturer    cylinders fuel title_status transmission drive   type  \\\n",
       "0         ford  6 cylinders  gas        clean    automatic   4wd  sedan   \n",
       "1         ford  6 cylinders  gas        clean    automatic   4wd  sedan   \n",
       "2         ford  6 cylinders  gas        clean    automatic   4wd  sedan   \n",
       "3         ford  6 cylinders  gas        clean    automatic   4wd  sedan   \n",
       "4         ford  6 cylinders  gas        clean    automatic   4wd  sedan   \n",
       "\n",
       "  paint_color condition year              posting_date state  \\\n",
       "0       white      good  nan  2021-04-23T22:13:05-0400    az   \n",
       "1       white      good  nan  2021-04-23T22:13:05-0400    ar   \n",
       "2       white      good  nan  2021-04-23T22:13:05-0400    fl   \n",
       "3       white      good  nan  2021-04-23T22:13:05-0400    ma   \n",
       "4       white      good  nan  2021-04-23T22:13:05-0400    nc   \n",
       "\n",
       "                                         description  model  \\\n",
       "0  35 VEHICLES PRICED UNDER $3000!!!  BIG TIME! T...  f-150   \n",
       "1  35 VEHICLES PRICED UNDER $3000!!!  BIG TIME! T...  f-150   \n",
       "2  35 VEHICLES PRICED UNDER $3000!!!  BIG TIME! T...  f-150   \n",
       "3  35 VEHICLES PRICED UNDER $3000!!!  BIG TIME! T...  f-150   \n",
       "4  35 VEHICLES PRICED UNDER $3000!!!  BIG TIME! T...  f-150   \n",
       "\n",
       "                   region                         region_url  price  \\\n",
       "0                prescott    https://prescott.craigslist.org   6000   \n",
       "1            fayetteville       https://fayar.craigslist.org  11900   \n",
       "2            florida keys        https://keys.craigslist.org  21000   \n",
       "3  worcester / central MA   https://worcester.craigslist.org   1500   \n",
       "4              greensboro  https://greensboro.craigslist.org   4900   \n",
       "\n",
       "       odometer       lat       long  \n",
       "0  98043.331443  38.49394 -94.748599  \n",
       "1  98043.331443  38.49394 -94.748599  \n",
       "2  98043.331443  38.49394 -94.748599  \n",
       "3  98043.331443  38.49394 -94.748599  \n",
       "4  98043.331443  38.49394 -94.748599  "
      ]
     },
     "execution_count": 31,
     "metadata": {},
     "output_type": "execute_result"
    }
   ],
   "source": [
    "#concat table categorical and numerical to create new table without missing values\n",
    "df2 = pd.concat([categorical,numerical],axis=1)\n",
    "df2.head()"
   ]
  },
  {
   "cell_type": "markdown",
   "metadata": {},
   "source": [
    "**Outlier Detection**\n",
    "\n"
   ]
  },
  {
   "cell_type": "markdown",
   "metadata": {},
   "source": [
    "outlier detectionis the identification of rare items, events or observations which raise suspicions by differing significantly from the majority of the data.\n",
    "\n"
   ]
  },
  {
   "cell_type": "code",
   "execution_count": 32,
   "metadata": {
    "execution": {
     "iopub.execute_input": "2021-11-19T09:26:50.524153Z",
     "iopub.status.busy": "2021-11-19T09:26:50.523337Z",
     "iopub.status.idle": "2021-11-19T09:26:51.144458Z",
     "shell.execute_reply": "2021-11-19T09:26:51.143556Z",
     "shell.execute_reply.started": "2021-11-19T09:26:50.524106Z"
    }
   },
   "outputs": [
    {
     "data": {
      "image/png": "[encoded data removed]",
      "text/plain": [
       "<Figure size 936x936 with 4 Axes>"
      ]
     },
     "metadata": {
      "needs_background": "light"
     },
     "output_type": "display_data"
    }
   ],
   "source": [
    "#outlier detection in numerical\n",
    "fig=plt.figure(figsize=(13,13))\n",
    "axes=330\n",
    "\n",
    "#put numerical\n",
    "for num in numerical:\n",
    "    axes += 2\n",
    "    fig.add_subplot(axes)\n",
    "    #set title of num\n",
    "    sns.boxplot(data = numerical, x=num, color=\"y\") \n",
    "plt.show()"
   ]
  },
  {
   "cell_type": "markdown",
   "metadata": {},
   "source": [
    "Based on boxplot visualization for numeric feature. thevariable long, lat, and odomater has too many outliers so that we can drop it from the table. the price has so many outlier too.."
   ]
  },
  {
   "cell_type": "code",
   "execution_count": 33,
   "metadata": {
    "execution": {
     "iopub.execute_input": "2021-11-19T09:27:29.409177Z",
     "iopub.status.busy": "2021-11-19T09:27:29.408892Z",
     "iopub.status.idle": "2021-11-19T09:27:29.422613Z",
     "shell.execute_reply": "2021-11-19T09:27:29.421687Z",
     "shell.execute_reply.started": "2021-11-19T09:27:29.409148Z"
    }
   },
   "outputs": [
    {
     "data": {
      "text/plain": [
       "5900.0"
      ]
     },
     "execution_count": 33,
     "metadata": {},
     "output_type": "execute_result"
    }
   ],
   "source": [
    "df['price'].quantile(0.25)"
   ]
  },
  {
   "cell_type": "code",
   "execution_count": 34,
   "metadata": {
    "execution": {
     "iopub.execute_input": "2021-11-19T09:27:39.208962Z",
     "iopub.status.busy": "2021-11-19T09:27:39.208668Z",
     "iopub.status.idle": "2021-11-19T09:27:39.22217Z",
     "shell.execute_reply": "2021-11-19T09:27:39.22123Z",
     "shell.execute_reply.started": "2021-11-19T09:27:39.208932Z"
    }
   },
   "outputs": [
    {
     "data": {
      "text/plain": [
       "26485.75"
      ]
     },
     "execution_count": 34,
     "metadata": {},
     "output_type": "execute_result"
    }
   ],
   "source": [
    "df['price'].quantile(0.75)"
   ]
  },
  {
   "cell_type": "code",
   "execution_count": 35,
   "metadata": {
    "execution": {
     "iopub.execute_input": "2021-11-19T09:27:48.086135Z",
     "iopub.status.busy": "2021-11-19T09:27:48.085821Z",
     "iopub.status.idle": "2021-11-19T09:27:48.104185Z",
     "shell.execute_reply": "2021-11-19T09:27:48.103502Z",
     "shell.execute_reply.started": "2021-11-19T09:27:48.086098Z"
    }
   },
   "outputs": [],
   "source": [
    "Q1= df['price'].quantile(0.25)\n",
    "Q3 = df['price'].quantile(0.75)\n",
    "IQR = Q3-Q1"
   ]
  },
  {
   "cell_type": "code",
   "execution_count": 36,
   "metadata": {
    "execution": {
     "iopub.execute_input": "2021-11-19T09:27:54.733544Z",
     "iopub.status.busy": "2021-11-19T09:27:54.733218Z",
     "iopub.status.idle": "2021-11-19T09:27:54.739718Z",
     "shell.execute_reply": "2021-11-19T09:27:54.738685Z",
     "shell.execute_reply.started": "2021-11-19T09:27:54.733504Z"
    }
   },
   "outputs": [
    {
     "data": {
      "text/plain": [
       "20585.75"
      ]
     },
     "execution_count": 36,
     "metadata": {},
     "output_type": "execute_result"
    }
   ],
   "source": [
    "IQR"
   ]
  },
  {
   "cell_type": "code",
   "execution_count": 37,
   "metadata": {
    "execution": {
     "iopub.execute_input": "2021-11-19T09:28:02.916081Z",
     "iopub.status.busy": "2021-11-19T09:28:02.915364Z",
     "iopub.status.idle": "2021-11-19T09:28:02.919763Z",
     "shell.execute_reply": "2021-11-19T09:28:02.919147Z",
     "shell.execute_reply.started": "2021-11-19T09:28:02.916037Z"
    }
   },
   "outputs": [],
   "source": [
    "lower_l = Q1 -1.5 * IQR\n",
    "upper_l = Q3+ 1.5 * IQR"
   ]
  },
  {
   "cell_type": "code",
   "execution_count": 38,
   "metadata": {
    "execution": {
     "iopub.execute_input": "2021-11-19T09:28:10.763506Z",
     "iopub.status.busy": "2021-11-19T09:28:10.762924Z",
     "iopub.status.idle": "2021-11-19T09:28:10.7691Z",
     "shell.execute_reply": "2021-11-19T09:28:10.768444Z",
     "shell.execute_reply.started": "2021-11-19T09:28:10.763468Z"
    }
   },
   "outputs": [
    {
     "data": {
      "text/plain": [
       "-24978.625"
      ]
     },
     "execution_count": 38,
     "metadata": {},
     "output_type": "execute_result"
    }
   ],
   "source": [
    "lower_l"
   ]
  },
  {
   "cell_type": "code",
   "execution_count": 39,
   "metadata": {
    "execution": {
     "iopub.execute_input": "2021-11-19T09:28:18.599385Z",
     "iopub.status.busy": "2021-11-19T09:28:18.599054Z",
     "iopub.status.idle": "2021-11-19T09:28:18.604882Z",
     "shell.execute_reply": "2021-11-19T09:28:18.604171Z",
     "shell.execute_reply.started": "2021-11-19T09:28:18.599344Z"
    }
   },
   "outputs": [
    {
     "data": {
      "text/plain": [
       "57364.375"
      ]
     },
     "execution_count": 39,
     "metadata": {},
     "output_type": "execute_result"
    }
   ],
   "source": [
    "upper_l"
   ]
  },
  {
   "cell_type": "code",
   "execution_count": 40,
   "metadata": {
    "execution": {
     "iopub.execute_input": "2021-11-19T09:28:30.665336Z",
     "iopub.status.busy": "2021-11-19T09:28:30.664665Z",
     "iopub.status.idle": "2021-11-19T09:28:30.669765Z",
     "shell.execute_reply": "2021-11-19T09:28:30.668979Z",
     "shell.execute_reply.started": "2021-11-19T09:28:30.665301Z"
    }
   },
   "outputs": [],
   "source": [
    "out_l= (df['price'] < lower_l)"
   ]
  },
  {
   "cell_type": "code",
   "execution_count": 41,
   "metadata": {
    "execution": {
     "iopub.execute_input": "2021-11-19T09:28:39.989282Z",
     "iopub.status.busy": "2021-11-19T09:28:39.988507Z",
     "iopub.status.idle": "2021-11-19T09:28:39.994549Z",
     "shell.execute_reply": "2021-11-19T09:28:39.993339Z",
     "shell.execute_reply.started": "2021-11-19T09:28:39.98924Z"
    }
   },
   "outputs": [],
   "source": [
    "out_u= (df['price'] > upper_l)"
   ]
  },
  {
   "cell_type": "code",
   "execution_count": 42,
   "metadata": {
    "execution": {
     "iopub.execute_input": "2021-11-19T09:28:49.059747Z",
     "iopub.status.busy": "2021-11-19T09:28:49.059408Z",
     "iopub.status.idle": "2021-11-19T09:28:49.06756Z",
     "shell.execute_reply": "2021-11-19T09:28:49.066929Z",
     "shell.execute_reply.started": "2021-11-19T09:28:49.059716Z"
    }
   },
   "outputs": [
    {
     "data": {
      "text/plain": [
       "418703"
      ]
     },
     "execution_count": 42,
     "metadata": {},
     "output_type": "execute_result"
    }
   ],
   "source": [
    "len (df['price']) - (len (df['price'] [out_l]) + len (df['price'][out_u]))"
   ]
  },
  {
   "cell_type": "code",
   "execution_count": 43,
   "metadata": {
    "execution": {
     "iopub.execute_input": "2021-11-19T09:28:57.154226Z",
     "iopub.status.busy": "2021-11-19T09:28:57.15371Z",
     "iopub.status.idle": "2021-11-19T09:28:57.162323Z",
     "shell.execute_reply": "2021-11-19T09:28:57.161695Z",
     "shell.execute_reply.started": "2021-11-19T09:28:57.154191Z"
    }
   },
   "outputs": [
    {
     "data": {
      "text/plain": [
       "204           58977\n",
       "280       987654321\n",
       "346           98900\n",
       "365           72900\n",
       "461           99950\n",
       "            ...    \n",
       "426694        59900\n",
       "426716        65950\n",
       "426778        65995\n",
       "426810        58995\n",
       "426840        65999\n",
       "Name: price, Length: 8177, dtype: int64"
      ]
     },
     "execution_count": 43,
     "metadata": {},
     "output_type": "execute_result"
    }
   ],
   "source": [
    "df['price'][(out_l| out_u)]"
   ]
  },
  {
   "cell_type": "code",
   "execution_count": 44,
   "metadata": {
    "execution": {
     "iopub.execute_input": "2021-11-19T09:29:08.22413Z",
     "iopub.status.busy": "2021-11-19T09:29:08.223838Z",
     "iopub.status.idle": "2021-11-19T09:29:08.236181Z",
     "shell.execute_reply": "2021-11-19T09:29:08.235333Z",
     "shell.execute_reply.started": "2021-11-19T09:29:08.224102Z"
    }
   },
   "outputs": [
    {
     "data": {
      "text/plain": [
       "0          6000\n",
       "1         11900\n",
       "2         21000\n",
       "3          1500\n",
       "4          4900\n",
       "          ...  \n",
       "426875    23590\n",
       "426876    30590\n",
       "426877    34990\n",
       "426878    28990\n",
       "426879    30590\n",
       "Name: price, Length: 418703, dtype: int64"
      ]
     },
     "execution_count": 44,
     "metadata": {},
     "output_type": "execute_result"
    }
   ],
   "source": [
    "df['price'][~(out_l | out_u)]"
   ]
  },
  {
   "cell_type": "code",
   "execution_count": 45,
   "metadata": {
    "execution": {
     "iopub.execute_input": "2021-11-19T09:29:29.718854Z",
     "iopub.status.busy": "2021-11-19T09:29:29.718389Z",
     "iopub.status.idle": "2021-11-19T09:29:29.859969Z",
     "shell.execute_reply": "2021-11-19T09:29:29.85905Z",
     "shell.execute_reply.started": "2021-11-19T09:29:29.718822Z"
    }
   },
   "outputs": [
    {
     "data": {
      "text/html": [
       "<div>\n",
       "<style scoped>\n",
       "    .dataframe tbody tr th:only-of-type {\n",
       "        vertical-align: middle;\n",
       "    }\n",
       "\n",
       "    .dataframe tbody tr th {\n",
       "        vertical-align: top;\n",
       "    }\n",
       "\n",
       "    .dataframe thead th {\n",
       "        text-align: right;\n",
       "    }\n",
       "</style>\n",
       "<table border=\"1\" class=\"dataframe\">\n",
       "  <thead>\n",
       "    <tr style=\"text-align: right;\">\n",
       "      <th></th>\n",
       "      <th>region</th>\n",
       "      <th>region_url</th>\n",
       "      <th>price</th>\n",
       "      <th>year</th>\n",
       "      <th>manufacturer</th>\n",
       "      <th>model</th>\n",
       "      <th>condition</th>\n",
       "      <th>cylinders</th>\n",
       "      <th>fuel</th>\n",
       "      <th>odometer</th>\n",
       "      <th>title_status</th>\n",
       "      <th>transmission</th>\n",
       "      <th>drive</th>\n",
       "      <th>type</th>\n",
       "      <th>paint_color</th>\n",
       "      <th>description</th>\n",
       "      <th>state</th>\n",
       "      <th>lat</th>\n",
       "      <th>long</th>\n",
       "      <th>posting_date</th>\n",
       "    </tr>\n",
       "  </thead>\n",
       "  <tbody>\n",
       "    <tr>\n",
       "      <th>0</th>\n",
       "      <td>prescott</td>\n",
       "      <td>https://prescott.craigslist.org</td>\n",
       "      <td>6000</td>\n",
       "      <td>nan</td>\n",
       "      <td>NaN</td>\n",
       "      <td>NaN</td>\n",
       "      <td>NaN</td>\n",
       "      <td>NaN</td>\n",
       "      <td>NaN</td>\n",
       "      <td>NaN</td>\n",
       "      <td>NaN</td>\n",
       "      <td>NaN</td>\n",
       "      <td>NaN</td>\n",
       "      <td>NaN</td>\n",
       "      <td>NaN</td>\n",
       "      <td>NaN</td>\n",
       "      <td>az</td>\n",
       "      <td>NaN</td>\n",
       "      <td>NaN</td>\n",
       "      <td>NaN</td>\n",
       "    </tr>\n",
       "    <tr>\n",
       "      <th>1</th>\n",
       "      <td>fayetteville</td>\n",
       "      <td>https://fayar.craigslist.org</td>\n",
       "      <td>11900</td>\n",
       "      <td>nan</td>\n",
       "      <td>NaN</td>\n",
       "      <td>NaN</td>\n",
       "      <td>NaN</td>\n",
       "      <td>NaN</td>\n",
       "      <td>NaN</td>\n",
       "      <td>NaN</td>\n",
       "      <td>NaN</td>\n",
       "      <td>NaN</td>\n",
       "      <td>NaN</td>\n",
       "      <td>NaN</td>\n",
       "      <td>NaN</td>\n",
       "      <td>NaN</td>\n",
       "      <td>ar</td>\n",
       "      <td>NaN</td>\n",
       "      <td>NaN</td>\n",
       "      <td>NaN</td>\n",
       "    </tr>\n",
       "    <tr>\n",
       "      <th>2</th>\n",
       "      <td>florida keys</td>\n",
       "      <td>https://keys.craigslist.org</td>\n",
       "      <td>21000</td>\n",
       "      <td>nan</td>\n",
       "      <td>NaN</td>\n",
       "      <td>NaN</td>\n",
       "      <td>NaN</td>\n",
       "      <td>NaN</td>\n",
       "      <td>NaN</td>\n",
       "      <td>NaN</td>\n",
       "      <td>NaN</td>\n",
       "      <td>NaN</td>\n",
       "      <td>NaN</td>\n",
       "      <td>NaN</td>\n",
       "      <td>NaN</td>\n",
       "      <td>NaN</td>\n",
       "      <td>fl</td>\n",
       "      <td>NaN</td>\n",
       "      <td>NaN</td>\n",
       "      <td>NaN</td>\n",
       "    </tr>\n",
       "    <tr>\n",
       "      <th>3</th>\n",
       "      <td>worcester / central MA</td>\n",
       "      <td>https://worcester.craigslist.org</td>\n",
       "      <td>1500</td>\n",
       "      <td>nan</td>\n",
       "      <td>NaN</td>\n",
       "      <td>NaN</td>\n",
       "      <td>NaN</td>\n",
       "      <td>NaN</td>\n",
       "      <td>NaN</td>\n",
       "      <td>NaN</td>\n",
       "      <td>NaN</td>\n",
       "      <td>NaN</td>\n",
       "      <td>NaN</td>\n",
       "      <td>NaN</td>\n",
       "      <td>NaN</td>\n",
       "      <td>NaN</td>\n",
       "      <td>ma</td>\n",
       "      <td>NaN</td>\n",
       "      <td>NaN</td>\n",
       "      <td>NaN</td>\n",
       "    </tr>\n",
       "    <tr>\n",
       "      <th>4</th>\n",
       "      <td>greensboro</td>\n",
       "      <td>https://greensboro.craigslist.org</td>\n",
       "      <td>4900</td>\n",
       "      <td>nan</td>\n",
       "      <td>NaN</td>\n",
       "      <td>NaN</td>\n",
       "      <td>NaN</td>\n",
       "      <td>NaN</td>\n",
       "      <td>NaN</td>\n",
       "      <td>NaN</td>\n",
       "      <td>NaN</td>\n",
       "      <td>NaN</td>\n",
       "      <td>NaN</td>\n",
       "      <td>NaN</td>\n",
       "      <td>NaN</td>\n",
       "      <td>NaN</td>\n",
       "      <td>nc</td>\n",
       "      <td>NaN</td>\n",
       "      <td>NaN</td>\n",
       "      <td>NaN</td>\n",
       "    </tr>\n",
       "    <tr>\n",
       "      <th>...</th>\n",
       "      <td>...</td>\n",
       "      <td>...</td>\n",
       "      <td>...</td>\n",
       "      <td>...</td>\n",
       "      <td>...</td>\n",
       "      <td>...</td>\n",
       "      <td>...</td>\n",
       "      <td>...</td>\n",
       "      <td>...</td>\n",
       "      <td>...</td>\n",
       "      <td>...</td>\n",
       "      <td>...</td>\n",
       "      <td>...</td>\n",
       "      <td>...</td>\n",
       "      <td>...</td>\n",
       "      <td>...</td>\n",
       "      <td>...</td>\n",
       "      <td>...</td>\n",
       "      <td>...</td>\n",
       "      <td>...</td>\n",
       "    </tr>\n",
       "    <tr>\n",
       "      <th>426875</th>\n",
       "      <td>wyoming</td>\n",
       "      <td>https://wyoming.craigslist.org</td>\n",
       "      <td>23590</td>\n",
       "      <td>2019.0</td>\n",
       "      <td>nissan</td>\n",
       "      <td>maxima s sedan 4d</td>\n",
       "      <td>good</td>\n",
       "      <td>6 cylinders</td>\n",
       "      <td>gas</td>\n",
       "      <td>32226.0</td>\n",
       "      <td>clean</td>\n",
       "      <td>other</td>\n",
       "      <td>fwd</td>\n",
       "      <td>sedan</td>\n",
       "      <td>NaN</td>\n",
       "      <td>Carvana is the safer way to buy a car During t...</td>\n",
       "      <td>wy</td>\n",
       "      <td>33.786500</td>\n",
       "      <td>-84.445400</td>\n",
       "      <td>2021-04-04T03:21:31-0600</td>\n",
       "    </tr>\n",
       "    <tr>\n",
       "      <th>426876</th>\n",
       "      <td>wyoming</td>\n",
       "      <td>https://wyoming.craigslist.org</td>\n",
       "      <td>30590</td>\n",
       "      <td>2020.0</td>\n",
       "      <td>volvo</td>\n",
       "      <td>s60 t5 momentum sedan 4d</td>\n",
       "      <td>good</td>\n",
       "      <td>NaN</td>\n",
       "      <td>gas</td>\n",
       "      <td>12029.0</td>\n",
       "      <td>clean</td>\n",
       "      <td>other</td>\n",
       "      <td>fwd</td>\n",
       "      <td>sedan</td>\n",
       "      <td>red</td>\n",
       "      <td>Carvana is the safer way to buy a car During t...</td>\n",
       "      <td>wy</td>\n",
       "      <td>33.786500</td>\n",
       "      <td>-84.445400</td>\n",
       "      <td>2021-04-04T03:21:29-0600</td>\n",
       "    </tr>\n",
       "    <tr>\n",
       "      <th>426877</th>\n",
       "      <td>wyoming</td>\n",
       "      <td>https://wyoming.craigslist.org</td>\n",
       "      <td>34990</td>\n",
       "      <td>2020.0</td>\n",
       "      <td>cadillac</td>\n",
       "      <td>xt4 sport suv 4d</td>\n",
       "      <td>good</td>\n",
       "      <td>NaN</td>\n",
       "      <td>diesel</td>\n",
       "      <td>4174.0</td>\n",
       "      <td>clean</td>\n",
       "      <td>other</td>\n",
       "      <td>NaN</td>\n",
       "      <td>hatchback</td>\n",
       "      <td>white</td>\n",
       "      <td>Carvana is the safer way to buy a car During t...</td>\n",
       "      <td>wy</td>\n",
       "      <td>33.779214</td>\n",
       "      <td>-84.411811</td>\n",
       "      <td>2021-04-04T03:21:17-0600</td>\n",
       "    </tr>\n",
       "    <tr>\n",
       "      <th>426878</th>\n",
       "      <td>wyoming</td>\n",
       "      <td>https://wyoming.craigslist.org</td>\n",
       "      <td>28990</td>\n",
       "      <td>2018.0</td>\n",
       "      <td>lexus</td>\n",
       "      <td>es 350 sedan 4d</td>\n",
       "      <td>good</td>\n",
       "      <td>6 cylinders</td>\n",
       "      <td>gas</td>\n",
       "      <td>30112.0</td>\n",
       "      <td>clean</td>\n",
       "      <td>other</td>\n",
       "      <td>fwd</td>\n",
       "      <td>sedan</td>\n",
       "      <td>silver</td>\n",
       "      <td>Carvana is the safer way to buy a car During t...</td>\n",
       "      <td>wy</td>\n",
       "      <td>33.786500</td>\n",
       "      <td>-84.445400</td>\n",
       "      <td>2021-04-04T03:21:11-0600</td>\n",
       "    </tr>\n",
       "    <tr>\n",
       "      <th>426879</th>\n",
       "      <td>wyoming</td>\n",
       "      <td>https://wyoming.craigslist.org</td>\n",
       "      <td>30590</td>\n",
       "      <td>2019.0</td>\n",
       "      <td>bmw</td>\n",
       "      <td>4 series 430i gran coupe</td>\n",
       "      <td>good</td>\n",
       "      <td>NaN</td>\n",
       "      <td>gas</td>\n",
       "      <td>22716.0</td>\n",
       "      <td>clean</td>\n",
       "      <td>other</td>\n",
       "      <td>rwd</td>\n",
       "      <td>coupe</td>\n",
       "      <td>NaN</td>\n",
       "      <td>Carvana is the safer way to buy a car During t...</td>\n",
       "      <td>wy</td>\n",
       "      <td>33.779214</td>\n",
       "      <td>-84.411811</td>\n",
       "      <td>2021-04-04T03:21:07-0600</td>\n",
       "    </tr>\n",
       "  </tbody>\n",
       "</table>\n",
       "<p>418703 rows × 20 columns</p>\n",
       "</div>"
      ],
      "text/plain": [
       "                        region                         region_url  price  \\\n",
       "0                     prescott    https://prescott.craigslist.org   6000   \n",
       "1                 fayetteville       https://fayar.craigslist.org  11900   \n",
       "2                 florida keys        https://keys.craigslist.org  21000   \n",
       "3       worcester / central MA   https://worcester.craigslist.org   1500   \n",
       "4                   greensboro  https://greensboro.craigslist.org   4900   \n",
       "...                        ...                                ...    ...   \n",
       "426875                 wyoming     https://wyoming.craigslist.org  23590   \n",
       "426876                 wyoming     https://wyoming.craigslist.org  30590   \n",
       "426877                 wyoming     https://wyoming.craigslist.org  34990   \n",
       "426878                 wyoming     https://wyoming.craigslist.org  28990   \n",
       "426879                 wyoming     https://wyoming.craigslist.org  30590   \n",
       "\n",
       "          year manufacturer                     model condition    cylinders  \\\n",
       "0          nan          NaN                       NaN       NaN          NaN   \n",
       "1          nan          NaN                       NaN       NaN          NaN   \n",
       "2          nan          NaN                       NaN       NaN          NaN   \n",
       "3          nan          NaN                       NaN       NaN          NaN   \n",
       "4          nan          NaN                       NaN       NaN          NaN   \n",
       "...        ...          ...                       ...       ...          ...   \n",
       "426875  2019.0       nissan         maxima s sedan 4d      good  6 cylinders   \n",
       "426876  2020.0        volvo  s60 t5 momentum sedan 4d      good          NaN   \n",
       "426877  2020.0     cadillac          xt4 sport suv 4d      good          NaN   \n",
       "426878  2018.0        lexus           es 350 sedan 4d      good  6 cylinders   \n",
       "426879  2019.0          bmw  4 series 430i gran coupe      good          NaN   \n",
       "\n",
       "          fuel  odometer title_status transmission drive       type  \\\n",
       "0          NaN       NaN          NaN          NaN   NaN        NaN   \n",
       "1          NaN       NaN          NaN          NaN   NaN        NaN   \n",
       "2          NaN       NaN          NaN          NaN   NaN        NaN   \n",
       "3          NaN       NaN          NaN          NaN   NaN        NaN   \n",
       "4          NaN       NaN          NaN          NaN   NaN        NaN   \n",
       "...        ...       ...          ...          ...   ...        ...   \n",
       "426875     gas   32226.0        clean        other   fwd      sedan   \n",
       "426876     gas   12029.0        clean        other   fwd      sedan   \n",
       "426877  diesel    4174.0        clean        other   NaN  hatchback   \n",
       "426878     gas   30112.0        clean        other   fwd      sedan   \n",
       "426879     gas   22716.0        clean        other   rwd      coupe   \n",
       "\n",
       "       paint_color                                        description state  \\\n",
       "0              NaN                                                NaN    az   \n",
       "1              NaN                                                NaN    ar   \n",
       "2              NaN                                                NaN    fl   \n",
       "3              NaN                                                NaN    ma   \n",
       "4              NaN                                                NaN    nc   \n",
       "...            ...                                                ...   ...   \n",
       "426875         NaN  Carvana is the safer way to buy a car During t...    wy   \n",
       "426876         red  Carvana is the safer way to buy a car During t...    wy   \n",
       "426877       white  Carvana is the safer way to buy a car During t...    wy   \n",
       "426878      silver  Carvana is the safer way to buy a car During t...    wy   \n",
       "426879         NaN  Carvana is the safer way to buy a car During t...    wy   \n",
       "\n",
       "              lat       long              posting_date  \n",
       "0             NaN        NaN                       NaN  \n",
       "1             NaN        NaN                       NaN  \n",
       "2             NaN        NaN                       NaN  \n",
       "3             NaN        NaN                       NaN  \n",
       "4             NaN        NaN                       NaN  \n",
       "...           ...        ...                       ...  \n",
       "426875  33.786500 -84.445400  2021-04-04T03:21:31-0600  \n",
       "426876  33.786500 -84.445400  2021-04-04T03:21:29-0600  \n",
       "426877  33.779214 -84.411811  2021-04-04T03:21:17-0600  \n",
       "426878  33.786500 -84.445400  2021-04-04T03:21:11-0600  \n",
       "426879  33.779214 -84.411811  2021-04-04T03:21:07-0600  \n",
       "\n",
       "[418703 rows x 20 columns]"
      ]
     },
     "execution_count": 45,
     "metadata": {},
     "output_type": "execute_result"
    }
   ],
   "source": [
    "df= df[~(out_l | out_u)]\n",
    "df"
   ]
  },
  {
   "cell_type": "code",
   "execution_count": 46,
   "metadata": {
    "execution": {
     "iopub.execute_input": "2021-11-19T09:29:43.916903Z",
     "iopub.status.busy": "2021-11-19T09:29:43.916594Z",
     "iopub.status.idle": "2021-11-19T09:29:44.07592Z",
     "shell.execute_reply": "2021-11-19T09:29:44.074931Z",
     "shell.execute_reply.started": "2021-11-19T09:29:43.916868Z"
    }
   },
   "outputs": [
    {
     "data": {
      "text/plain": [
       "<function matplotlib.pyplot.show(*args, **kw)>"
      ]
     },
     "execution_count": 46,
     "metadata": {},
     "output_type": "execute_result"
    },
    {
     "data": {
      "image/png": "[encoded data removed]",
      "text/plain": [
       "<Figure size 432x288 with 1 Axes>"
      ]
     },
     "metadata": {
      "needs_background": "light"
     },
     "output_type": "display_data"
    }
   ],
   "source": [
    "sns.boxplot(x= df['price'], color='y')\n",
    "plt.show"
   ]
  },
  {
   "cell_type": "code",
   "execution_count": 47,
   "metadata": {
    "execution": {
     "iopub.execute_input": "2021-11-19T09:29:57.238791Z",
     "iopub.status.busy": "2021-11-19T09:29:57.238478Z",
     "iopub.status.idle": "2021-11-19T09:29:57.486236Z",
     "shell.execute_reply": "2021-11-19T09:29:57.485386Z",
     "shell.execute_reply.started": "2021-11-19T09:29:57.238756Z"
    }
   },
   "outputs": [
    {
     "data": {
      "text/plain": [
       "<function matplotlib.pyplot.show(*args, **kw)>"
      ]
     },
     "execution_count": 47,
     "metadata": {},
     "output_type": "execute_result"
    },
    {
     "data": {
      "image/png": "[encoded data removed]",
      "text/plain": [
       "<Figure size 432x288 with 1 Axes>"
      ]
     },
     "metadata": {
      "needs_background": "light"
     },
     "output_type": "display_data"
    }
   ],
   "source": [
    "sns.distplot(df['price'], bins=10 ,kde = False, color='y')\n",
    "plt.show"
   ]
  },
  {
   "cell_type": "code",
   "execution_count": 48,
   "metadata": {
    "execution": {
     "iopub.execute_input": "2021-11-19T09:30:18.036814Z",
     "iopub.status.busy": "2021-11-19T09:30:18.036456Z",
     "iopub.status.idle": "2021-11-19T09:30:18.147454Z",
     "shell.execute_reply": "2021-11-19T09:30:18.146598Z",
     "shell.execute_reply.started": "2021-11-19T09:30:18.036782Z"
    }
   },
   "outputs": [
    {
     "data": {
      "text/html": [
       "<div>\n",
       "<style scoped>\n",
       "    .dataframe tbody tr th:only-of-type {\n",
       "        vertical-align: middle;\n",
       "    }\n",
       "\n",
       "    .dataframe tbody tr th {\n",
       "        vertical-align: top;\n",
       "    }\n",
       "\n",
       "    .dataframe thead th {\n",
       "        text-align: right;\n",
       "    }\n",
       "</style>\n",
       "<table border=\"1\" class=\"dataframe\">\n",
       "  <thead>\n",
       "    <tr style=\"text-align: right;\">\n",
       "      <th></th>\n",
       "      <th>manufacturer</th>\n",
       "      <th>cylinders</th>\n",
       "      <th>fuel</th>\n",
       "      <th>title_status</th>\n",
       "      <th>transmission</th>\n",
       "      <th>drive</th>\n",
       "      <th>type</th>\n",
       "      <th>paint_color</th>\n",
       "      <th>condition</th>\n",
       "      <th>year</th>\n",
       "      <th>posting_date</th>\n",
       "      <th>state</th>\n",
       "      <th>description</th>\n",
       "      <th>model</th>\n",
       "      <th>region</th>\n",
       "      <th>region_url</th>\n",
       "      <th>price</th>\n",
       "    </tr>\n",
       "  </thead>\n",
       "  <tbody>\n",
       "    <tr>\n",
       "      <th>0</th>\n",
       "      <td>ford</td>\n",
       "      <td>6 cylinders</td>\n",
       "      <td>gas</td>\n",
       "      <td>clean</td>\n",
       "      <td>automatic</td>\n",
       "      <td>4wd</td>\n",
       "      <td>sedan</td>\n",
       "      <td>white</td>\n",
       "      <td>good</td>\n",
       "      <td>nan</td>\n",
       "      <td>2021-04-23T22:13:05-0400</td>\n",
       "      <td>az</td>\n",
       "      <td>35 VEHICLES PRICED UNDER $3000!!!  BIG TIME! T...</td>\n",
       "      <td>f-150</td>\n",
       "      <td>prescott</td>\n",
       "      <td>https://prescott.craigslist.org</td>\n",
       "      <td>6000</td>\n",
       "    </tr>\n",
       "    <tr>\n",
       "      <th>1</th>\n",
       "      <td>ford</td>\n",
       "      <td>6 cylinders</td>\n",
       "      <td>gas</td>\n",
       "      <td>clean</td>\n",
       "      <td>automatic</td>\n",
       "      <td>4wd</td>\n",
       "      <td>sedan</td>\n",
       "      <td>white</td>\n",
       "      <td>good</td>\n",
       "      <td>nan</td>\n",
       "      <td>2021-04-23T22:13:05-0400</td>\n",
       "      <td>ar</td>\n",
       "      <td>35 VEHICLES PRICED UNDER $3000!!!  BIG TIME! T...</td>\n",
       "      <td>f-150</td>\n",
       "      <td>fayetteville</td>\n",
       "      <td>https://fayar.craigslist.org</td>\n",
       "      <td>11900</td>\n",
       "    </tr>\n",
       "    <tr>\n",
       "      <th>2</th>\n",
       "      <td>ford</td>\n",
       "      <td>6 cylinders</td>\n",
       "      <td>gas</td>\n",
       "      <td>clean</td>\n",
       "      <td>automatic</td>\n",
       "      <td>4wd</td>\n",
       "      <td>sedan</td>\n",
       "      <td>white</td>\n",
       "      <td>good</td>\n",
       "      <td>nan</td>\n",
       "      <td>2021-04-23T22:13:05-0400</td>\n",
       "      <td>fl</td>\n",
       "      <td>35 VEHICLES PRICED UNDER $3000!!!  BIG TIME! T...</td>\n",
       "      <td>f-150</td>\n",
       "      <td>florida keys</td>\n",
       "      <td>https://keys.craigslist.org</td>\n",
       "      <td>21000</td>\n",
       "    </tr>\n",
       "    <tr>\n",
       "      <th>3</th>\n",
       "      <td>ford</td>\n",
       "      <td>6 cylinders</td>\n",
       "      <td>gas</td>\n",
       "      <td>clean</td>\n",
       "      <td>automatic</td>\n",
       "      <td>4wd</td>\n",
       "      <td>sedan</td>\n",
       "      <td>white</td>\n",
       "      <td>good</td>\n",
       "      <td>nan</td>\n",
       "      <td>2021-04-23T22:13:05-0400</td>\n",
       "      <td>ma</td>\n",
       "      <td>35 VEHICLES PRICED UNDER $3000!!!  BIG TIME! T...</td>\n",
       "      <td>f-150</td>\n",
       "      <td>worcester / central MA</td>\n",
       "      <td>https://worcester.craigslist.org</td>\n",
       "      <td>1500</td>\n",
       "    </tr>\n",
       "    <tr>\n",
       "      <th>4</th>\n",
       "      <td>ford</td>\n",
       "      <td>6 cylinders</td>\n",
       "      <td>gas</td>\n",
       "      <td>clean</td>\n",
       "      <td>automatic</td>\n",
       "      <td>4wd</td>\n",
       "      <td>sedan</td>\n",
       "      <td>white</td>\n",
       "      <td>good</td>\n",
       "      <td>nan</td>\n",
       "      <td>2021-04-23T22:13:05-0400</td>\n",
       "      <td>nc</td>\n",
       "      <td>35 VEHICLES PRICED UNDER $3000!!!  BIG TIME! T...</td>\n",
       "      <td>f-150</td>\n",
       "      <td>greensboro</td>\n",
       "      <td>https://greensboro.craigslist.org</td>\n",
       "      <td>4900</td>\n",
       "    </tr>\n",
       "  </tbody>\n",
       "</table>\n",
       "</div>"
      ],
      "text/plain": [
       "  manufacturer    cylinders fuel title_status transmission drive   type  \\\n",
       "0         ford  6 cylinders  gas        clean    automatic   4wd  sedan   \n",
       "1         ford  6 cylinders  gas        clean    automatic   4wd  sedan   \n",
       "2         ford  6 cylinders  gas        clean    automatic   4wd  sedan   \n",
       "3         ford  6 cylinders  gas        clean    automatic   4wd  sedan   \n",
       "4         ford  6 cylinders  gas        clean    automatic   4wd  sedan   \n",
       "\n",
       "  paint_color condition year              posting_date state  \\\n",
       "0       white      good  nan  2021-04-23T22:13:05-0400    az   \n",
       "1       white      good  nan  2021-04-23T22:13:05-0400    ar   \n",
       "2       white      good  nan  2021-04-23T22:13:05-0400    fl   \n",
       "3       white      good  nan  2021-04-23T22:13:05-0400    ma   \n",
       "4       white      good  nan  2021-04-23T22:13:05-0400    nc   \n",
       "\n",
       "                                         description  model  \\\n",
       "0  35 VEHICLES PRICED UNDER $3000!!!  BIG TIME! T...  f-150   \n",
       "1  35 VEHICLES PRICED UNDER $3000!!!  BIG TIME! T...  f-150   \n",
       "2  35 VEHICLES PRICED UNDER $3000!!!  BIG TIME! T...  f-150   \n",
       "3  35 VEHICLES PRICED UNDER $3000!!!  BIG TIME! T...  f-150   \n",
       "4  35 VEHICLES PRICED UNDER $3000!!!  BIG TIME! T...  f-150   \n",
       "\n",
       "                   region                         region_url  price  \n",
       "0                prescott    https://prescott.craigslist.org   6000  \n",
       "1            fayetteville       https://fayar.craigslist.org  11900  \n",
       "2            florida keys        https://keys.craigslist.org  21000  \n",
       "3  worcester / central MA   https://worcester.craigslist.org   1500  \n",
       "4              greensboro  https://greensboro.craigslist.org   4900  "
      ]
     },
     "execution_count": 48,
     "metadata": {},
     "output_type": "execute_result"
    }
   ],
   "source": [
    "#drop column long lat and odometer because there is too many outliers.\n",
    "d_final = df2.drop(columns=['long', 'lat', 'odometer'])\n",
    "d_final.head()"
   ]
  },
  {
   "cell_type": "markdown",
   "metadata": {},
   "source": [
    "**Data Visualization**\n",
    "\n"
   ]
  },
  {
   "cell_type": "markdown",
   "metadata": {},
   "source": [
    "Data visualization refers to the techniques used to communicate data or information by encoding it as visual isation objects.\n",
    "\n"
   ]
  },
  {
   "cell_type": "code",
   "execution_count": 49,
   "metadata": {
    "execution": {
     "iopub.execute_input": "2021-11-19T09:30:32.280759Z",
     "iopub.status.busy": "2021-11-19T09:30:32.280131Z",
     "iopub.status.idle": "2021-11-19T09:30:32.582663Z",
     "shell.execute_reply": "2021-11-19T09:30:32.581874Z",
     "shell.execute_reply.started": "2021-11-19T09:30:32.280715Z"
    }
   },
   "outputs": [
    {
     "data": {
      "image/png": "[encoded data removed]",
      "text/plain": [
       "<Figure size 720x360 with 1 Axes>"
      ]
     },
     "metadata": {
      "needs_background": "light"
     },
     "output_type": "display_data"
    }
   ],
   "source": [
    "#1 For Category\n",
    "con=df['condition'].value_counts().head(30)\n",
    "plt.figure(figsize=(10,5))\n",
    "sns.barplot(con.index,con, color='y')\n",
    "plt.xticks(rotation=45,fontsize=15)\n",
    "plt.yticks(fontsize=15);\n",
    "plt.title('The condition of cars');"
   ]
  },
  {
   "cell_type": "markdown",
   "metadata": {},
   "source": [
    "Good condition the most condition of cars then excellent which is perfect for used cars conditions.\n",
    "\n"
   ]
  },
  {
   "cell_type": "code",
   "execution_count": 50,
   "metadata": {
    "execution": {
     "iopub.execute_input": "2021-11-19T09:30:46.759078Z",
     "iopub.status.busy": "2021-11-19T09:30:46.758229Z",
     "iopub.status.idle": "2021-11-19T09:30:47.076582Z",
     "shell.execute_reply": "2021-11-19T09:30:47.07578Z",
     "shell.execute_reply.started": "2021-11-19T09:30:46.759024Z"
    }
   },
   "outputs": [
    {
     "data": {
      "image/png": "[encoded data removed]",
      "text/plain": [
       "<Figure size 720x360 with 1 Axes>"
      ]
     },
     "metadata": {
      "needs_background": "light"
     },
     "output_type": "display_data"
    }
   ],
   "source": [
    "#2\n",
    "\n",
    "cl=df['cylinders'].value_counts().head(30)\n",
    "plt.figure(figsize=(10,5))\n",
    "sns.barplot(cl.index,cl ,color='y')\n",
    "plt.xticks(rotation=45,fontsize=15)\n",
    "plt.yticks(fontsize=15);\n",
    "plt.title('The cylinders of cars');"
   ]
  },
  {
   "cell_type": "markdown",
   "metadata": {},
   "source": [
    "The top cylinders is 6 cylinder, 4 cylinders and 8 cylinder while 12 cylinder not recommended in this case.\n",
    "\n"
   ]
  },
  {
   "cell_type": "code",
   "execution_count": 51,
   "metadata": {
    "execution": {
     "iopub.execute_input": "2021-11-19T09:31:07.39583Z",
     "iopub.status.busy": "2021-11-19T09:31:07.395386Z",
     "iopub.status.idle": "2021-11-19T09:31:07.7675Z",
     "shell.execute_reply": "2021-11-19T09:31:07.76659Z",
     "shell.execute_reply.started": "2021-11-19T09:31:07.395798Z"
    }
   },
   "outputs": [
    {
     "data": {
      "image/png": "[encoded data removed]",
      "text/plain": [
       "<Figure size 720x360 with 1 Axes>"
      ]
     },
     "metadata": {
      "needs_background": "light"
     },
     "output_type": "display_data"
    }
   ],
   "source": [
    "#3\n",
    "\n",
    "paint=df['paint_color'].value_counts().head(30)\n",
    "plt.figure(figsize=(10,5))\n",
    "sns.barplot(paint.index,paint, color='y')\n",
    "plt.xticks(rotation=45,fontsize=15)\n",
    "plt.yticks(fontsize=15);\n",
    "plt.title('The paint color of Cars');"
   ]
  },
  {
   "cell_type": "markdown",
   "metadata": {},
   "source": [
    "The top 3 for paint color of cars is White,Black and Silver.\n",
    "\n"
   ]
  },
  {
   "cell_type": "markdown",
   "metadata": {},
   "source": [
    "Questions :\n",
    "1. The most common manufacturers in dataset based on number of cars.\n",
    "2. The Highest Price Based on Types of Cars.\n",
    "3. 3-The most transmission type used based on manufacturer?"
   ]
  },
  {
   "cell_type": "code",
   "execution_count": 52,
   "metadata": {
    "execution": {
     "iopub.execute_input": "2021-11-19T09:32:22.5109Z",
     "iopub.status.busy": "2021-11-19T09:32:22.510339Z",
     "iopub.status.idle": "2021-11-19T09:32:23.378364Z",
     "shell.execute_reply": "2021-11-19T09:32:23.377501Z",
     "shell.execute_reply.started": "2021-11-19T09:32:22.510864Z"
    }
   },
   "outputs": [
    {
     "data": {
      "image/png": "[encoded data removed]",
      "text/plain": [
       "<Figure size 2500x1500 with 1 Axes>"
      ]
     },
     "metadata": {},
     "output_type": "display_data"
    }
   ],
   "source": [
    "# answe1\n",
    "manufacturers_counts = df['manufacturer'].value_counts().to_dict()\n",
    "fig = plt.figure(figsize=(25, 15), dpi= 100, facecolor='w', edgecolor='w')\n",
    "plt.bar(manufacturers_counts.keys(),manufacturers_counts.values(),color='y')\n",
    "plt.xticks(rotation = 90);\n",
    "plt.xlabel('Manufacturer');\n",
    "plt.ylabel('Number of cars on sale');"
   ]
  },
  {
   "cell_type": "markdown",
   "metadata": {},
   "source": [
    "The most frequent manufacturers in the top are : (Ford, Chevrolet, toyota, etc.)."
   ]
  },
  {
   "cell_type": "code",
   "execution_count": 53,
   "metadata": {
    "execution": {
     "iopub.execute_input": "2021-11-19T09:33:09.445038Z",
     "iopub.status.busy": "2021-11-19T09:33:09.444709Z",
     "iopub.status.idle": "2021-11-19T09:33:09.538528Z",
     "shell.execute_reply": "2021-11-19T09:33:09.537632Z",
     "shell.execute_reply.started": "2021-11-19T09:33:09.445002Z"
    }
   },
   "outputs": [
    {
     "data": {
      "text/html": [
       "<div>\n",
       "<style scoped>\n",
       "    .dataframe tbody tr th:only-of-type {\n",
       "        vertical-align: middle;\n",
       "    }\n",
       "\n",
       "    .dataframe tbody tr th {\n",
       "        vertical-align: top;\n",
       "    }\n",
       "\n",
       "    .dataframe thead th {\n",
       "        text-align: right;\n",
       "    }\n",
       "</style>\n",
       "<table border=\"1\" class=\"dataframe\">\n",
       "  <thead>\n",
       "    <tr style=\"text-align: right;\">\n",
       "      <th></th>\n",
       "      <th>price</th>\n",
       "    </tr>\n",
       "    <tr>\n",
       "      <th>type</th>\n",
       "      <th></th>\n",
       "    </tr>\n",
       "  </thead>\n",
       "  <tbody>\n",
       "    <tr>\n",
       "      <th>coupe</th>\n",
       "      <td>19609.527426</td>\n",
       "    </tr>\n",
       "    <tr>\n",
       "      <th>convertible</th>\n",
       "      <td>17007.190649</td>\n",
       "    </tr>\n",
       "    <tr>\n",
       "      <th>SUV</th>\n",
       "      <td>15498.444540</td>\n",
       "    </tr>\n",
       "    <tr>\n",
       "      <th>hatchback</th>\n",
       "      <td>14342.363055</td>\n",
       "    </tr>\n",
       "    <tr>\n",
       "      <th>bus</th>\n",
       "      <td>13764.279612</td>\n",
       "    </tr>\n",
       "  </tbody>\n",
       "</table>\n",
       "</div>"
      ],
      "text/plain": [
       "                    price\n",
       "type                     \n",
       "coupe        19609.527426\n",
       "convertible  17007.190649\n",
       "SUV          15498.444540\n",
       "hatchback    14342.363055\n",
       "bus          13764.279612"
      ]
     },
     "execution_count": 53,
     "metadata": {},
     "output_type": "execute_result"
    }
   ],
   "source": [
    "# answer 2\n",
    "joins = df[['manufacturer','type','price']]\n",
    "\n",
    "join_group =joins.groupby('type').mean().head(5).sort_values('price',ascending=False)\n",
    "\n",
    "\n",
    "join_group"
   ]
  },
  {
   "cell_type": "code",
   "execution_count": 54,
   "metadata": {
    "execution": {
     "iopub.execute_input": "2021-11-19T09:33:28.863492Z",
     "iopub.status.busy": "2021-11-19T09:33:28.862521Z",
     "iopub.status.idle": "2021-11-19T09:33:29.080006Z",
     "shell.execute_reply": "2021-11-19T09:33:29.079376Z",
     "shell.execute_reply.started": "2021-11-19T09:33:28.863437Z"
    }
   },
   "outputs": [
    {
     "data": {
      "image/png": "[encoded data removed]",
      "text/plain": [
       "<Figure size 864x432 with 1 Axes>"
      ]
     },
     "metadata": {
      "needs_background": "light"
     },
     "output_type": "display_data"
    }
   ],
   "source": [
    "plt.figure(figsize=(12,6))\n",
    "\n",
    "x=range(5)\n",
    "plt.bar(x,join_group['price'], color='y')\n",
    "plt.xticks(x,join_group.index)\n",
    "plt.xlabel('Type of Cars')\n",
    "plt.ylabel('Price')\n",
    "plt.title('5 Most Highest Price Based on Type of Cars')\n",
    "plt.show()"
   ]
  },
  {
   "cell_type": "markdown",
   "metadata": {},
   "source": [
    "The Coupe cars the most highest price after that Convertible cars while lowest price for bus type.\n",
    "\n"
   ]
  },
  {
   "cell_type": "code",
   "execution_count": 55,
   "metadata": {
    "execution": {
     "iopub.execute_input": "2021-11-19T09:34:14.092242Z",
     "iopub.status.busy": "2021-11-19T09:34:14.09171Z",
     "iopub.status.idle": "2021-11-19T09:34:14.688746Z",
     "shell.execute_reply": "2021-11-19T09:34:14.687845Z",
     "shell.execute_reply.started": "2021-11-19T09:34:14.09219Z"
    }
   },
   "outputs": [
    {
     "data": {
      "image/png": "[encoded data removed]",
      "text/plain": [
       "<Figure size 864x504 with 2 Axes>"
      ]
     },
     "metadata": {
      "needs_background": "light"
     },
     "output_type": "display_data"
    }
   ],
   "source": [
    "# answer 3\n",
    "\n",
    "trans_ser = df.groupby('manufacturer').transmission.value_counts()\n",
    "trans_ser_df = pd.DataFrame(trans_ser.unstack())\n",
    "\n",
    "plt.subplots(figsize=(12, 7))\n",
    "sns.heatmap(trans_ser_df,  cmap='gray_r', linecolor='olive',linewidth=1);"
   ]
  },
  {
   "cell_type": "markdown",
   "metadata": {},
   "source": [
    "The most Manufacturer used automatic transmission and no surprise in that.\n",
    "\n"
   ]
  },
  {
   "cell_type": "markdown",
   "metadata": {},
   "source": [
    "**Price of type of cars for each type of fuel.**"
   ]
  },
  {
   "cell_type": "code",
   "execution_count": 56,
   "metadata": {
    "execution": {
     "iopub.execute_input": "2021-11-19T09:34:51.438438Z",
     "iopub.status.busy": "2021-11-19T09:34:51.437781Z",
     "iopub.status.idle": "2021-11-19T09:34:52.503024Z",
     "shell.execute_reply": "2021-11-19T09:34:52.502198Z",
     "shell.execute_reply.started": "2021-11-19T09:34:51.438367Z"
    }
   },
   "outputs": [
    {
     "data": {
      "image/png": "[encoded data removed]",
      "text/plain": [
       "<Figure size 1080x720 with 1 Axes>"
      ]
     },
     "metadata": {
      "needs_background": "light"
     },
     "output_type": "display_data"
    }
   ],
   "source": [
    "try2=df[['type','fuel','price']][df['price']<=150000].groupby(['type','fuel']).mean()\n",
    "try2.reset_index(level=0,inplace=True)\n",
    "try2.reset_index(level=0,inplace=True)\n",
    "try2=try2.sort_values(['type','fuel'])\n",
    "plt.figure(figsize=(15,10))\n",
    "sns.barplot(x='type', y='price', hue='fuel', data=try2, color='y')\n",
    "plt.xticks(rotation=45,fontsize=20)\n",
    "plt.ylabel('price',fontsize=20)\n",
    "plt.legend(fontsize=20)\n",
    "plt.title('Price of type of cars for each type of fuel');"
   ]
  },
  {
   "cell_type": "markdown",
   "metadata": {},
   "source": [
    "Cars with different type of fuel and price for each type.\n",
    "\n"
   ]
  },
  {
   "cell_type": "markdown",
   "metadata": {},
   "source": [
    "If you want to buy a certain type of used car, chart above could help you to decide your decision So, those are some information we can obtain by doing this EDA.!"
   ]
  }
 ],
 "metadata": {
  "kernelspec": {
   "display_name": "Python 3",
   "language": "python",
   "name": "python3"
  },
  "language_info": {
   "codemirror_mode": {
    "name": "ipython",
    "version": 3
   },
   "file_extension": ".py",
   "mimetype": "text/x-python",
   "name": "python",
   "nbconvert_exporter": "python",
   "pygments_lexer": "ipython3",
   "version": "3.8.3"
  }
 },
 "nbformat": 4,
 "nbformat_minor": 4
}
