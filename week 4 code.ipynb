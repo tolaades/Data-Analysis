{
 "cells": [
  {
   "cell_type": "markdown",
   "metadata": {},
   "source": [
    "<h1> Import necessary libraries </h1>"
   ]
  },
  {
   "cell_type": "code",
   "execution_count": 1,
   "metadata": {},
   "outputs": [
    {
     "name": "stdout",
     "output_type": "stream",
     "text": [
      "Finished!\n"
     ]
    }
   ],
   "source": [
    "import pandas as pd \n",
    "import statsmodels.formula.api as sm\n",
    "from statsmodels.formula.api import ols\n",
    "import seaborn as sns\n",
    "\n",
    "print(\"Finished!\")"
   ]
  },
  {
   "cell_type": "markdown",
   "metadata": {},
   "source": [
    "<h1> Ingesting data </h1>"
   ]
  },
  {
   "cell_type": "code",
   "execution_count": 13,
   "metadata": {
    "scrolled": false
   },
   "outputs": [
    {
     "data": {
      "text/html": [
       "<div>\n",
       "<style scoped>\n",
       "    .dataframe tbody tr th:only-of-type {\n",
       "        vertical-align: middle;\n",
       "    }\n",
       "\n",
       "    .dataframe tbody tr th {\n",
       "        vertical-align: top;\n",
       "    }\n",
       "\n",
       "    .dataframe thead th {\n",
       "        text-align: right;\n",
       "    }\n",
       "</style>\n",
       "<table border=\"1\" class=\"dataframe\">\n",
       "  <thead>\n",
       "    <tr style=\"text-align: right;\">\n",
       "      <th></th>\n",
       "      <th>month</th>\n",
       "      <th>year</th>\n",
       "      <th>state</th>\n",
       "      <th>status</th>\n",
       "      <th>summary</th>\n",
       "      <th>score</th>\n",
       "      <th>likes</th>\n",
       "    </tr>\n",
       "  </thead>\n",
       "  <tbody>\n",
       "    <tr>\n",
       "      <th>0</th>\n",
       "      <td>Jun</td>\n",
       "      <td>2009</td>\n",
       "      <td>WA</td>\n",
       "      <td>Current Employee</td>\n",
       "      <td>10,000 Boats forming on HUGE company</td>\n",
       "      <td>4</td>\n",
       "      <td>0</td>\n",
       "    </tr>\n",
       "    <tr>\n",
       "      <th>1</th>\n",
       "      <td>Oct</td>\n",
       "      <td>2009</td>\n",
       "      <td>WA</td>\n",
       "      <td>Former Employee</td>\n",
       "      <td>A company in Denial</td>\n",
       "      <td>2</td>\n",
       "      <td>2</td>\n",
       "    </tr>\n",
       "    <tr>\n",
       "      <th>2</th>\n",
       "      <td>Jan</td>\n",
       "      <td>2009</td>\n",
       "      <td>CA</td>\n",
       "      <td>Former Employee</td>\n",
       "      <td>A different company than probably any you'll w...</td>\n",
       "      <td>3</td>\n",
       "      <td>6</td>\n",
       "    </tr>\n",
       "    <tr>\n",
       "      <th>3</th>\n",
       "      <td>Jan</td>\n",
       "      <td>2009</td>\n",
       "      <td>CA</td>\n",
       "      <td>Former Employee</td>\n",
       "      <td>A great company, but by no means perfect.</td>\n",
       "      <td>4</td>\n",
       "      <td>2</td>\n",
       "    </tr>\n",
       "    <tr>\n",
       "      <th>4</th>\n",
       "      <td>Jan</td>\n",
       "      <td>2009</td>\n",
       "      <td>WA</td>\n",
       "      <td>Current Employee</td>\n",
       "      <td>A learning experience...a stepping stone for s...</td>\n",
       "      <td>3</td>\n",
       "      <td>1</td>\n",
       "    </tr>\n",
       "    <tr>\n",
       "      <th>...</th>\n",
       "      <td>...</td>\n",
       "      <td>...</td>\n",
       "      <td>...</td>\n",
       "      <td>...</td>\n",
       "      <td>...</td>\n",
       "      <td>...</td>\n",
       "      <td>...</td>\n",
       "    </tr>\n",
       "    <tr>\n",
       "      <th>995</th>\n",
       "      <td>Apr</td>\n",
       "      <td>2018</td>\n",
       "      <td>TN</td>\n",
       "      <td>Current Employee</td>\n",
       "      <td>Ugh</td>\n",
       "      <td>3</td>\n",
       "      <td>1</td>\n",
       "    </tr>\n",
       "    <tr>\n",
       "      <th>996</th>\n",
       "      <td>Mar</td>\n",
       "      <td>2018</td>\n",
       "      <td>FL</td>\n",
       "      <td>Current Employee</td>\n",
       "      <td>Virtual Customer Service Rep</td>\n",
       "      <td>4</td>\n",
       "      <td>0</td>\n",
       "    </tr>\n",
       "    <tr>\n",
       "      <th>997</th>\n",
       "      <td>Apr</td>\n",
       "      <td>2018</td>\n",
       "      <td>CA</td>\n",
       "      <td>Current Employee</td>\n",
       "      <td>Ware house operations</td>\n",
       "      <td>4</td>\n",
       "      <td>0</td>\n",
       "    </tr>\n",
       "    <tr>\n",
       "      <th>998</th>\n",
       "      <td>May</td>\n",
       "      <td>2018</td>\n",
       "      <td>CA</td>\n",
       "      <td>Former Employee</td>\n",
       "      <td>Weaponization of culture</td>\n",
       "      <td>4</td>\n",
       "      <td>67</td>\n",
       "    </tr>\n",
       "    <tr>\n",
       "      <th>999</th>\n",
       "      <td>Sep</td>\n",
       "      <td>2018</td>\n",
       "      <td>KY</td>\n",
       "      <td>Current Employee</td>\n",
       "      <td>Work from Home</td>\n",
       "      <td>3</td>\n",
       "      <td>0</td>\n",
       "    </tr>\n",
       "  </tbody>\n",
       "</table>\n",
       "<p>1000 rows × 7 columns</p>\n",
       "</div>"
      ],
      "text/plain": [
       "    month  year state             status  \\\n",
       "0     Jun  2009    WA  Current Employee    \n",
       "1     Oct  2009    WA   Former Employee    \n",
       "2     Jan  2009    CA   Former Employee    \n",
       "3     Jan  2009    CA   Former Employee    \n",
       "4     Jan  2009    WA  Current Employee    \n",
       "..    ...   ...   ...                ...   \n",
       "995   Apr  2018    TN  Current Employee    \n",
       "996   Mar  2018    FL  Current Employee    \n",
       "997   Apr  2018    CA  Current Employee    \n",
       "998   May  2018    CA   Former Employee    \n",
       "999   Sep  2018    KY  Current Employee    \n",
       "\n",
       "                                               summary  score  likes  \n",
       "0                 10,000 Boats forming on HUGE company      4      0  \n",
       "1                                  A company in Denial      2      2  \n",
       "2    A different company than probably any you'll w...      3      6  \n",
       "3            A great company, but by no means perfect.      4      2  \n",
       "4    A learning experience...a stepping stone for s...      3      1  \n",
       "..                                                 ...    ...    ...  \n",
       "995                                                Ugh      3      1  \n",
       "996                       Virtual Customer Service Rep      4      0  \n",
       "997                              Ware house operations      4      0  \n",
       "998                           Weaponization of culture      4     67  \n",
       "999                                     Work from Home      3      0  \n",
       "\n",
       "[1000 rows x 7 columns]"
      ]
     },
     "execution_count": 13,
     "metadata": {},
     "output_type": "execute_result"
    }
   ],
   "source": [
    "# Read in data and create data frame; call it \"reviews\"\n",
    "reviews = pd.read_csv(\"company_reviews.csv\")\n",
    "reviews"
   ]
  },
  {
   "cell_type": "markdown",
   "metadata": {},
   "source": [
    "<h1> Linear regression </h1>"
   ]
  },
  {
   "cell_type": "code",
   "execution_count": 3,
   "metadata": {
    "scrolled": true
   },
   "outputs": [
    {
     "name": "stdout",
     "output_type": "stream",
     "text": [
      "month\n",
      "year\n",
      "state\n",
      "status\n",
      "summary\n",
      "score\n",
      "likes\n"
     ]
    }
   ],
   "source": [
    "# Print out all column names\n",
    "for col in reviews.columns: \n",
    "    print(col) "
   ]
  },
  {
   "cell_type": "code",
   "execution_count": 6,
   "metadata": {},
   "outputs": [],
   "source": [
    "# Choose your dependent variable (y) \n",
    "# Must be continuous for a linear regression\n",
    "# We'll use likes"
   ]
  },
  {
   "cell_type": "code",
   "execution_count": null,
   "metadata": {},
   "outputs": [],
   "source": [
    "# Choose your independent variables (x's)\n",
    "# Start with: status, month\n",
    "\n",
    "# What type are these?\n",
    "# Status = binomial categorical text --> need to convert to binomial categorical numeric?\n",
    "# Month = multinomial categorical text --> need to convert to dummies? \n",
    "\n",
    "# Maybe not... I'll show you a workaround"
   ]
  },
  {
   "cell_type": "code",
   "execution_count": 6,
   "metadata": {
    "scrolled": true
   },
   "outputs": [
    {
     "data": {
      "text/html": [
       "<table class=\"simpletable\">\n",
       "<caption>OLS Regression Results</caption>\n",
       "<tr>\n",
       "  <th>Dep. Variable:</th>          <td>likes</td>      <th>  R-squared:         </th> <td>   0.029</td>\n",
       "</tr>\n",
       "<tr>\n",
       "  <th>Model:</th>                   <td>OLS</td>       <th>  Adj. R-squared:    </th> <td>   0.017</td>\n",
       "</tr>\n",
       "<tr>\n",
       "  <th>Method:</th>             <td>Least Squares</td>  <th>  F-statistic:       </th> <td>   2.417</td>\n",
       "</tr>\n",
       "<tr>\n",
       "  <th>Date:</th>             <td>Fri, 29 Jan 2021</td> <th>  Prob (F-statistic):</th>  <td>0.00432</td>\n",
       "</tr>\n",
       "<tr>\n",
       "  <th>Time:</th>                 <td>18:08:10</td>     <th>  Log-Likelihood:    </th> <td> -2836.9</td>\n",
       "</tr>\n",
       "<tr>\n",
       "  <th>No. Observations:</th>      <td>  1000</td>      <th>  AIC:               </th> <td>   5700.</td>\n",
       "</tr>\n",
       "<tr>\n",
       "  <th>Df Residuals:</th>          <td>   987</td>      <th>  BIC:               </th> <td>   5764.</td>\n",
       "</tr>\n",
       "<tr>\n",
       "  <th>Df Model:</th>              <td>    12</td>      <th>                     </th>     <td> </td>   \n",
       "</tr>\n",
       "<tr>\n",
       "  <th>Covariance Type:</th>      <td>nonrobust</td>    <th>                     </th>     <td> </td>   \n",
       "</tr>\n",
       "</table>\n",
       "<table class=\"simpletable\">\n",
       "<tr>\n",
       "                <td></td>                   <th>coef</th>     <th>std err</th>      <th>t</th>      <th>P>|t|</th>  <th>[0.025</th>    <th>0.975]</th>  \n",
       "</tr>\n",
       "<tr>\n",
       "  <th>Intercept</th>                     <td>    1.9885</td> <td>    0.503</td> <td>    3.954</td> <td> 0.000</td> <td>    1.002</td> <td>    2.975</td>\n",
       "</tr>\n",
       "<tr>\n",
       "  <th>C(status)[T.Former Employee ]</th> <td>    1.0401</td> <td>    0.277</td> <td>    3.760</td> <td> 0.000</td> <td>    0.497</td> <td>    1.583</td>\n",
       "</tr>\n",
       "<tr>\n",
       "  <th>C(month)[T.Aug]</th>               <td>   -0.9237</td> <td>    0.644</td> <td>   -1.435</td> <td> 0.152</td> <td>   -2.187</td> <td>    0.340</td>\n",
       "</tr>\n",
       "<tr>\n",
       "  <th>C(month)[T.Dec]</th>               <td>   -0.5167</td> <td>    0.693</td> <td>   -0.745</td> <td> 0.456</td> <td>   -1.877</td> <td>    0.844</td>\n",
       "</tr>\n",
       "<tr>\n",
       "  <th>C(month)[T.Feb]</th>               <td>    0.0470</td> <td>    0.722</td> <td>    0.065</td> <td> 0.948</td> <td>   -1.369</td> <td>    1.463</td>\n",
       "</tr>\n",
       "<tr>\n",
       "  <th>C(month)[T.Jan]</th>               <td>   -0.6819</td> <td>    0.668</td> <td>   -1.021</td> <td> 0.307</td> <td>   -1.992</td> <td>    0.628</td>\n",
       "</tr>\n",
       "<tr>\n",
       "  <th>C(month)[T.Jul]</th>               <td>   -0.2232</td> <td>    0.695</td> <td>   -0.321</td> <td> 0.748</td> <td>   -1.586</td> <td>    1.140</td>\n",
       "</tr>\n",
       "<tr>\n",
       "  <th>C(month)[T.Jun]</th>               <td>   -0.8607</td> <td>    0.700</td> <td>   -1.230</td> <td> 0.219</td> <td>   -2.234</td> <td>    0.513</td>\n",
       "</tr>\n",
       "<tr>\n",
       "  <th>C(month)[T.Mar]</th>               <td>   -1.3275</td> <td>    0.664</td> <td>   -1.999</td> <td> 0.046</td> <td>   -2.630</td> <td>   -0.024</td>\n",
       "</tr>\n",
       "<tr>\n",
       "  <th>C(month)[T.May]</th>               <td>    0.3788</td> <td>    0.679</td> <td>    0.558</td> <td> 0.577</td> <td>   -0.953</td> <td>    1.711</td>\n",
       "</tr>\n",
       "<tr>\n",
       "  <th>C(month)[T.Nov]</th>               <td>   -0.4565</td> <td>    0.658</td> <td>   -0.693</td> <td> 0.488</td> <td>   -1.749</td> <td>    0.836</td>\n",
       "</tr>\n",
       "<tr>\n",
       "  <th>C(month)[T.Oct]</th>               <td>   -1.1704</td> <td>    0.663</td> <td>   -1.766</td> <td> 0.078</td> <td>   -2.471</td> <td>    0.130</td>\n",
       "</tr>\n",
       "<tr>\n",
       "  <th>C(month)[T.Sep]</th>               <td>   -0.8956</td> <td>    0.641</td> <td>   -1.397</td> <td> 0.163</td> <td>   -2.154</td> <td>    0.363</td>\n",
       "</tr>\n",
       "</table>\n",
       "<table class=\"simpletable\">\n",
       "<tr>\n",
       "  <th>Omnibus:</th>       <td>1310.208</td> <th>  Durbin-Watson:     </th>  <td>   2.063</td> \n",
       "</tr>\n",
       "<tr>\n",
       "  <th>Prob(Omnibus):</th>  <td> 0.000</td>  <th>  Jarque-Bera (JB):  </th> <td>251510.384</td>\n",
       "</tr>\n",
       "<tr>\n",
       "  <th>Skew:</th>           <td> 6.876</td>  <th>  Prob(JB):          </th>  <td>    0.00</td> \n",
       "</tr>\n",
       "<tr>\n",
       "  <th>Kurtosis:</th>       <td>79.466</td>  <th>  Cond. No.          </th>  <td>    15.0</td> \n",
       "</tr>\n",
       "</table><br/><br/>Notes:<br/>[1] Standard Errors assume that the covariance matrix of the errors is correctly specified."
      ],
      "text/plain": [
       "<class 'statsmodels.iolib.summary.Summary'>\n",
       "\"\"\"\n",
       "                            OLS Regression Results                            \n",
       "==============================================================================\n",
       "Dep. Variable:                  likes   R-squared:                       0.029\n",
       "Model:                            OLS   Adj. R-squared:                  0.017\n",
       "Method:                 Least Squares   F-statistic:                     2.417\n",
       "Date:                Fri, 29 Jan 2021   Prob (F-statistic):            0.00432\n",
       "Time:                        18:08:10   Log-Likelihood:                -2836.9\n",
       "No. Observations:                1000   AIC:                             5700.\n",
       "Df Residuals:                     987   BIC:                             5764.\n",
       "Df Model:                          12                                         \n",
       "Covariance Type:            nonrobust                                         \n",
       "=================================================================================================\n",
       "                                    coef    std err          t      P>|t|      [0.025      0.975]\n",
       "-------------------------------------------------------------------------------------------------\n",
       "Intercept                         1.9885      0.503      3.954      0.000       1.002       2.975\n",
       "C(status)[T.Former Employee ]     1.0401      0.277      3.760      0.000       0.497       1.583\n",
       "C(month)[T.Aug]                  -0.9237      0.644     -1.435      0.152      -2.187       0.340\n",
       "C(month)[T.Dec]                  -0.5167      0.693     -0.745      0.456      -1.877       0.844\n",
       "C(month)[T.Feb]                   0.0470      0.722      0.065      0.948      -1.369       1.463\n",
       "C(month)[T.Jan]                  -0.6819      0.668     -1.021      0.307      -1.992       0.628\n",
       "C(month)[T.Jul]                  -0.2232      0.695     -0.321      0.748      -1.586       1.140\n",
       "C(month)[T.Jun]                  -0.8607      0.700     -1.230      0.219      -2.234       0.513\n",
       "C(month)[T.Mar]                  -1.3275      0.664     -1.999      0.046      -2.630      -0.024\n",
       "C(month)[T.May]                   0.3788      0.679      0.558      0.577      -0.953       1.711\n",
       "C(month)[T.Nov]                  -0.4565      0.658     -0.693      0.488      -1.749       0.836\n",
       "C(month)[T.Oct]                  -1.1704      0.663     -1.766      0.078      -2.471       0.130\n",
       "C(month)[T.Sep]                  -0.8956      0.641     -1.397      0.163      -2.154       0.363\n",
       "==============================================================================\n",
       "Omnibus:                     1310.208   Durbin-Watson:                   2.063\n",
       "Prob(Omnibus):                  0.000   Jarque-Bera (JB):           251510.384\n",
       "Skew:                           6.876   Prob(JB):                         0.00\n",
       "Kurtosis:                      79.466   Cond. No.                         15.0\n",
       "==============================================================================\n",
       "\n",
       "Notes:\n",
       "[1] Standard Errors assume that the covariance matrix of the errors is correctly specified.\n",
       "\"\"\""
      ]
     },
     "execution_count": 6,
     "metadata": {},
     "output_type": "execute_result"
    }
   ],
   "source": [
    "# Run a linear regression using your \"y\" and \"x's\" and print output\n",
    "# Note that C() tells Python to treat those variables as categorical\n",
    "# Note also that Python omits one value from the output\n",
    "linear = ols('likes ~ C(status) + C(month)', data = reviews).fit() \n",
    "\n",
    "linear.summary()"
   ]
  },
  {
   "cell_type": "code",
   "execution_count": null,
   "metadata": {},
   "outputs": [],
   "source": [
    "# What if we didn't use the C() function?"
   ]
  },
  {
   "cell_type": "code",
   "execution_count": 26,
   "metadata": {},
   "outputs": [],
   "source": [
    "# Alternative: what if you wanted to test whether reviews made in the month of January were liked \n",
    "# more or less than all other months? "
   ]
  },
  {
   "cell_type": "code",
   "execution_count": 7,
   "metadata": {},
   "outputs": [],
   "source": [
    "# Month: dummies\n",
    "reviews = pd.get_dummies(reviews, columns=['month'])"
   ]
  },
  {
   "cell_type": "code",
   "execution_count": 8,
   "metadata": {},
   "outputs": [
    {
     "name": "stdout",
     "output_type": "stream",
     "text": [
      "year\n",
      "state\n",
      "status\n",
      "summary\n",
      "score\n",
      "likes\n",
      "month_Apr\n",
      "month_Aug\n",
      "month_Dec\n",
      "month_Feb\n",
      "month_Jan\n",
      "month_Jul\n",
      "month_Jun\n",
      "month_Mar\n",
      "month_May\n",
      "month_Nov\n",
      "month_Oct\n",
      "month_Sep\n"
     ]
    }
   ],
   "source": [
    "# Look at list of column names again -- scroll to bottom -- what happened?\n",
    "for col in reviews.columns: \n",
    "    print(col)"
   ]
  },
  {
   "cell_type": "code",
   "execution_count": 9,
   "metadata": {
    "scrolled": true
   },
   "outputs": [
    {
     "data": {
      "text/html": [
       "<table class=\"simpletable\">\n",
       "<caption>OLS Regression Results</caption>\n",
       "<tr>\n",
       "  <th>Dep. Variable:</th>          <td>likes</td>      <th>  R-squared:         </th> <td>   0.015</td>\n",
       "</tr>\n",
       "<tr>\n",
       "  <th>Model:</th>                   <td>OLS</td>       <th>  Adj. R-squared:    </th> <td>   0.013</td>\n",
       "</tr>\n",
       "<tr>\n",
       "  <th>Method:</th>             <td>Least Squares</td>  <th>  F-statistic:       </th> <td>   7.435</td>\n",
       "</tr>\n",
       "<tr>\n",
       "  <th>Date:</th>             <td>Fri, 29 Jan 2021</td> <th>  Prob (F-statistic):</th> <td>0.000623</td>\n",
       "</tr>\n",
       "<tr>\n",
       "  <th>Time:</th>                 <td>18:11:02</td>     <th>  Log-Likelihood:    </th> <td> -2843.9</td>\n",
       "</tr>\n",
       "<tr>\n",
       "  <th>No. Observations:</th>      <td>  1000</td>      <th>  AIC:               </th> <td>   5694.</td>\n",
       "</tr>\n",
       "<tr>\n",
       "  <th>Df Residuals:</th>          <td>   997</td>      <th>  BIC:               </th> <td>   5709.</td>\n",
       "</tr>\n",
       "<tr>\n",
       "  <th>Df Model:</th>              <td>     2</td>      <th>                     </th>     <td> </td>   \n",
       "</tr>\n",
       "<tr>\n",
       "  <th>Covariance Type:</th>      <td>nonrobust</td>    <th>                     </th>     <td> </td>   \n",
       "</tr>\n",
       "</table>\n",
       "<table class=\"simpletable\">\n",
       "<tr>\n",
       "                <td></td>                   <th>coef</th>     <th>std err</th>      <th>t</th>      <th>P>|t|</th>  <th>[0.025</th>    <th>0.975]</th>  \n",
       "</tr>\n",
       "<tr>\n",
       "  <th>Intercept</th>                     <td>    1.3921</td> <td>    0.168</td> <td>    8.279</td> <td> 0.000</td> <td>    1.062</td> <td>    1.722</td>\n",
       "</tr>\n",
       "<tr>\n",
       "  <th>C(status)[T.Former Employee ]</th> <td>    1.0627</td> <td>    0.276</td> <td>    3.854</td> <td> 0.000</td> <td>    0.522</td> <td>    1.604</td>\n",
       "</tr>\n",
       "<tr>\n",
       "  <th>C(month_Jan)[T.1]</th>             <td>   -0.0941</td> <td>    0.467</td> <td>   -0.201</td> <td> 0.841</td> <td>   -1.011</td> <td>    0.823</td>\n",
       "</tr>\n",
       "</table>\n",
       "<table class=\"simpletable\">\n",
       "<tr>\n",
       "  <th>Omnibus:</th>       <td>1326.938</td> <th>  Durbin-Watson:     </th>  <td>   2.056</td> \n",
       "</tr>\n",
       "<tr>\n",
       "  <th>Prob(Omnibus):</th>  <td> 0.000</td>  <th>  Jarque-Bera (JB):  </th> <td>267227.040</td>\n",
       "</tr>\n",
       "<tr>\n",
       "  <th>Skew:</th>           <td> 7.026</td>  <th>  Prob(JB):          </th>  <td>    0.00</td> \n",
       "</tr>\n",
       "<tr>\n",
       "  <th>Kurtosis:</th>       <td>81.841</td>  <th>  Cond. No.          </th>  <td>    3.84</td> \n",
       "</tr>\n",
       "</table><br/><br/>Notes:<br/>[1] Standard Errors assume that the covariance matrix of the errors is correctly specified."
      ],
      "text/plain": [
       "<class 'statsmodels.iolib.summary.Summary'>\n",
       "\"\"\"\n",
       "                            OLS Regression Results                            \n",
       "==============================================================================\n",
       "Dep. Variable:                  likes   R-squared:                       0.015\n",
       "Model:                            OLS   Adj. R-squared:                  0.013\n",
       "Method:                 Least Squares   F-statistic:                     7.435\n",
       "Date:                Fri, 29 Jan 2021   Prob (F-statistic):           0.000623\n",
       "Time:                        18:11:02   Log-Likelihood:                -2843.9\n",
       "No. Observations:                1000   AIC:                             5694.\n",
       "Df Residuals:                     997   BIC:                             5709.\n",
       "Df Model:                           2                                         \n",
       "Covariance Type:            nonrobust                                         \n",
       "=================================================================================================\n",
       "                                    coef    std err          t      P>|t|      [0.025      0.975]\n",
       "-------------------------------------------------------------------------------------------------\n",
       "Intercept                         1.3921      0.168      8.279      0.000       1.062       1.722\n",
       "C(status)[T.Former Employee ]     1.0627      0.276      3.854      0.000       0.522       1.604\n",
       "C(month_Jan)[T.1]                -0.0941      0.467     -0.201      0.841      -1.011       0.823\n",
       "==============================================================================\n",
       "Omnibus:                     1326.938   Durbin-Watson:                   2.056\n",
       "Prob(Omnibus):                  0.000   Jarque-Bera (JB):           267227.040\n",
       "Skew:                           7.026   Prob(JB):                         0.00\n",
       "Kurtosis:                      81.841   Cond. No.                         3.84\n",
       "==============================================================================\n",
       "\n",
       "Notes:\n",
       "[1] Standard Errors assume that the covariance matrix of the errors is correctly specified.\n",
       "\"\"\""
      ]
     },
     "execution_count": 9,
     "metadata": {},
     "output_type": "execute_result"
    }
   ],
   "source": [
    "# Re-run your regression with the month_Jan only\n",
    "linear_jan = ols('likes ~ C(status) + C(month_Jan)', data = reviews).fit() \n",
    "\n",
    "linear_jan.summary()"
   ]
  },
  {
   "cell_type": "code",
   "execution_count": 10,
   "metadata": {
    "scrolled": true
   },
   "outputs": [
    {
     "data": {
      "text/html": [
       "<table class=\"simpletable\">\n",
       "<caption>OLS Regression Results</caption>\n",
       "<tr>\n",
       "  <th>Dep. Variable:</th>          <td>likes</td>      <th>  R-squared:         </th> <td>   0.071</td>\n",
       "</tr>\n",
       "<tr>\n",
       "  <th>Model:</th>                   <td>OLS</td>       <th>  Adj. R-squared:    </th> <td>   0.070</td>\n",
       "</tr>\n",
       "<tr>\n",
       "  <th>Method:</th>             <td>Least Squares</td>  <th>  F-statistic:       </th> <td>   75.76</td>\n",
       "</tr>\n",
       "<tr>\n",
       "  <th>Date:</th>             <td>Fri, 29 Jan 2021</td> <th>  Prob (F-statistic):</th> <td>1.31e-17</td>\n",
       "</tr>\n",
       "<tr>\n",
       "  <th>Time:</th>                 <td>18:13:53</td>     <th>  Log-Likelihood:    </th> <td> -2814.8</td>\n",
       "</tr>\n",
       "<tr>\n",
       "  <th>No. Observations:</th>      <td>  1000</td>      <th>  AIC:               </th> <td>   5634.</td>\n",
       "</tr>\n",
       "<tr>\n",
       "  <th>Df Residuals:</th>          <td>   998</td>      <th>  BIC:               </th> <td>   5643.</td>\n",
       "</tr>\n",
       "<tr>\n",
       "  <th>Df Model:</th>              <td>     1</td>      <th>                     </th>     <td> </td>   \n",
       "</tr>\n",
       "<tr>\n",
       "  <th>Covariance Type:</th>      <td>nonrobust</td>    <th>                     </th>     <td> </td>   \n",
       "</tr>\n",
       "</table>\n",
       "<table class=\"simpletable\">\n",
       "<tr>\n",
       "      <td></td>         <th>coef</th>     <th>std err</th>      <th>t</th>      <th>P>|t|</th>  <th>[0.025</th>    <th>0.975]</th>  \n",
       "</tr>\n",
       "<tr>\n",
       "  <th>Intercept</th> <td>    5.4951</td> <td>    0.448</td> <td>   12.266</td> <td> 0.000</td> <td>    4.616</td> <td>    6.374</td>\n",
       "</tr>\n",
       "<tr>\n",
       "  <th>score</th>     <td>   -1.0611</td> <td>    0.122</td> <td>   -8.704</td> <td> 0.000</td> <td>   -1.300</td> <td>   -0.822</td>\n",
       "</tr>\n",
       "</table>\n",
       "<table class=\"simpletable\">\n",
       "<tr>\n",
       "  <th>Omnibus:</th>       <td>1360.080</td> <th>  Durbin-Watson:     </th>  <td>   2.048</td> \n",
       "</tr>\n",
       "<tr>\n",
       "  <th>Prob(Omnibus):</th>  <td> 0.000</td>  <th>  Jarque-Bera (JB):  </th> <td>335881.154</td>\n",
       "</tr>\n",
       "<tr>\n",
       "  <th>Skew:</th>           <td> 7.275</td>  <th>  Prob(JB):          </th>  <td>    0.00</td> \n",
       "</tr>\n",
       "<tr>\n",
       "  <th>Kurtosis:</th>       <td>91.597</td>  <th>  Cond. No.          </th>  <td>    13.8</td> \n",
       "</tr>\n",
       "</table><br/><br/>Notes:<br/>[1] Standard Errors assume that the covariance matrix of the errors is correctly specified."
      ],
      "text/plain": [
       "<class 'statsmodels.iolib.summary.Summary'>\n",
       "\"\"\"\n",
       "                            OLS Regression Results                            \n",
       "==============================================================================\n",
       "Dep. Variable:                  likes   R-squared:                       0.071\n",
       "Model:                            OLS   Adj. R-squared:                  0.070\n",
       "Method:                 Least Squares   F-statistic:                     75.76\n",
       "Date:                Fri, 29 Jan 2021   Prob (F-statistic):           1.31e-17\n",
       "Time:                        18:13:53   Log-Likelihood:                -2814.8\n",
       "No. Observations:                1000   AIC:                             5634.\n",
       "Df Residuals:                     998   BIC:                             5643.\n",
       "Df Model:                           1                                         \n",
       "Covariance Type:            nonrobust                                         \n",
       "==============================================================================\n",
       "                 coef    std err          t      P>|t|      [0.025      0.975]\n",
       "------------------------------------------------------------------------------\n",
       "Intercept      5.4951      0.448     12.266      0.000       4.616       6.374\n",
       "score         -1.0611      0.122     -8.704      0.000      -1.300      -0.822\n",
       "==============================================================================\n",
       "Omnibus:                     1360.080   Durbin-Watson:                   2.048\n",
       "Prob(Omnibus):                  0.000   Jarque-Bera (JB):           335881.154\n",
       "Skew:                           7.275   Prob(JB):                         0.00\n",
       "Kurtosis:                      91.597   Cond. No.                         13.8\n",
       "==============================================================================\n",
       "\n",
       "Notes:\n",
       "[1] Standard Errors assume that the covariance matrix of the errors is correctly specified.\n",
       "\"\"\""
      ]
     },
     "execution_count": 10,
     "metadata": {},
     "output_type": "execute_result"
    }
   ],
   "source": [
    "# What about the relationship between likes and score?  Treat score as continuous.\n",
    "# Re-run your regression with score as your x \n",
    "linear_score = ols('likes ~ score', data = reviews).fit() \n",
    "\n",
    "linear_score.summary()"
   ]
  },
  {
   "cell_type": "code",
   "execution_count": 94,
   "metadata": {
    "scrolled": true
   },
   "outputs": [
    {
     "data": {
      "text/plain": [
       "<AxesSubplot:xlabel='score', ylabel='likes'>"
      ]
     },
     "execution_count": 94,
     "metadata": {},
     "output_type": "execute_result"
    },
    {
     "data": {
      "image/png": "[encoded data removed]",
      "text/plain": [
       "<Figure size 432x288 with 1 Axes>"
      ]
     },
     "metadata": {
      "needs_background": "light"
     },
     "output_type": "display_data"
    }
   ],
   "source": [
    "# Generate a regression plot to see what's happening\n",
    "# [doesn't look as nice with categorical-ish x's]\n",
    "\n",
    "sns.regplot(x = 'score', y = 'likes', data = reviews)"
   ]
  },
  {
   "cell_type": "markdown",
   "metadata": {},
   "source": [
    "<h1> Logistic regression </h1>"
   ]
  },
  {
   "cell_type": "code",
   "execution_count": null,
   "metadata": {},
   "outputs": [],
   "source": [
    "# Choose your dependent variable (y) \n",
    "# Must be a categorial binary/binomial variable for a logistic regression\n",
    "# We'll use status"
   ]
  },
  {
   "cell_type": "code",
   "execution_count": null,
   "metadata": {},
   "outputs": [],
   "source": [
    "# What type is this?\n",
    "# Status = binomial categorical text --> need to convert to binomial categorical numeric?  Yes."
   ]
  },
  {
   "cell_type": "code",
   "execution_count": 15,
   "metadata": {},
   "outputs": [],
   "source": [
    "# Converting categorical text to categorical numbers; use 0/1 this time \n",
    "# Create a dictionary\n",
    "status_dict = {'Former Employee': 0,'Former Employee ': 0,'Current Employee': 1, 'Current Employee ':1} \n",
    "reviews['status_num'] = [status_dict[item] for item in reviews.status]"
   ]
  },
  {
   "cell_type": "code",
   "execution_count": null,
   "metadata": {},
   "outputs": [],
   "source": [
    "# Choose your independent variables (x's): score (as continuous), month\n",
    "\n",
    "# What type are these?\n",
    "# Score = continuous; ok as is\n",
    "# Month = multinomial categorical text --> can handle with C() in logistic regression formula"
   ]
  },
  {
   "cell_type": "code",
   "execution_count": 16,
   "metadata": {
    "scrolled": true
   },
   "outputs": [
    {
     "name": "stdout",
     "output_type": "stream",
     "text": [
      "Optimization terminated successfully.\n",
      "         Current function value: 0.632956\n",
      "         Iterations 5\n"
     ]
    },
    {
     "data": {
      "text/html": [
       "<table class=\"simpletable\">\n",
       "<caption>Logit Regression Results</caption>\n",
       "<tr>\n",
       "  <th>Dep. Variable:</th>      <td>status_num</td>    <th>  No. Observations:  </th>  <td>  1000</td> \n",
       "</tr>\n",
       "<tr>\n",
       "  <th>Model:</th>                 <td>Logit</td>      <th>  Df Residuals:      </th>  <td>   987</td> \n",
       "</tr>\n",
       "<tr>\n",
       "  <th>Method:</th>                 <td>MLE</td>       <th>  Df Model:          </th>  <td>    12</td> \n",
       "</tr>\n",
       "<tr>\n",
       "  <th>Date:</th>            <td>Fri, 29 Jan 2021</td> <th>  Pseudo R-squ.:     </th>  <td>0.02423</td>\n",
       "</tr>\n",
       "<tr>\n",
       "  <th>Time:</th>                <td>18:25:47</td>     <th>  Log-Likelihood:    </th> <td> -632.96</td>\n",
       "</tr>\n",
       "<tr>\n",
       "  <th>converged:</th>             <td>True</td>       <th>  LL-Null:           </th> <td> -648.68</td>\n",
       "</tr>\n",
       "<tr>\n",
       "  <th>Covariance Type:</th>     <td>nonrobust</td>    <th>  LLR p-value:       </th> <td>0.001687</td>\n",
       "</tr>\n",
       "</table>\n",
       "<table class=\"simpletable\">\n",
       "<tr>\n",
       "         <td></td>            <th>coef</th>     <th>std err</th>      <th>z</th>      <th>P>|z|</th>  <th>[0.025</th>    <th>0.975]</th>  \n",
       "</tr>\n",
       "<tr>\n",
       "  <th>Intercept</th>       <td>   -0.0803</td> <td>    0.343</td> <td>   -0.234</td> <td> 0.815</td> <td>   -0.753</td> <td>    0.593</td>\n",
       "</tr>\n",
       "<tr>\n",
       "  <th>C(month)[T.Aug]</th> <td>   -0.2659</td> <td>    0.343</td> <td>   -0.775</td> <td> 0.438</td> <td>   -0.938</td> <td>    0.406</td>\n",
       "</tr>\n",
       "<tr>\n",
       "  <th>C(month)[T.Dec]</th> <td>   -0.3322</td> <td>    0.362</td> <td>   -0.916</td> <td> 0.359</td> <td>   -1.043</td> <td>    0.378</td>\n",
       "</tr>\n",
       "<tr>\n",
       "  <th>C(month)[T.Feb]</th> <td>   -0.1390</td> <td>    0.386</td> <td>   -0.361</td> <td> 0.718</td> <td>   -0.895</td> <td>    0.617</td>\n",
       "</tr>\n",
       "<tr>\n",
       "  <th>C(month)[T.Jan]</th> <td>   -0.5011</td> <td>    0.349</td> <td>   -1.434</td> <td> 0.152</td> <td>   -1.186</td> <td>    0.184</td>\n",
       "</tr>\n",
       "<tr>\n",
       "  <th>C(month)[T.Jul]</th> <td>   -0.7457</td> <td>    0.357</td> <td>   -2.088</td> <td> 0.037</td> <td>   -1.446</td> <td>   -0.046</td>\n",
       "</tr>\n",
       "<tr>\n",
       "  <th>C(month)[T.Jun]</th> <td>   -0.1814</td> <td>    0.371</td> <td>   -0.490</td> <td> 0.624</td> <td>   -0.908</td> <td>    0.545</td>\n",
       "</tr>\n",
       "<tr>\n",
       "  <th>C(month)[T.Mar]</th> <td>   -0.1794</td> <td>    0.352</td> <td>   -0.510</td> <td> 0.610</td> <td>   -0.869</td> <td>    0.510</td>\n",
       "</tr>\n",
       "<tr>\n",
       "  <th>C(month)[T.May]</th> <td>   -0.4315</td> <td>    0.354</td> <td>   -1.220</td> <td> 0.223</td> <td>   -1.125</td> <td>    0.262</td>\n",
       "</tr>\n",
       "<tr>\n",
       "  <th>C(month)[T.Nov]</th> <td>   -0.6245</td> <td>    0.343</td> <td>   -1.821</td> <td> 0.069</td> <td>   -1.296</td> <td>    0.047</td>\n",
       "</tr>\n",
       "<tr>\n",
       "  <th>C(month)[T.Oct]</th> <td>   -0.4407</td> <td>    0.347</td> <td>   -1.271</td> <td> 0.204</td> <td>   -1.120</td> <td>    0.239</td>\n",
       "</tr>\n",
       "<tr>\n",
       "  <th>C(month)[T.Sep]</th> <td>   -0.0687</td> <td>    0.344</td> <td>   -0.200</td> <td> 0.842</td> <td>   -0.743</td> <td>    0.606</td>\n",
       "</tr>\n",
       "<tr>\n",
       "  <th>score</th>           <td>    0.2948</td> <td>    0.065</td> <td>    4.539</td> <td> 0.000</td> <td>    0.167</td> <td>    0.422</td>\n",
       "</tr>\n",
       "</table>"
      ],
      "text/plain": [
       "<class 'statsmodels.iolib.summary.Summary'>\n",
       "\"\"\"\n",
       "                           Logit Regression Results                           \n",
       "==============================================================================\n",
       "Dep. Variable:             status_num   No. Observations:                 1000\n",
       "Model:                          Logit   Df Residuals:                      987\n",
       "Method:                           MLE   Df Model:                           12\n",
       "Date:                Fri, 29 Jan 2021   Pseudo R-squ.:                 0.02423\n",
       "Time:                        18:25:47   Log-Likelihood:                -632.96\n",
       "converged:                       True   LL-Null:                       -648.68\n",
       "Covariance Type:            nonrobust   LLR p-value:                  0.001687\n",
       "===================================================================================\n",
       "                      coef    std err          z      P>|z|      [0.025      0.975]\n",
       "-----------------------------------------------------------------------------------\n",
       "Intercept          -0.0803      0.343     -0.234      0.815      -0.753       0.593\n",
       "C(month)[T.Aug]    -0.2659      0.343     -0.775      0.438      -0.938       0.406\n",
       "C(month)[T.Dec]    -0.3322      0.362     -0.916      0.359      -1.043       0.378\n",
       "C(month)[T.Feb]    -0.1390      0.386     -0.361      0.718      -0.895       0.617\n",
       "C(month)[T.Jan]    -0.5011      0.349     -1.434      0.152      -1.186       0.184\n",
       "C(month)[T.Jul]    -0.7457      0.357     -2.088      0.037      -1.446      -0.046\n",
       "C(month)[T.Jun]    -0.1814      0.371     -0.490      0.624      -0.908       0.545\n",
       "C(month)[T.Mar]    -0.1794      0.352     -0.510      0.610      -0.869       0.510\n",
       "C(month)[T.May]    -0.4315      0.354     -1.220      0.223      -1.125       0.262\n",
       "C(month)[T.Nov]    -0.6245      0.343     -1.821      0.069      -1.296       0.047\n",
       "C(month)[T.Oct]    -0.4407      0.347     -1.271      0.204      -1.120       0.239\n",
       "C(month)[T.Sep]    -0.0687      0.344     -0.200      0.842      -0.743       0.606\n",
       "score               0.2948      0.065      4.539      0.000       0.167       0.422\n",
       "===================================================================================\n",
       "\"\"\""
      ]
     },
     "execution_count": 16,
     "metadata": {},
     "output_type": "execute_result"
    }
   ],
   "source": [
    "# Run the regression\n",
    "logit = sm.logit('status_num ~ score + C(month)', data=reviews).fit()  \n",
    "logit.summary()"
   ]
  },
  {
   "cell_type": "code",
   "execution_count": 17,
   "metadata": {
    "scrolled": true
   },
   "outputs": [
    {
     "data": {
      "text/html": [
       "<table class=\"simpletable\">\n",
       "<caption>Logit Marginal Effects</caption>\n",
       "<tr>\n",
       "  <th>Dep. Variable:</th> <td>status_num</td>\n",
       "</tr>\n",
       "<tr>\n",
       "  <th>Method:</th>           <td>dydx</td>   \n",
       "</tr>\n",
       "<tr>\n",
       "  <th>At:</th>              <td>overall</td> \n",
       "</tr>\n",
       "</table>\n",
       "<table class=\"simpletable\">\n",
       "<tr>\n",
       "         <th></th>            <th>dy/dx</th>    <th>std err</th>      <th>z</th>      <th>P>|z|</th>  <th>[0.025</th>    <th>0.975]</th>  \n",
       "</tr>\n",
       "<tr>\n",
       "  <th>C(month)[T.Aug]</th> <td>   -0.0587</td> <td>    0.076</td> <td>   -0.776</td> <td> 0.438</td> <td>   -0.207</td> <td>    0.090</td>\n",
       "</tr>\n",
       "<tr>\n",
       "  <th>C(month)[T.Dec]</th> <td>   -0.0734</td> <td>    0.080</td> <td>   -0.918</td> <td> 0.359</td> <td>   -0.230</td> <td>    0.083</td>\n",
       "</tr>\n",
       "<tr>\n",
       "  <th>C(month)[T.Feb]</th> <td>   -0.0307</td> <td>    0.085</td> <td>   -0.361</td> <td> 0.718</td> <td>   -0.198</td> <td>    0.136</td>\n",
       "</tr>\n",
       "<tr>\n",
       "  <th>C(month)[T.Jan]</th> <td>   -0.1107</td> <td>    0.077</td> <td>   -1.439</td> <td> 0.150</td> <td>   -0.261</td> <td>    0.040</td>\n",
       "</tr>\n",
       "<tr>\n",
       "  <th>C(month)[T.Jul]</th> <td>   -0.1648</td> <td>    0.078</td> <td>   -2.105</td> <td> 0.035</td> <td>   -0.318</td> <td>   -0.011</td>\n",
       "</tr>\n",
       "<tr>\n",
       "  <th>C(month)[T.Jun]</th> <td>   -0.0401</td> <td>    0.082</td> <td>   -0.490</td> <td> 0.624</td> <td>   -0.200</td> <td>    0.120</td>\n",
       "</tr>\n",
       "<tr>\n",
       "  <th>C(month)[T.Mar]</th> <td>   -0.0396</td> <td>    0.078</td> <td>   -0.510</td> <td> 0.610</td> <td>   -0.192</td> <td>    0.113</td>\n",
       "</tr>\n",
       "<tr>\n",
       "  <th>C(month)[T.May]</th> <td>   -0.0953</td> <td>    0.078</td> <td>   -1.223</td> <td> 0.221</td> <td>   -0.248</td> <td>    0.057</td>\n",
       "</tr>\n",
       "<tr>\n",
       "  <th>C(month)[T.Nov]</th> <td>   -0.1380</td> <td>    0.075</td> <td>   -1.832</td> <td> 0.067</td> <td>   -0.286</td> <td>    0.010</td>\n",
       "</tr>\n",
       "<tr>\n",
       "  <th>C(month)[T.Oct]</th> <td>   -0.0974</td> <td>    0.076</td> <td>   -1.275</td> <td> 0.202</td> <td>   -0.247</td> <td>    0.052</td>\n",
       "</tr>\n",
       "<tr>\n",
       "  <th>C(month)[T.Sep]</th> <td>   -0.0152</td> <td>    0.076</td> <td>   -0.200</td> <td> 0.842</td> <td>   -0.164</td> <td>    0.134</td>\n",
       "</tr>\n",
       "<tr>\n",
       "  <th>score</th>           <td>    0.0651</td> <td>    0.014</td> <td>    4.719</td> <td> 0.000</td> <td>    0.038</td> <td>    0.092</td>\n",
       "</tr>\n",
       "</table>"
      ],
      "text/plain": [
       "<class 'statsmodels.iolib.summary.Summary'>\n",
       "\"\"\"\n",
       "        Logit Marginal Effects       \n",
       "=====================================\n",
       "Dep. Variable:             status_num\n",
       "Method:                          dydx\n",
       "At:                           overall\n",
       "===================================================================================\n",
       "                     dy/dx    std err          z      P>|z|      [0.025      0.975]\n",
       "-----------------------------------------------------------------------------------\n",
       "C(month)[T.Aug]    -0.0587      0.076     -0.776      0.438      -0.207       0.090\n",
       "C(month)[T.Dec]    -0.0734      0.080     -0.918      0.359      -0.230       0.083\n",
       "C(month)[T.Feb]    -0.0307      0.085     -0.361      0.718      -0.198       0.136\n",
       "C(month)[T.Jan]    -0.1107      0.077     -1.439      0.150      -0.261       0.040\n",
       "C(month)[T.Jul]    -0.1648      0.078     -2.105      0.035      -0.318      -0.011\n",
       "C(month)[T.Jun]    -0.0401      0.082     -0.490      0.624      -0.200       0.120\n",
       "C(month)[T.Mar]    -0.0396      0.078     -0.510      0.610      -0.192       0.113\n",
       "C(month)[T.May]    -0.0953      0.078     -1.223      0.221      -0.248       0.057\n",
       "C(month)[T.Nov]    -0.1380      0.075     -1.832      0.067      -0.286       0.010\n",
       "C(month)[T.Oct]    -0.0974      0.076     -1.275      0.202      -0.247       0.052\n",
       "C(month)[T.Sep]    -0.0152      0.076     -0.200      0.842      -0.164       0.134\n",
       "score               0.0651      0.014      4.719      0.000       0.038       0.092\n",
       "===================================================================================\n",
       "\"\"\""
      ]
     },
     "execution_count": 17,
     "metadata": {},
     "output_type": "execute_result"
    }
   ],
   "source": [
    "# Calculate marginal effects instead of log odds for the coefficients\n",
    "logit.get_margeff().summary()"
   ]
  },
  {
   "cell_type": "code",
   "execution_count": null,
   "metadata": {},
   "outputs": [],
   "source": []
  }
 ],
 "metadata": {
  "kernelspec": {
   "display_name": "Python 3",
   "language": "python",
   "name": "python3"
  },
  "language_info": {
   "codemirror_mode": {
    "name": "ipython",
    "version": 3
   },
   "file_extension": ".py",
   "mimetype": "text/x-python",
   "name": "python",
   "nbconvert_exporter": "python",
   "pygments_lexer": "ipython3",
   "version": "3.8.5"
  }
 },
 "nbformat": 4,
 "nbformat_minor": 4
}
