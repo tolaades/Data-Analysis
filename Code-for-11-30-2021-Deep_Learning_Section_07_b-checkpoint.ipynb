{
 "cells": [
  {
   "cell_type": "code",
   "execution_count": null,
   "metadata": {},
   "outputs": [],
   "source": [
    "### https://keras.io/examples/rl/actor_critic_cartpole/"
   ]
  },
  {
   "cell_type": "markdown",
   "metadata": {
    "id": "Bi23mIz-jk1y"
   },
   "source": [
    "## Setup\n"
   ]
  },
  {
   "cell_type": "code",
   "execution_count": 1,
   "metadata": {
    "id": "qiSshwXbjk1z"
   },
   "outputs": [],
   "source": [
    "import gym\n",
    "import numpy as np\n",
    "import tensorflow as tf\n",
    "from tensorflow import keras\n",
    "from tensorflow.keras import layers\n",
    "\n",
    "# Configuration parameters for the whole setup\n",
    "seed = 42\n",
    "gamma = 0.99  # Discount factor for past rewards\n",
    "max_steps_per_episode = 10000\n",
    "env = gym.make(\"CartPole-v0\")  # Create the environment\n",
    "env.seed(seed)\n",
    "eps = np.finfo(np.float32).eps.item()  # Smallest number such that 1.0 + eps != 1.0\n"
   ]
  },
  {
   "cell_type": "markdown",
   "metadata": {
    "id": "SC3Eg7oijk11"
   },
   "source": [
    "## Implement Actor Critic network\n",
    "\n",
    "This network learns two functions:\n",
    "\n",
    "1. Actor: This takes as input the state of our environment and returns a\n",
    "probability value for each action in its action space.\n",
    "2. Critic: This takes as input the state of our environment and returns\n",
    "an estimate of total rewards in the future.\n",
    "\n",
    "In our implementation, they share the initial layer.\n"
   ]
  },
  {
   "cell_type": "code",
   "execution_count": 2,
   "metadata": {
    "id": "LT0SfP7tjk11"
   },
   "outputs": [],
   "source": [
    "num_inputs = 4\n",
    "num_actions = 2\n",
    "num_hidden = 128\n",
    "\n",
    "inputs = layers.Input(shape=(num_inputs,))\n",
    "common = layers.Dense(num_hidden, activation=\"relu\")(inputs)\n",
    "action = layers.Dense(num_actions, activation=\"softmax\")(common)\n",
    "critic = layers.Dense(1)(common)\n",
    "\n",
    "model = keras.Model(inputs=inputs, outputs=[action, critic])\n"
   ]
  },
  {
   "cell_type": "markdown",
   "metadata": {
    "id": "Pn5H8ufGjk12"
   },
   "source": [
    "## Train\n"
   ]
  },
  {
   "cell_type": "code",
   "execution_count": 3,
   "metadata": {
    "id": "TDs5nFzujk13"
   },
   "outputs": [
    {
     "name": "stdout",
     "output_type": "stream",
     "text": [
      "running reward: 8.39 at episode 10\n",
      "running reward: 24.77 at episode 20\n",
      "running reward: 31.63 at episode 30\n",
      "running reward: 30.99 at episode 40\n",
      "running reward: 26.26 at episode 50\n",
      "running reward: 23.75 at episode 60\n",
      "running reward: 22.60 at episode 70\n",
      "running reward: 29.03 at episode 80\n",
      "running reward: 37.19 at episode 90\n",
      "running reward: 34.62 at episode 100\n",
      "running reward: 50.44 at episode 110\n",
      "running reward: 61.05 at episode 120\n",
      "running reward: 96.27 at episode 130\n",
      "running reward: 92.53 at episode 140\n",
      "running reward: 96.24 at episode 150\n",
      "running reward: 105.77 at episode 160\n",
      "running reward: 117.20 at episode 170\n",
      "running reward: 149.91 at episode 180\n",
      "running reward: 167.85 at episode 190\n",
      "running reward: 180.23 at episode 200\n",
      "running reward: 188.16 at episode 210\n",
      "running reward: 190.90 at episode 220\n",
      "running reward: 191.62 at episode 230\n",
      "running reward: 192.05 at episode 240\n",
      "running reward: 163.41 at episode 250\n",
      "running reward: 174.91 at episode 260\n",
      "running reward: 184.98 at episode 270\n",
      "running reward: 187.53 at episode 280\n",
      "running reward: 187.62 at episode 290\n",
      "running reward: 192.59 at episode 300\n",
      "running reward: 168.00 at episode 310\n",
      "running reward: 130.71 at episode 320\n",
      "running reward: 116.94 at episode 330\n",
      "running reward: 106.97 at episode 340\n",
      "running reward: 114.85 at episode 350\n",
      "running reward: 136.84 at episode 360\n",
      "running reward: 161.96 at episode 370\n",
      "running reward: 177.23 at episode 380\n",
      "running reward: 183.15 at episode 390\n",
      "running reward: 172.37 at episode 400\n",
      "running reward: 133.99 at episode 410\n",
      "running reward: 130.41 at episode 420\n",
      "running reward: 154.46 at episode 430\n",
      "running reward: 170.95 at episode 440\n",
      "running reward: 176.26 at episode 450\n",
      "running reward: 185.78 at episode 460\n",
      "running reward: 191.49 at episode 470\n",
      "running reward: 194.90 at episode 480\n",
      "Solved at episode 481!\n"
     ]
    }
   ],
   "source": [
    "optimizer = keras.optimizers.Adam(learning_rate=0.01)\n",
    "huber_loss = keras.losses.Huber()\n",
    "action_probs_history = []\n",
    "critic_value_history = []\n",
    "rewards_history = []\n",
    "running_reward = 0\n",
    "episode_count = 0\n",
    "\n",
    "while True:  # Run until solved\n",
    "    state = env.reset()\n",
    "    episode_reward = 0\n",
    "    with tf.GradientTape() as tape:\n",
    "        for timestep in range(1, max_steps_per_episode):\n",
    "            # env.render(); Adding this line would show the attempts\n",
    "            # of the agent in a pop up window.\n",
    "\n",
    "            state = tf.convert_to_tensor(state)\n",
    "            state = tf.expand_dims(state, 0)\n",
    "\n",
    "            # Predict action probabilities and estimated future rewards\n",
    "            # from environment state\n",
    "            action_probs, critic_value = model(state)\n",
    "            critic_value_history.append(critic_value[0, 0])\n",
    "\n",
    "            # Sample action from action probability distribution\n",
    "            action = np.random.choice(num_actions, p=np.squeeze(action_probs))\n",
    "            action_probs_history.append(tf.math.log(action_probs[0, action]))\n",
    "\n",
    "            # Apply the sampled action in our environment\n",
    "            state, reward, done, _ = env.step(action)\n",
    "            rewards_history.append(reward)\n",
    "            episode_reward += reward\n",
    "\n",
    "            if done:\n",
    "                break\n",
    "\n",
    "        # Update running reward to check condition for solving\n",
    "        running_reward = 0.05 * episode_reward + (1 - 0.05) * running_reward\n",
    "\n",
    "        # Calculate expected value from rewards\n",
    "        # - At each timestep what was the total reward received after that timestep\n",
    "        # - Rewards in the past are discounted by multiplying them with gamma\n",
    "        # - These are the labels for our critic\n",
    "        returns = []\n",
    "        discounted_sum = 0\n",
    "        for r in rewards_history[::-1]:\n",
    "            discounted_sum = r + gamma * discounted_sum\n",
    "            returns.insert(0, discounted_sum)\n",
    "\n",
    "        # Normalize\n",
    "        returns = np.array(returns)\n",
    "        returns = (returns - np.mean(returns)) / (np.std(returns) + eps)\n",
    "        returns = returns.tolist()\n",
    "\n",
    "        # Calculating loss values to update our network\n",
    "        history = zip(action_probs_history, critic_value_history, returns)\n",
    "        actor_losses = []\n",
    "        critic_losses = []\n",
    "        for log_prob, value, ret in history:\n",
    "            # At this point in history, the critic estimated that we would get a\n",
    "            # total reward = `value` in the future. We took an action with log probability\n",
    "            # of `log_prob` and ended up recieving a total reward = `ret`.\n",
    "            # The actor must be updated so that it predicts an action that leads to\n",
    "            # high rewards (compared to critic's estimate) with high probability.\n",
    "            diff = ret - value\n",
    "            actor_losses.append(-log_prob * diff)  # actor loss\n",
    "\n",
    "            # The critic must be updated so that it predicts a better estimate of\n",
    "            # the future rewards.\n",
    "            critic_losses.append(\n",
    "                huber_loss(tf.expand_dims(value, 0), tf.expand_dims(ret, 0))\n",
    "            )\n",
    "\n",
    "        # Backpropagation\n",
    "        loss_value = sum(actor_losses) + sum(critic_losses)\n",
    "        grads = tape.gradient(loss_value, model.trainable_variables)\n",
    "        optimizer.apply_gradients(zip(grads, model.trainable_variables))\n",
    "\n",
    "        # Clear the loss and reward history\n",
    "        action_probs_history.clear()\n",
    "        critic_value_history.clear()\n",
    "        rewards_history.clear()\n",
    "\n",
    "    # Log details\n",
    "    episode_count += 1\n",
    "    if episode_count % 10 == 0:\n",
    "        template = \"running reward: {:.2f} at episode {}\"\n",
    "        print(template.format(running_reward, episode_count))\n",
    "\n",
    "    if running_reward > 195:  # Condition to consider the task solved\n",
    "        print(\"Solved at episode {}!\".format(episode_count))\n",
    "        break\n"
   ]
  },
  {
   "cell_type": "markdown",
   "metadata": {
    "id": "S0CQA-yajk15"
   },
   "source": [
    "## Visualizations\n",
    "In early stages of training:\n",
    "![Imgur](https://i.imgur.com/5gCs5kH.gif)\n",
    "\n",
    "In later stages of training:\n",
    "![Imgur](https://i.imgur.com/5ziiZUD.gif)\n"
   ]
  }
 ],
 "metadata": {
  "colab": {
   "collapsed_sections": [],
   "name": "actor_critic_cartpole",
   "provenance": [],
   "toc_visible": true
  },
  "kernelspec": {
   "display_name": "Python 3",
   "language": "python",
   "name": "python3"
  },
  "language_info": {
   "codemirror_mode": {
    "name": "ipython",
    "version": 3
   },
   "file_extension": ".py",
   "mimetype": "text/x-python",
   "name": "python",
   "nbconvert_exporter": "python",
   "pygments_lexer": "ipython3",
   "version": "3.8.3"
  }
 },
 "nbformat": 4,
 "nbformat_minor": 1
}
