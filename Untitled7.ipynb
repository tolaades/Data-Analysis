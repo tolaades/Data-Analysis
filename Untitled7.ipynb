{
 "cells": [
  {
   "cell_type": "code",
   "execution_count": 3,
   "metadata": {},
   "outputs": [],
   "source": [
    "#https://www.kaggle.com/etatbak/cnn-fruit-classification"
   ]
  },
  {
   "cell_type": "code",
   "execution_count": 24,
   "metadata": {},
   "outputs": [
    {
     "ename": "FileNotFoundError",
     "evalue": "[WinError 3] The system cannot find the path specified: '../input'",
     "output_type": "error",
     "traceback": [
      "\u001b[1;31m---------------------------------------------------------------------------\u001b[0m",
      "\u001b[1;31mFileNotFoundError\u001b[0m                         Traceback (most recent call last)",
      "\u001b[1;32m<ipython-input-24-3b8e5c72ac33>\u001b[0m in \u001b[0;36m<module>\u001b[1;34m\u001b[0m\n\u001b[0;32m     23\u001b[0m \u001b[1;33m\u001b[0m\u001b[0m\n\u001b[0;32m     24\u001b[0m \u001b[1;32mimport\u001b[0m \u001b[0mos\u001b[0m\u001b[1;33m\u001b[0m\u001b[1;33m\u001b[0m\u001b[0m\n\u001b[1;32m---> 25\u001b[1;33m \u001b[0mprint\u001b[0m\u001b[1;33m(\u001b[0m\u001b[0mos\u001b[0m\u001b[1;33m.\u001b[0m\u001b[0mlistdir\u001b[0m\u001b[1;33m(\u001b[0m\u001b[1;34m\"../input\"\u001b[0m\u001b[1;33m)\u001b[0m\u001b[1;33m)\u001b[0m\u001b[1;33m\u001b[0m\u001b[1;33m\u001b[0m\u001b[0m\n\u001b[0m\u001b[0;32m     26\u001b[0m \u001b[1;32mfrom\u001b[0m \u001b[0msubprocess\u001b[0m \u001b[1;32mimport\u001b[0m \u001b[0mcheck_output\u001b[0m\u001b[1;33m\u001b[0m\u001b[1;33m\u001b[0m\u001b[0m\n\u001b[0;32m     27\u001b[0m \u001b[0mprint\u001b[0m\u001b[1;33m(\u001b[0m\u001b[0mcheck_output\u001b[0m\u001b[1;33m(\u001b[0m\u001b[1;33m[\u001b[0m\u001b[1;34m\"ls\"\u001b[0m\u001b[1;33m,\u001b[0m \u001b[1;34m\"../input\"\u001b[0m\u001b[1;33m]\u001b[0m\u001b[1;33m)\u001b[0m\u001b[1;33m.\u001b[0m\u001b[0mdecode\u001b[0m\u001b[1;33m(\u001b[0m\u001b[1;34m\"utf8\"\u001b[0m\u001b[1;33m)\u001b[0m\u001b[1;33m)\u001b[0m\u001b[1;33m\u001b[0m\u001b[1;33m\u001b[0m\u001b[0m\n",
      "\u001b[1;31mFileNotFoundError\u001b[0m: [WinError 3] The system cannot find the path specified: '../input'"
     ]
    }
   ],
   "source": [
    "# This Python 3 environment comes with many helpful analytics libraries installed\n",
    "# It is defined by the kaggle/python docker image: https://github.com/kaggle/docker-python\n",
    "# For example, here's several helpful packages to load in \n",
    "\n",
    "import numpy as np # linear algebra\n",
    "import pandas as pd # data processing, CSV file I/O (e.g. pd.read_csv)\n",
    "import matplotlib.pyplot as plt\n",
    "import seaborn as sns\n",
    "import glob\n",
    "import cv2\n",
    "import os\n",
    "from keras.preprocessing.image import ImageDataGenerator\n",
    "\n",
    "# create a data generator\n",
    "datagen = ImageDataGenerator()\n",
    "\n",
    "# Input data files are available in the \"../input/\" directory.\n",
    "# For example, running this (by clicking run or pressing Shift+Enter) will list the files in the input directory\n",
    "import warnings\n",
    "# filter warnings\n",
    "warnings.filterwarnings('ignore')\n",
    "\n",
    "\n",
    "import os\n",
    "print(os.listdir(\"../input\"))\n",
    "from subprocess import check_output\n",
    "print(check_output([\"ls\", \"../input\"]).decode(\"utf8\"))\n",
    "\n",
    "# Any results you write to the current directory are saved as output."
   ]
  },
  {
   "cell_type": "code",
   "execution_count": 13,
   "metadata": {},
   "outputs": [
    {
     "ename": "FileNotFoundError",
     "evalue": "[WinError 3] The system cannot find the path specified: 'kaggle/input/fruits-360/Training/Apple Golden 1'",
     "output_type": "error",
     "traceback": [
      "\u001b[1;31m---------------------------------------------------------------------------\u001b[0m",
      "\u001b[1;31mFileNotFoundError\u001b[0m                         Traceback (most recent call last)",
      "\u001b[1;32m<ipython-input-13-4110bc78bcb0>\u001b[0m in \u001b[0;36m<module>\u001b[1;34m\u001b[0m\n\u001b[0;32m      9\u001b[0m     \u001b[0mpath\u001b[0m\u001b[1;33m=\u001b[0m\u001b[0mos\u001b[0m\u001b[1;33m.\u001b[0m\u001b[0mpath\u001b[0m\u001b[1;33m.\u001b[0m\u001b[0mjoin\u001b[0m\u001b[1;33m(\u001b[0m\u001b[0mdirectory\u001b[0m\u001b[1;33m,\u001b[0m\u001b[0mi\u001b[0m\u001b[1;33m)\u001b[0m\u001b[1;33m\u001b[0m\u001b[1;33m\u001b[0m\u001b[0m\n\u001b[0;32m     10\u001b[0m     \u001b[0mclass_num\u001b[0m\u001b[1;33m=\u001b[0m\u001b[0mclasses\u001b[0m\u001b[1;33m.\u001b[0m\u001b[0mindex\u001b[0m\u001b[1;33m(\u001b[0m\u001b[0mi\u001b[0m\u001b[1;33m)\u001b[0m\u001b[1;33m\u001b[0m\u001b[1;33m\u001b[0m\u001b[0m\n\u001b[1;32m---> 11\u001b[1;33m     \u001b[1;32mfor\u001b[0m \u001b[0mimg\u001b[0m \u001b[1;32min\u001b[0m \u001b[0mos\u001b[0m\u001b[1;33m.\u001b[0m\u001b[0mlistdir\u001b[0m\u001b[1;33m(\u001b[0m\u001b[0mpath\u001b[0m\u001b[1;33m)\u001b[0m\u001b[1;33m:\u001b[0m\u001b[1;33m\u001b[0m\u001b[1;33m\u001b[0m\u001b[0m\n\u001b[0m\u001b[0;32m     12\u001b[0m         \u001b[1;31m#img_array=cv2.imread(os.path.join(path,img),\u001b[0m\u001b[1;33m\u001b[0m\u001b[1;33m\u001b[0m\u001b[1;33m\u001b[0m\u001b[0m\n\u001b[0;32m     13\u001b[0m         \u001b[1;31m#                     cv2.IMREAD_GRAYSCALE)\u001b[0m\u001b[1;33m\u001b[0m\u001b[1;33m\u001b[0m\u001b[1;33m\u001b[0m\u001b[0m\n",
      "\u001b[1;31mFileNotFoundError\u001b[0m: [WinError 3] The system cannot find the path specified: 'kaggle/input/fruits-360/Training/Apple Golden 1'"
     ]
    }
   ],
   "source": [
    "np.random.seed(1234)\n",
    "directory=\"../input/fruits-360/Training/\"\n",
    "classes=[\"Apple Golden 1\",\"Avocado\",\"Banana\",\"Cherry 1\",\"Cocos\",\"Kiwi\",\n",
    "         \"Lemon\",\"Mango\",\"Orange\"]\n",
    "\n",
    "all_arrays=[]\n",
    "img_size=100\n",
    "for i in classes:\n",
    "    path=os.path.join(directory,i)\n",
    "    class_num=classes.index(i)\n",
    "    for img in os.listdir(path):\n",
    "        #img_array=cv2.imread(os.path.join(path,img),\n",
    "        #                     cv2.IMREAD_GRAYSCALE)\n",
    "        img_array=cv2.imread(os.path.join(path,img))\n",
    "        img_array=cv2.cvtColor(img_array, cv2.COLOR_BGR2RGB)\n",
    "        #img_array=cv2.resize(img_array,(img_size,img_size))\n",
    "        all_arrays.append([img_array,class_num])"
   ]
  },
  {
   "cell_type": "code",
   "execution_count": null,
   "metadata": {},
   "outputs": [],
   "source": [
    "directory2=\"../input/fruits-360/Test/\"\n",
    "classes2=[\"Apple Golden 1\",\"Avocado\",\"Banana\",\"Cherry 1\",\"Cocos\",\"Kiwi\",\n",
    "         \"Lemon\",\"Mango\",\"Orange\"]\n",
    "\n",
    "all_arrays2=[]\n",
    "img_size=100\n",
    "for i in classes2:\n",
    "    path=os.path.join(directory2,i)\n",
    "    class_num2=classes2.index(i)\n",
    "    for img in os.listdir(path):\n",
    "        #img_array2=cv2.imread(os.path.join(path,img),\n",
    "        #                     cv2.IMREAD_GRAYSCALE)\n",
    "        img_array2=cv2.imread(os.path.join(path,img))\n",
    "        img_array2=cv2.cvtColor(img_array2, cv2.COLOR_BGR2RGB)\n",
    "        #img_array2=cv2.resize(img_array2,(img_size,img_size))\n",
    "        all_arrays2.append([img_array2,class_num2])"
   ]
  },
  {
   "cell_type": "code",
   "execution_count": null,
   "metadata": {},
   "outputs": [],
   "source": [
    "fruits_array_train=[]\n",
    "for features,label in all_arrays:\n",
    "    fruits_array_train.append(features)\n",
    "\n",
    "location=[[1,500,1150],[1500,2000,2500],[3000,3500,4000]]\n",
    "fruit_names=[\"Apple\",\"Avocado\",\"Banana\",\"Cherry\",\"Cocos\",\"Kiwi\",\"Lemon\",\"Mango\",\"Orange\"]\n",
    "a=0\n",
    "b=1\n",
    "c=2\n",
    "for i,j,k in location:\n",
    "    plt.subplots(figsize=(8,8))\n",
    "    plt.subplot(1,3,1)\n",
    "    plt.imshow(fruits_array_train[i])\n",
    "    plt.title(fruit_names[a])\n",
    "    plt.axis(\"off\")\n",
    "    plt.subplot(1,3,2)\n",
    "    plt.imshow(fruits_array_train[j])\n",
    "    plt.title(fruit_names[b])\n",
    "    plt.axis(\"off\")\n",
    "    plt.subplot(1,3,3)\n",
    "    plt.imshow(fruits_array_train[k])\n",
    "    plt.title(fruit_names[c])\n",
    "    plt.axis(\"off\")\n",
    "    a+=3\n",
    "    b+=3\n",
    "    c+=3"
   ]
  },
  {
   "cell_type": "code",
   "execution_count": null,
   "metadata": {},
   "outputs": [],
   "source": [
    "import random\n",
    "random.shuffle(all_arrays)\n",
    "\n",
    "X_train=[]\n",
    "Y_train=[]\n",
    "for features,label in all_arrays:\n",
    "    X_train.append(features)\n",
    "    Y_train.append(label)\n",
    "X_train=np.array(X_train) #arraying\n",
    "\n",
    "import random\n",
    "random.shuffle(all_arrays2)\n",
    "\n",
    "X_test=[]\n",
    "Y_test=[]\n",
    "for features,label in all_arrays2:\n",
    "    X_test.append(features)\n",
    "    Y_test.append(label)\n",
    "X_test=np.array(X_test) #arraying\n"
   ]
  },
  {
   "cell_type": "code",
   "execution_count": null,
   "metadata": {},
   "outputs": [],
   "source": [
    "#normalization and reshaping\n",
    "X_train=X_train.reshape(-1,img_size,img_size,3)\n",
    "X_train=X_train/255\n",
    "X_test=X_test.reshape(-1,img_size,img_size,3)\n",
    "X_test=X_test/255\n",
    "print(\"shape of X_train= \",X_train.shape)\n",
    "print(\"shape of X_test=  \",X_test.shape)"
   ]
  },
  {
   "cell_type": "code",
   "execution_count": null,
   "metadata": {},
   "outputs": [],
   "source": [
    "from keras.utils import to_categorical\n",
    "Y_train=to_categorical(Y_train,num_classes=9)\n",
    "Y_test=to_categorical(Y_test,num_classes=9)"
   ]
  },
  {
   "cell_type": "code",
   "execution_count": null,
   "metadata": {},
   "outputs": [],
   "source": [
    "Y_train.shape"
   ]
  },
  {
   "cell_type": "code",
   "execution_count": null,
   "metadata": {},
   "outputs": [],
   "source": [
    "X_train.shape"
   ]
  },
  {
   "cell_type": "code",
   "execution_count": null,
   "metadata": {},
   "outputs": [],
   "source": [
    "from sklearn.model_selection import  train_test_split\n",
    "x_train,x_val,y_train,y_val=train_test_split(X_train,Y_train,test_size=0.2,random_state=42)"
   ]
  },
  {
   "cell_type": "code",
   "execution_count": null,
   "metadata": {},
   "outputs": [],
   "source": [
    "from sklearn.metrics import confusion_matrix\n",
    "import itertools\n",
    "\n",
    "from keras.utils.np_utils import to_categorical\n",
    "from keras.models import Sequential\n",
    "from keras.layers import Dense,Dropout,Flatten,Conv2D,MaxPool2D\n",
    "from keras.optimizers import Adam\n",
    "from keras.preprocessing.image import ImageDataGenerator\n",
    "\n",
    "from keras.callbacks import ReduceLROnPlateau\n",
    "\n",
    "\n",
    "model=Sequential()\n",
    "model.add(Conv2D(filters=8,kernel_size=(3,3),padding=\"Same\",activation=\"relu\",input_shape=(100,100,3)))\n",
    "model.add(MaxPool2D(pool_size=(2,2)))\n",
    "model.add(Dropout(0.35))\n",
    "\n",
    "model.add(Conv2D(filters=16,kernel_size=(3,3),padding=\"Same\",activation=\"relu\"))\n",
    "model.add(MaxPool2D(pool_size=(2,2),strides=(2,2)))\n",
    "model.add(Dropout(0.35))\n",
    "\n",
    "model.add(Conv2D(filters=32,kernel_size=(3,3),padding=\"Same\",activation=\"relu\"))\n",
    "model.add(MaxPool2D(pool_size=(2,2),strides=(2,2)))\n",
    "model.add(Dropout(0.35))\n",
    "model.add(Flatten())\n",
    "model.add(Dense(512,activation=\"relu\"))\n",
    "model.add(Dropout(0.5))\n",
    "model.add(Dense(9,activation=\"softmax\"))\n",
    "#defining optimizer\n",
    "optimizer=Adam(lr=0.001,beta_1=0.9,beta_2=0.999)\n",
    "#compile the model\n",
    "model.compile(optimizer=optimizer,loss=\"categorical_crossentropy\",metrics=[\"accuracy\"])\n",
    "\n",
    "epochs=10\n",
    "batch_size=18"
   ]
  },
  {
   "cell_type": "code",
   "execution_count": null,
   "metadata": {},
   "outputs": [],
   "source": [
    "datagen=ImageDataGenerator(featurewise_center=False, #set input mean to 0\n",
    "                           samplewise_center=False,  #set each sample mean to 0\n",
    "                           featurewise_std_normalization=False, #divide input datas to std\n",
    "                           samplewise_std_normalization=False,  #divide each datas to own std\n",
    "                           zca_whitening=False,  #dimension reduction\n",
    "                           rotation_range=0.5,    #rotate 5 degree\n",
    "                           zoom_range=0.5,        #zoom in-out 5%\n",
    "                           width_shift_range=0.5, #shift 5%\n",
    "                           height_shift_range=0.5,\n",
    "                           horizontal_flip=False,  #randomly flip images\n",
    "                           vertical_flip=False,\n",
    "                           )\n",
    "datagen.fit(x_train)\n",
    "\n",
    "#model fitting\n",
    "history=model.fit_generator(datagen.flow(x_train,y_train,batch_size=batch_size),epochs=epochs,\n",
    "                            validation_data=(x_val,y_val),steps_per_epoch=x_train.shape[0]//batch_size\n",
    "                           )"
   ]
  },
  {
   "cell_type": "code",
   "execution_count": null,
   "metadata": {},
   "outputs": [],
   "source": [
    "plt.plot(history.history[\"val_acc\"],color=\"r\",label=\"val_acc\")\n",
    "plt.title(\"Accuracy Graph\")\n",
    "plt.xlabel(\"number of epochs\")\n",
    "plt.ylabel(\"accuracy\")\n",
    "plt.legend()\n",
    "plt.grid()\n",
    "plt.show()"
   ]
  },
  {
   "cell_type": "code",
   "execution_count": null,
   "metadata": {},
   "outputs": [],
   "source": [
    "#confusion matrix\n",
    "y_pred=model.predict(x_val)\n",
    "y_pred_classes=np.argmax(y_pred,axis=1)\n",
    "y_true=np.argmax(y_val,axis=1)\n",
    "#compute conf mat\n",
    "conf_mat=confusion_matrix(y_true,y_pred_classes)\n",
    "#plot the con mat\n",
    "fruit_names=[\"Apple\",\"Avocado\",\"Banana\",\"Cherry\",\"Cocos\",\"Kiwi\",\"Lemon\",\"Mango\",\"Orange\"]\n",
    "f,ax=plt.subplots(figsize=(10,9))\n",
    "sns.heatmap(conf_mat,annot=True,fmt='.0f')\n",
    "ax.set_xticklabels(fruit_names)\n",
    "ax.set_yticklabels(fruit_names)\n",
    "plt.show()\n"
   ]
  },
  {
   "cell_type": "code",
   "execution_count": null,
   "metadata": {},
   "outputs": [],
   "source": [
    "#confusion matrix\n",
    "y_pred2=model.predict(X_test)\n",
    "y_pred_classes2=np.argmax(y_pred2,axis=1)\n",
    "y_true2=np.argmax(Y_test,axis=1)\n",
    "#compute conf mat\n",
    "conf_mat2=confusion_matrix(y_true2,y_pred_classes2)\n",
    "#plot the con mat\n",
    "f,ax=plt.subplots(figsize=(10,9))\n",
    "sns.heatmap(conf_mat2,annot=True,fmt=\".0f\")\n",
    "ax.set_xticklabels(fruit_names)\n",
    "ax.set_yticklabels(fruit_names)\n",
    "plt.show()\n"
   ]
  },
  {
   "cell_type": "code",
   "execution_count": null,
   "metadata": {},
   "outputs": [],
   "source": []
  },
  {
   "cell_type": "code",
   "execution_count": null,
   "metadata": {},
   "outputs": [],
   "source": []
  },
  {
   "cell_type": "code",
   "execution_count": null,
   "metadata": {},
   "outputs": [],
   "source": []
  },
  {
   "cell_type": "code",
   "execution_count": null,
   "metadata": {},
   "outputs": [],
   "source": []
  }
 ],
 "metadata": {
  "kernelspec": {
   "display_name": "Python 3",
   "language": "python",
   "name": "python3"
  },
  "language_info": {
   "codemirror_mode": {
    "name": "ipython",
    "version": 3
   },
   "file_extension": ".py",
   "mimetype": "text/x-python",
   "name": "python",
   "nbconvert_exporter": "python",
   "pygments_lexer": "ipython3",
   "version": "3.8.3"
  }
 },
 "nbformat": 4,
 "nbformat_minor": 4
}
