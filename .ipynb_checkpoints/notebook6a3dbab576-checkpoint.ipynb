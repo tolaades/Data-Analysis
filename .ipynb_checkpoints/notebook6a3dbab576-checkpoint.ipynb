{
 "cells": [
  {
   "cell_type": "markdown",
   "metadata": {},
   "source": [
    "**Description**\n",
    "\n",
    "The goal of this project was to EDA to thinking about While many parameters influence a car buyer, the decision always involves emotion. The first thing to consider before taking any decision is to have as much good quality data as possible. We have then to perform analysis and extract information's. In this EDA project , I'll study a public dataset available on KAGGLE. The dataset is scraped from Craiglist, a very popular classified ads in the US, and north America. It contains information's from around 450k car classified ads observation and 26 columns."
   ]
  },
  {
   "cell_type": "markdown",
   "metadata": {},
   "source": [
    "**Content:**\n",
    "\n",
    "1. Missingno - Missing Data\n",
    "2. Data Cleaning (drop columns , fill numerical with mean and categorical with mode)\n",
    "3. Detect Outliers ,perform IQR (Box plot, Histogram)\n",
    "4. Seaborn - Bar Plot\n",
    "5. Matplotlib - Bar Plot\n",
    "6. Seaborn - Heatmap"
   ]
  },
  {
   "cell_type": "markdown",
   "metadata": {},
   "source": [
    "**Data Exploration**\n"
   ]
  },
  {
   "cell_type": "code",
   "execution_count": null,
   "metadata": {},
   "outputs": [],
   "source": [
    "# This Python 3 environment comes with many helpful analytics libraries installed\n",
    "# It is defined by the kaggle/python Docker image: https://github.com/kaggle/docker-python\n",
    "# For example, here's several helpful packages to load\n",
    "\n",
    "import numpy as np # linear algebra\n",
    "import pandas as pd # data processing, CSV file I/O (e.g. pd.read_csv)\n",
    "\n",
    "# Input data files are available in the read-only \"../input/\" directory\n",
    "# For example, running this (by clicking run or pressing Shift+Enter) will list all files under the input directory\n",
    "\n",
    "import os\n",
    "for dirname, _, filenames in os.walk('/kaggle/input'):\n",
    "    for filename in filenames:\n",
    "        print(os.path.join(dirname, filename))\n",
    "\n",
    "# You can write up to 20GB to the current directory (/kaggle/working/) that gets preserved as output when you create a version using \"Save & Run All\" \n",
    "# You can also write temporary files to /kaggle/temp/, but they won't be saved outside of the current session"
   ]
  },
  {
   "cell_type": "markdown",
   "metadata": {},
   "source": [
    "**Data Preparation**\n",
    "\n"
   ]
  },
  {
   "cell_type": "markdown",
   "metadata": {},
   "source": [
    "Import Data"
   ]
  },
  {
   "cell_type": "code",
   "execution_count": null,
   "metadata": {
    "execution": {
     "iopub.execute_input": "2021-11-19T09:09:56.301615Z",
     "iopub.status.busy": "2021-11-19T09:09:56.30126Z",
     "iopub.status.idle": "2021-11-19T09:09:57.294056Z",
     "shell.execute_reply": "2021-11-19T09:09:57.293151Z",
     "shell.execute_reply.started": "2021-11-19T09:09:56.301577Z"
    }
   },
   "outputs": [],
   "source": [
    "import pandas as pd\n",
    "import numpy as np\n",
    "import seaborn as sns\n",
    "import matplotlib.pyplot as plt\n",
    "import math\n",
    "\n",
    "from sklearn import preprocessing"
   ]
  },
  {
   "cell_type": "markdown",
   "metadata": {},
   "source": [
    "Reading Data"
   ]
  },
  {
   "cell_type": "code",
   "execution_count": null,
   "metadata": {
    "execution": {
     "iopub.execute_input": "2021-11-19T09:13:21.224412Z",
     "iopub.status.busy": "2021-11-19T09:13:21.223835Z",
     "iopub.status.idle": "2021-11-19T09:14:01.646385Z",
     "shell.execute_reply": "2021-11-19T09:14:01.645441Z",
     "shell.execute_reply.started": "2021-11-19T09:13:21.224373Z"
    }
   },
   "outputs": [],
   "source": [
    "# Reading data\n",
    "df = pd.read_csv('../input/craigslist-carstrucks-data/vehicles.csv')\n",
    "df"
   ]
  },
  {
   "cell_type": "code",
   "execution_count": null,
   "metadata": {
    "execution": {
     "iopub.execute_input": "2021-11-19T09:15:40.025775Z",
     "iopub.status.busy": "2021-11-19T09:15:40.025406Z",
     "iopub.status.idle": "2021-11-19T09:15:40.913798Z",
     "shell.execute_reply": "2021-11-19T09:15:40.912922Z",
     "shell.execute_reply.started": "2021-11-19T09:15:40.02573Z"
    }
   },
   "outputs": [],
   "source": [
    "# information about data\n",
    "df.info()"
   ]
  },
  {
   "cell_type": "code",
   "execution_count": null,
   "metadata": {
    "execution": {
     "iopub.execute_input": "2021-11-19T09:15:46.236528Z",
     "iopub.status.busy": "2021-11-19T09:15:46.236184Z",
     "iopub.status.idle": "2021-11-19T09:15:46.268227Z",
     "shell.execute_reply": "2021-11-19T09:15:46.267468Z",
     "shell.execute_reply.started": "2021-11-19T09:15:46.236493Z"
    }
   },
   "outputs": [],
   "source": [
    "# show first 10 rowes\n",
    "df.head(10)"
   ]
  },
  {
   "cell_type": "code",
   "execution_count": null,
   "metadata": {
    "execution": {
     "iopub.execute_input": "2021-11-19T09:16:06.667665Z",
     "iopub.status.busy": "2021-11-19T09:16:06.667261Z",
     "iopub.status.idle": "2021-11-19T09:16:06.70967Z",
     "shell.execute_reply": "2021-11-19T09:16:06.709056Z",
     "shell.execute_reply.started": "2021-11-19T09:16:06.667626Z"
    }
   },
   "outputs": [],
   "source": [
    "# random sample from data\n",
    "df.sample(4)"
   ]
  },
  {
   "cell_type": "code",
   "execution_count": null,
   "metadata": {
    "execution": {
     "iopub.execute_input": "2021-11-19T09:16:25.837074Z",
     "iopub.status.busy": "2021-11-19T09:16:25.836466Z",
     "iopub.status.idle": "2021-11-19T09:16:25.958805Z",
     "shell.execute_reply": "2021-11-19T09:16:25.957997Z",
     "shell.execute_reply.started": "2021-11-19T09:16:25.837035Z"
    }
   },
   "outputs": [],
   "source": [
    "# statistic information \n",
    "df.describe()"
   ]
  },
  {
   "cell_type": "code",
   "execution_count": null,
   "metadata": {
    "execution": {
     "iopub.execute_input": "2021-11-19T09:16:48.253358Z",
     "iopub.status.busy": "2021-11-19T09:16:48.253023Z",
     "iopub.status.idle": "2021-11-19T09:16:48.260992Z",
     "shell.execute_reply": "2021-11-19T09:16:48.26004Z",
     "shell.execute_reply.started": "2021-11-19T09:16:48.253321Z"
    }
   },
   "outputs": [],
   "source": [
    "print(\"The max and min respectively\")\n",
    "print(df['price'].max())\n",
    "print(df['price'].min())"
   ]
  },
  {
   "cell_type": "code",
   "execution_count": null,
   "metadata": {
    "execution": {
     "iopub.execute_input": "2021-11-19T09:17:18.365874Z",
     "iopub.status.busy": "2021-11-19T09:17:18.365239Z",
     "iopub.status.idle": "2021-11-19T09:17:18.37215Z",
     "shell.execute_reply": "2021-11-19T09:17:18.371054Z",
     "shell.execute_reply.started": "2021-11-19T09:17:18.365821Z"
    }
   },
   "outputs": [],
   "source": [
    "# show columns\n",
    "print(df.columns)"
   ]
  },
  {
   "cell_type": "code",
   "execution_count": null,
   "metadata": {
    "execution": {
     "iopub.execute_input": "2021-11-19T09:17:45.593765Z",
     "iopub.status.busy": "2021-11-19T09:17:45.593071Z",
     "iopub.status.idle": "2021-11-19T09:17:45.60164Z",
     "shell.execute_reply": "2021-11-19T09:17:45.600722Z",
     "shell.execute_reply.started": "2021-11-19T09:17:45.593718Z"
    }
   },
   "outputs": [],
   "source": [
    "# show data types\n",
    "df.dtypes"
   ]
  },
  {
   "cell_type": "code",
   "execution_count": null,
   "metadata": {
    "execution": {
     "iopub.execute_input": "2021-11-19T09:18:16.735238Z",
     "iopub.status.busy": "2021-11-19T09:18:16.734808Z",
     "iopub.status.idle": "2021-11-19T09:18:16.74117Z",
     "shell.execute_reply": "2021-11-19T09:18:16.740088Z",
     "shell.execute_reply.started": "2021-11-19T09:18:16.735206Z"
    }
   },
   "outputs": [],
   "source": [
    "# show number of rows and columns\n",
    "df.shape"
   ]
  },
  {
   "cell_type": "code",
   "execution_count": null,
   "metadata": {
    "execution": {
     "iopub.execute_input": "2021-11-19T09:18:47.527707Z",
     "iopub.status.busy": "2021-11-19T09:18:47.526814Z",
     "iopub.status.idle": "2021-11-19T09:18:48.820561Z",
     "shell.execute_reply": "2021-11-19T09:18:48.819693Z",
     "shell.execute_reply.started": "2021-11-19T09:18:47.527608Z"
    }
   },
   "outputs": [],
   "source": [
    "df['year'] = df.year.astype(str)\n",
    "df.info()"
   ]
  },
  {
   "cell_type": "markdown",
   "metadata": {},
   "source": [
    "**Data Preprocessing**"
   ]
  },
  {
   "cell_type": "markdown",
   "metadata": {},
   "source": [
    "**Clean Data**\n"
   ]
  },
  {
   "cell_type": "markdown",
   "metadata": {},
   "source": [
    "There are some features that won't be relevant in our analysis, and contain alot of missing values."
   ]
  },
  {
   "cell_type": "code",
   "execution_count": null,
   "metadata": {
    "execution": {
     "iopub.execute_input": "2021-11-19T09:20:31.207486Z",
     "iopub.status.busy": "2021-11-19T09:20:31.206609Z",
     "iopub.status.idle": "2021-11-19T09:20:31.665807Z",
     "shell.execute_reply": "2021-11-19T09:20:31.6649Z",
     "shell.execute_reply.started": "2021-11-19T09:20:31.207428Z"
    }
   },
   "outputs": [],
   "source": [
    "drop_cols =['url','image_url', 'size', 'VIN','county','id']\n",
    "df.drop(columns=drop_cols , axis=1, inplace=True)\n",
    "\n",
    "df.head()"
   ]
  },
  {
   "cell_type": "markdown",
   "metadata": {},
   "source": [
    "Separate numerical and categorical feature.\n",
    "\n"
   ]
  },
  {
   "cell_type": "code",
   "execution_count": null,
   "metadata": {
    "execution": {
     "iopub.execute_input": "2021-11-19T09:20:33.045195Z",
     "iopub.status.busy": "2021-11-19T09:20:33.044296Z",
     "iopub.status.idle": "2021-11-19T09:20:33.136746Z",
     "shell.execute_reply": "2021-11-19T09:20:33.135838Z",
     "shell.execute_reply.started": "2021-11-19T09:20:33.045152Z"
    }
   },
   "outputs": [],
   "source": [
    "category = ['manufacturer','cylinders','fuel','title_status','transmission','drive','type','paint_color','condition','year','posting_date'\n",
    "           ,'state','description','model','region','region_url']\n",
    "numerical = df.drop(category, axis=1)\n",
    "categorical = df[category]\n",
    "numerical.head()"
   ]
  },
  {
   "cell_type": "code",
   "execution_count": null,
   "metadata": {
    "execution": {
     "iopub.execute_input": "2021-11-19T09:22:01.39717Z",
     "iopub.status.busy": "2021-11-19T09:22:01.396446Z",
     "iopub.status.idle": "2021-11-19T09:22:01.416279Z",
     "shell.execute_reply": "2021-11-19T09:22:01.415479Z",
     "shell.execute_reply.started": "2021-11-19T09:22:01.397129Z"
    }
   },
   "outputs": [],
   "source": [
    "categorical.head()"
   ]
  },
  {
   "cell_type": "code",
   "execution_count": null,
   "metadata": {
    "execution": {
     "iopub.execute_input": "2021-11-19T09:22:11.311107Z",
     "iopub.status.busy": "2021-11-19T09:22:11.310242Z",
     "iopub.status.idle": "2021-11-19T09:22:12.059559Z",
     "shell.execute_reply": "2021-11-19T09:22:12.058678Z",
     "shell.execute_reply.started": "2021-11-19T09:22:11.31103Z"
    }
   },
   "outputs": [],
   "source": [
    "categorical.info()"
   ]
  },
  {
   "cell_type": "code",
   "execution_count": null,
   "metadata": {
    "execution": {
     "iopub.execute_input": "2021-11-19T09:22:13.382731Z",
     "iopub.status.busy": "2021-11-19T09:22:13.382411Z",
     "iopub.status.idle": "2021-11-19T09:22:13.398158Z",
     "shell.execute_reply": "2021-11-19T09:22:13.397129Z",
     "shell.execute_reply.started": "2021-11-19T09:22:13.382697Z"
    }
   },
   "outputs": [],
   "source": [
    "numerical.info()"
   ]
  },
  {
   "cell_type": "code",
   "execution_count": null,
   "metadata": {
    "execution": {
     "iopub.execute_input": "2021-11-19T09:22:27.93348Z",
     "iopub.status.busy": "2021-11-19T09:22:27.933151Z",
     "iopub.status.idle": "2021-11-19T09:22:27.953784Z",
     "shell.execute_reply": "2021-11-19T09:22:27.952712Z",
     "shell.execute_reply.started": "2021-11-19T09:22:27.933448Z"
    }
   },
   "outputs": [],
   "source": [
    "#fill value in numerical with mean\n",
    "for num in numerical:\n",
    "    mean = numerical[num].mean()\n",
    "    numerical[num]=numerical[num].fillna(mean) "
   ]
  },
  {
   "cell_type": "code",
   "execution_count": null,
   "metadata": {
    "execution": {
     "iopub.execute_input": "2021-11-19T09:22:41.342326Z",
     "iopub.status.busy": "2021-11-19T09:22:41.341692Z",
     "iopub.status.idle": "2021-11-19T09:22:41.34908Z",
     "shell.execute_reply": "2021-11-19T09:22:41.348169Z",
     "shell.execute_reply.started": "2021-11-19T09:22:41.342287Z"
    }
   },
   "outputs": [],
   "source": [
    "for i in  categorical:\n",
    "    print(i)"
   ]
  },
  {
   "cell_type": "code",
   "execution_count": null,
   "metadata": {
    "execution": {
     "iopub.execute_input": "2021-11-19T09:22:59.05502Z",
     "iopub.status.busy": "2021-11-19T09:22:59.054759Z",
     "iopub.status.idle": "2021-11-19T09:22:59.067249Z",
     "shell.execute_reply": "2021-11-19T09:22:59.066205Z",
     "shell.execute_reply.started": "2021-11-19T09:22:59.054993Z"
    }
   },
   "outputs": [],
   "source": [
    "#detect numerical missing value\n",
    "numerical.isnull().sum().sort_values(ascending=False) "
   ]
  },
  {
   "cell_type": "code",
   "execution_count": null,
   "metadata": {
    "execution": {
     "iopub.execute_input": "2021-11-19T09:23:19.642166Z",
     "iopub.status.busy": "2021-11-19T09:23:19.641899Z",
     "iopub.status.idle": "2021-11-19T09:23:19.648332Z",
     "shell.execute_reply": "2021-11-19T09:23:19.647661Z",
     "shell.execute_reply.started": "2021-11-19T09:23:19.64214Z"
    }
   },
   "outputs": [],
   "source": [
    "categorical.columns"
   ]
  },
  {
   "cell_type": "code",
   "execution_count": null,
   "metadata": {
    "execution": {
     "iopub.execute_input": "2021-11-19T09:25:17.280208Z",
     "iopub.status.busy": "2021-11-19T09:25:17.279735Z",
     "iopub.status.idle": "2021-11-19T09:25:17.284463Z",
     "shell.execute_reply": "2021-11-19T09:25:17.283774Z",
     "shell.execute_reply.started": "2021-11-19T09:25:17.280168Z"
    }
   },
   "outputs": [],
   "source": [
    "import warnings\n",
    "warnings.filterwarnings('ignore')"
   ]
  },
  {
   "cell_type": "code",
   "execution_count": null,
   "metadata": {
    "execution": {
     "iopub.execute_input": "2021-11-19T09:25:32.541015Z",
     "iopub.status.busy": "2021-11-19T09:25:32.54073Z",
     "iopub.status.idle": "2021-11-19T09:25:35.183276Z",
     "shell.execute_reply": "2021-11-19T09:25:35.182267Z",
     "shell.execute_reply.started": "2021-11-19T09:25:32.540987Z"
    }
   },
   "outputs": [],
   "source": [
    "# fill categorical with mode\n",
    "for cat in categorical:\n",
    "    mode = categorical[cat].mode().values[0]\n",
    "    categorical[cat]=df[cat].fillna(mode)\n",
    "    "
   ]
  },
  {
   "cell_type": "code",
   "execution_count": null,
   "metadata": {
    "execution": {
     "iopub.execute_input": "2021-11-19T09:25:38.404441Z",
     "iopub.status.busy": "2021-11-19T09:25:38.403485Z",
     "iopub.status.idle": "2021-11-19T09:25:39.181586Z",
     "shell.execute_reply": "2021-11-19T09:25:39.180761Z",
     "shell.execute_reply.started": "2021-11-19T09:25:38.404386Z"
    }
   },
   "outputs": [],
   "source": [
    "#detect categorical missing value\n",
    "categorical.isnull().sum().sort_values(ascending=False) "
   ]
  },
  {
   "cell_type": "code",
   "execution_count": null,
   "metadata": {
    "execution": {
     "iopub.execute_input": "2021-11-19T09:25:54.496636Z",
     "iopub.status.busy": "2021-11-19T09:25:54.496312Z",
     "iopub.status.idle": "2021-11-19T09:25:54.517118Z",
     "shell.execute_reply": "2021-11-19T09:25:54.51622Z",
     "shell.execute_reply.started": "2021-11-19T09:25:54.4966Z"
    }
   },
   "outputs": [],
   "source": [
    "categorical.head()"
   ]
  },
  {
   "cell_type": "code",
   "execution_count": null,
   "metadata": {
    "execution": {
     "iopub.execute_input": "2021-11-19T09:26:15.637683Z",
     "iopub.status.busy": "2021-11-19T09:26:15.637367Z",
     "iopub.status.idle": "2021-11-19T09:26:15.648509Z",
     "shell.execute_reply": "2021-11-19T09:26:15.6479Z",
     "shell.execute_reply.started": "2021-11-19T09:26:15.637652Z"
    }
   },
   "outputs": [],
   "source": [
    "numerical.head()"
   ]
  },
  {
   "cell_type": "code",
   "execution_count": null,
   "metadata": {
    "execution": {
     "iopub.execute_input": "2021-11-19T09:26:33.022214Z",
     "iopub.status.busy": "2021-11-19T09:26:33.021915Z",
     "iopub.status.idle": "2021-11-19T09:26:33.161663Z",
     "shell.execute_reply": "2021-11-19T09:26:33.160753Z",
     "shell.execute_reply.started": "2021-11-19T09:26:33.022183Z"
    }
   },
   "outputs": [],
   "source": [
    "#concat table categorical and numerical to create new table without missing values\n",
    "df2 = pd.concat([categorical,numerical],axis=1)\n",
    "df2.head()"
   ]
  },
  {
   "cell_type": "markdown",
   "metadata": {},
   "source": [
    "**Outlier Detection**\n",
    "\n"
   ]
  },
  {
   "cell_type": "markdown",
   "metadata": {},
   "source": [
    "outlier detectionis the identification of rare items, events or observations which raise suspicions by differing significantly from the majority of the data.\n",
    "\n"
   ]
  },
  {
   "cell_type": "code",
   "execution_count": null,
   "metadata": {
    "execution": {
     "iopub.execute_input": "2021-11-19T09:26:50.524153Z",
     "iopub.status.busy": "2021-11-19T09:26:50.523337Z",
     "iopub.status.idle": "2021-11-19T09:26:51.144458Z",
     "shell.execute_reply": "2021-11-19T09:26:51.143556Z",
     "shell.execute_reply.started": "2021-11-19T09:26:50.524106Z"
    }
   },
   "outputs": [],
   "source": [
    "#outlier detection in numerical\n",
    "fig=plt.figure(figsize=(13,13))\n",
    "axes=330\n",
    "\n",
    "#put numerical\n",
    "for num in numerical:\n",
    "    axes += 2\n",
    "    fig.add_subplot(axes)\n",
    "    #set title of num\n",
    "    sns.boxplot(data = numerical, x=num, color=\"y\") \n",
    "plt.show()"
   ]
  },
  {
   "cell_type": "markdown",
   "metadata": {},
   "source": [
    "Based on boxplot visualization for numeric feature. thevariable long, lat, and odomater has too many outliers so that we can drop it from the table. the price has so many outlier too.."
   ]
  },
  {
   "cell_type": "code",
   "execution_count": null,
   "metadata": {
    "execution": {
     "iopub.execute_input": "2021-11-19T09:27:29.409177Z",
     "iopub.status.busy": "2021-11-19T09:27:29.408892Z",
     "iopub.status.idle": "2021-11-19T09:27:29.422613Z",
     "shell.execute_reply": "2021-11-19T09:27:29.421687Z",
     "shell.execute_reply.started": "2021-11-19T09:27:29.409148Z"
    }
   },
   "outputs": [],
   "source": [
    "df['price'].quantile(0.25)"
   ]
  },
  {
   "cell_type": "code",
   "execution_count": null,
   "metadata": {
    "execution": {
     "iopub.execute_input": "2021-11-19T09:27:39.208962Z",
     "iopub.status.busy": "2021-11-19T09:27:39.208668Z",
     "iopub.status.idle": "2021-11-19T09:27:39.22217Z",
     "shell.execute_reply": "2021-11-19T09:27:39.22123Z",
     "shell.execute_reply.started": "2021-11-19T09:27:39.208932Z"
    }
   },
   "outputs": [],
   "source": [
    "df['price'].quantile(0.75)"
   ]
  },
  {
   "cell_type": "code",
   "execution_count": null,
   "metadata": {
    "execution": {
     "iopub.execute_input": "2021-11-19T09:27:48.086135Z",
     "iopub.status.busy": "2021-11-19T09:27:48.085821Z",
     "iopub.status.idle": "2021-11-19T09:27:48.104185Z",
     "shell.execute_reply": "2021-11-19T09:27:48.103502Z",
     "shell.execute_reply.started": "2021-11-19T09:27:48.086098Z"
    }
   },
   "outputs": [],
   "source": [
    "Q1= df['price'].quantile(0.25)\n",
    "Q3 = df['price'].quantile(0.75)\n",
    "IQR = Q3-Q1"
   ]
  },
  {
   "cell_type": "code",
   "execution_count": null,
   "metadata": {
    "execution": {
     "iopub.execute_input": "2021-11-19T09:27:54.733544Z",
     "iopub.status.busy": "2021-11-19T09:27:54.733218Z",
     "iopub.status.idle": "2021-11-19T09:27:54.739718Z",
     "shell.execute_reply": "2021-11-19T09:27:54.738685Z",
     "shell.execute_reply.started": "2021-11-19T09:27:54.733504Z"
    }
   },
   "outputs": [],
   "source": [
    "IQR"
   ]
  },
  {
   "cell_type": "code",
   "execution_count": null,
   "metadata": {
    "execution": {
     "iopub.execute_input": "2021-11-19T09:28:02.916081Z",
     "iopub.status.busy": "2021-11-19T09:28:02.915364Z",
     "iopub.status.idle": "2021-11-19T09:28:02.919763Z",
     "shell.execute_reply": "2021-11-19T09:28:02.919147Z",
     "shell.execute_reply.started": "2021-11-19T09:28:02.916037Z"
    }
   },
   "outputs": [],
   "source": [
    "lower_l = Q1 -1.5 * IQR\n",
    "upper_l = Q3+ 1.5 * IQR"
   ]
  },
  {
   "cell_type": "code",
   "execution_count": null,
   "metadata": {
    "execution": {
     "iopub.execute_input": "2021-11-19T09:28:10.763506Z",
     "iopub.status.busy": "2021-11-19T09:28:10.762924Z",
     "iopub.status.idle": "2021-11-19T09:28:10.7691Z",
     "shell.execute_reply": "2021-11-19T09:28:10.768444Z",
     "shell.execute_reply.started": "2021-11-19T09:28:10.763468Z"
    }
   },
   "outputs": [],
   "source": [
    "lower_l"
   ]
  },
  {
   "cell_type": "code",
   "execution_count": null,
   "metadata": {
    "execution": {
     "iopub.execute_input": "2021-11-19T09:28:18.599385Z",
     "iopub.status.busy": "2021-11-19T09:28:18.599054Z",
     "iopub.status.idle": "2021-11-19T09:28:18.604882Z",
     "shell.execute_reply": "2021-11-19T09:28:18.604171Z",
     "shell.execute_reply.started": "2021-11-19T09:28:18.599344Z"
    }
   },
   "outputs": [],
   "source": [
    "upper_l"
   ]
  },
  {
   "cell_type": "code",
   "execution_count": null,
   "metadata": {
    "execution": {
     "iopub.execute_input": "2021-11-19T09:28:30.665336Z",
     "iopub.status.busy": "2021-11-19T09:28:30.664665Z",
     "iopub.status.idle": "2021-11-19T09:28:30.669765Z",
     "shell.execute_reply": "2021-11-19T09:28:30.668979Z",
     "shell.execute_reply.started": "2021-11-19T09:28:30.665301Z"
    }
   },
   "outputs": [],
   "source": [
    "out_l= (df['price'] < lower_l)"
   ]
  },
  {
   "cell_type": "code",
   "execution_count": null,
   "metadata": {
    "execution": {
     "iopub.execute_input": "2021-11-19T09:28:39.989282Z",
     "iopub.status.busy": "2021-11-19T09:28:39.988507Z",
     "iopub.status.idle": "2021-11-19T09:28:39.994549Z",
     "shell.execute_reply": "2021-11-19T09:28:39.993339Z",
     "shell.execute_reply.started": "2021-11-19T09:28:39.98924Z"
    }
   },
   "outputs": [],
   "source": [
    "out_u= (df['price'] > upper_l)"
   ]
  },
  {
   "cell_type": "code",
   "execution_count": null,
   "metadata": {
    "execution": {
     "iopub.execute_input": "2021-11-19T09:28:49.059747Z",
     "iopub.status.busy": "2021-11-19T09:28:49.059408Z",
     "iopub.status.idle": "2021-11-19T09:28:49.06756Z",
     "shell.execute_reply": "2021-11-19T09:28:49.066929Z",
     "shell.execute_reply.started": "2021-11-19T09:28:49.059716Z"
    }
   },
   "outputs": [],
   "source": [
    "len (df['price']) - (len (df['price'] [out_l]) + len (df['price'][out_u]))"
   ]
  },
  {
   "cell_type": "code",
   "execution_count": null,
   "metadata": {
    "execution": {
     "iopub.execute_input": "2021-11-19T09:28:57.154226Z",
     "iopub.status.busy": "2021-11-19T09:28:57.15371Z",
     "iopub.status.idle": "2021-11-19T09:28:57.162323Z",
     "shell.execute_reply": "2021-11-19T09:28:57.161695Z",
     "shell.execute_reply.started": "2021-11-19T09:28:57.154191Z"
    }
   },
   "outputs": [],
   "source": [
    "df['price'][(out_l| out_u)]"
   ]
  },
  {
   "cell_type": "code",
   "execution_count": null,
   "metadata": {
    "execution": {
     "iopub.execute_input": "2021-11-19T09:29:08.22413Z",
     "iopub.status.busy": "2021-11-19T09:29:08.223838Z",
     "iopub.status.idle": "2021-11-19T09:29:08.236181Z",
     "shell.execute_reply": "2021-11-19T09:29:08.235333Z",
     "shell.execute_reply.started": "2021-11-19T09:29:08.224102Z"
    }
   },
   "outputs": [],
   "source": [
    "df['price'][~(out_l | out_u)]"
   ]
  },
  {
   "cell_type": "code",
   "execution_count": null,
   "metadata": {
    "execution": {
     "iopub.execute_input": "2021-11-19T09:29:29.718854Z",
     "iopub.status.busy": "2021-11-19T09:29:29.718389Z",
     "iopub.status.idle": "2021-11-19T09:29:29.859969Z",
     "shell.execute_reply": "2021-11-19T09:29:29.85905Z",
     "shell.execute_reply.started": "2021-11-19T09:29:29.718822Z"
    }
   },
   "outputs": [],
   "source": [
    "df= df[~(out_l | out_u)]\n",
    "df"
   ]
  },
  {
   "cell_type": "code",
   "execution_count": null,
   "metadata": {
    "execution": {
     "iopub.execute_input": "2021-11-19T09:29:43.916903Z",
     "iopub.status.busy": "2021-11-19T09:29:43.916594Z",
     "iopub.status.idle": "2021-11-19T09:29:44.07592Z",
     "shell.execute_reply": "2021-11-19T09:29:44.074931Z",
     "shell.execute_reply.started": "2021-11-19T09:29:43.916868Z"
    }
   },
   "outputs": [],
   "source": [
    "sns.boxplot(x= df['price'], color='y')\n",
    "plt.show"
   ]
  },
  {
   "cell_type": "code",
   "execution_count": null,
   "metadata": {
    "execution": {
     "iopub.execute_input": "2021-11-19T09:29:57.238791Z",
     "iopub.status.busy": "2021-11-19T09:29:57.238478Z",
     "iopub.status.idle": "2021-11-19T09:29:57.486236Z",
     "shell.execute_reply": "2021-11-19T09:29:57.485386Z",
     "shell.execute_reply.started": "2021-11-19T09:29:57.238756Z"
    }
   },
   "outputs": [],
   "source": [
    "sns.distplot(df['price'], bins=10 ,kde = False, color='y')\n",
    "plt.show"
   ]
  },
  {
   "cell_type": "code",
   "execution_count": null,
   "metadata": {
    "execution": {
     "iopub.execute_input": "2021-11-19T09:30:18.036814Z",
     "iopub.status.busy": "2021-11-19T09:30:18.036456Z",
     "iopub.status.idle": "2021-11-19T09:30:18.147454Z",
     "shell.execute_reply": "2021-11-19T09:30:18.146598Z",
     "shell.execute_reply.started": "2021-11-19T09:30:18.036782Z"
    }
   },
   "outputs": [],
   "source": [
    "#drop column long lat and odometer because there is too many outliers.\n",
    "d_final = df2.drop(columns=['long', 'lat', 'odometer'])\n",
    "d_final.head()"
   ]
  },
  {
   "cell_type": "markdown",
   "metadata": {},
   "source": [
    "**Data Visualization**\n",
    "\n"
   ]
  },
  {
   "cell_type": "markdown",
   "metadata": {},
   "source": [
    "Data visualization refers to the techniques used to communicate data or information by encoding it as visual isation objects.\n",
    "\n"
   ]
  },
  {
   "cell_type": "code",
   "execution_count": null,
   "metadata": {
    "execution": {
     "iopub.execute_input": "2021-11-19T09:30:32.280759Z",
     "iopub.status.busy": "2021-11-19T09:30:32.280131Z",
     "iopub.status.idle": "2021-11-19T09:30:32.582663Z",
     "shell.execute_reply": "2021-11-19T09:30:32.581874Z",
     "shell.execute_reply.started": "2021-11-19T09:30:32.280715Z"
    }
   },
   "outputs": [],
   "source": [
    "#1 For Category\n",
    "con=df['condition'].value_counts().head(30)\n",
    "plt.figure(figsize=(10,5))\n",
    "sns.barplot(con.index,con, color='y')\n",
    "plt.xticks(rotation=45,fontsize=15)\n",
    "plt.yticks(fontsize=15);\n",
    "plt.title('The condition of cars');"
   ]
  },
  {
   "cell_type": "markdown",
   "metadata": {},
   "source": [
    "Good condition the most condition of cars then excellent which is perfect for used cars conditions.\n",
    "\n"
   ]
  },
  {
   "cell_type": "code",
   "execution_count": null,
   "metadata": {
    "execution": {
     "iopub.execute_input": "2021-11-19T09:30:46.759078Z",
     "iopub.status.busy": "2021-11-19T09:30:46.758229Z",
     "iopub.status.idle": "2021-11-19T09:30:47.076582Z",
     "shell.execute_reply": "2021-11-19T09:30:47.07578Z",
     "shell.execute_reply.started": "2021-11-19T09:30:46.759024Z"
    }
   },
   "outputs": [],
   "source": [
    "#2\n",
    "\n",
    "cl=df['cylinders'].value_counts().head(30)\n",
    "plt.figure(figsize=(10,5))\n",
    "sns.barplot(cl.index,cl ,color='y')\n",
    "plt.xticks(rotation=45,fontsize=15)\n",
    "plt.yticks(fontsize=15);\n",
    "plt.title('The cylinders of cars');"
   ]
  },
  {
   "cell_type": "markdown",
   "metadata": {},
   "source": [
    "The top cylinders is 6 cylinder, 4 cylinders and 8 cylinder while 12 cylinder not recommended in this case.\n",
    "\n"
   ]
  },
  {
   "cell_type": "code",
   "execution_count": null,
   "metadata": {
    "execution": {
     "iopub.execute_input": "2021-11-19T09:31:07.39583Z",
     "iopub.status.busy": "2021-11-19T09:31:07.395386Z",
     "iopub.status.idle": "2021-11-19T09:31:07.7675Z",
     "shell.execute_reply": "2021-11-19T09:31:07.76659Z",
     "shell.execute_reply.started": "2021-11-19T09:31:07.395798Z"
    }
   },
   "outputs": [],
   "source": [
    "#3\n",
    "\n",
    "paint=df['paint_color'].value_counts().head(30)\n",
    "plt.figure(figsize=(10,5))\n",
    "sns.barplot(paint.index,paint, color='y')\n",
    "plt.xticks(rotation=45,fontsize=15)\n",
    "plt.yticks(fontsize=15);\n",
    "plt.title('The paint color of Cars');"
   ]
  },
  {
   "cell_type": "markdown",
   "metadata": {},
   "source": [
    "The top 3 for paint color of cars is White,Black and Silver.\n",
    "\n"
   ]
  },
  {
   "cell_type": "markdown",
   "metadata": {},
   "source": [
    "Questions :\n",
    "1. The most common manufacturers in dataset based on number of cars.\n",
    "2. The Highest Price Based on Types of Cars.\n",
    "3. 3-The most transmission type used based on manufacturer?"
   ]
  },
  {
   "cell_type": "code",
   "execution_count": null,
   "metadata": {
    "execution": {
     "iopub.execute_input": "2021-11-19T09:32:22.5109Z",
     "iopub.status.busy": "2021-11-19T09:32:22.510339Z",
     "iopub.status.idle": "2021-11-19T09:32:23.378364Z",
     "shell.execute_reply": "2021-11-19T09:32:23.377501Z",
     "shell.execute_reply.started": "2021-11-19T09:32:22.510864Z"
    }
   },
   "outputs": [],
   "source": [
    "# answe1\n",
    "manufacturers_counts = df['manufacturer'].value_counts().to_dict()\n",
    "fig = plt.figure(figsize=(25, 15), dpi= 100, facecolor='w', edgecolor='w')\n",
    "plt.bar(manufacturers_counts.keys(),manufacturers_counts.values(),color='y')\n",
    "plt.xticks(rotation = 90);\n",
    "plt.xlabel('Manufacturer');\n",
    "plt.ylabel('Number of cars on sale');"
   ]
  },
  {
   "cell_type": "markdown",
   "metadata": {},
   "source": [
    "The most frequent manufacturers in the top are : (Ford, Chevrolet, toyota, etc.)."
   ]
  },
  {
   "cell_type": "code",
   "execution_count": null,
   "metadata": {
    "execution": {
     "iopub.execute_input": "2021-11-19T09:33:09.445038Z",
     "iopub.status.busy": "2021-11-19T09:33:09.444709Z",
     "iopub.status.idle": "2021-11-19T09:33:09.538528Z",
     "shell.execute_reply": "2021-11-19T09:33:09.537632Z",
     "shell.execute_reply.started": "2021-11-19T09:33:09.445002Z"
    }
   },
   "outputs": [],
   "source": [
    "# answer 2\n",
    "joins = df[['manufacturer','type','price']]\n",
    "\n",
    "join_group =joins.groupby('type').mean().head(5).sort_values('price',ascending=False)\n",
    "\n",
    "\n",
    "join_group"
   ]
  },
  {
   "cell_type": "code",
   "execution_count": null,
   "metadata": {
    "execution": {
     "iopub.execute_input": "2021-11-19T09:33:28.863492Z",
     "iopub.status.busy": "2021-11-19T09:33:28.862521Z",
     "iopub.status.idle": "2021-11-19T09:33:29.080006Z",
     "shell.execute_reply": "2021-11-19T09:33:29.079376Z",
     "shell.execute_reply.started": "2021-11-19T09:33:28.863437Z"
    }
   },
   "outputs": [],
   "source": [
    "plt.figure(figsize=(12,6))\n",
    "\n",
    "x=range(5)\n",
    "plt.bar(x,join_group['price'], color='y')\n",
    "plt.xticks(x,join_group.index)\n",
    "plt.xlabel('Type of Cars')\n",
    "plt.ylabel('Price')\n",
    "plt.title('5 Most Highest Price Based on Type of Cars')\n",
    "plt.show()"
   ]
  },
  {
   "cell_type": "markdown",
   "metadata": {},
   "source": [
    "The Coupe cars the most highest price after that Convertible cars while lowest price for bus type.\n",
    "\n"
   ]
  },
  {
   "cell_type": "code",
   "execution_count": null,
   "metadata": {
    "execution": {
     "iopub.execute_input": "2021-11-19T09:34:14.092242Z",
     "iopub.status.busy": "2021-11-19T09:34:14.09171Z",
     "iopub.status.idle": "2021-11-19T09:34:14.688746Z",
     "shell.execute_reply": "2021-11-19T09:34:14.687845Z",
     "shell.execute_reply.started": "2021-11-19T09:34:14.09219Z"
    }
   },
   "outputs": [],
   "source": [
    "# answer 3\n",
    "\n",
    "trans_ser = df.groupby('manufacturer').transmission.value_counts()\n",
    "trans_ser_df = pd.DataFrame(trans_ser.unstack())\n",
    "\n",
    "plt.subplots(figsize=(12, 7))\n",
    "sns.heatmap(trans_ser_df,  cmap='gray_r', linecolor='olive',linewidth=1);"
   ]
  },
  {
   "cell_type": "markdown",
   "metadata": {},
   "source": [
    "The most Manufacturer used automatic transmission and no surprise in that.\n",
    "\n"
   ]
  },
  {
   "cell_type": "markdown",
   "metadata": {},
   "source": [
    "**Price of type of cars for each type of fuel.**"
   ]
  },
  {
   "cell_type": "code",
   "execution_count": null,
   "metadata": {
    "execution": {
     "iopub.execute_input": "2021-11-19T09:34:51.438438Z",
     "iopub.status.busy": "2021-11-19T09:34:51.437781Z",
     "iopub.status.idle": "2021-11-19T09:34:52.503024Z",
     "shell.execute_reply": "2021-11-19T09:34:52.502198Z",
     "shell.execute_reply.started": "2021-11-19T09:34:51.438367Z"
    }
   },
   "outputs": [],
   "source": [
    "try2=df[['type','fuel','price']][df['price']<=150000].groupby(['type','fuel']).mean()\n",
    "try2.reset_index(level=0,inplace=True)\n",
    "try2.reset_index(level=0,inplace=True)\n",
    "try2=try2.sort_values(['type','fuel'])\n",
    "plt.figure(figsize=(15,10))\n",
    "sns.barplot(x='type', y='price', hue='fuel', data=try2, color='y')\n",
    "plt.xticks(rotation=45,fontsize=20)\n",
    "plt.ylabel('price',fontsize=20)\n",
    "plt.legend(fontsize=20)\n",
    "plt.title('Price of type of cars for each type of fuel');"
   ]
  },
  {
   "cell_type": "markdown",
   "metadata": {},
   "source": [
    "Cars with different type of fuel and price for each type.\n",
    "\n"
   ]
  },
  {
   "cell_type": "markdown",
   "metadata": {},
   "source": [
    "If you want to buy a certain type of used car, chart above could help you to decide your decision So, those are some information we can obtain by doing this EDA.!"
   ]
  }
 ],
 "metadata": {
  "kernelspec": {
   "display_name": "Python 3",
   "language": "python",
   "name": "python3"
  },
  "language_info": {
   "codemirror_mode": {
    "name": "ipython",
    "version": 3
   },
   "file_extension": ".py",
   "mimetype": "text/x-python",
   "name": "python",
   "nbconvert_exporter": "python",
   "pygments_lexer": "ipython3",
   "version": "3.8.3"
  }
 },
 "nbformat": 4,
 "nbformat_minor": 4
}
