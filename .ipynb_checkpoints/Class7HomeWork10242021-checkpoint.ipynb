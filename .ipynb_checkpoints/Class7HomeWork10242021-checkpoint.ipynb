{
 "cells": [
  {
   "cell_type": "markdown",
   "metadata": {},
   "source": [
    "Turn in a Jupyter Notebook, in which you:\n",
    "\n",
    "load your data set (from .csv or a saved set of objects from a previous Python session)\n",
    "\n",
    "Using your team’s dependent variable of choice and the best set of x’s that you have identified from your previous weeks’ work, run either a linear or logistic regression and compute the mean squared prediction error (for linear) or F1 score (for logistic). Copy and paste if you have already done so.\n",
    "\n",
    "Then run the appropriate decision tree or random forest code for your continuous or categorical independent variable, and compute the mean squared prediction error (for continuous) or F1 score (for binary).\n",
    "\n",
    "Compare all three scores and determine which model is the best predictor for your data. Which model won the horse race?\n",
    "\n",
    "Include your observations as #comments in a cell in your notebook."
   ]
  },
  {
   "cell_type": "code",
   "execution_count": 53,
   "metadata": {},
   "outputs": [
    {
     "name": "stdout",
     "output_type": "stream",
     "text": [
      "Finished!\n"
     ]
    }
   ],
   "source": [
    "from dmba import regressionSummary, exhaustive_search\n",
    "from dmba import backward_elimination, forward_selection, stepwise_selection\n",
    "from dmba import adjusted_r2_score, AIC_score, BIC_score\n",
    "\n",
    "import pandas as pd \n",
    "from sklearn.model_selection import train_test_split\n",
    "from statsmodels.formula.api import ols\n",
    "from sklearn.linear_model import LinearRegression, LogisticRegression, Lasso, Ridge, LassoCV, BayesianRidge\n",
    "from sklearn.feature_selection import SelectFromModel\n",
    "# third-party python pkgs\n",
    "from sklearn.model_selection import train_test_split\n",
    "from sklearn.utils import resample\n",
    "from sklearn import tree\n",
    "from sklearn.ensemble import RandomForestClassifier\n",
    "from sklearn.ensemble import RandomForestRegressor\n",
    "from sklearn.datasets import make_classification\n",
    "from sklearn.tree import DecisionTreeClassifier\n",
    "from sklearn.tree import DecisionTreeRegressor\n",
    "from sklearn import metrics\n",
    "\n",
    "\n",
    "print(\"Finished!\")\n"
   ]
  },
  {
   "cell_type": "code",
   "execution_count": 103,
   "metadata": {},
   "outputs": [
    {
     "data": {
      "text/html": [
       "<div>\n",
       "<style scoped>\n",
       "    .dataframe tbody tr th:only-of-type {\n",
       "        vertical-align: middle;\n",
       "    }\n",
       "\n",
       "    .dataframe tbody tr th {\n",
       "        vertical-align: top;\n",
       "    }\n",
       "\n",
       "    .dataframe thead th {\n",
       "        text-align: right;\n",
       "    }\n",
       "</style>\n",
       "<table border=\"1\" class=\"dataframe\">\n",
       "  <thead>\n",
       "    <tr style=\"text-align: right;\">\n",
       "      <th></th>\n",
       "      <th>id</th>\n",
       "      <th>name</th>\n",
       "      <th>description</th>\n",
       "      <th>host_name</th>\n",
       "      <th>host_is_superhost</th>\n",
       "      <th>host_total_listings_count</th>\n",
       "      <th>host_has_profile_pic</th>\n",
       "      <th>host_identity_verified</th>\n",
       "      <th>neighborhood</th>\n",
       "      <th>neighborhood_detail</th>\n",
       "      <th>...</th>\n",
       "      <th>is_business_travel_ready</th>\n",
       "      <th>cancellation_policy</th>\n",
       "      <th>require_guest_profile_picture</th>\n",
       "      <th>require_guest_phone_verification</th>\n",
       "      <th>free_parking</th>\n",
       "      <th>wifi</th>\n",
       "      <th>pets</th>\n",
       "      <th>gym</th>\n",
       "      <th>breakfast</th>\n",
       "      <th>kid_friendly</th>\n",
       "    </tr>\n",
       "  </thead>\n",
       "  <tbody>\n",
       "    <tr>\n",
       "      <th>0</th>\n",
       "      <td>4951402</td>\n",
       "      <td>Best Location on the UWS!!</td>\n",
       "      <td>Clean cozy room on the UWS, a minute walk to t...</td>\n",
       "      <td>Sasha</td>\n",
       "      <td>f</td>\n",
       "      <td>2</td>\n",
       "      <td>t</td>\n",
       "      <td>t</td>\n",
       "      <td>Manhattan</td>\n",
       "      <td>Upper West Side</td>\n",
       "      <td>...</td>\n",
       "      <td>f</td>\n",
       "      <td>flexible</td>\n",
       "      <td>f</td>\n",
       "      <td>f</td>\n",
       "      <td>f</td>\n",
       "      <td>t</td>\n",
       "      <td>t</td>\n",
       "      <td>f</td>\n",
       "      <td>f</td>\n",
       "      <td>t</td>\n",
       "    </tr>\n",
       "    <tr>\n",
       "      <th>1</th>\n",
       "      <td>16103920</td>\n",
       "      <td>The Executive Loft Manhattan</td>\n",
       "      <td>This wonderful apartment is located on a prime...</td>\n",
       "      <td>Francisco</td>\n",
       "      <td>f</td>\n",
       "      <td>1</td>\n",
       "      <td>t</td>\n",
       "      <td>f</td>\n",
       "      <td>Manhattan</td>\n",
       "      <td>Chelsea</td>\n",
       "      <td>...</td>\n",
       "      <td>f</td>\n",
       "      <td>strict_14_with_grace_period</td>\n",
       "      <td>f</td>\n",
       "      <td>f</td>\n",
       "      <td>f</td>\n",
       "      <td>t</td>\n",
       "      <td>f</td>\n",
       "      <td>f</td>\n",
       "      <td>f</td>\n",
       "      <td>t</td>\n",
       "    </tr>\n",
       "    <tr>\n",
       "      <th>2</th>\n",
       "      <td>35803621</td>\n",
       "      <td>TRANQUIL HAVEN-8 MINS TO JFK/LIRR/AIRTRAIN RM#2.</td>\n",
       "      <td>This spacious bedroom with shared bath is loca...</td>\n",
       "      <td>Sharon</td>\n",
       "      <td>f</td>\n",
       "      <td>2</td>\n",
       "      <td>t</td>\n",
       "      <td>t</td>\n",
       "      <td>Queens</td>\n",
       "      <td>Jamaica</td>\n",
       "      <td>...</td>\n",
       "      <td>f</td>\n",
       "      <td>moderate</td>\n",
       "      <td>f</td>\n",
       "      <td>f</td>\n",
       "      <td>f</td>\n",
       "      <td>t</td>\n",
       "      <td>f</td>\n",
       "      <td>f</td>\n",
       "      <td>f</td>\n",
       "      <td>f</td>\n",
       "    </tr>\n",
       "    <tr>\n",
       "      <th>3</th>\n",
       "      <td>12223531</td>\n",
       "      <td>Spacious and sun-drenched bedroom</td>\n",
       "      <td>Spacious and sun-drenched bedroom in Williamsb...</td>\n",
       "      <td>Mimi</td>\n",
       "      <td>f</td>\n",
       "      <td>2</td>\n",
       "      <td>t</td>\n",
       "      <td>t</td>\n",
       "      <td>Brooklyn</td>\n",
       "      <td>Williamsburg</td>\n",
       "      <td>...</td>\n",
       "      <td>f</td>\n",
       "      <td>flexible</td>\n",
       "      <td>f</td>\n",
       "      <td>f</td>\n",
       "      <td>f</td>\n",
       "      <td>t</td>\n",
       "      <td>f</td>\n",
       "      <td>f</td>\n",
       "      <td>f</td>\n",
       "      <td>f</td>\n",
       "    </tr>\n",
       "    <tr>\n",
       "      <th>4</th>\n",
       "      <td>34120534</td>\n",
       "      <td>Sunlit Apartment in the \"Friends Building\"</td>\n",
       "      <td>Spacious sun soaked one bedroom apartment in t...</td>\n",
       "      <td>Vaughn</td>\n",
       "      <td>f</td>\n",
       "      <td>1</td>\n",
       "      <td>t</td>\n",
       "      <td>f</td>\n",
       "      <td>West Village</td>\n",
       "      <td>West Village</td>\n",
       "      <td>...</td>\n",
       "      <td>f</td>\n",
       "      <td>flexible</td>\n",
       "      <td>f</td>\n",
       "      <td>f</td>\n",
       "      <td>t</td>\n",
       "      <td>t</td>\n",
       "      <td>t</td>\n",
       "      <td>f</td>\n",
       "      <td>f</td>\n",
       "      <td>f</td>\n",
       "    </tr>\n",
       "  </tbody>\n",
       "</table>\n",
       "<p>5 rows × 44 columns</p>\n",
       "</div>"
      ],
      "text/plain": [
       "         id                                              name  \\\n",
       "0   4951402                        Best Location on the UWS!!   \n",
       "1  16103920                      The Executive Loft Manhattan   \n",
       "2  35803621  TRANQUIL HAVEN-8 MINS TO JFK/LIRR/AIRTRAIN RM#2.   \n",
       "3  12223531                 Spacious and sun-drenched bedroom   \n",
       "4  34120534        Sunlit Apartment in the \"Friends Building\"   \n",
       "\n",
       "                                         description  host_name  \\\n",
       "0  Clean cozy room on the UWS, a minute walk to t...      Sasha   \n",
       "1  This wonderful apartment is located on a prime...  Francisco   \n",
       "2  This spacious bedroom with shared bath is loca...     Sharon   \n",
       "3  Spacious and sun-drenched bedroom in Williamsb...       Mimi   \n",
       "4  Spacious sun soaked one bedroom apartment in t...     Vaughn   \n",
       "\n",
       "  host_is_superhost  host_total_listings_count host_has_profile_pic  \\\n",
       "0                 f                          2                    t   \n",
       "1                 f                          1                    t   \n",
       "2                 f                          2                    t   \n",
       "3                 f                          2                    t   \n",
       "4                 f                          1                    t   \n",
       "\n",
       "  host_identity_verified  neighborhood neighborhood_detail  ...  \\\n",
       "0                      t     Manhattan     Upper West Side  ...   \n",
       "1                      f     Manhattan             Chelsea  ...   \n",
       "2                      t        Queens             Jamaica  ...   \n",
       "3                      t      Brooklyn        Williamsburg  ...   \n",
       "4                      f  West Village        West Village  ...   \n",
       "\n",
       "  is_business_travel_ready          cancellation_policy  \\\n",
       "0                        f                     flexible   \n",
       "1                        f  strict_14_with_grace_period   \n",
       "2                        f                     moderate   \n",
       "3                        f                     flexible   \n",
       "4                        f                     flexible   \n",
       "\n",
       "  require_guest_profile_picture  require_guest_phone_verification  \\\n",
       "0                             f                                 f   \n",
       "1                             f                                 f   \n",
       "2                             f                                 f   \n",
       "3                             f                                 f   \n",
       "4                             f                                 f   \n",
       "\n",
       "   free_parking wifi pets gym  breakfast  kid_friendly  \n",
       "0             f    t    t   f          f             t  \n",
       "1             f    t    f   f          f             t  \n",
       "2             f    t    f   f          f             f  \n",
       "3             f    t    f   f          f             f  \n",
       "4             t    t    t   f          f             f  \n",
       "\n",
       "[5 rows x 44 columns]"
      ]
     },
     "execution_count": 103,
     "metadata": {},
     "output_type": "execute_result"
    }
   ],
   "source": [
    "# Ingest your team’s data set (from .csv or a saved set of objects from a previous Python session)\n",
    "# Read in data and create data frame; call it \"airbnbnyc\"\n",
    "airbnbnyc = pd.read_csv(\"airbnb_nyc_trimmed.csv\")\n",
    "airbnbnyc.head()"
   ]
  },
  {
   "cell_type": "code",
   "execution_count": 104,
   "metadata": {
    "scrolled": true
   },
   "outputs": [
    {
     "data": {
      "text/html": [
       "<div>\n",
       "<style scoped>\n",
       "    .dataframe tbody tr th:only-of-type {\n",
       "        vertical-align: middle;\n",
       "    }\n",
       "\n",
       "    .dataframe tbody tr th {\n",
       "        vertical-align: top;\n",
       "    }\n",
       "\n",
       "    .dataframe thead th {\n",
       "        text-align: right;\n",
       "    }\n",
       "</style>\n",
       "<table border=\"1\" class=\"dataframe\">\n",
       "  <thead>\n",
       "    <tr style=\"text-align: right;\">\n",
       "      <th></th>\n",
       "      <th>neighborhood</th>\n",
       "      <th>borough</th>\n",
       "      <th>review_scores_rating</th>\n",
       "      <th>beds</th>\n",
       "      <th>neighborhood_detail</th>\n",
       "      <th>bed_type</th>\n",
       "      <th>price</th>\n",
       "      <th>cancellation_policy</th>\n",
       "      <th>host_is_superhost</th>\n",
       "      <th>accommodates</th>\n",
       "      <th>room_type</th>\n",
       "    </tr>\n",
       "  </thead>\n",
       "  <tbody>\n",
       "    <tr>\n",
       "      <th>0</th>\n",
       "      <td>Manhattan</td>\n",
       "      <td>Manhattan</td>\n",
       "      <td>94</td>\n",
       "      <td>1.0</td>\n",
       "      <td>Upper West Side</td>\n",
       "      <td>Real Bed</td>\n",
       "      <td>78</td>\n",
       "      <td>flexible</td>\n",
       "      <td>f</td>\n",
       "      <td>2</td>\n",
       "      <td>Private room</td>\n",
       "    </tr>\n",
       "    <tr>\n",
       "      <th>1</th>\n",
       "      <td>Manhattan</td>\n",
       "      <td>Manhattan</td>\n",
       "      <td>83</td>\n",
       "      <td>3.0</td>\n",
       "      <td>Chelsea</td>\n",
       "      <td>Real Bed</td>\n",
       "      <td>200</td>\n",
       "      <td>strict_14_with_grace_period</td>\n",
       "      <td>f</td>\n",
       "      <td>5</td>\n",
       "      <td>Entire home/apt</td>\n",
       "    </tr>\n",
       "    <tr>\n",
       "      <th>2</th>\n",
       "      <td>Queens</td>\n",
       "      <td>Queens</td>\n",
       "      <td>95</td>\n",
       "      <td>1.0</td>\n",
       "      <td>Jamaica</td>\n",
       "      <td>Real Bed</td>\n",
       "      <td>60</td>\n",
       "      <td>moderate</td>\n",
       "      <td>f</td>\n",
       "      <td>2</td>\n",
       "      <td>Private room</td>\n",
       "    </tr>\n",
       "    <tr>\n",
       "      <th>3</th>\n",
       "      <td>Brooklyn</td>\n",
       "      <td>Brooklyn</td>\n",
       "      <td>80</td>\n",
       "      <td>1.0</td>\n",
       "      <td>Williamsburg</td>\n",
       "      <td>Real Bed</td>\n",
       "      <td>80</td>\n",
       "      <td>flexible</td>\n",
       "      <td>f</td>\n",
       "      <td>2</td>\n",
       "      <td>Private room</td>\n",
       "    </tr>\n",
       "    <tr>\n",
       "      <th>4</th>\n",
       "      <td>West Village</td>\n",
       "      <td>Manhattan</td>\n",
       "      <td>100</td>\n",
       "      <td>1.0</td>\n",
       "      <td>West Village</td>\n",
       "      <td>Real Bed</td>\n",
       "      <td>500</td>\n",
       "      <td>flexible</td>\n",
       "      <td>f</td>\n",
       "      <td>4</td>\n",
       "      <td>Entire home/apt</td>\n",
       "    </tr>\n",
       "  </tbody>\n",
       "</table>\n",
       "</div>"
      ],
      "text/plain": [
       "   neighborhood    borough  review_scores_rating  beds neighborhood_detail  \\\n",
       "0     Manhattan  Manhattan                    94   1.0     Upper West Side   \n",
       "1     Manhattan  Manhattan                    83   3.0             Chelsea   \n",
       "2        Queens     Queens                    95   1.0             Jamaica   \n",
       "3      Brooklyn   Brooklyn                    80   1.0        Williamsburg   \n",
       "4  West Village  Manhattan                   100   1.0        West Village   \n",
       "\n",
       "   bed_type  price          cancellation_policy host_is_superhost  \\\n",
       "0  Real Bed     78                     flexible                 f   \n",
       "1  Real Bed    200  strict_14_with_grace_period                 f   \n",
       "2  Real Bed     60                     moderate                 f   \n",
       "3  Real Bed     80                     flexible                 f   \n",
       "4  Real Bed    500                     flexible                 f   \n",
       "\n",
       "   accommodates        room_type  \n",
       "0             2     Private room  \n",
       "1             5  Entire home/apt  \n",
       "2             2     Private room  \n",
       "3             2     Private room  \n",
       "4             4  Entire home/apt  "
      ]
     },
     "execution_count": 104,
     "metadata": {},
     "output_type": "execute_result"
    }
   ],
   "source": [
    "#Pick what I need\n",
    "#airbnb_assignment4_subset['beds'] = airbnb_assignment4_subset['beds'].astype(str).apply(lambda x: x.replace('.0','')\n",
    "airbnb_assignment4_subset = airbnbnyc[['neighborhood', 'borough' , 'review_scores_rating','beds','neighborhood_detail', 'bed_type' , 'price' , 'cancellation_policy','host_is_superhost','accommodates','room_type' ]]\n",
    "airbnb_assignment4_subset.head()"
   ]
  },
  {
   "cell_type": "code",
   "execution_count": 63,
   "metadata": {},
   "outputs": [
    {
     "name": "stdout",
     "output_type": "stream",
     "text": [
      "neighborhood\n",
      "borough\n",
      "review_scores_rating\n",
      "beds\n",
      "neighborhood_detail\n",
      "bed_type\n",
      "price\n",
      "cancellation_policy\n",
      "host_is_superhost\n",
      "accommodates\n",
      "room_type\n"
     ]
    }
   ],
   "source": [
    "# Print your column names for easy copying and pasting\n",
    "for col in airbnb_assignment4_subset.columns: \n",
    "    print(col) "
   ]
  },
  {
   "cell_type": "code",
   "execution_count": 64,
   "metadata": {},
   "outputs": [],
   "source": [
    "# Isolate your X's and y aka dependent and independent variables. Here review_score_rating is my dependent Variable\n",
    "independent = ['price','bed_type','neighborhood_detail', 'cancellation_policy','host_is_superhost','room_type']\n",
    "dependent = 'review_scores_rating'"
   ]
  },
  {
   "cell_type": "code",
   "execution_count": 65,
   "metadata": {},
   "outputs": [],
   "source": [
    "# Split your data frame into training and test sets: 80% training; 20% test\n",
    "X = pd.get_dummies(airbnb_assignment4_subset[independent], drop_first=True)\n",
    "y = airbnb_assignment4_subset[dependent]\n",
    "train_X, test_X, train_y, test_y = train_test_split(X, y, test_size = 0.2, random_state=200)"
   ]
  },
  {
   "cell_type": "markdown",
   "metadata": {},
   "source": [
    "# Using your team’s dependent variable of choice and either linear or logistic regression, run at least 2 automated variable selection processes."
   ]
  },
  {
   "cell_type": "markdown",
   "metadata": {},
   "source": [
    "# BACKWARD ELIMINATION"
   ]
  },
  {
   "cell_type": "code",
   "execution_count": 7,
   "metadata": {
    "scrolled": true
   },
   "outputs": [
    {
     "name": "stdout",
     "output_type": "stream",
     "text": [
      "Variables: price, bed_type_Futon, bed_type_Pull-out Sofa, bed_type_Real Bed, neighborhood_detail_Arverne, neighborhood_detail_Astoria, neighborhood_detail_Battery Park City, neighborhood_detail_Bay Ridge, neighborhood_detail_Bedford-Stuyvesant, neighborhood_detail_Bellerose, neighborhood_detail_Belmont, neighborhood_detail_Bensonhurst, neighborhood_detail_Boerum Hill, neighborhood_detail_Borough Park, neighborhood_detail_Briarwood, neighborhood_detail_Bronxdale, neighborhood_detail_Brooklyn Heights, neighborhood_detail_Brownsville, neighborhood_detail_Bushwick, neighborhood_detail_Canarsie, neighborhood_detail_Carroll Gardens, neighborhood_detail_Chelsea, neighborhood_detail_Chinatown, neighborhood_detail_Clifton, neighborhood_detail_Clinton Hill, neighborhood_detail_Cobble Hill, neighborhood_detail_Concourse Village, neighborhood_detail_Corona, neighborhood_detail_Crown Heights, neighborhood_detail_Cypress Hills, neighborhood_detail_Ditmars Steinway, neighborhood_detail_Dongan Hills, neighborhood_detail_East Elmhurst, neighborhood_detail_East Flatbush, neighborhood_detail_East Harlem, neighborhood_detail_East New York, neighborhood_detail_East Village, neighborhood_detail_Elmhurst, neighborhood_detail_Far Rockaway, neighborhood_detail_Financial District, neighborhood_detail_Flatbush, neighborhood_detail_Flatiron District, neighborhood_detail_Flushing, neighborhood_detail_Forest Hills, neighborhood_detail_Fort Greene, neighborhood_detail_Fort Hamilton, neighborhood_detail_Glendale, neighborhood_detail_Gowanus, neighborhood_detail_Gramercy, neighborhood_detail_Gravesend, neighborhood_detail_Greenpoint, neighborhood_detail_Greenwich Village, neighborhood_detail_Harlem, neighborhood_detail_Hell's Kitchen, neighborhood_detail_Highbridge, neighborhood_detail_Howard Beach, neighborhood_detail_Hunts Point, neighborhood_detail_Inwood, neighborhood_detail_Jackson Heights, neighborhood_detail_Jamaica, neighborhood_detail_Kensington, neighborhood_detail_Kew Gardens Hills, neighborhood_detail_Kingsbridge, neighborhood_detail_Kips Bay, neighborhood_detail_Laurelton, neighborhood_detail_Little Italy, neighborhood_detail_Long Island City, neighborhood_detail_Lower East Side, neighborhood_detail_Mariners Harbor, neighborhood_detail_Maspeth, neighborhood_detail_Midland Beach, neighborhood_detail_Midtown, neighborhood_detail_Midwood, neighborhood_detail_Morningside Heights, neighborhood_detail_Morris Heights, neighborhood_detail_Morrisania, neighborhood_detail_Mott Haven, neighborhood_detail_Mount Hope, neighborhood_detail_Murray Hill, neighborhood_detail_Nolita, neighborhood_detail_Ozone Park, neighborhood_detail_Park Slope, neighborhood_detail_Parkchester, neighborhood_detail_Pelham Bay, neighborhood_detail_Port Morris, neighborhood_detail_Prospect Heights, neighborhood_detail_Prospect-Lefferts Gardens, neighborhood_detail_Queens Village, neighborhood_detail_Red Hook, neighborhood_detail_Rego Park, neighborhood_detail_Richmond Hill, neighborhood_detail_Ridgewood, neighborhood_detail_Rockaway Beach, neighborhood_detail_Rosedale, neighborhood_detail_Sheepshead Bay, neighborhood_detail_Shore Acres, neighborhood_detail_SoHo, neighborhood_detail_South Ozone Park, neighborhood_detail_South Slope, neighborhood_detail_St. Albans, neighborhood_detail_St. George, neighborhood_detail_Stapleton, neighborhood_detail_Stuyvesant Town, neighborhood_detail_Sunnyside, neighborhood_detail_Sunset Park, neighborhood_detail_Theater District, neighborhood_detail_Tompkinsville, neighborhood_detail_Tribeca, neighborhood_detail_University Heights, neighborhood_detail_Upper East Side, neighborhood_detail_Upper West Side, neighborhood_detail_Wakefield, neighborhood_detail_Washington Heights, neighborhood_detail_West Village, neighborhood_detail_Williamsbridge, neighborhood_detail_Williamsburg, neighborhood_detail_Windsor Terrace, neighborhood_detail_Woodhaven, neighborhood_detail_Woodside, cancellation_policy_moderate, cancellation_policy_strict_14_with_grace_period, cancellation_policy_super_strict_30, host_is_superhost_t, room_type_Private room, room_type_Shared room\n",
      "Start: score=5891.06\n",
      "Step: score=5889.06, remove neighborhood_detail_Williamsbridge\n",
      "Step: score=5887.06, remove neighborhood_detail_Glendale\n",
      "Step: score=5885.06, remove neighborhood_detail_St. George\n",
      "Step: score=5883.06, remove neighborhood_detail_Hunts Point\n",
      "Step: score=5881.06, remove cancellation_policy_super_strict_30\n",
      "Step: score=5879.06, remove neighborhood_detail_Brownsville\n",
      "Step: score=5877.06, remove neighborhood_detail_Midland Beach\n",
      "Step: score=5875.06, remove neighborhood_detail_Morrisania\n",
      "Step: score=5873.06, remove neighborhood_detail_Pelham Bay\n",
      "Step: score=5871.06, remove neighborhood_detail_Stapleton\n",
      "Step: score=5869.06, remove neighborhood_detail_Arverne\n",
      "Step: score=5867.06, remove cancellation_policy_moderate\n",
      "Step: score=5865.52, remove price\n",
      "Step: score=5864.78, remove room_type_Shared room\n",
      "Step: score=5863.99, remove bed_type_Real Bed\n",
      "Step: score=5862.10, remove bed_type_Futon\n",
      "Step: score=5862.10, remove None\n",
      "['bed_type_Pull-out Sofa', 'neighborhood_detail_Astoria', 'neighborhood_detail_Battery Park City', 'neighborhood_detail_Bay Ridge', 'neighborhood_detail_Bedford-Stuyvesant', 'neighborhood_detail_Bellerose', 'neighborhood_detail_Belmont', 'neighborhood_detail_Bensonhurst', 'neighborhood_detail_Boerum Hill', 'neighborhood_detail_Borough Park', 'neighborhood_detail_Briarwood', 'neighborhood_detail_Bronxdale', 'neighborhood_detail_Brooklyn Heights', 'neighborhood_detail_Bushwick', 'neighborhood_detail_Canarsie', 'neighborhood_detail_Carroll Gardens', 'neighborhood_detail_Chelsea', 'neighborhood_detail_Chinatown', 'neighborhood_detail_Clifton', 'neighborhood_detail_Clinton Hill', 'neighborhood_detail_Cobble Hill', 'neighborhood_detail_Concourse Village', 'neighborhood_detail_Corona', 'neighborhood_detail_Crown Heights', 'neighborhood_detail_Cypress Hills', 'neighborhood_detail_Ditmars Steinway', 'neighborhood_detail_Dongan Hills', 'neighborhood_detail_East Elmhurst', 'neighborhood_detail_East Flatbush', 'neighborhood_detail_East Harlem', 'neighborhood_detail_East New York', 'neighborhood_detail_East Village', 'neighborhood_detail_Elmhurst', 'neighborhood_detail_Far Rockaway', 'neighborhood_detail_Financial District', 'neighborhood_detail_Flatbush', 'neighborhood_detail_Flatiron District', 'neighborhood_detail_Flushing', 'neighborhood_detail_Forest Hills', 'neighborhood_detail_Fort Greene', 'neighborhood_detail_Fort Hamilton', 'neighborhood_detail_Gowanus', 'neighborhood_detail_Gramercy', 'neighborhood_detail_Gravesend', 'neighborhood_detail_Greenpoint', 'neighborhood_detail_Greenwich Village', 'neighborhood_detail_Harlem', \"neighborhood_detail_Hell's Kitchen\", 'neighborhood_detail_Highbridge', 'neighborhood_detail_Howard Beach', 'neighborhood_detail_Inwood', 'neighborhood_detail_Jackson Heights', 'neighborhood_detail_Jamaica', 'neighborhood_detail_Kensington', 'neighborhood_detail_Kew Gardens Hills', 'neighborhood_detail_Kingsbridge', 'neighborhood_detail_Kips Bay', 'neighborhood_detail_Laurelton', 'neighborhood_detail_Little Italy', 'neighborhood_detail_Long Island City', 'neighborhood_detail_Lower East Side', 'neighborhood_detail_Mariners Harbor', 'neighborhood_detail_Maspeth', 'neighborhood_detail_Midtown', 'neighborhood_detail_Midwood', 'neighborhood_detail_Morningside Heights', 'neighborhood_detail_Morris Heights', 'neighborhood_detail_Mott Haven', 'neighborhood_detail_Mount Hope', 'neighborhood_detail_Murray Hill', 'neighborhood_detail_Nolita', 'neighborhood_detail_Ozone Park', 'neighborhood_detail_Park Slope', 'neighborhood_detail_Parkchester', 'neighborhood_detail_Port Morris', 'neighborhood_detail_Prospect Heights', 'neighborhood_detail_Prospect-Lefferts Gardens', 'neighborhood_detail_Queens Village', 'neighborhood_detail_Red Hook', 'neighborhood_detail_Rego Park', 'neighborhood_detail_Richmond Hill', 'neighborhood_detail_Ridgewood', 'neighborhood_detail_Rockaway Beach', 'neighborhood_detail_Rosedale', 'neighborhood_detail_Sheepshead Bay', 'neighborhood_detail_Shore Acres', 'neighborhood_detail_SoHo', 'neighborhood_detail_South Ozone Park', 'neighborhood_detail_South Slope', 'neighborhood_detail_St. Albans', 'neighborhood_detail_Stuyvesant Town', 'neighborhood_detail_Sunnyside', 'neighborhood_detail_Sunset Park', 'neighborhood_detail_Theater District', 'neighborhood_detail_Tompkinsville', 'neighborhood_detail_Tribeca', 'neighborhood_detail_University Heights', 'neighborhood_detail_Upper East Side', 'neighborhood_detail_Upper West Side', 'neighborhood_detail_Wakefield', 'neighborhood_detail_Washington Heights', 'neighborhood_detail_West Village', 'neighborhood_detail_Williamsburg', 'neighborhood_detail_Windsor Terrace', 'neighborhood_detail_Woodhaven', 'neighborhood_detail_Woodside', 'cancellation_policy_strict_14_with_grace_period', 'host_is_superhost_t', 'room_type_Private room']\n",
      "\n",
      "Regression statistics\n",
      "\n",
      "                      Mean Error (ME) : 4.3714\n",
      "       Root Mean Squared Error (RMSE) : 18.7879\n",
      "            Mean Absolute Error (MAE) : 9.5684\n",
      "          Mean Percentage Error (MPE) : 4.0205\n",
      "Mean Absolute Percentage Error (MAPE) : 10.4630\n"
     ]
    }
   ],
   "source": [
    "def train_model(variables):\n",
    "    model = LinearRegression()\n",
    "    model.fit(train_X[variables], train_y)\n",
    "    return model\n",
    "\n",
    "def score_model(model, variables):\n",
    "    return AIC_score(train_y, model.predict(train_X[variables]), model)\n",
    "\n",
    "allVariables = train_X.columns\n",
    "best_model, best_variables = backward_elimination(allVariables, train_model, score_model, verbose=True)\n",
    "\n",
    "print(best_variables)\n",
    "\n",
    "regressionSummary(test_y, best_model.predict(test_X[best_variables]))"
   ]
  },
  {
   "cell_type": "markdown",
   "metadata": {},
   "source": [
    "# Forward Selection"
   ]
  },
  {
   "cell_type": "markdown",
   "metadata": {},
   "source": [
    "#Using your team’s dependent variable of choice and \n",
    "#either linear or logistic regression, run at least 2 automated variable selection processes."
   ]
  },
  {
   "cell_type": "code",
   "execution_count": 8,
   "metadata": {
    "scrolled": true
   },
   "outputs": [
    {
     "name": "stdout",
     "output_type": "stream",
     "text": [
      "Variables: price, bed_type_Futon, bed_type_Pull-out Sofa, bed_type_Real Bed, neighborhood_detail_Arverne, neighborhood_detail_Astoria, neighborhood_detail_Battery Park City, neighborhood_detail_Bay Ridge, neighborhood_detail_Bedford-Stuyvesant, neighborhood_detail_Bellerose, neighborhood_detail_Belmont, neighborhood_detail_Bensonhurst, neighborhood_detail_Boerum Hill, neighborhood_detail_Borough Park, neighborhood_detail_Briarwood, neighborhood_detail_Bronxdale, neighborhood_detail_Brooklyn Heights, neighborhood_detail_Brownsville, neighborhood_detail_Bushwick, neighborhood_detail_Canarsie, neighborhood_detail_Carroll Gardens, neighborhood_detail_Chelsea, neighborhood_detail_Chinatown, neighborhood_detail_Clifton, neighborhood_detail_Clinton Hill, neighborhood_detail_Cobble Hill, neighborhood_detail_Concourse Village, neighborhood_detail_Corona, neighborhood_detail_Crown Heights, neighborhood_detail_Cypress Hills, neighborhood_detail_Ditmars Steinway, neighborhood_detail_Dongan Hills, neighborhood_detail_East Elmhurst, neighborhood_detail_East Flatbush, neighborhood_detail_East Harlem, neighborhood_detail_East New York, neighborhood_detail_East Village, neighborhood_detail_Elmhurst, neighborhood_detail_Far Rockaway, neighborhood_detail_Financial District, neighborhood_detail_Flatbush, neighborhood_detail_Flatiron District, neighborhood_detail_Flushing, neighborhood_detail_Forest Hills, neighborhood_detail_Fort Greene, neighborhood_detail_Fort Hamilton, neighborhood_detail_Glendale, neighborhood_detail_Gowanus, neighborhood_detail_Gramercy, neighborhood_detail_Gravesend, neighborhood_detail_Greenpoint, neighborhood_detail_Greenwich Village, neighborhood_detail_Harlem, neighborhood_detail_Hell's Kitchen, neighborhood_detail_Highbridge, neighborhood_detail_Howard Beach, neighborhood_detail_Hunts Point, neighborhood_detail_Inwood, neighborhood_detail_Jackson Heights, neighborhood_detail_Jamaica, neighborhood_detail_Kensington, neighborhood_detail_Kew Gardens Hills, neighborhood_detail_Kingsbridge, neighborhood_detail_Kips Bay, neighborhood_detail_Laurelton, neighborhood_detail_Little Italy, neighborhood_detail_Long Island City, neighborhood_detail_Lower East Side, neighborhood_detail_Mariners Harbor, neighborhood_detail_Maspeth, neighborhood_detail_Midland Beach, neighborhood_detail_Midtown, neighborhood_detail_Midwood, neighborhood_detail_Morningside Heights, neighborhood_detail_Morris Heights, neighborhood_detail_Morrisania, neighborhood_detail_Mott Haven, neighborhood_detail_Mount Hope, neighborhood_detail_Murray Hill, neighborhood_detail_Nolita, neighborhood_detail_Ozone Park, neighborhood_detail_Park Slope, neighborhood_detail_Parkchester, neighborhood_detail_Pelham Bay, neighborhood_detail_Port Morris, neighborhood_detail_Prospect Heights, neighborhood_detail_Prospect-Lefferts Gardens, neighborhood_detail_Queens Village, neighborhood_detail_Red Hook, neighborhood_detail_Rego Park, neighborhood_detail_Richmond Hill, neighborhood_detail_Ridgewood, neighborhood_detail_Rockaway Beach, neighborhood_detail_Rosedale, neighborhood_detail_Sheepshead Bay, neighborhood_detail_Shore Acres, neighborhood_detail_SoHo, neighborhood_detail_South Ozone Park, neighborhood_detail_South Slope, neighborhood_detail_St. Albans, neighborhood_detail_St. George, neighborhood_detail_Stapleton, neighborhood_detail_Stuyvesant Town, neighborhood_detail_Sunnyside, neighborhood_detail_Sunset Park, neighborhood_detail_Theater District, neighborhood_detail_Tompkinsville, neighborhood_detail_Tribeca, neighborhood_detail_University Heights, neighborhood_detail_Upper East Side, neighborhood_detail_Upper West Side, neighborhood_detail_Wakefield, neighborhood_detail_Washington Heights, neighborhood_detail_West Village, neighborhood_detail_Williamsbridge, neighborhood_detail_Williamsburg, neighborhood_detail_Windsor Terrace, neighborhood_detail_Woodhaven, neighborhood_detail_Woodside, cancellation_policy_moderate, cancellation_policy_strict_14_with_grace_period, cancellation_policy_super_strict_30, host_is_superhost_t, room_type_Private room, room_type_Shared room\n",
      "Start: score=5892.89, constant\n",
      "Step: score=5834.18, add neighborhood_detail_Arverne\n",
      "Step: score=5784.24, add neighborhood_detail_Kingsbridge\n",
      "Step: score=5747.55, add host_is_superhost_t\n",
      "Step: score=5734.37, add neighborhood_detail_Kips Bay\n",
      "Step: score=5727.58, add neighborhood_detail_Windsor Terrace\n",
      "Step: score=5721.66, add neighborhood_detail_East Harlem\n",
      "Step: score=5717.28, add neighborhood_detail_Crown Heights\n",
      "Step: score=5713.80, add neighborhood_detail_Stuyvesant Town\n",
      "Step: score=5711.19, add room_type_Private room\n",
      "Step: score=5709.18, add cancellation_policy_strict_14_with_grace_period\n",
      "Step: score=5708.08, add neighborhood_detail_Murray Hill\n",
      "Step: score=5707.34, add neighborhood_detail_Chelsea\n",
      "Step: score=5706.94, add neighborhood_detail_Borough Park\n",
      "Step: score=5706.55, add neighborhood_detail_Brooklyn Heights\n",
      "Step: score=5706.55, add None\n",
      "['neighborhood_detail_Arverne', 'neighborhood_detail_Kingsbridge', 'host_is_superhost_t', 'neighborhood_detail_Kips Bay', 'neighborhood_detail_Windsor Terrace', 'neighborhood_detail_East Harlem', 'neighborhood_detail_Crown Heights', 'neighborhood_detail_Stuyvesant Town', 'room_type_Private room', 'cancellation_policy_strict_14_with_grace_period', 'neighborhood_detail_Murray Hill', 'neighborhood_detail_Chelsea', 'neighborhood_detail_Borough Park', 'neighborhood_detail_Brooklyn Heights']\n",
      "\n",
      "Regression statistics\n",
      "\n",
      "                      Mean Error (ME) : 0.8472\n",
      "       Root Mean Squared Error (RMSE) : 8.3255\n",
      "            Mean Absolute Error (MAE) : 5.6861\n",
      "          Mean Percentage Error (MPE) : 0.3123\n",
      "Mean Absolute Percentage Error (MAPE) : 6.3648\n"
     ]
    }
   ],
   "source": [
    "def train_model(variables):\n",
    "    if len(variables) == 0:\n",
    "        return None\n",
    "    model = LinearRegression()\n",
    "    model.fit(train_X[variables], train_y)\n",
    "    return model\n",
    "\n",
    "def score_model(model, variables):\n",
    "    if len(variables) == 0:\n",
    "        return AIC_score(train_y, [train_y.mean()] * len(train_y), model, df=1)\n",
    "    return AIC_score(train_y, model.predict(train_X[variables]), model)\n",
    "\n",
    "best_model, best_variables = forward_selection(train_X.columns, train_model, score_model, verbose=True)\n",
    "\n",
    "print(best_variables)\n",
    "\n",
    "regressionSummary(test_y, best_model.predict(test_X[best_variables]))"
   ]
  },
  {
   "cell_type": "markdown",
   "metadata": {},
   "source": [
    "# Let's Try Ridge as well"
   ]
  },
  {
   "cell_type": "code",
   "execution_count": 9,
   "metadata": {
    "scrolled": false
   },
   "outputs": [
    {
     "name": "stdout",
     "output_type": "stream",
     "text": [
      "\n",
      "Regression statistics\n",
      "\n",
      "                      Mean Error (ME) : 0.4769\n",
      "       Root Mean Squared Error (RMSE) : 7.2474\n",
      "            Mean Absolute Error (MAE) : 5.3092\n",
      "          Mean Percentage Error (MPE) : -0.1090\n",
      "Mean Absolute Percentage Error (MAPE) : 5.9820\n"
     ]
    }
   ],
   "source": [
    "# Run the model using the same training and test objects as above\n",
    "ridge = Ridge(normalize=True, alpha=1)\n",
    "ridge.fit(train_X, train_y)\n",
    "regressionSummary(test_y, ridge.predict(test_X))"
   ]
  },
  {
   "cell_type": "code",
   "execution_count": 11,
   "metadata": {},
   "outputs": [
    {
     "data": {
      "text/plain": [
       "Index(['bed_type_Pull-out Sofa', 'neighborhood_detail_Arverne',\n",
       "       'neighborhood_detail_Battery Park City',\n",
       "       'neighborhood_detail_Bedford-Stuyvesant',\n",
       "       'neighborhood_detail_Boerum Hill', 'neighborhood_detail_Borough Park',\n",
       "       'neighborhood_detail_Briarwood', 'neighborhood_detail_Brooklyn Heights',\n",
       "       'neighborhood_detail_Cobble Hill',\n",
       "       'neighborhood_detail_Concourse Village', 'neighborhood_detail_Corona',\n",
       "       'neighborhood_detail_Crown Heights',\n",
       "       'neighborhood_detail_Ditmars Steinway',\n",
       "       'neighborhood_detail_East Harlem', 'neighborhood_detail_East New York',\n",
       "       'neighborhood_detail_Far Rockaway', 'neighborhood_detail_Forest Hills',\n",
       "       'neighborhood_detail_Fort Greene', 'neighborhood_detail_Fort Hamilton',\n",
       "       'neighborhood_detail_Greenpoint', 'neighborhood_detail_Howard Beach',\n",
       "       'neighborhood_detail_Kingsbridge', 'neighborhood_detail_Kips Bay',\n",
       "       'neighborhood_detail_Little Italy',\n",
       "       'neighborhood_detail_Long Island City',\n",
       "       'neighborhood_detail_Lower East Side',\n",
       "       'neighborhood_detail_Murray Hill',\n",
       "       'neighborhood_detail_Prospect Heights', 'neighborhood_detail_Red Hook',\n",
       "       'neighborhood_detail_South Slope',\n",
       "       'neighborhood_detail_Stuyvesant Town', 'neighborhood_detail_Sunnyside',\n",
       "       'neighborhood_detail_Tribeca', 'neighborhood_detail_University Heights',\n",
       "       'neighborhood_detail_Windsor Terrace', 'host_is_superhost_t'],\n",
       "      dtype='object')"
      ]
     },
     "execution_count": 11,
     "metadata": {},
     "output_type": "execute_result"
    }
   ],
   "source": [
    "# Determine which X's were selected \n",
    "selector = SelectFromModel(Ridge()).fit(train_X, train_y)\n",
    "train_X.columns[selector.get_support()]"
   ]
  },
  {
   "cell_type": "code",
   "execution_count": 108,
   "metadata": {},
   "outputs": [],
   "source": [
    "#  Create training and test sets.\n",
    "# Split your airbnbnyc frame into training and test sets: 80% training; 20% test\n",
    "airbnbnyc = pd.read_csv(\"airbnb_nyc_trimmed.csv\")\n",
    "airbnb_assignment4_subset = airbnbnyc[['neighborhood', 'borough' , 'review_scores_rating','beds','neighborhood_detail', 'bed_type' , 'price' , 'cancellation_policy','host_is_superhost','accommodates','room_type' ]]\n",
    "\n",
    "train_set = airbnb_assignment4_subset.sample(frac=0.8,random_state = 200) # Random state is a seed value\n",
    "test_set = airbnb_assignment4_subset.drop(train_set.index)"
   ]
  },
  {
   "cell_type": "code",
   "execution_count": 111,
   "metadata": {},
   "outputs": [],
   "source": [
    "linear_train = ols('review_scores_rating ~  C(host_is_superhost)+C(bed_type)+C(neighborhood_detail)', data = train_set).fit() "
   ]
  },
  {
   "cell_type": "code",
   "execution_count": 112,
   "metadata": {
    "scrolled": true
   },
   "outputs": [
    {
     "data": {
      "text/plain": [
       "0      90.181745\n",
       "2      93.177207\n",
       "6      86.500000\n",
       "7      93.301075\n",
       "10     93.301075\n",
       "         ...    \n",
       "988    92.995852\n",
       "991    95.028491\n",
       "994    91.683899\n",
       "996    92.050631\n",
       "997    86.500000\n",
       "Length: 200, dtype: float64"
      ]
     },
     "execution_count": 112,
     "metadata": {},
     "output_type": "execute_result"
    }
   ],
   "source": [
    "predictions_lin = linear_train.predict(test_set)\n",
    "predictions_lin"
   ]
  },
  {
   "cell_type": "code",
   "execution_count": 113,
   "metadata": {
    "scrolled": true
   },
   "outputs": [
    {
     "data": {
      "text/html": [
       "<div>\n",
       "<style scoped>\n",
       "    .dataframe tbody tr th:only-of-type {\n",
       "        vertical-align: middle;\n",
       "    }\n",
       "\n",
       "    .dataframe tbody tr th {\n",
       "        vertical-align: top;\n",
       "    }\n",
       "\n",
       "    .dataframe thead th {\n",
       "        text-align: right;\n",
       "    }\n",
       "</style>\n",
       "<table border=\"1\" class=\"dataframe\">\n",
       "  <thead>\n",
       "    <tr style=\"text-align: right;\">\n",
       "      <th></th>\n",
       "      <th>review_scores_rating_predicted</th>\n",
       "    </tr>\n",
       "  </thead>\n",
       "  <tbody>\n",
       "    <tr>\n",
       "      <th>0</th>\n",
       "      <td>90.181745</td>\n",
       "    </tr>\n",
       "    <tr>\n",
       "      <th>2</th>\n",
       "      <td>93.177207</td>\n",
       "    </tr>\n",
       "    <tr>\n",
       "      <th>6</th>\n",
       "      <td>86.500000</td>\n",
       "    </tr>\n",
       "    <tr>\n",
       "      <th>7</th>\n",
       "      <td>93.301075</td>\n",
       "    </tr>\n",
       "    <tr>\n",
       "      <th>10</th>\n",
       "      <td>93.301075</td>\n",
       "    </tr>\n",
       "  </tbody>\n",
       "</table>\n",
       "</div>"
      ],
      "text/plain": [
       "    review_scores_rating_predicted\n",
       "0                        90.181745\n",
       "2                        93.177207\n",
       "6                        86.500000\n",
       "7                        93.301075\n",
       "10                       93.301075"
      ]
     },
     "execution_count": 113,
     "metadata": {},
     "output_type": "execute_result"
    }
   ],
   "source": [
    "#  Run the code to eyeball and visualize the actual versus predicted y’s.\n",
    "# Convert predictions into a data frame\n",
    "predictions_df_lin = pd.DataFrame(predictions_lin)\n",
    "predictions_df_lin.columns = ['review_scores_rating_predicted']\n",
    "predictions_df_lin.head()"
   ]
  },
  {
   "cell_type": "code",
   "execution_count": 114,
   "metadata": {},
   "outputs": [
    {
     "data": {
      "text/html": [
       "<div>\n",
       "<style scoped>\n",
       "    .dataframe tbody tr th:only-of-type {\n",
       "        vertical-align: middle;\n",
       "    }\n",
       "\n",
       "    .dataframe tbody tr th {\n",
       "        vertical-align: top;\n",
       "    }\n",
       "\n",
       "    .dataframe thead th {\n",
       "        text-align: right;\n",
       "    }\n",
       "</style>\n",
       "<table border=\"1\" class=\"dataframe\">\n",
       "  <thead>\n",
       "    <tr style=\"text-align: right;\">\n",
       "      <th></th>\n",
       "      <th>review_scores_rating_predicted</th>\n",
       "      <th>review_scores_rating</th>\n",
       "    </tr>\n",
       "  </thead>\n",
       "  <tbody>\n",
       "    <tr>\n",
       "      <th>0</th>\n",
       "      <td>90.181745</td>\n",
       "      <td>94</td>\n",
       "    </tr>\n",
       "    <tr>\n",
       "      <th>2</th>\n",
       "      <td>93.177207</td>\n",
       "      <td>95</td>\n",
       "    </tr>\n",
       "    <tr>\n",
       "      <th>6</th>\n",
       "      <td>86.500000</td>\n",
       "      <td>93</td>\n",
       "    </tr>\n",
       "    <tr>\n",
       "      <th>7</th>\n",
       "      <td>93.301075</td>\n",
       "      <td>100</td>\n",
       "    </tr>\n",
       "    <tr>\n",
       "      <th>10</th>\n",
       "      <td>93.301075</td>\n",
       "      <td>89</td>\n",
       "    </tr>\n",
       "    <tr>\n",
       "      <th>...</th>\n",
       "      <td>...</td>\n",
       "      <td>...</td>\n",
       "    </tr>\n",
       "    <tr>\n",
       "      <th>988</th>\n",
       "      <td>92.995852</td>\n",
       "      <td>93</td>\n",
       "    </tr>\n",
       "    <tr>\n",
       "      <th>991</th>\n",
       "      <td>95.028491</td>\n",
       "      <td>95</td>\n",
       "    </tr>\n",
       "    <tr>\n",
       "      <th>994</th>\n",
       "      <td>91.683899</td>\n",
       "      <td>92</td>\n",
       "    </tr>\n",
       "    <tr>\n",
       "      <th>996</th>\n",
       "      <td>92.050631</td>\n",
       "      <td>100</td>\n",
       "    </tr>\n",
       "    <tr>\n",
       "      <th>997</th>\n",
       "      <td>86.500000</td>\n",
       "      <td>100</td>\n",
       "    </tr>\n",
       "  </tbody>\n",
       "</table>\n",
       "<p>200 rows × 2 columns</p>\n",
       "</div>"
      ],
      "text/plain": [
       "     review_scores_rating_predicted  review_scores_rating\n",
       "0                         90.181745                    94\n",
       "2                         93.177207                    95\n",
       "6                         86.500000                    93\n",
       "7                         93.301075                   100\n",
       "10                        93.301075                    89\n",
       "..                              ...                   ...\n",
       "988                       92.995852                    93\n",
       "991                       95.028491                    95\n",
       "994                       91.683899                    92\n",
       "996                       92.050631                   100\n",
       "997                       86.500000                   100\n",
       "\n",
       "[200 rows x 2 columns]"
      ]
     },
     "execution_count": 114,
     "metadata": {},
     "output_type": "execute_result"
    }
   ],
   "source": [
    "# Add actual values of \"likes\"\n",
    "# Eyeball it: How did our model do?\n",
    "predictions_df_lin = pd.concat([predictions_df_lin, test_set['review_scores_rating']], axis=1)\n",
    "predictions_df_lin"
   ]
  },
  {
   "cell_type": "code",
   "execution_count": 115,
   "metadata": {},
   "outputs": [],
   "source": [
    "# Calculate mean squared prediction error.\n",
    "# Define a function for calculating mean squared prediction error \n",
    "def mean_sq_prediction_error(y_actual, y_predicted):\n",
    "    mpe = ((y_actual - y_predicted)**2).mean()\n",
    "    print(\"Mean prediction error is % s\" % round(mpe, 5)) "
   ]
  },
  {
   "cell_type": "code",
   "execution_count": 116,
   "metadata": {},
   "outputs": [
    {
     "name": "stdout",
     "output_type": "stream",
     "text": [
      "Mean prediction error is 60.55801\n"
     ]
    }
   ],
   "source": [
    "# Run it\n",
    "mean_sq_prediction_error(predictions_df_lin['review_scores_rating'], predictions_df_lin['review_scores_rating_predicted'])"
   ]
  },
  {
   "cell_type": "code",
   "execution_count": 117,
   "metadata": {},
   "outputs": [],
   "source": [
    "# Isolate your X's and y -- continuous\n",
    "independent = ['host_is_superhost', 'bed_type']\n",
    "dependent = 'review_scores_rating'"
   ]
  },
  {
   "cell_type": "code",
   "execution_count": 118,
   "metadata": {},
   "outputs": [],
   "source": [
    "# Split your data frame into training and test sets: 80% training; 20% test\n",
    "X = pd.get_dummies(airbnb_assignment4_subset[independent], drop_first=True)\n",
    "y = airbnb_assignment4_subset[dependent]\n",
    "train_X, test_X, train_y, test_y = train_test_split(X, y, test_size = 0.2, random_state=200)"
   ]
  },
  {
   "cell_type": "code",
   "execution_count": 119,
   "metadata": {},
   "outputs": [],
   "source": [
    "# Build the tree\n",
    "tree_cont = DecisionTreeRegressor()\n",
    "tree_cont = tree_cont.fit(train_X, train_y)"
   ]
  },
  {
   "cell_type": "code",
   "execution_count": 120,
   "metadata": {
    "scrolled": true
   },
   "outputs": [
    {
     "name": "stdout",
     "output_type": "stream",
     "text": [
      "|--- feature_0 <= 0.50\n",
      "|   |--- feature_2 <= 0.50\n",
      "|   |   |--- feature_1 <= 0.50\n",
      "|   |   |   |--- feature_3 <= 0.50\n",
      "|   |   |   |   |--- value: [83.00]\n",
      "|   |   |   |--- feature_3 >  0.50\n",
      "|   |   |   |   |--- value: [92.15]\n",
      "|   |   |--- feature_1 >  0.50\n",
      "|   |   |   |--- value: [94.25]\n",
      "|   |--- feature_2 >  0.50\n",
      "|   |   |--- value: [95.25]\n",
      "|--- feature_0 >  0.50\n",
      "|   |--- feature_2 <= 0.50\n",
      "|   |   |--- feature_3 <= 0.50\n",
      "|   |   |   |--- feature_1 <= 0.50\n",
      "|   |   |   |   |--- value: [96.00]\n",
      "|   |   |   |--- feature_1 >  0.50\n",
      "|   |   |   |   |--- value: [96.75]\n",
      "|   |   |--- feature_3 >  0.50\n",
      "|   |   |   |--- value: [97.03]\n",
      "|   |--- feature_2 >  0.50\n",
      "|   |   |--- value: [97.50]\n",
      "\n"
     ]
    }
   ],
   "source": [
    "# Show the tree\n",
    "text_representation = tree.export_text(tree_cont)\n",
    "print(text_representation)"
   ]
  },
  {
   "cell_type": "code",
   "execution_count": 121,
   "metadata": {},
   "outputs": [],
   "source": [
    "# Assign predicted values to an object\n",
    "y_tree_predicted = tree_cont.predict(test_X)"
   ]
  },
  {
   "cell_type": "code",
   "execution_count": 122,
   "metadata": {},
   "outputs": [
    {
     "data": {
      "text/html": [
       "<div>\n",
       "<style scoped>\n",
       "    .dataframe tbody tr th:only-of-type {\n",
       "        vertical-align: middle;\n",
       "    }\n",
       "\n",
       "    .dataframe tbody tr th {\n",
       "        vertical-align: top;\n",
       "    }\n",
       "\n",
       "    .dataframe thead th {\n",
       "        text-align: right;\n",
       "    }\n",
       "</style>\n",
       "<table border=\"1\" class=\"dataframe\">\n",
       "  <thead>\n",
       "    <tr style=\"text-align: right;\">\n",
       "      <th></th>\n",
       "      <th>score</th>\n",
       "      <th>predicted_score</th>\n",
       "    </tr>\n",
       "  </thead>\n",
       "  <tbody>\n",
       "    <tr>\n",
       "      <th>674</th>\n",
       "      <td>89</td>\n",
       "      <td>92.153846</td>\n",
       "    </tr>\n",
       "    <tr>\n",
       "      <th>233</th>\n",
       "      <td>99</td>\n",
       "      <td>97.026882</td>\n",
       "    </tr>\n",
       "    <tr>\n",
       "      <th>739</th>\n",
       "      <td>96</td>\n",
       "      <td>97.026882</td>\n",
       "    </tr>\n",
       "    <tr>\n",
       "      <th>865</th>\n",
       "      <td>100</td>\n",
       "      <td>97.026882</td>\n",
       "    </tr>\n",
       "    <tr>\n",
       "      <th>523</th>\n",
       "      <td>95</td>\n",
       "      <td>92.153846</td>\n",
       "    </tr>\n",
       "    <tr>\n",
       "      <th>...</th>\n",
       "      <td>...</td>\n",
       "      <td>...</td>\n",
       "    </tr>\n",
       "    <tr>\n",
       "      <th>931</th>\n",
       "      <td>95</td>\n",
       "      <td>97.026882</td>\n",
       "    </tr>\n",
       "    <tr>\n",
       "      <th>871</th>\n",
       "      <td>97</td>\n",
       "      <td>97.026882</td>\n",
       "    </tr>\n",
       "    <tr>\n",
       "      <th>397</th>\n",
       "      <td>87</td>\n",
       "      <td>92.153846</td>\n",
       "    </tr>\n",
       "    <tr>\n",
       "      <th>355</th>\n",
       "      <td>100</td>\n",
       "      <td>92.153846</td>\n",
       "    </tr>\n",
       "    <tr>\n",
       "      <th>593</th>\n",
       "      <td>98</td>\n",
       "      <td>97.026882</td>\n",
       "    </tr>\n",
       "  </tbody>\n",
       "</table>\n",
       "<p>200 rows × 2 columns</p>\n",
       "</div>"
      ],
      "text/plain": [
       "     score  predicted_score\n",
       "674     89        92.153846\n",
       "233     99        97.026882\n",
       "739     96        97.026882\n",
       "865    100        97.026882\n",
       "523     95        92.153846\n",
       "..     ...              ...\n",
       "931     95        97.026882\n",
       "871     97        97.026882\n",
       "397     87        92.153846\n",
       "355    100        92.153846\n",
       "593     98        97.026882\n",
       "\n",
       "[200 rows x 2 columns]"
      ]
     },
     "execution_count": 122,
     "metadata": {},
     "output_type": "execute_result"
    }
   ],
   "source": [
    "# Convert comparison into a data frame and eyeball it\n",
    "predictions = pd.DataFrame({'score': test_y,\n",
    "                    'predicted_score': y_tree_predicted})\n",
    "\n",
    "predictions"
   ]
  },
  {
   "cell_type": "code",
   "execution_count": 123,
   "metadata": {
    "scrolled": true
   },
   "outputs": [
    {
     "name": "stdout",
     "output_type": "stream",
     "text": [
      "Mean prediction error is 44.34972\n"
     ]
    }
   ],
   "source": [
    "# Compute the mean squared prediction error-- how well did the model perform?\n",
    "mean_sq_prediction_error(predictions['score'], predictions['predicted_score'])"
   ]
  },
  {
   "cell_type": "markdown",
   "metadata": {},
   "source": [
    "Ridge with Lowest MEan squared error is the best here"
   ]
  }
 ],
 "metadata": {
  "kernelspec": {
   "display_name": "Python 3",
   "language": "python",
   "name": "python3"
  },
  "language_info": {
   "codemirror_mode": {
    "name": "ipython",
    "version": 3
   },
   "file_extension": ".py",
   "mimetype": "text/x-python",
   "name": "python",
   "nbconvert_exporter": "python",
   "pygments_lexer": "ipython3",
   "version": "3.8.3"
  }
 },
 "nbformat": 4,
 "nbformat_minor": 5
}
