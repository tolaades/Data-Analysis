{
 "cells": [
  {
   "cell_type": "code",
   "execution_count": 38,
   "metadata": {},
   "outputs": [],
   "source": [
    "import pandas as pd\n",
    "import csv\n",
    "import random\n",
    "import numpy as np  \n",
    "import matplotlib.pyplot as plt  \n",
    "import seaborn as seabornInstance \n",
    "import statsmodels.api as sm\n",
    "import statsmodels.formula.api as smf"
   ]
  },
  {
   "cell_type": "code",
   "execution_count": 45,
   "metadata": {},
   "outputs": [
    {
     "name": "stdout",
     "output_type": "stream",
     "text": [
      "131554\n"
     ]
    }
   ],
   "source": [
    "#Part 1 \n",
    "#Develop a Python code for the following operations:\n",
    "#Add two numbers (you could make some up) then print the result. \n",
    "ab = 57759\n",
    "ba = 73795\n",
    "total = ab + ba \n",
    "print(total)"
   ]
  },
  {
   "cell_type": "code",
   "execution_count": 46,
   "metadata": {},
   "outputs": [
    {
     "name": "stdout",
     "output_type": "stream",
     "text": [
      "5477330274434536\n"
     ]
    }
   ],
   "source": [
    "#Develop a Python code for the following operations:\n",
    "#Multiply two numbers (you could make some up) then print the result. \n",
    "cd = 7539758\n",
    "dc = 726459692\n",
    "total = cd * dc \n",
    "print(total)"
   ]
  },
  {
   "cell_type": "code",
   "execution_count": 44,
   "metadata": {},
   "outputs": [
    {
     "name": "stdout",
     "output_type": "stream",
     "text": [
      "Hello World my name is Tola, it's nice to meet you Shannon\n"
     ]
    }
   ],
   "source": [
    "#Develop a Python code for the following operations:\n",
    "#Add two strings then print the result. \n",
    "title = \"Tola\" \n",
    "your_title = \"Shannon\"\n",
    "\n",
    "print(\"Hello \" + \"World \" + \"my \" + \"name \" + \"is \"+ title + \",\" + \n",
    "      \" it's \" + \"nice \" + \"to \" + \"meet \" + \"you \" + your_title)"
   ]
  },
  {
   "cell_type": "code",
   "execution_count": null,
   "metadata": {},
   "outputs": [],
   "source": []
  },
  {
   "cell_type": "code",
   "execution_count": 1,
   "metadata": {},
   "outputs": [],
   "source": [
    "#Part 2\n",
    "#Develop a Python code to convert (a list of) letters into (a list of) the respective alphabetical order. Namely, 'a' -> 1, 'b' -> 2, ..., 'z' -> 26 (in text mining/natural language processing, this is called encoding).\n",
    "\n",
    "a = 1\n",
    "b = 2\n",
    "c = 3\n",
    "d = 4\n",
    "e = 5\n",
    "f = 6\n",
    "g = 7\n",
    "h = 8\n",
    "i = 9\n",
    "j = 10\n",
    "k = 11\n",
    "l = 12\n",
    "m = 13\n",
    "n = 14\n",
    "o = 15\n",
    "p = 16\n",
    "q = 17\n",
    "r = 18\n",
    "s = 19\n",
    "t = 20\n",
    "u = 21\n",
    "v = 22\n",
    "w = 23\n",
    "x = 24\n",
    "y = 25\n",
    "z = 26\n"
   ]
  },
  {
   "cell_type": "code",
   "execution_count": 2,
   "metadata": {},
   "outputs": [
    {
     "data": {
      "text/plain": [
       "(25, 26, 4)"
      ]
     },
     "execution_count": 2,
     "metadata": {},
     "output_type": "execute_result"
    }
   ],
   "source": [
    "y, z, d"
   ]
  },
  {
   "cell_type": "code",
   "execution_count": null,
   "metadata": {},
   "outputs": [],
   "source": []
  },
  {
   "cell_type": "code",
   "execution_count": null,
   "metadata": {},
   "outputs": [],
   "source": []
  }
 ],
 "metadata": {
  "kernelspec": {
   "display_name": "Python 3",
   "language": "python",
   "name": "python3"
  },
  "language_info": {
   "codemirror_mode": {
    "name": "ipython",
    "version": 3
   },
   "file_extension": ".py",
   "mimetype": "text/x-python",
   "name": "python",
   "nbconvert_exporter": "python",
   "pygments_lexer": "ipython3",
   "version": "3.8.3"
  }
 },
 "nbformat": 4,
 "nbformat_minor": 4
}
