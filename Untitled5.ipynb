{
 "cells": [
  {
   "cell_type": "code",
   "execution_count": 1,
   "metadata": {},
   "outputs": [
    {
     "name": "stdout",
     "output_type": "stream",
     "text": [
      "Loading data...\n",
      "Downloading data from https://storage.googleapis.com/tensorflow/tf-keras-datasets/imdb.npz\n",
      "17465344/17464789 [==============================] - 8s 0us/step\n",
      "25000 train sequences\n",
      "25000 test sequences\n",
      "Pad sequences (samples x time)\n",
      "x_train shape: (25000, 400)\n",
      "x_test shape: (25000, 400)\n",
      "Build model...\n",
      "Epoch 1/2\n",
      "782/782 [==============================] - 48s 61ms/step - loss: 0.4025 - accuracy: 0.7996 - val_loss: 0.2798 - val_accuracy: 0.8820\n",
      "Epoch 2/2\n",
      "782/782 [==============================] - 51s 65ms/step - loss: 0.2310 - accuracy: 0.9069 - val_loss: 0.2560 - val_accuracy: 0.8958\n"
     ]
    },
    {
     "data": {
      "text/plain": [
       "<tensorflow.python.keras.callbacks.History at 0x295181474f0>"
      ]
     },
     "execution_count": 1,
     "metadata": {},
     "output_type": "execute_result"
    }
   ],
   "source": [
    "from __future__ import print_function\n",
    "\n",
    "from keras.preprocessing import sequence\n",
    "from keras.models import Sequential\n",
    "from keras.layers import Dense, Dropout, Activation\n",
    "from keras.layers import Embedding\n",
    "from keras.layers import Conv1D, GlobalMaxPooling1D\n",
    "from keras.datasets import imdb\n",
    "\n",
    "# set parameters:\n",
    "max_features = 5000\n",
    "maxlen = 400\n",
    "batch_size = 32\n",
    "embedding_dims = 50\n",
    "filters = 250\n",
    "kernel_size = 3\n",
    "hidden_dims = 250\n",
    "epochs = 2\n",
    "\n",
    "print('Loading data...')\n",
    "(x_train, y_train), (x_test, y_test) = imdb.load_data(num_words=max_features)\n",
    "print(len(x_train), 'train sequences')\n",
    "print(len(x_test), 'test sequences')\n",
    "\n",
    "print('Pad sequences (samples x time)')\n",
    "x_train = sequence.pad_sequences(x_train, maxlen=maxlen)\n",
    "x_test = sequence.pad_sequences(x_test, maxlen=maxlen)\n",
    "print('x_train shape:', x_train.shape)\n",
    "print('x_test shape:', x_test.shape)\n",
    "\n",
    "print('Build model...')\n",
    "model = Sequential()\n",
    "\n",
    "# we start off with an efficient embedding layer which maps\n",
    "# our vocab indices into embedding_dims dimensions\n",
    "model.add(Embedding(max_features,\n",
    "                    embedding_dims,\n",
    "                    input_length=maxlen))\n",
    "model.add(Dropout(0.2))\n",
    "\n",
    "# we add a Convolution1D, which will learn filters\n",
    "# word group filters of size filter_length:\n",
    "model.add(Conv1D(filters,\n",
    "                 kernel_size,\n",
    "                 padding='valid',\n",
    "                 activation='relu',\n",
    "                 strides=1))\n",
    "# we use max pooling:\n",
    "model.add(GlobalMaxPooling1D())\n",
    "\n",
    "# We add a vanilla hidden layer:\n",
    "model.add(Dense(hidden_dims))\n",
    "model.add(Dropout(0.2))\n",
    "model.add(Activation('relu'))\n",
    "\n",
    "# We project onto a single unit output layer, and squash it with a sigmoid:\n",
    "model.add(Dense(1))\n",
    "model.add(Activation('sigmoid'))\n",
    "\n",
    "model.compile(loss='binary_crossentropy',\n",
    "              optimizer='adam',\n",
    "              metrics=['accuracy'])\n"
   ]
  },
  {
   "cell_type": "code",
   "execution_count": 2,
   "metadata": {},
   "outputs": [
    {
     "name": "stdout",
     "output_type": "stream",
     "text": [
      "Epoch 1/10\n",
      "782/782 [==============================] - 46s 59ms/step - loss: 0.1649 - accuracy: 0.9383 - val_loss: 0.2681 - val_accuracy: 0.8918\n",
      "Epoch 2/10\n",
      "782/782 [==============================] - 51s 66ms/step - loss: 0.1131 - accuracy: 0.9594 - val_loss: 0.2859 - val_accuracy: 0.8921\n",
      "Epoch 3/10\n",
      "782/782 [==============================] - 53s 68ms/step - loss: 0.0755 - accuracy: 0.9737 - val_loss: 0.3616 - val_accuracy: 0.8828\n",
      "Epoch 4/10\n",
      "782/782 [==============================] - 62s 79ms/step - loss: 0.0566 - accuracy: 0.9799 - val_loss: 0.3740 - val_accuracy: 0.8891\n",
      "Epoch 5/10\n",
      "782/782 [==============================] - 67s 86ms/step - loss: 0.0475 - accuracy: 0.9834 - val_loss: 0.4130 - val_accuracy: 0.8857\n",
      "Epoch 6/10\n",
      "782/782 [==============================] - 60s 77ms/step - loss: 0.0367 - accuracy: 0.9871 - val_loss: 0.4741 - val_accuracy: 0.8875\n",
      "Epoch 7/10\n",
      "782/782 [==============================] - 59s 76ms/step - loss: 0.0390 - accuracy: 0.9860 - val_loss: 0.4956 - val_accuracy: 0.8807\n",
      "Epoch 8/10\n",
      "782/782 [==============================] - 76s 98ms/step - loss: 0.0250 - accuracy: 0.9906 - val_loss: 0.5312 - val_accuracy: 0.8808\n",
      "Epoch 9/10\n",
      "782/782 [==============================] - 66s 84ms/step - loss: 0.0324 - accuracy: 0.9882 - val_loss: 0.5141 - val_accuracy: 0.8854\n",
      "Epoch 10/10\n",
      "782/782 [==============================] - 56s 71ms/step - loss: 0.0243 - accuracy: 0.9911 - val_loss: 0.5395 - val_accuracy: 0.8874\n"
     ]
    },
    {
     "data": {
      "text/plain": [
       "<tensorflow.python.keras.callbacks.History at 0x29515ee08e0>"
      ]
     },
     "execution_count": 2,
     "metadata": {},
     "output_type": "execute_result"
    }
   ],
   "source": [
    "model.fit(x_train, y_train,\n",
    "          batch_size=batch_size,\n",
    "          epochs= 10,\n",
    "          validation_data=(x_test, y_test))"
   ]
  }
 ],
 "metadata": {
  "kernelspec": {
   "display_name": "Python 3",
   "language": "python",
   "name": "python3"
  },
  "language_info": {
   "codemirror_mode": {
    "name": "ipython",
    "version": 3
   },
   "file_extension": ".py",
   "mimetype": "text/x-python",
   "name": "python",
   "nbconvert_exporter": "python",
   "pygments_lexer": "ipython3",
   "version": "3.8.3"
  }
 },
 "nbformat": 4,
 "nbformat_minor": 4
}
